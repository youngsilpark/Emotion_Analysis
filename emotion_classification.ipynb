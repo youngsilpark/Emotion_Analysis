{
  "cells": [
    {
      "cell_type": "markdown",
      "source": [
        "# 1. KoBERT 모델 구현"
      ],
      "metadata": {
        "id": "H4dJTUE1Xtif"
      }
    },
    {
      "cell_type": "markdown",
      "metadata": {
        "id": "JN0MExMGFJXa"
      },
      "source": [
        "## 라이브러리 설치"
      ]
    },
    {
      "cell_type": "code",
      "execution_count": null,
      "metadata": {
        "id": "ji-W5_BIH0Rn",
        "colab": {
          "base_uri": "https://localhost:8080/"
        },
        "outputId": "04646672-6dbd-4565-b648-06a39fd25a9d"
      },
      "outputs": [
        {
          "output_type": "stream",
          "name": "stdout",
          "text": [
            "Looking in indexes: https://pypi.org/simple, https://us-python.pkg.dev/colab-wheels/public/simple/\n",
            "Collecting mxnet\n",
            "  Downloading mxnet-1.9.1-py3-none-manylinux2014_x86_64.whl (49.1 MB)\n",
            "\u001b[K     |████████████████████████████████| 49.1 MB 1.2 MB/s \n",
            "\u001b[?25hRequirement already satisfied: requests<3,>=2.20.0 in /usr/local/lib/python3.8/dist-packages (from mxnet) (2.23.0)\n",
            "Requirement already satisfied: numpy<2.0.0,>1.16.0 in /usr/local/lib/python3.8/dist-packages (from mxnet) (1.21.6)\n",
            "Collecting graphviz<0.9.0,>=0.8.1\n",
            "  Downloading graphviz-0.8.4-py2.py3-none-any.whl (16 kB)\n",
            "Requirement already satisfied: certifi>=2017.4.17 in /usr/local/lib/python3.8/dist-packages (from requests<3,>=2.20.0->mxnet) (2022.12.7)\n",
            "Requirement already satisfied: chardet<4,>=3.0.2 in /usr/local/lib/python3.8/dist-packages (from requests<3,>=2.20.0->mxnet) (3.0.4)\n",
            "Requirement already satisfied: idna<3,>=2.5 in /usr/local/lib/python3.8/dist-packages (from requests<3,>=2.20.0->mxnet) (2.10)\n",
            "Requirement already satisfied: urllib3!=1.25.0,!=1.25.1,<1.26,>=1.21.1 in /usr/local/lib/python3.8/dist-packages (from requests<3,>=2.20.0->mxnet) (1.24.3)\n",
            "Installing collected packages: graphviz, mxnet\n",
            "  Attempting uninstall: graphviz\n",
            "    Found existing installation: graphviz 0.10.1\n",
            "    Uninstalling graphviz-0.10.1:\n",
            "      Successfully uninstalled graphviz-0.10.1\n",
            "Successfully installed graphviz-0.8.4 mxnet-1.9.1\n",
            "Looking in indexes: https://pypi.org/simple, https://us-python.pkg.dev/colab-wheels/public/simple/\n",
            "Collecting gluonnlp\n",
            "  Downloading gluonnlp-0.10.0.tar.gz (344 kB)\n",
            "\u001b[K     |████████████████████████████████| 344 kB 4.5 MB/s \n",
            "\u001b[?25hRequirement already satisfied: pandas in /usr/local/lib/python3.8/dist-packages (1.3.5)\n",
            "Requirement already satisfied: tqdm in /usr/local/lib/python3.8/dist-packages (4.64.1)\n",
            "Requirement already satisfied: numpy>=1.16.0 in /usr/local/lib/python3.8/dist-packages (from gluonnlp) (1.21.6)\n",
            "Requirement already satisfied: cython in /usr/local/lib/python3.8/dist-packages (from gluonnlp) (0.29.32)\n",
            "Requirement already satisfied: packaging in /usr/local/lib/python3.8/dist-packages (from gluonnlp) (21.3)\n",
            "Requirement already satisfied: python-dateutil>=2.7.3 in /usr/local/lib/python3.8/dist-packages (from pandas) (2.8.2)\n",
            "Requirement already satisfied: pytz>=2017.3 in /usr/local/lib/python3.8/dist-packages (from pandas) (2022.6)\n",
            "Requirement already satisfied: six>=1.5 in /usr/local/lib/python3.8/dist-packages (from python-dateutil>=2.7.3->pandas) (1.15.0)\n",
            "Requirement already satisfied: pyparsing!=3.0.5,>=2.0.2 in /usr/local/lib/python3.8/dist-packages (from packaging->gluonnlp) (3.0.9)\n",
            "Building wheels for collected packages: gluonnlp\n",
            "  Building wheel for gluonnlp (setup.py) ... \u001b[?25l\u001b[?25hdone\n",
            "  Created wheel for gluonnlp: filename=gluonnlp-0.10.0-cp38-cp38-linux_x86_64.whl size=619652 sha256=39eee4159c631a1e68c977c412c60cdf95bea9e482993f287a12071471648119\n",
            "  Stored in directory: /root/.cache/pip/wheels/b6/93/9d/2237550c409eb3ed725d6302b7897ddd9a037b40cef66dcd9c\n",
            "Successfully built gluonnlp\n",
            "Installing collected packages: gluonnlp\n",
            "Successfully installed gluonnlp-0.10.0\n",
            "Looking in indexes: https://pypi.org/simple, https://us-python.pkg.dev/colab-wheels/public/simple/\n",
            "Collecting sentencepiece\n",
            "  Downloading sentencepiece-0.1.97-cp38-cp38-manylinux_2_17_x86_64.manylinux2014_x86_64.whl (1.3 MB)\n",
            "\u001b[K     |████████████████████████████████| 1.3 MB 5.1 MB/s \n",
            "\u001b[?25hInstalling collected packages: sentencepiece\n",
            "Successfully installed sentencepiece-0.1.97\n",
            "Looking in indexes: https://pypi.org/simple, https://us-python.pkg.dev/colab-wheels/public/simple/\n",
            "Collecting transformers==3.0.2\n",
            "  Downloading transformers-3.0.2-py3-none-any.whl (769 kB)\n",
            "\u001b[K     |████████████████████████████████| 769 kB 5.3 MB/s \n",
            "\u001b[?25hRequirement already satisfied: tqdm>=4.27 in /usr/local/lib/python3.8/dist-packages (from transformers==3.0.2) (4.64.1)\n",
            "Requirement already satisfied: requests in /usr/local/lib/python3.8/dist-packages (from transformers==3.0.2) (2.23.0)\n",
            "Collecting sacremoses\n",
            "  Downloading sacremoses-0.0.53.tar.gz (880 kB)\n",
            "\u001b[K     |████████████████████████████████| 880 kB 57.7 MB/s \n",
            "\u001b[?25hRequirement already satisfied: packaging in /usr/local/lib/python3.8/dist-packages (from transformers==3.0.2) (21.3)\n",
            "Requirement already satisfied: filelock in /usr/local/lib/python3.8/dist-packages (from transformers==3.0.2) (3.8.2)\n",
            "Requirement already satisfied: numpy in /usr/local/lib/python3.8/dist-packages (from transformers==3.0.2) (1.21.6)\n",
            "Collecting tokenizers==0.8.1.rc1\n",
            "  Downloading tokenizers-0.8.1rc1-cp38-cp38-manylinux1_x86_64.whl (3.0 MB)\n",
            "\u001b[K     |████████████████████████████████| 3.0 MB 55.9 MB/s \n",
            "\u001b[?25hRequirement already satisfied: regex!=2019.12.17 in /usr/local/lib/python3.8/dist-packages (from transformers==3.0.2) (2022.6.2)\n",
            "Requirement already satisfied: sentencepiece!=0.1.92 in /usr/local/lib/python3.8/dist-packages (from transformers==3.0.2) (0.1.97)\n",
            "Requirement already satisfied: pyparsing!=3.0.5,>=2.0.2 in /usr/local/lib/python3.8/dist-packages (from packaging->transformers==3.0.2) (3.0.9)\n",
            "Requirement already satisfied: certifi>=2017.4.17 in /usr/local/lib/python3.8/dist-packages (from requests->transformers==3.0.2) (2022.12.7)\n",
            "Requirement already satisfied: idna<3,>=2.5 in /usr/local/lib/python3.8/dist-packages (from requests->transformers==3.0.2) (2.10)\n",
            "Requirement already satisfied: chardet<4,>=3.0.2 in /usr/local/lib/python3.8/dist-packages (from requests->transformers==3.0.2) (3.0.4)\n",
            "Requirement already satisfied: urllib3!=1.25.0,!=1.25.1,<1.26,>=1.21.1 in /usr/local/lib/python3.8/dist-packages (from requests->transformers==3.0.2) (1.24.3)\n",
            "Requirement already satisfied: six in /usr/local/lib/python3.8/dist-packages (from sacremoses->transformers==3.0.2) (1.15.0)\n",
            "Requirement already satisfied: click in /usr/local/lib/python3.8/dist-packages (from sacremoses->transformers==3.0.2) (7.1.2)\n",
            "Requirement already satisfied: joblib in /usr/local/lib/python3.8/dist-packages (from sacremoses->transformers==3.0.2) (1.2.0)\n",
            "Building wheels for collected packages: sacremoses\n",
            "  Building wheel for sacremoses (setup.py) ... \u001b[?25l\u001b[?25hdone\n",
            "  Created wheel for sacremoses: filename=sacremoses-0.0.53-py3-none-any.whl size=895260 sha256=e14e64aecbc28e846806d7741c746d330fc35cbb1df51f9ae3eef85859098795\n",
            "  Stored in directory: /root/.cache/pip/wheels/82/ab/9b/c15899bf659ba74f623ac776e861cf2eb8608c1825ddec66a4\n",
            "Successfully built sacremoses\n",
            "Installing collected packages: tokenizers, sacremoses, transformers\n",
            "Successfully installed sacremoses-0.0.53 tokenizers-0.8.1rc1 transformers-3.0.2\n",
            "Looking in indexes: https://pypi.org/simple, https://us-python.pkg.dev/colab-wheels/public/simple/\n",
            "Requirement already satisfied: torch in /usr/local/lib/python3.8/dist-packages (1.13.0+cu116)\n",
            "Requirement already satisfied: typing-extensions in /usr/local/lib/python3.8/dist-packages (from torch) (4.4.0)\n"
          ]
        }
      ],
      "source": [
        "!pip install mxnet\n",
        "!pip install gluonnlp pandas tqdm\n",
        "!pip install sentencepiece\n",
        "!pip install transformers==3.0.2\n",
        "!pip install torch"
      ]
    },
    {
      "cell_type": "code",
      "execution_count": null,
      "metadata": {
        "id": "kPIzE45lKmRX",
        "colab": {
          "base_uri": "https://localhost:8080/"
        },
        "outputId": "4aae4ba1-9c6f-4404-8c52-2814bceb7127"
      },
      "outputs": [
        {
          "output_type": "stream",
          "name": "stdout",
          "text": [
            "Looking in indexes: https://pypi.org/simple, https://us-python.pkg.dev/colab-wheels/public/simple/\n",
            "Collecting git+https://****@github.com/SKTBrain/KoBERT.git@master\n",
            "  Cloning https://****@github.com/SKTBrain/KoBERT.git (to revision master) to /tmp/pip-req-build-4qjt5u53\n",
            "  Running command git clone -q 'https://****@github.com/SKTBrain/KoBERT.git' /tmp/pip-req-build-4qjt5u53\n",
            "Collecting boto3<=1.15.18\n",
            "  Downloading boto3-1.15.18-py2.py3-none-any.whl (129 kB)\n",
            "\u001b[K     |████████████████████████████████| 129 kB 5.3 MB/s \n",
            "\u001b[?25hRequirement already satisfied: gluonnlp<=0.10.0,>=0.6.0 in /usr/local/lib/python3.8/dist-packages (from kobert==0.2.3) (0.10.0)\n",
            "Collecting mxnet<=1.7.0.post2,>=1.4.0\n",
            "  Downloading mxnet-1.7.0.post2-py2.py3-none-manylinux2014_x86_64.whl (54.7 MB)\n",
            "\u001b[K     |████████████████████████████████| 54.7 MB 15 kB/s \n",
            "\u001b[?25hCollecting onnxruntime<=1.8.0,==1.8.0\n",
            "  Downloading onnxruntime-1.8.0-cp38-cp38-manylinux_2_17_x86_64.manylinux2014_x86_64.whl (4.5 MB)\n",
            "\u001b[K     |████████████████████████████████| 4.5 MB 60.9 MB/s \n",
            "\u001b[?25hCollecting sentencepiece<=0.1.96,>=0.1.6\n",
            "  Downloading sentencepiece-0.1.96-cp38-cp38-manylinux_2_17_x86_64.manylinux2014_x86_64.whl (1.2 MB)\n",
            "\u001b[K     |████████████████████████████████| 1.2 MB 71.9 MB/s \n",
            "\u001b[?25hCollecting torch<=1.10.1,>=1.7.0\n",
            "  Downloading torch-1.10.1-cp38-cp38-manylinux1_x86_64.whl (881.9 MB)\n",
            "\u001b[K     |██████████████████████████████▎ | 834.1 MB 96.1 MB/s eta 0:00:01tcmalloc: large alloc 1147494400 bytes == 0x39bb2000 @  0x7f03917a5615 0x5d6f4c 0x51edd1 0x51ef5b 0x4f750a 0x4997a2 0x4fd8b5 0x4997c7 0x4fd8b5 0x49abe4 0x4f5fe9 0x55e146 0x4f5fe9 0x55e146 0x4f5fe9 0x55e146 0x5d8868 0x5da092 0x587116 0x5d8d8c 0x55dc1e 0x55cd91 0x5d8941 0x49abe4 0x55cd91 0x5d8941 0x4990ca 0x5d8868 0x4997a2 0x4fd8b5 0x49abe4\n",
            "\u001b[K     |████████████████████████████████| 881.9 MB 8.1 kB/s \n",
            "\u001b[?25hCollecting transformers<=4.8.1,>=4.8.1\n",
            "  Downloading transformers-4.8.1-py3-none-any.whl (2.5 MB)\n",
            "\u001b[K     |████████████████████████████████| 2.5 MB 60.5 MB/s \n",
            "\u001b[?25hRequirement already satisfied: protobuf in /usr/local/lib/python3.8/dist-packages (from onnxruntime<=1.8.0,==1.8.0->kobert==0.2.3) (3.19.6)\n",
            "Requirement already satisfied: numpy>=1.16.6 in /usr/local/lib/python3.8/dist-packages (from onnxruntime<=1.8.0,==1.8.0->kobert==0.2.3) (1.21.6)\n",
            "Requirement already satisfied: flatbuffers in /usr/local/lib/python3.8/dist-packages (from onnxruntime<=1.8.0,==1.8.0->kobert==0.2.3) (1.12)\n",
            "Collecting botocore<1.19.0,>=1.18.18\n",
            "  Downloading botocore-1.18.18-py2.py3-none-any.whl (6.7 MB)\n",
            "\u001b[K     |████████████████████████████████| 6.7 MB 66.7 MB/s \n",
            "\u001b[?25hCollecting jmespath<1.0.0,>=0.7.1\n",
            "  Downloading jmespath-0.10.0-py2.py3-none-any.whl (24 kB)\n",
            "Collecting s3transfer<0.4.0,>=0.3.0\n",
            "  Downloading s3transfer-0.3.7-py2.py3-none-any.whl (73 kB)\n",
            "\u001b[K     |████████████████████████████████| 73 kB 2.7 MB/s \n",
            "\u001b[?25hRequirement already satisfied: python-dateutil<3.0.0,>=2.1 in /usr/local/lib/python3.8/dist-packages (from botocore<1.19.0,>=1.18.18->boto3<=1.15.18->kobert==0.2.3) (2.8.2)\n",
            "Requirement already satisfied: urllib3<1.26,>=1.20 in /usr/local/lib/python3.8/dist-packages (from botocore<1.19.0,>=1.18.18->boto3<=1.15.18->kobert==0.2.3) (1.24.3)\n",
            "Requirement already satisfied: cython in /usr/local/lib/python3.8/dist-packages (from gluonnlp<=0.10.0,>=0.6.0->kobert==0.2.3) (0.29.32)\n",
            "Requirement already satisfied: packaging in /usr/local/lib/python3.8/dist-packages (from gluonnlp<=0.10.0,>=0.6.0->kobert==0.2.3) (21.3)\n",
            "Requirement already satisfied: graphviz<0.9.0,>=0.8.1 in /usr/local/lib/python3.8/dist-packages (from mxnet<=1.7.0.post2,>=1.4.0->kobert==0.2.3) (0.8.4)\n",
            "Requirement already satisfied: requests<3,>=2.20.0 in /usr/local/lib/python3.8/dist-packages (from mxnet<=1.7.0.post2,>=1.4.0->kobert==0.2.3) (2.23.0)\n",
            "Requirement already satisfied: six>=1.5 in /usr/local/lib/python3.8/dist-packages (from python-dateutil<3.0.0,>=2.1->botocore<1.19.0,>=1.18.18->boto3<=1.15.18->kobert==0.2.3) (1.15.0)\n",
            "Requirement already satisfied: idna<3,>=2.5 in /usr/local/lib/python3.8/dist-packages (from requests<3,>=2.20.0->mxnet<=1.7.0.post2,>=1.4.0->kobert==0.2.3) (2.10)\n",
            "Requirement already satisfied: chardet<4,>=3.0.2 in /usr/local/lib/python3.8/dist-packages (from requests<3,>=2.20.0->mxnet<=1.7.0.post2,>=1.4.0->kobert==0.2.3) (3.0.4)\n",
            "Requirement already satisfied: certifi>=2017.4.17 in /usr/local/lib/python3.8/dist-packages (from requests<3,>=2.20.0->mxnet<=1.7.0.post2,>=1.4.0->kobert==0.2.3) (2022.12.7)\n",
            "Requirement already satisfied: typing-extensions in /usr/local/lib/python3.8/dist-packages (from torch<=1.10.1,>=1.7.0->kobert==0.2.3) (4.4.0)\n",
            "Requirement already satisfied: tqdm>=4.27 in /usr/local/lib/python3.8/dist-packages (from transformers<=4.8.1,>=4.8.1->kobert==0.2.3) (4.64.1)\n",
            "Collecting tokenizers<0.11,>=0.10.1\n",
            "  Downloading tokenizers-0.10.3-cp38-cp38-manylinux_2_5_x86_64.manylinux1_x86_64.manylinux_2_12_x86_64.manylinux2010_x86_64.whl (3.3 MB)\n",
            "\u001b[K     |████████████████████████████████| 3.3 MB 61.7 MB/s \n",
            "\u001b[?25hRequirement already satisfied: filelock in /usr/local/lib/python3.8/dist-packages (from transformers<=4.8.1,>=4.8.1->kobert==0.2.3) (3.8.2)\n",
            "Requirement already satisfied: pyyaml in /usr/local/lib/python3.8/dist-packages (from transformers<=4.8.1,>=4.8.1->kobert==0.2.3) (6.0)\n",
            "Requirement already satisfied: regex!=2019.12.17 in /usr/local/lib/python3.8/dist-packages (from transformers<=4.8.1,>=4.8.1->kobert==0.2.3) (2022.6.2)\n",
            "Requirement already satisfied: sacremoses in /usr/local/lib/python3.8/dist-packages (from transformers<=4.8.1,>=4.8.1->kobert==0.2.3) (0.0.53)\n",
            "Collecting huggingface-hub==0.0.12\n",
            "  Downloading huggingface_hub-0.0.12-py3-none-any.whl (37 kB)\n",
            "Requirement already satisfied: pyparsing!=3.0.5,>=2.0.2 in /usr/local/lib/python3.8/dist-packages (from packaging->gluonnlp<=0.10.0,>=0.6.0->kobert==0.2.3) (3.0.9)\n",
            "Requirement already satisfied: joblib in /usr/local/lib/python3.8/dist-packages (from sacremoses->transformers<=4.8.1,>=4.8.1->kobert==0.2.3) (1.2.0)\n",
            "Requirement already satisfied: click in /usr/local/lib/python3.8/dist-packages (from sacremoses->transformers<=4.8.1,>=4.8.1->kobert==0.2.3) (7.1.2)\n",
            "Building wheels for collected packages: kobert\n",
            "  Building wheel for kobert (setup.py) ... \u001b[?25l\u001b[?25hdone\n",
            "  Created wheel for kobert: filename=kobert-0.2.3-py3-none-any.whl size=15708 sha256=31b3928c6db47424e148215f196ee2734b90831aaec3a163c4bc079527ba93e9\n",
            "  Stored in directory: /tmp/pip-ephem-wheel-cache-gaj2oghn/wheels/bf/5f/74/81bf3a1332130eb6629ecf58876a8746b77021e7d7b0638e91\n",
            "Successfully built kobert\n",
            "Installing collected packages: jmespath, botocore, tokenizers, s3transfer, huggingface-hub, transformers, torch, sentencepiece, onnxruntime, mxnet, boto3, kobert\n",
            "  Attempting uninstall: tokenizers\n",
            "    Found existing installation: tokenizers 0.8.1rc1\n",
            "    Uninstalling tokenizers-0.8.1rc1:\n",
            "      Successfully uninstalled tokenizers-0.8.1rc1\n",
            "  Attempting uninstall: transformers\n",
            "    Found existing installation: transformers 3.0.2\n",
            "    Uninstalling transformers-3.0.2:\n",
            "      Successfully uninstalled transformers-3.0.2\n",
            "  Attempting uninstall: torch\n",
            "    Found existing installation: torch 1.13.0+cu116\n",
            "    Uninstalling torch-1.13.0+cu116:\n",
            "      Successfully uninstalled torch-1.13.0+cu116\n",
            "  Attempting uninstall: sentencepiece\n",
            "    Found existing installation: sentencepiece 0.1.97\n",
            "    Uninstalling sentencepiece-0.1.97:\n",
            "      Successfully uninstalled sentencepiece-0.1.97\n",
            "  Attempting uninstall: mxnet\n",
            "    Found existing installation: mxnet 1.9.1\n",
            "    Uninstalling mxnet-1.9.1:\n",
            "      Successfully uninstalled mxnet-1.9.1\n",
            "\u001b[31mERROR: pip's dependency resolver does not currently take into account all the packages that are installed. This behaviour is the source of the following dependency conflicts.\n",
            "torchvision 0.14.0+cu116 requires torch==1.13.0, but you have torch 1.10.1 which is incompatible.\n",
            "torchtext 0.14.0 requires torch==1.13.0, but you have torch 1.10.1 which is incompatible.\n",
            "torchaudio 0.13.0+cu116 requires torch==1.13.0, but you have torch 1.10.1 which is incompatible.\u001b[0m\n",
            "Successfully installed boto3-1.15.18 botocore-1.18.18 huggingface-hub-0.0.12 jmespath-0.10.0 kobert-0.2.3 mxnet-1.7.0.post2 onnxruntime-1.8.0 s3transfer-0.3.7 sentencepiece-0.1.96 tokenizers-0.10.3 torch-1.10.1 transformers-4.8.1\n"
          ]
        }
      ],
      "source": [
        "!pip install git+https://git@github.com/SKTBrain/KoBERT.git@master"
      ]
    },
    {
      "cell_type": "code",
      "execution_count": null,
      "metadata": {
        "id": "rKI0Cvs99Eoy",
        "colab": {
          "base_uri": "https://localhost:8080/"
        },
        "outputId": "1d632af1-4751-413e-a868-f7a3796b640d"
      },
      "outputs": [
        {
          "output_type": "stream",
          "name": "stdout",
          "text": [
            "Looking in indexes: https://pypi.org/simple, https://us-python.pkg.dev/colab-wheels/public/simple/\n",
            "Collecting seqeval\n",
            "  Downloading seqeval-1.2.2.tar.gz (43 kB)\n",
            "\u001b[K     |████████████████████████████████| 43 kB 1.7 MB/s \n",
            "\u001b[?25hRequirement already satisfied: numpy>=1.14.0 in /usr/local/lib/python3.8/dist-packages (from seqeval) (1.21.6)\n",
            "Requirement already satisfied: scikit-learn>=0.21.3 in /usr/local/lib/python3.8/dist-packages (from seqeval) (1.0.2)\n",
            "Requirement already satisfied: threadpoolctl>=2.0.0 in /usr/local/lib/python3.8/dist-packages (from scikit-learn>=0.21.3->seqeval) (3.1.0)\n",
            "Requirement already satisfied: joblib>=0.11 in /usr/local/lib/python3.8/dist-packages (from scikit-learn>=0.21.3->seqeval) (1.2.0)\n",
            "Requirement already satisfied: scipy>=1.1.0 in /usr/local/lib/python3.8/dist-packages (from scikit-learn>=0.21.3->seqeval) (1.7.3)\n",
            "Building wheels for collected packages: seqeval\n",
            "  Building wheel for seqeval (setup.py) ... \u001b[?25l\u001b[?25hdone\n",
            "  Created wheel for seqeval: filename=seqeval-1.2.2-py3-none-any.whl size=16179 sha256=709f395d351a3d07587135dadcfdd83cba2b20cdc05e0ee743011366b68451ea\n",
            "  Stored in directory: /root/.cache/pip/wheels/ad/5c/ba/05fa33fa5855777b7d686e843ec07452f22a66a138e290e732\n",
            "Successfully built seqeval\n",
            "Installing collected packages: seqeval\n",
            "Successfully installed seqeval-1.2.2\n"
          ]
        }
      ],
      "source": [
        "!pip install seqeval"
      ]
    },
    {
      "cell_type": "code",
      "execution_count": null,
      "metadata": {
        "id": "B2VMYT4yKyIq"
      },
      "outputs": [],
      "source": [
        "import torch\n",
        "from torch import nn\n",
        "import torch.nn.functional as F\n",
        "import torch.optim as optim\n",
        "from torch.utils.data import Dataset, DataLoader\n",
        "import gluonnlp as nlp\n",
        "import numpy as np\n",
        "from tqdm import tqdm, tqdm_notebook"
      ]
    },
    {
      "cell_type": "code",
      "execution_count": null,
      "metadata": {
        "id": "ghVmDmppKz3s"
      },
      "outputs": [],
      "source": [
        "from kobert.utils import get_tokenizer\n",
        "from kobert.pytorch_kobert import get_pytorch_kobert_model"
      ]
    },
    {
      "cell_type": "code",
      "execution_count": null,
      "metadata": {
        "id": "I16yZooVK8aG"
      },
      "outputs": [],
      "source": [
        "from transformers import AdamW\n",
        "from transformers.optimization import get_cosine_schedule_with_warmup"
      ]
    },
    {
      "cell_type": "code",
      "execution_count": null,
      "metadata": {
        "id": "8f11McEJK94Y"
      },
      "outputs": [],
      "source": [
        "# ## CPU\n",
        "# device = torch.device(\"cpu\")\n",
        "\n",
        "# #GPU 사용 시\n",
        "# device = torch.device(\"cuda:2\" if torch.cuda.is_available() else \"cpu\")\n",
        "device = torch.device(\"cuda:0\")"
      ]
    },
    {
      "cell_type": "code",
      "execution_count": null,
      "metadata": {
        "id": "Xo32cy6UK_1I"
      },
      "outputs": [],
      "source": [
        "bertmodel, vocab = get_pytorch_kobert_model()"
      ]
    },
    {
      "cell_type": "markdown",
      "metadata": {
        "id": "qVtgNka_kpCX"
      },
      "source": [
        "## 데이터 불러오기 & 전처리"
      ]
    },
    {
      "cell_type": "code",
      "execution_count": null,
      "metadata": {
        "id": "c47WPgPXLCKG"
      },
      "outputs": [],
      "source": [
        "# #구글드라이브 연동\n",
        "from google.colab import drive\n",
        "drive.mount('/content/drive')"
      ]
    },
    {
      "cell_type": "code",
      "execution_count": null,
      "metadata": {
        "id": "jm75TGWxKqmt"
      },
      "outputs": [],
      "source": [
        "import pandas as pd\n",
        "chatbot_data = pd.read_csv('/content/drive/MyDrive/텍스트이해/emotin_train_dataset_all.csv')\n"
      ]
    },
    {
      "cell_type": "code",
      "execution_count": null,
      "metadata": {
        "id": "SvXSOK6-iGdB"
      },
      "outputs": [],
      "source": [
        "len(chatbot_data)"
      ]
    },
    {
      "cell_type": "code",
      "execution_count": null,
      "metadata": {
        "id": "095TChzwMY8L"
      },
      "outputs": [],
      "source": [
        "chatbot_data.sample(n=10)"
      ]
    },
    {
      "cell_type": "code",
      "execution_count": null,
      "metadata": {
        "id": "qvpjgx_LofQk"
      },
      "outputs": [],
      "source": [
        "chatbot_data.loc[(chatbot_data['tag'] == \"기쁨\"), 'tag'] = 0  #기쁨 => 0\n",
        "chatbot_data.loc[(chatbot_data['tag'] == \"신뢰\"), 'tag'] = 1  #신뢰 => 1\n",
        "chatbot_data.loc[(chatbot_data['tag'] == \"기대\"), 'tag'] = 2  #기대 => 2\n",
        "chatbot_data.loc[(chatbot_data['tag'] == \"중립\"), 'tag'] = 3  #중립 => 3\n",
        "chatbot_data.loc[(chatbot_data['tag'] == \"분노\"), 'tag'] = 4  #분노 => 4\n",
        "chatbot_data.loc[(chatbot_data['tag'] == \"슬픔\"), 'tag'] = 5  #슬픔 => 5\n",
        "chatbot_data.loc[(chatbot_data['tag'] == \"혐오\"), 'tag'] = 6  #혐오 => 6"
      ]
    },
    {
      "cell_type": "code",
      "execution_count": null,
      "metadata": {
        "id": "BT1_EM47QuOs"
      },
      "outputs": [],
      "source": [
        "data_list = []\n",
        "for q, label in zip(chatbot_data['sentence'], chatbot_data['tag'])  :\n",
        "    data = []\n",
        "    data.append(q)\n",
        "    data.append(str(label))\n",
        "\n",
        "    data_list.append(data)"
      ]
    },
    {
      "cell_type": "code",
      "execution_count": null,
      "metadata": {
        "id": "X6fzTfcyPs5-"
      },
      "outputs": [],
      "source": [
        "print(len(data_list))\n",
        "print(data_list[0])\n",
        "print(data_list[1000])\n",
        "print(data_list[2000])\n",
        "print(data_list[3000])\n",
        "print(data_list[4000])\n",
        "print(data_list[5000])\n",
        "print(data_list[-1])"
      ]
    },
    {
      "cell_type": "code",
      "execution_count": null,
      "metadata": {
        "id": "ZkiPnBAqTPmm"
      },
      "outputs": [],
      "source": [
        "#train & test 데이터로 나누기\n",
        "from sklearn.model_selection import train_test_split\n",
        "\n",
        "dataset_train, dataset_test = train_test_split(data_list, test_size=0.2, random_state=0)"
      ]
    },
    {
      "cell_type": "code",
      "execution_count": null,
      "metadata": {
        "id": "Im8B3utpTol4"
      },
      "outputs": [],
      "source": [
        "print(len(dataset_train))\n",
        "print(len(dataset_test))\n",
        "print(dataset_train[0])\n",
        "print(dataset_test[0])"
      ]
    },
    {
      "cell_type": "markdown",
      "metadata": {
        "id": "SogQYv5dk5yL"
      },
      "source": [
        "## 학습모델"
      ]
    },
    {
      "cell_type": "code",
      "execution_count": null,
      "metadata": {
        "id": "UU_rr0FaLNzS"
      },
      "outputs": [],
      "source": [
        "class BERTDataset(Dataset):\n",
        "    def __init__(self, dataset, sent_idx, label_idx, bert_tokenizer, max_len,\n",
        "                 pad, pair):\n",
        "        transform = nlp.data.BERTSentenceTransform(\n",
        "            bert_tokenizer, max_seq_length=max_len, pad=pad, pair=pair)\n",
        "\n",
        "        self.sentences = [transform([i[sent_idx]]) for i in dataset]\n",
        "        self.labels = [np.int32(i[label_idx]) for i in dataset]\n",
        "\n",
        "    def __getitem__(self, i):\n",
        "        return (self.sentences[i] + (self.labels[i], ))\n",
        "\n",
        "    def __len__(self):\n",
        "        return (len(self.labels))"
      ]
    },
    {
      "cell_type": "code",
      "execution_count": null,
      "metadata": {
        "id": "09286PSOLb7p"
      },
      "outputs": [],
      "source": [
        "## Setting parameters\n",
        "max_len = 64  \n",
        "batch_size = 64    \n",
        "warmup_ratio = 0.1\n",
        "num_epochs = 50\n",
        "max_grad_norm = 1\n",
        "log_interval = 200\n",
        "learning_rate =  5e-5"
      ]
    },
    {
      "cell_type": "code",
      "execution_count": null,
      "metadata": {
        "id": "uK9v46UwLMvq"
      },
      "outputs": [],
      "source": [
        "# Tokenization\n",
        "tokenizer = get_tokenizer()\n",
        "tok = nlp.data.BERTSPTokenizer(tokenizer, vocab, lower=False)"
      ]
    },
    {
      "cell_type": "code",
      "execution_count": null,
      "metadata": {
        "id": "BvMOyj6ELeBx"
      },
      "outputs": [],
      "source": [
        "data_train = BERTDataset(dataset_train, 0, 1, tok, max_len, True, False)\n",
        "data_test = BERTDataset(dataset_test, 0, 1, tok, max_len, True, False)"
      ]
    },
    {
      "cell_type": "code",
      "execution_count": null,
      "metadata": {
        "id": "6NuYZAQBDpGt"
      },
      "outputs": [],
      "source": [
        "data_train[0]"
      ]
    },
    {
      "cell_type": "code",
      "execution_count": null,
      "metadata": {
        "id": "7EngEL1HZLdE"
      },
      "outputs": [],
      "source": [
        "data_test[1]"
      ]
    },
    {
      "cell_type": "code",
      "execution_count": null,
      "metadata": {
        "id": "9mp6NBk8Lfia"
      },
      "outputs": [],
      "source": [
        "train_dataloader = torch.utils.data.DataLoader(data_train, batch_size=batch_size, num_workers=5)\n",
        "test_dataloader = torch.utils.data.DataLoader(data_test, batch_size=batch_size, num_workers=5)"
      ]
    },
    {
      "cell_type": "code",
      "execution_count": null,
      "metadata": {
        "id": "sTmnY0GPLgzk"
      },
      "outputs": [],
      "source": [
        "class BERTClassifier(nn.Module):\n",
        "    def __init__(self,\n",
        "                 bert,\n",
        "                 hidden_size = 768,\n",
        "                 num_classes=7, # number of emotions\n",
        "                 dr_rate=None,\n",
        "                 params=None):\n",
        "        super(BERTClassifier, self).__init__()\n",
        "        self.bert = bert\n",
        "        self.dr_rate = dr_rate\n",
        "                 \n",
        "        self.classifier = nn.Linear(hidden_size , num_classes)\n",
        "        if dr_rate:\n",
        "            self.dropout = nn.Dropout(p=dr_rate)\n",
        "    \n",
        "    def gen_attention_mask(self, token_ids, valid_length):\n",
        "        attention_mask = torch.zeros_like(token_ids)\n",
        "        for i, v in enumerate(valid_length):\n",
        "            attention_mask[i][:v] = 1\n",
        "        return attention_mask.float()\n",
        "\n",
        "    def forward(self, token_ids, valid_length, segment_ids):\n",
        "        attention_mask = self.gen_attention_mask(token_ids, valid_length)\n",
        "        \n",
        "        _, pooler = self.bert(input_ids = token_ids, token_type_ids = segment_ids.long(), attention_mask = attention_mask.float().to(token_ids.device))\n",
        "        if self.dr_rate:\n",
        "            out = self.dropout(pooler)\n",
        "        return self.classifier(out)"
      ]
    },
    {
      "cell_type": "code",
      "execution_count": null,
      "metadata": {
        "id": "BbCay-MELjSK"
      },
      "outputs": [],
      "source": [
        "model = BERTClassifier(bertmodel,  dr_rate=0.5).to(device)"
      ]
    },
    {
      "cell_type": "code",
      "execution_count": null,
      "metadata": {
        "id": "BMPpt1-dLli-"
      },
      "outputs": [],
      "source": [
        "# Prepare optimizer and schedule (linear warmup and decay)\n",
        "no_decay = ['bias', 'LayerNorm.weight']\n",
        "optimizer_grouped_parameters = [\n",
        "    {'params': [p for n, p in model.named_parameters() if not any(nd in n for nd in no_decay)], 'weight_decay': 0.01},\n",
        "    {'params': [p for n, p in model.named_parameters() if any(nd in n for nd in no_decay)], 'weight_decay': 0.0}\n",
        "]"
      ]
    },
    {
      "cell_type": "code",
      "execution_count": null,
      "metadata": {
        "id": "S5DTOmekLn_N"
      },
      "outputs": [],
      "source": [
        "optimizer = AdamW(optimizer_grouped_parameters, lr=learning_rate)\n",
        "loss_fn = nn.CrossEntropyLoss()"
      ]
    },
    {
      "cell_type": "code",
      "execution_count": null,
      "metadata": {
        "id": "3lxTq9gyLugi"
      },
      "outputs": [],
      "source": [
        "t_total = len(train_dataloader) * num_epochs\n",
        "warmup_step = int(t_total * warmup_ratio)"
      ]
    },
    {
      "cell_type": "code",
      "execution_count": null,
      "metadata": {
        "id": "EQMvJKyVLvqd"
      },
      "outputs": [],
      "source": [
        "scheduler = get_cosine_schedule_with_warmup(optimizer, num_warmup_steps=warmup_step, num_training_steps=t_total)"
      ]
    },
    {
      "cell_type": "code",
      "execution_count": null,
      "metadata": {
        "id": "LG7OxbEVLxED"
      },
      "outputs": [],
      "source": [
        "def calc_accuracy(X,Y):\n",
        "    max_vals, max_indices = torch.max(X, 1)\n",
        "    train_acc = (max_indices == Y).sum().data.cpu().numpy()/max_indices.size()[0]\n",
        "    return train_acc"
      ]
    },
    {
      "cell_type": "code",
      "execution_count": null,
      "metadata": {
        "id": "-9uTbJC8D7Ef"
      },
      "outputs": [],
      "source": [
        "train_dataloader"
      ]
    },
    {
      "cell_type": "markdown",
      "metadata": {
        "id": "BtFH9umMlA8g"
      },
      "source": [
        "## 학습시키기"
      ]
    },
    {
      "cell_type": "code",
      "execution_count": null,
      "metadata": {
        "id": "cc8naVa8OpfS"
      },
      "outputs": [],
      "source": [
        "# F1 스코어 계산을 위해 사용\n",
        "from seqeval.metrics import precision_score, recall_score, f1_score, classification_report\n",
        "\n",
        "import numpy as np\n",
        "\n",
        "index_to_tag = {0:'기쁨', 1:'기대', 2:'신뢰', 3:'중립', 4:'분노', 5:'슬픔', 6:'혐오'}\n",
        "\n",
        "# 시퀀스를 NER 태그로 변환\n",
        "def sequences_to_tag(sequences): # 예측값을 index_to_ner을 사용하여 태깅 정보로 변환\n",
        "    result = []\n",
        "    for sequence in sequences: # 전체 시퀀스로부터 시퀀스를 하나씩 꺼낸다\n",
        "        temp = []\n",
        "        for pred in sequence: # 시퀀스로부터 예측값을 하나씩 꺼낸다\n",
        "            # pred_index = np.argmax(pred) # ex) [0, 0, 1, 0, 0]이라면 1의 인덱스인 2를 리턴\n",
        "            pred = pred.item()\n",
        "            temp.append(index_to_tag[pred]) \n",
        "        result.append(temp)\n",
        "\n",
        "    return result"
      ]
    },
    {
      "cell_type": "code",
      "execution_count": null,
      "metadata": {
        "id": "SSmL9YhQQDIE"
      },
      "outputs": [],
      "source": [
        "# 모델 저장코드 추가1\n",
        "from copy import deepcopy\n",
        "import gc\n",
        "# from cpython.Lib import copy\n",
        "best_f1 = 0\n",
        "best_model = None \n",
        "\n",
        "for e in range(num_epochs):\n",
        "    train_acc = 0.0\n",
        "    test_acc = 0.0\n",
        "    model.train()\n",
        "    for batch_id, (token_ids, valid_length, segment_ids, label) in enumerate(tqdm_notebook(train_dataloader)):\n",
        "        optimizer.zero_grad()\n",
        "        token_ids = token_ids.long().to(device)\n",
        "        segment_ids = segment_ids.long().to(device)\n",
        "        valid_length= valid_length\n",
        "        label = label.long().to(device)\n",
        "        out = model(token_ids, valid_length, segment_ids)\n",
        "        loss = loss_fn(out, label)\n",
        "        loss.backward()\n",
        "        torch.nn.utils.clip_grad_norm_(model.parameters(), max_grad_norm)\n",
        "        optimizer.step()\n",
        "        scheduler.step()  # Update learning rate schedule\n",
        "        train_acc += calc_accuracy(out, label)\n",
        "        \n",
        "        if batch_id % log_interval == 0:\n",
        "            print(\"epoch {} batch id {} loss {} train acc {}\".format(e+1, batch_id+1, loss.data.cpu().numpy(), train_acc / (batch_id+1)))\n",
        "            \n",
        "        gc.collect()\n",
        "        torch.cuda.empty_cache()\n",
        "    print(\"epoch {} train acc {}\".format(e+1, train_acc / (batch_id+1)))\n",
        "   \n",
        "    model.eval()\n",
        "    \n",
        "\n",
        "    out_all = []\n",
        "    label_all = []\n",
        "        \n",
        "    for batch_id, (token_ids, valid_length, segment_ids, label) in enumerate(tqdm_notebook(test_dataloader)):\n",
        "        \n",
        "        \n",
        "        token_ids = token_ids.long().to(device)\n",
        "        segment_ids = segment_ids.long().to(device)\n",
        "        valid_length= valid_length\n",
        "        label = label.long().to(device)\n",
        "        \n",
        "        out = model(token_ids, valid_length, segment_ids)\n",
        "        label_all.append(label)\n",
        "        test_acc += calc_accuracy(out, label) \n",
        "        max_vals, max_indices = torch.max(out, 1)\n",
        "        out_all.append(max_indices)\n",
        "\n",
        "\n",
        "    # 테스트 데이터셋의 예측\n",
        "    pred_tags = sequences_to_tag(out_all) # 예측\n",
        "    label_tags = sequences_to_tag(label_all) # 실제 \n",
        "\n",
        "    # F1 평가 결과\n",
        "    print(classification_report(label_tags, pred_tags))\n",
        "    test_f1 = f1_score(label_tags, pred_tags)\n",
        "    print(\"F1-score: {:.1%}\".format(test_f1)) \n",
        "\n",
        "    print(\"epoch {} test acc {}\".format(e+1, test_acc / (batch_id+1)))\n",
        "\n",
        "    # BEST MODEL 저장\n",
        "    if test_f1 > best_f1:\n",
        "      best_f1 = test_f1\n",
        "      best_model = deepcopy(model)\n",
        "    \n",
        "      torch.save(model, 'best-model-add-50_s7.pt')\n",
        "      torch.save(best_model.state_dict(),'best-model-params-add-50_s7.pt')\n",
        "      torch.save({'model': model.state_dict(),'optimizer': optimizer.state_dict()}, 'best-model-add-50_s7' + '.tar')    \n",
        "    \n",
        "      gc.collect()\n",
        "      torch.cuda.empty_cache()\n",
        "     \n",
        "    del out_all\n",
        "    del label_all\n",
        "    \n",
        "        \n",
        "    gc.collect()\n",
        "    torch.cuda.empty_cache()"
      ]
    },
    {
      "cell_type": "code",
      "execution_count": null,
      "metadata": {
        "id": "ZdD2KijTBFT3"
      },
      "outputs": [],
      "source": [
        "# import os\n",
        "# os.chdir('/content/drive/MyDrive/텍스트이해/models/')\n",
        "# os.getcwd()\n",
        "\n",
        "\n",
        "# torch.save(best_model, 'best-model-50_s7.pt')\n",
        "# torch.save(best_model.state_dict(), 'best-model-params-50_s7.pt')\n",
        "# torch.save({'model': best_model.state_dict(),'optimizer': optimizer.state_dict()},'best-model-50_s7' + '.tar')    "
      ]
    },
    {
      "cell_type": "markdown",
      "metadata": {
        "id": "ogJT46r4lZ3-"
      },
      "source": [
        "## 모델 불러오기"
      ]
    },
    {
      "cell_type": "code",
      "execution_count": null,
      "metadata": {
        "colab": {
          "base_uri": "https://localhost:8080/"
        },
        "id": "hEYtiowYE8Vz",
        "outputId": "ae6f2dc9-9378-40ca-dec0-600420d52338"
      },
      "outputs": [
        {
          "output_type": "stream",
          "name": "stdout",
          "text": [
            "Drive already mounted at /content/drive; to attempt to forcibly remount, call drive.mount(\"/content/drive\", force_remount=True).\n"
          ]
        }
      ],
      "source": [
        "#구글드라이브 연동\n",
        "from google.colab import drive\n",
        "drive.mount('/content/drive')"
      ]
    },
    {
      "cell_type": "code",
      "execution_count": null,
      "metadata": {
        "id": "zTGVM1D4NE1P"
      },
      "outputs": [],
      "source": [
        "import os\n",
        "\n",
        "os.chdir('/content/drive/MyDrive/텍스트이해/models/bestmodel_부정추가/')\n",
        "\n",
        "model1 = torch.load('best-model-add-50_s7_neg.pt')  # 전체 모델을 통째로 불러옴, 클래스 선언 필수\n",
        "model1.load_state_dict(torch.load('best-model-params-add-50_s7_neg.pt'))  # state_dict를 불러 온 후, 모델에 저장\n",
        "checkpoint = torch.load('best-model-add-50_s7_neg.tar')   # dict 불러오기\n",
        "model1.load_state_dict(checkpoint['model'])\n",
        "optimizer.load_state_dict(checkpoint['optimizer'])"
      ]
    },
    {
      "cell_type": "markdown",
      "metadata": {
        "id": "YgJME-pAC-OE"
      },
      "source": [
        "## 예측하기"
      ]
    },
    {
      "cell_type": "code",
      "source": [
        "#토큰화\n",
        "tokenizer = get_tokenizer()\n",
        "tok = nlp.data.BERTSPTokenizer(tokenizer, vocab, lower=False)"
      ],
      "metadata": {
        "id": "NOaPOfQEvBOG"
      },
      "execution_count": null,
      "outputs": []
    },
    {
      "cell_type": "code",
      "source": [
        "def predict(predict_sentence):\n",
        "\n",
        "    data = [predict_sentence, '0']\n",
        "    dataset_another = [data]\n",
        "\n",
        "    another_test = BERTDataset(dataset_another, 0, 1, tok, max_len, True, False)\n",
        "    test_dataloader = torch.utils.data.DataLoader(another_test, batch_size=batch_size, num_workers=5)\n",
        "    \n",
        "    model1.eval()\n",
        "\n",
        "    for batch_id, (token_ids, valid_length, segment_ids, label) in enumerate(test_dataloader):\n",
        "        token_ids = token_ids.long().to(device)\n",
        "        segment_ids = segment_ids.long().to(device)\n",
        "\n",
        "        valid_length= valid_length\n",
        "        label = label.long().to(device)\n",
        "\n",
        "        out = model1(token_ids, valid_length, segment_ids)\n",
        "\n",
        "\n",
        "        test_eval=[]\n",
        "        for i in out:\n",
        "            logits=i\n",
        "            logits = logits.detach().cpu().numpy()\n",
        "\n",
        "            if np.argmax(logits) == 0:\n",
        "                test_eval.append(\"기쁨\")\n",
        "            elif np.argmax(logits) == 1:\n",
        "                test_eval.append(\"신뢰\")\n",
        "            elif np.argmax(logits) == 2:\n",
        "                test_eval.append(\"기대\")\n",
        "            elif np.argmax(logits) == 3:\n",
        "                test_eval.append(\"중립\")\n",
        "            elif np.argmax(logits) == 4:\n",
        "                test_eval.append(\"분노\")\n",
        "            elif np.argmax(logits) == 5:\n",
        "                test_eval.append(\"슬픔\")\n",
        "            elif np.argmax(logits) == 6:\n",
        "                test_eval.append(\"혐오\")\n",
        "\n",
        "        return test_eval[0]"
      ],
      "metadata": {
        "id": "VRC3p_7YvC4d"
      },
      "execution_count": null,
      "outputs": []
    },
    {
      "cell_type": "code",
      "source": [
        "import pandas as pd\n",
        "df = pd.read_csv('/content/drive/MyDrive/텍스트이해/categories/뷰티.csv')\n",
        "\n",
        "test_sentence = df['sentence']"
      ],
      "metadata": {
        "id": "aTyMDIhrvIex"
      },
      "execution_count": null,
      "outputs": []
    },
    {
      "cell_type": "code",
      "source": [
        "predict_emo = []\n",
        "for i in test_sentence:\n",
        "  predict_emo.append(predict(i))\n",
        "print(predict_emo)"
      ],
      "metadata": {
        "id": "JjfaxSMqvKuh"
      },
      "execution_count": null,
      "outputs": []
    },
    {
      "cell_type": "code",
      "source": [
        "import pandas as pd\n",
        "df2 = pd.DataFrame(predict_emo, columns = ['emotion'])\n",
        "df2"
      ],
      "metadata": {
        "id": "ao33FYY0e8TQ"
      },
      "execution_count": null,
      "outputs": []
    },
    {
      "cell_type": "code",
      "source": [
        "df_merge = pd.merge(df, df2, left_index=True, right_index = True, how = 'left')\n",
        "df_merge"
      ],
      "metadata": {
        "id": "0lutzqPhfcfi"
      },
      "execution_count": null,
      "outputs": []
    },
    {
      "cell_type": "code",
      "source": [
        "df_merge.to_csv('/content/drive/MyDrive/텍스트이해/categories/뷰티_result.csv')"
      ],
      "metadata": {
        "id": "koG9GWKifci6"
      },
      "execution_count": null,
      "outputs": []
    },
    {
      "cell_type": "markdown",
      "source": [
        "# 2. 부정 레이블 예측 -> 학습 데이터로 활용\n",
        " - base model에서 성능이 낮은 부정 레이블의 학습데이터 추가하기 위함"
      ],
      "metadata": {
        "id": "wbizbmy1NaPG"
      }
    },
    {
      "cell_type": "code",
      "source": [
        "#토큰화\n",
        "tokenizer = get_tokenizer()\n",
        "tok = nlp.data.BERTSPTokenizer(tokenizer, vocab, lower=False)"
      ],
      "metadata": {
        "id": "9su5univsekt"
      },
      "execution_count": null,
      "outputs": []
    },
    {
      "cell_type": "code",
      "source": [
        "def predict(dataset_another):\n",
        "\n",
        "    data = [dataset_another, '0']\n",
        "    dataset_another = [data]\n",
        "\n",
        "    another_test = BERTDataset(dataset_another, 0, 1, tok, max_len, True, False)\n",
        "    test_dataloader = torch.utils.data.DataLoader(another_test, batch_size=batch_size, num_workers=5)\n",
        "    \n",
        "    model1.eval()\n",
        "\n",
        "    for batch_id, (token_ids, valid_length, segment_ids, label) in enumerate(test_dataloader) :   #tqdm_notebook(test_dataloader)):\n",
        "        token_ids = token_ids.long().to(device)\n",
        "        segment_ids = segment_ids.long().to(device)\n",
        "\n",
        "        valid_length= valid_length\n",
        "        label = label.long().to(device)\n",
        "\n",
        "        out = model1(token_ids, valid_length, segment_ids)\n",
        "\n",
        "\n",
        "        test_eval=[]\n",
        "        test_prob= []\n",
        "        for i in out:\n",
        "            logits=i\n",
        "            m = nn.Softmax()  \n",
        "            output = m(logits)\n",
        "\n",
        "            prob = output.detach().cpu().numpy() \n",
        "            max_prob = max(prob)\n",
        "            max_idx = np.argmax(prob)\n",
        "\n",
        "            if max_prob >= 0.9 :\n",
        "                test_eval.append(max_idx)\n",
        "            else : \n",
        "                test_eval.append(99)            \n",
        "   \n",
        "        return test_eval \n"
      ],
      "metadata": {
        "id": "OyPWiGGNO2C3"
      },
      "execution_count": null,
      "outputs": []
    },
    {
      "cell_type": "code",
      "source": [
        "import pandas as pd\n",
        "predict_raw = pd.read_csv('/content/drive/MyDrive/emotion_analysis/부정_예측대상.csv')\n",
        "dataset_predict = predict_raw[(predict_raw['Emotion'] == '분노') | (predict_raw['Emotion'] == '슬픔') | (predict_raw['Emotion'] == '혐오')]\n",
        "dataset_predict = dataset_predict.reset_index(drop=True)"
      ],
      "metadata": {
        "id": "0wd-fXTaN8kt"
      },
      "execution_count": null,
      "outputs": []
    },
    {
      "cell_type": "code",
      "source": [
        "results = []\n",
        "for data in dataset_predict['Sentence'] :\n",
        "    result = predict(data)\n",
        "    results.append(result)\n",
        "            \n",
        "results"
      ],
      "metadata": {
        "id": "Lje2F-a2ONCr"
      },
      "execution_count": null,
      "outputs": []
    },
    {
      "cell_type": "code",
      "source": [
        "test_eval = []\n",
        "for i in range(len(results)) :\n",
        "  idx = results[i][0]\n",
        "\n",
        "  if idx == 0:\n",
        "      test_eval.append(\"기쁨\")\n",
        "  elif idx == 1:\n",
        "      test_eval.append(\"신뢰\")\n",
        "  elif idx == 2:\n",
        "      test_eval.append(\"기대\")\n",
        "  elif idx == 3:\n",
        "      test_eval.append(\"중립\")\n",
        "  elif idx == 4:\n",
        "      test_eval.append(\"분노\")\n",
        "  elif idx == 5:\n",
        "      test_eval.append(\"슬픔\")\n",
        "  elif idx == 6:\n",
        "      test_eval.append(\"혐오\")\n",
        "  elif idx == 99 : \n",
        "      test_eval.append(\"제외\")\n",
        "\n",
        "print(test_eval)"
      ],
      "metadata": {
        "id": "Byt7QKGXPSLQ"
      },
      "execution_count": null,
      "outputs": []
    },
    {
      "cell_type": "code",
      "source": [
        "df = pd.DataFrame(test_eval, columns = ['new_emotion'])\n",
        "new_negative = pd.merge(dataset_predict, df, left_index=True, right_index=True, how='left')\n",
        "new_negative  = new_negative[['Sentence', 'new_emotion']]\n",
        "new_negative  = new_negative[new_negative['new_emotion'] != '제외']\n",
        "new_negative.rename(columns = {'Sentence':'sentence', 'new_emotion':'tag'}, inplace=True)"
      ],
      "metadata": {
        "id": "HUBPqR8OPZMC"
      },
      "execution_count": null,
      "outputs": []
    },
    {
      "cell_type": "code",
      "source": [
        "# concat - 해당 데이터를 학습에 사용\n",
        "chatbot_data = pd.concat([chatbot_data, new_negative])\n",
        "chatbot_data"
      ],
      "metadata": {
        "id": "cJIUjO7gPl_Y"
      },
      "execution_count": null,
      "outputs": []
    },
    {
      "cell_type": "markdown",
      "source": [
        "# 3. 긍정레이블 문장임베딩 & 군집화\n",
        " - 수작업으로 생성한 긍정 데이터들이 레이블 별로 군집을 잘 형성되는지 확인하기 위함"
      ],
      "metadata": {
        "id": "hEM602ctsUTI"
      }
    },
    {
      "cell_type": "code",
      "source": [
        "!pip install sentence-transformers"
      ],
      "metadata": {
        "colab": {
          "base_uri": "https://localhost:8080/"
        },
        "id": "ozVc0ifjR2hK",
        "outputId": "82cc6c82-ed50-4494-83ea-667bbe9e3872"
      },
      "execution_count": null,
      "outputs": [
        {
          "output_type": "stream",
          "name": "stdout",
          "text": [
            "Looking in indexes: https://pypi.org/simple, https://us-python.pkg.dev/colab-wheels/public/simple/\n",
            "Collecting sentence-transformers\n",
            "  Downloading sentence-transformers-2.2.2.tar.gz (85 kB)\n",
            "\u001b[K     |████████████████████████████████| 85 kB 3.1 MB/s \n",
            "\u001b[?25hCollecting transformers<5.0.0,>=4.6.0\n",
            "  Downloading transformers-4.25.1-py3-none-any.whl (5.8 MB)\n",
            "\u001b[K     |████████████████████████████████| 5.8 MB 24.9 MB/s \n",
            "\u001b[?25hRequirement already satisfied: tqdm in /usr/local/lib/python3.8/dist-packages (from sentence-transformers) (4.64.1)\n",
            "Requirement already satisfied: torch>=1.6.0 in /usr/local/lib/python3.8/dist-packages (from sentence-transformers) (1.13.0+cu116)\n",
            "Requirement already satisfied: torchvision in /usr/local/lib/python3.8/dist-packages (from sentence-transformers) (0.14.0+cu116)\n",
            "Requirement already satisfied: numpy in /usr/local/lib/python3.8/dist-packages (from sentence-transformers) (1.21.6)\n",
            "Requirement already satisfied: scikit-learn in /usr/local/lib/python3.8/dist-packages (from sentence-transformers) (1.0.2)\n",
            "Requirement already satisfied: scipy in /usr/local/lib/python3.8/dist-packages (from sentence-transformers) (1.7.3)\n",
            "Requirement already satisfied: nltk in /usr/local/lib/python3.8/dist-packages (from sentence-transformers) (3.7)\n",
            "Collecting sentencepiece\n",
            "  Downloading sentencepiece-0.1.97-cp38-cp38-manylinux_2_17_x86_64.manylinux2014_x86_64.whl (1.3 MB)\n",
            "\u001b[K     |████████████████████████████████| 1.3 MB 62.9 MB/s \n",
            "\u001b[?25hCollecting huggingface-hub>=0.4.0\n",
            "  Downloading huggingface_hub-0.11.1-py3-none-any.whl (182 kB)\n",
            "\u001b[K     |████████████████████████████████| 182 kB 77.0 MB/s \n",
            "\u001b[?25hRequirement already satisfied: typing-extensions>=3.7.4.3 in /usr/local/lib/python3.8/dist-packages (from huggingface-hub>=0.4.0->sentence-transformers) (4.4.0)\n",
            "Requirement already satisfied: filelock in /usr/local/lib/python3.8/dist-packages (from huggingface-hub>=0.4.0->sentence-transformers) (3.8.0)\n",
            "Requirement already satisfied: packaging>=20.9 in /usr/local/lib/python3.8/dist-packages (from huggingface-hub>=0.4.0->sentence-transformers) (21.3)\n",
            "Requirement already satisfied: requests in /usr/local/lib/python3.8/dist-packages (from huggingface-hub>=0.4.0->sentence-transformers) (2.23.0)\n",
            "Requirement already satisfied: pyyaml>=5.1 in /usr/local/lib/python3.8/dist-packages (from huggingface-hub>=0.4.0->sentence-transformers) (6.0)\n",
            "Requirement already satisfied: pyparsing!=3.0.5,>=2.0.2 in /usr/local/lib/python3.8/dist-packages (from packaging>=20.9->huggingface-hub>=0.4.0->sentence-transformers) (3.0.9)\n",
            "Requirement already satisfied: regex!=2019.12.17 in /usr/local/lib/python3.8/dist-packages (from transformers<5.0.0,>=4.6.0->sentence-transformers) (2022.6.2)\n",
            "Collecting tokenizers!=0.11.3,<0.14,>=0.11.1\n",
            "  Downloading tokenizers-0.13.2-cp38-cp38-manylinux_2_17_x86_64.manylinux2014_x86_64.whl (7.6 MB)\n",
            "\u001b[K     |████████████████████████████████| 7.6 MB 69.9 MB/s \n",
            "\u001b[?25hRequirement already satisfied: joblib in /usr/local/lib/python3.8/dist-packages (from nltk->sentence-transformers) (1.2.0)\n",
            "Requirement already satisfied: click in /usr/local/lib/python3.8/dist-packages (from nltk->sentence-transformers) (7.1.2)\n",
            "Requirement already satisfied: idna<3,>=2.5 in /usr/local/lib/python3.8/dist-packages (from requests->huggingface-hub>=0.4.0->sentence-transformers) (2.10)\n",
            "Requirement already satisfied: urllib3!=1.25.0,!=1.25.1,<1.26,>=1.21.1 in /usr/local/lib/python3.8/dist-packages (from requests->huggingface-hub>=0.4.0->sentence-transformers) (1.24.3)\n",
            "Requirement already satisfied: certifi>=2017.4.17 in /usr/local/lib/python3.8/dist-packages (from requests->huggingface-hub>=0.4.0->sentence-transformers) (2022.9.24)\n",
            "Requirement already satisfied: chardet<4,>=3.0.2 in /usr/local/lib/python3.8/dist-packages (from requests->huggingface-hub>=0.4.0->sentence-transformers) (3.0.4)\n",
            "Requirement already satisfied: threadpoolctl>=2.0.0 in /usr/local/lib/python3.8/dist-packages (from scikit-learn->sentence-transformers) (3.1.0)\n",
            "Requirement already satisfied: pillow!=8.3.*,>=5.3.0 in /usr/local/lib/python3.8/dist-packages (from torchvision->sentence-transformers) (7.1.2)\n",
            "Building wheels for collected packages: sentence-transformers\n",
            "  Building wheel for sentence-transformers (setup.py) ... \u001b[?25l\u001b[?25hdone\n",
            "  Created wheel for sentence-transformers: filename=sentence_transformers-2.2.2-py3-none-any.whl size=125938 sha256=097f149fd6b3df39c8c9d47d95214324018e17885bf182c2383c8fc66ae47875\n",
            "  Stored in directory: /root/.cache/pip/wheels/5e/6f/8c/d88aec621f3f542d26fac0342bef5e693335d125f4e54aeffe\n",
            "Successfully built sentence-transformers\n",
            "Installing collected packages: tokenizers, huggingface-hub, transformers, sentencepiece, sentence-transformers\n",
            "Successfully installed huggingface-hub-0.11.1 sentence-transformers-2.2.2 sentencepiece-0.1.97 tokenizers-0.13.2 transformers-4.25.1\n"
          ]
        }
      ]
    },
    {
      "cell_type": "code",
      "source": [
        "from sentence_transformers import SentenceTransformer\n",
        "\n",
        "model = SentenceTransformer('jhgan/ko-sroberta-multitask')"
      ],
      "metadata": {
        "colab": {
          "base_uri": "https://localhost:8080/",
          "height": 465,
          "referenced_widgets": [
            "a7198be2112e45c8be50ff23d02a4ed8",
            "f6f3b6c39b0d41fc9a5606fac4b90dde",
            "e60454cda3954f5ea581c3be4fd5350d",
            "7095d075a857408f90a7f41e0073e6df",
            "f3a4bf7d7964409bb0303f3998c60fd1",
            "003a1bc9ff8547d3abd34d7958605272",
            "549b0a9c639b43689f727368c3a5cfc9",
            "6737f1407a724f09866f6487119781a6",
            "cda27be1e653490f9434b7a5ceb2f2f3",
            "33009e9697ea461593ea7a99f112f46b",
            "0731cb9a2f4f49c69905c3f52c5b1d01",
            "c1a0baede39d42b89014e950efde074c",
            "ed855ecdac5f4a6d912cb677d4e4f185",
            "3ac4e7a43016438b9ffa781f8018617b",
            "ab94459fcbb646afb3fa49afb5973099",
            "beae7a278bc64179a0f87fb485f48d1a",
            "af7024e272ec49079afeed1f609e9a7f",
            "f81f70f3d08f4934b2eedc83c5df7c43",
            "392abf71a2a94650a0bb8acda76a6110",
            "af0f10daa6c24b3ba6ad56830560c63b",
            "c9173833344c4816b2443295fa24c722",
            "3663f240ee864738b1722ba06cba5b5d",
            "b9e851bf809d420c84efc5f553b3b4e9",
            "5dfe2423ef16449e88fd1549bcadfdc9",
            "45e50732af564ea2b2ab8faf4b448113",
            "0f6ff78267f440019535ccd63417004e",
            "d372d7ed347147bd9a205dd2edd355f1",
            "89a5576c5ff742b49356cd71847648f8",
            "f5a72c54194048ba9f378430d86400bb",
            "b88011049edf40c995719ec87726561f",
            "ae685562a7884355bd99b0b82cec8c80",
            "a198c899809042908baa8c3604e9d98f",
            "81239b8f5fdf40b3a4d4b34c4c767400",
            "8bc1d327bc2a4a2c99f3832335872c46",
            "ce972eaf53b64a9e9aada81e33a9aaa2",
            "4a2eda771ef44c7c9f79ea61598bc133",
            "04ea1fce3c90417a818d93f1ae8d8e8b",
            "b785bdff6897404aa4f433a75046a6d4",
            "25148fed70804195a9812ca9d54aa744",
            "fb96e34fc31a416cbf0b3481097f73c9",
            "84b8b74f7a6f49078f8b740665bca2e1",
            "8303fbeb5b0346a4adaf2e09ae9ad85d",
            "63f0fb77e8e34787b857592e3fc8ff7a",
            "8d21330a815f4001aae77441f7c7c2da",
            "418e028c3746421eadb885456902d2d2",
            "f96fe50f6fae47c59ae75f4793a19ab7",
            "2de04f7d420440709cbec6cbc81f9a60",
            "359e58d0de1a42408b7260907b46da8e",
            "3d690683ff0544789ded5202304b61b7",
            "e69dc3995f1f41c4a9fc858d3289f356",
            "07183776761f4d2db36ad5304f4a0bb4",
            "f8275401c4b342df9342e9e2044a596f",
            "a98f025bdd60467e96dbd21c1c5d9c62",
            "f9a5e107d8164fe8825a16b64d3c2803",
            "3e87ad4f968d40a0a3eb349e9c2c5832",
            "46a7762cb7a64df68ad934d51dfc0469",
            "a94798d135b14db78ad3b96ece439a07",
            "d9058f1e6e7b4a93a51d4dc8196b6f7c",
            "a0c6459a485f4e2e8aa40c417e44be04",
            "0e243065e775476892518815ff359f9c",
            "08d386d5e44b44e4b5f1bb68c4c3e15f",
            "07d4a2fc2ec647f6b6b218c9995d2d75",
            "547971c7bc14499d94ef2b5835232aca",
            "a4cffd48d7ca44c1a9522584093a9913",
            "8c2af089bd934b1f9dc1b6e2a605751d",
            "e66cddf5c19c4b2294265b04475b0d0d",
            "32373092d9784953bac56f65bcad1889",
            "64fd23835d22441cb7786a75b2ae5044",
            "2535498a0a2f4748abadbdcb2542d363",
            "7f845facd2eb492c84b0bb221e06882a",
            "d14cd948ea684673847fd5cbb630690c",
            "17fcbb40b6684c9ba41811539d5385c8",
            "dc78a05f06404e9d9a0fb4e2459a0606",
            "e4e9347acc2946bab3e5ec321988b995",
            "59a186cf3e6b44d6965e53e955b2f252",
            "b5ebc3b3500a4cf8a90b5860c04d9cc6",
            "1c116bdbde35497ea28ca9c8fe251f57",
            "1be16aab77034133bc2af57fb99b0f2f",
            "e093ceee9f7a437ebc07b0b6dfe53844",
            "4a5acf556c814d62b6e689eb4cde7214",
            "7a711121276a44149c94730216d29a59",
            "443a6849da37469283c8c039361abd3c",
            "69b9afda7d5d42cc85239abd5da8bbe7",
            "bfc67300c3b745d6ab7a94625095f756",
            "777ef5a27aaf48be9ba18b2a4eafdd85",
            "2d498c61fd4447e297cc8826bc4e8d4d",
            "6d85ea74674a4d01a1d65097a702c4ff",
            "64023f726c054086bcec73b4e29cd6af",
            "96770839dcd54bafb239c85c224af453",
            "79b5d48016574b97908592057adab821",
            "087b009af38548169249d73d93fa2e0d",
            "20422f4e5b9544799fc1f3164dec7995",
            "c95ae10fc32c471fb6ca60bb923bd476",
            "d2dd0a4530094ab190a56b375dc2efb4",
            "808869f3fdbc4a10a7406974f9b03b7d",
            "1c7ebf5580f5433aa28022d97e0154e6",
            "cc1df6870d2440af9bfba463cfb10cc4",
            "ef04a71973294e46a0688af7fcbe2689",
            "ea90474a54fb44f8ba1d09017cdb0485",
            "7153f95ec7b34f38b99f3298c0134e74",
            "05ac0cdb6010444e878c42e7dd82e999",
            "d9e17aa21ec44457aecf01690dec645d",
            "8d70bac1a8954977a07e27b4699058d7",
            "a2b9513b39a8499e8ff96bfdd7dc2d10",
            "d83bc3f9bd614bf6a57ff5eaec8dcacc",
            "55996689744e4c1183e165fdd534ed77",
            "6b3428b785fb481e9219d17bae8436e0",
            "d7f8b5b6ff634e8cbd0fe38c8acaffdc",
            "12576f1d0b134164b72fa6268057c261",
            "c649d079d4a54e579fb60e7eaaac8556",
            "d8211fbb98c042db8f1e2eeb8643bd7e",
            "a17c0c0167c64e069fcd0f6561164d09",
            "fa80f336020344b08e2effb0509ab796",
            "990f69687ca44964bf55fd34f48e69f1",
            "a6ae442fa779478fba5b0740abbdc61b",
            "1062540c857249a986c1211e232c9e0d",
            "46e80dd04abd47348d2f65738df9e314",
            "fef5afce70b144a58282321b856e59cd",
            "28770bbd2439410482a6525cdf8081a4",
            "c6cc96d736534612857145fcf48898cb",
            "619605282aba4e7397f939abd91ea3de",
            "abff822e8c2e4070a136e7f367f8c782",
            "d3c1f2580e774beebce85d37fa3139f5",
            "18eabaf56f884894abdb4feb660ae622",
            "daa547a905394c78a084595af9e7c2ca",
            "5803760412da4339b1f72e7420b9f4d6",
            "4839fb790b0a45f08347cbd3d96d2048",
            "0cfa3f5d27854b0baca4c6b710d8ca2a",
            "8a447de7864f4fb6afc72b7568c54c93",
            "e2b7dad8ea64410bb20730b4c7514479",
            "da29dd61e3e94e39b8bf1188aba9754a",
            "5205e13c83044dfc9d70a9c8be2f4c2c",
            "03c48edf59654b67890bae973b04aa94",
            "d94b7796706242d79725cc316cfc024e",
            "071866eb77284e0a88867c998b281a1f",
            "fde1eb52d5b74aa7875938cd138c4be3",
            "ec8a6cc0e97f450fa4877a82145bfa1f",
            "ab97612dceb84238bb0988e56ee27745",
            "fc92881e9f5342ffb17e48f1c05cb1a3",
            "d0c23d97ef4a425f83bcb192bc62b96a",
            "2360e8d57432400dbbc67eded004bf88",
            "3be016d910b04a7dbd552b845d8e043a",
            "e100bb6f10fe4294b1125eae60e21bf2",
            "f03aead5dce246589a8c290b3c62b1bc",
            "eb8ce84357904aff973ead6fb0aeadf5",
            "c2ebbfb4f47a428697443ab1ab87f80b",
            "dd0ef374f1d145ef8e4a8f2e35a0ffbd",
            "714151ab2ebb4b9097540fb0d31b0f3b",
            "d2deb47ca0724a6990191a618760fe7a",
            "9df612b1df534de7b11db418729e1366",
            "217a80b547d442b7b9cb3982eed1837b",
            "ddbdb01472fb4c9fa83e3526f48b3a6a",
            "7eaa08d001064fb1809d7078d86e4057",
            "c40ccacd2a67413f96ab3363d99c8bab"
          ]
        },
        "id": "8vLa1nLkR9Bw",
        "outputId": "79feee8b-548b-4d06-e0bc-42259889e720"
      },
      "execution_count": null,
      "outputs": [
        {
          "output_type": "display_data",
          "data": {
            "text/plain": [
              "Downloading:   0%|          | 0.00/1.18k [00:00<?, ?B/s]"
            ],
            "application/vnd.jupyter.widget-view+json": {
              "version_major": 2,
              "version_minor": 0,
              "model_id": "a7198be2112e45c8be50ff23d02a4ed8"
            }
          },
          "metadata": {}
        },
        {
          "output_type": "display_data",
          "data": {
            "text/plain": [
              "Downloading:   0%|          | 0.00/190 [00:00<?, ?B/s]"
            ],
            "application/vnd.jupyter.widget-view+json": {
              "version_major": 2,
              "version_minor": 0,
              "model_id": "c1a0baede39d42b89014e950efde074c"
            }
          },
          "metadata": {}
        },
        {
          "output_type": "display_data",
          "data": {
            "text/plain": [
              "Downloading:   0%|          | 0.00/10.6k [00:00<?, ?B/s]"
            ],
            "application/vnd.jupyter.widget-view+json": {
              "version_major": 2,
              "version_minor": 0,
              "model_id": "b9e851bf809d420c84efc5f553b3b4e9"
            }
          },
          "metadata": {}
        },
        {
          "output_type": "display_data",
          "data": {
            "text/plain": [
              "Downloading:   0%|          | 0.00/612 [00:00<?, ?B/s]"
            ],
            "application/vnd.jupyter.widget-view+json": {
              "version_major": 2,
              "version_minor": 0,
              "model_id": "8bc1d327bc2a4a2c99f3832335872c46"
            }
          },
          "metadata": {}
        },
        {
          "output_type": "display_data",
          "data": {
            "text/plain": [
              "Downloading:   0%|          | 0.00/116 [00:00<?, ?B/s]"
            ],
            "application/vnd.jupyter.widget-view+json": {
              "version_major": 2,
              "version_minor": 0,
              "model_id": "418e028c3746421eadb885456902d2d2"
            }
          },
          "metadata": {}
        },
        {
          "output_type": "display_data",
          "data": {
            "text/plain": [
              "Downloading:   0%|          | 0.00/39.3k [00:00<?, ?B/s]"
            ],
            "application/vnd.jupyter.widget-view+json": {
              "version_major": 2,
              "version_minor": 0,
              "model_id": "46a7762cb7a64df68ad934d51dfc0469"
            }
          },
          "metadata": {}
        },
        {
          "output_type": "display_data",
          "data": {
            "text/plain": [
              "Downloading:   0%|          | 0.00/90.9M [00:00<?, ?B/s]"
            ],
            "application/vnd.jupyter.widget-view+json": {
              "version_major": 2,
              "version_minor": 0,
              "model_id": "32373092d9784953bac56f65bcad1889"
            }
          },
          "metadata": {}
        },
        {
          "output_type": "display_data",
          "data": {
            "text/plain": [
              "Downloading:   0%|          | 0.00/53.0 [00:00<?, ?B/s]"
            ],
            "application/vnd.jupyter.widget-view+json": {
              "version_major": 2,
              "version_minor": 0,
              "model_id": "1be16aab77034133bc2af57fb99b0f2f"
            }
          },
          "metadata": {}
        },
        {
          "output_type": "display_data",
          "data": {
            "text/plain": [
              "Downloading:   0%|          | 0.00/112 [00:00<?, ?B/s]"
            ],
            "application/vnd.jupyter.widget-view+json": {
              "version_major": 2,
              "version_minor": 0,
              "model_id": "96770839dcd54bafb239c85c224af453"
            }
          },
          "metadata": {}
        },
        {
          "output_type": "display_data",
          "data": {
            "text/plain": [
              "Downloading:   0%|          | 0.00/466k [00:00<?, ?B/s]"
            ],
            "application/vnd.jupyter.widget-view+json": {
              "version_major": 2,
              "version_minor": 0,
              "model_id": "7153f95ec7b34f38b99f3298c0134e74"
            }
          },
          "metadata": {}
        },
        {
          "output_type": "display_data",
          "data": {
            "text/plain": [
              "Downloading:   0%|          | 0.00/350 [00:00<?, ?B/s]"
            ],
            "application/vnd.jupyter.widget-view+json": {
              "version_major": 2,
              "version_minor": 0,
              "model_id": "d8211fbb98c042db8f1e2eeb8643bd7e"
            }
          },
          "metadata": {}
        },
        {
          "output_type": "display_data",
          "data": {
            "text/plain": [
              "Downloading:   0%|          | 0.00/13.2k [00:00<?, ?B/s]"
            ],
            "application/vnd.jupyter.widget-view+json": {
              "version_major": 2,
              "version_minor": 0,
              "model_id": "abff822e8c2e4070a136e7f367f8c782"
            }
          },
          "metadata": {}
        },
        {
          "output_type": "display_data",
          "data": {
            "text/plain": [
              "Downloading:   0%|          | 0.00/232k [00:00<?, ?B/s]"
            ],
            "application/vnd.jupyter.widget-view+json": {
              "version_major": 2,
              "version_minor": 0,
              "model_id": "03c48edf59654b67890bae973b04aa94"
            }
          },
          "metadata": {}
        },
        {
          "output_type": "display_data",
          "data": {
            "text/plain": [
              "Downloading:   0%|          | 0.00/349 [00:00<?, ?B/s]"
            ],
            "application/vnd.jupyter.widget-view+json": {
              "version_major": 2,
              "version_minor": 0,
              "model_id": "f03aead5dce246589a8c290b3c62b1bc"
            }
          },
          "metadata": {}
        }
      ]
    },
    {
      "cell_type": "code",
      "execution_count": null,
      "metadata": {
        "id": "WUA2IClwovkw"
      },
      "outputs": [],
      "source": [
        "#구글드라이브 연동\n",
        "from google.colab import drive\n",
        "drive.mount('/content/drive')"
      ]
    },
    {
      "cell_type": "code",
      "execution_count": null,
      "metadata": {
        "id": "X7rI8Adcovkw"
      },
      "outputs": [],
      "source": [
        "import pandas as pd\n",
        "chatbot_data = pd.read_csv('/content/drive/MyDrive/텍스트이해/emotin_train_dataset_all.csv')"
      ]
    },
    {
      "cell_type": "code",
      "source": [
        "chatbot_data = chatbot_data[(chatbot_data['tag'] == '기쁨') | (chatbot_data['tag'] == '기대') | (chatbot_data['tag'] == '신뢰') | (chatbot_data['tag'] == '중립') ]"
      ],
      "metadata": {
        "id": "ZMPr-INDSKc2"
      },
      "execution_count": null,
      "outputs": []
    },
    {
      "cell_type": "code",
      "source": [
        "chatbot_data"
      ],
      "metadata": {
        "colab": {
          "base_uri": "https://localhost:8080/",
          "height": 424
        },
        "id": "sajkSJpisIVN",
        "outputId": "970f151f-d15e-4d60-ba54-def74aa23e49"
      },
      "execution_count": null,
      "outputs": [
        {
          "output_type": "execute_result",
          "data": {
            "text/plain": [
              "                                               Sentence tag\n",
              "0                                덕분에 주방에서 요리하는게 넘 좋아졌어요  기쁨\n",
              "1                         활동혜택으로 오션월드 입장권 2매까지 주는 폴인러버!  기쁨\n",
              "2                원호 형님 형님이 올해 우리팀으로 온다고 해서 얼마나 기뻤는지 몰라요  기쁨\n",
              "3                                      요리가 차~암 쉽쥬~~~~^^  기쁨\n",
              "4                                      제일처럼 기쁘고 좋은데....  기쁨\n",
              "...                                                 ...  ..\n",
              "6995     사람들은 죽어서도 자손들에게 대우 받고 싶은 인간의 본성이 제사라는 문화로 나타났다  중립\n",
              "6996                            서장훈:도대체 이게 무슨 의미가 있습니까~  중립\n",
              "6997                                  박병호 보다 강정호가 한수 위다  중립\n",
              "6998  아닙니다. 빨리갑니다ㅋㅋㅋㅋㅋㅋㅋ같이출발한 우리 숙모 저랑1시간차이났습니다ㅋㅋㅋㅋㅋㅋㅋㅋ  중립\n",
              "6999                         누나.... 근데 담배랑 좀 어울리긴 해욬ㅋㅋㅋ  중립\n",
              "\n",
              "[4000 rows x 2 columns]"
            ],
            "text/html": [
              "\n",
              "  <div id=\"df-0cf63ed7-c31d-4b4a-8db2-ec38e168881e\">\n",
              "    <div class=\"colab-df-container\">\n",
              "      <div>\n",
              "<style scoped>\n",
              "    .dataframe tbody tr th:only-of-type {\n",
              "        vertical-align: middle;\n",
              "    }\n",
              "\n",
              "    .dataframe tbody tr th {\n",
              "        vertical-align: top;\n",
              "    }\n",
              "\n",
              "    .dataframe thead th {\n",
              "        text-align: right;\n",
              "    }\n",
              "</style>\n",
              "<table border=\"1\" class=\"dataframe\">\n",
              "  <thead>\n",
              "    <tr style=\"text-align: right;\">\n",
              "      <th></th>\n",
              "      <th>Sentence</th>\n",
              "      <th>tag</th>\n",
              "    </tr>\n",
              "  </thead>\n",
              "  <tbody>\n",
              "    <tr>\n",
              "      <th>0</th>\n",
              "      <td>덕분에 주방에서 요리하는게 넘 좋아졌어요</td>\n",
              "      <td>기쁨</td>\n",
              "    </tr>\n",
              "    <tr>\n",
              "      <th>1</th>\n",
              "      <td>활동혜택으로 오션월드 입장권 2매까지 주는 폴인러버!</td>\n",
              "      <td>기쁨</td>\n",
              "    </tr>\n",
              "    <tr>\n",
              "      <th>2</th>\n",
              "      <td>원호 형님 형님이 올해 우리팀으로 온다고 해서 얼마나 기뻤는지 몰라요</td>\n",
              "      <td>기쁨</td>\n",
              "    </tr>\n",
              "    <tr>\n",
              "      <th>3</th>\n",
              "      <td>요리가 차~암 쉽쥬~~~~^^</td>\n",
              "      <td>기쁨</td>\n",
              "    </tr>\n",
              "    <tr>\n",
              "      <th>4</th>\n",
              "      <td>제일처럼 기쁘고 좋은데....</td>\n",
              "      <td>기쁨</td>\n",
              "    </tr>\n",
              "    <tr>\n",
              "      <th>...</th>\n",
              "      <td>...</td>\n",
              "      <td>...</td>\n",
              "    </tr>\n",
              "    <tr>\n",
              "      <th>6995</th>\n",
              "      <td>사람들은 죽어서도 자손들에게 대우 받고 싶은 인간의 본성이 제사라는 문화로 나타났다</td>\n",
              "      <td>중립</td>\n",
              "    </tr>\n",
              "    <tr>\n",
              "      <th>6996</th>\n",
              "      <td>서장훈:도대체 이게 무슨 의미가 있습니까~</td>\n",
              "      <td>중립</td>\n",
              "    </tr>\n",
              "    <tr>\n",
              "      <th>6997</th>\n",
              "      <td>박병호 보다 강정호가 한수 위다</td>\n",
              "      <td>중립</td>\n",
              "    </tr>\n",
              "    <tr>\n",
              "      <th>6998</th>\n",
              "      <td>아닙니다. 빨리갑니다ㅋㅋㅋㅋㅋㅋㅋ같이출발한 우리 숙모 저랑1시간차이났습니다ㅋㅋㅋㅋㅋㅋㅋㅋ</td>\n",
              "      <td>중립</td>\n",
              "    </tr>\n",
              "    <tr>\n",
              "      <th>6999</th>\n",
              "      <td>누나.... 근데 담배랑 좀 어울리긴 해욬ㅋㅋㅋ</td>\n",
              "      <td>중립</td>\n",
              "    </tr>\n",
              "  </tbody>\n",
              "</table>\n",
              "<p>4000 rows × 2 columns</p>\n",
              "</div>\n",
              "      <button class=\"colab-df-convert\" onclick=\"convertToInteractive('df-0cf63ed7-c31d-4b4a-8db2-ec38e168881e')\"\n",
              "              title=\"Convert this dataframe to an interactive table.\"\n",
              "              style=\"display:none;\">\n",
              "        \n",
              "  <svg xmlns=\"http://www.w3.org/2000/svg\" height=\"24px\"viewBox=\"0 0 24 24\"\n",
              "       width=\"24px\">\n",
              "    <path d=\"M0 0h24v24H0V0z\" fill=\"none\"/>\n",
              "    <path d=\"M18.56 5.44l.94 2.06.94-2.06 2.06-.94-2.06-.94-.94-2.06-.94 2.06-2.06.94zm-11 1L8.5 8.5l.94-2.06 2.06-.94-2.06-.94L8.5 2.5l-.94 2.06-2.06.94zm10 10l.94 2.06.94-2.06 2.06-.94-2.06-.94-.94-2.06-.94 2.06-2.06.94z\"/><path d=\"M17.41 7.96l-1.37-1.37c-.4-.4-.92-.59-1.43-.59-.52 0-1.04.2-1.43.59L10.3 9.45l-7.72 7.72c-.78.78-.78 2.05 0 2.83L4 21.41c.39.39.9.59 1.41.59.51 0 1.02-.2 1.41-.59l7.78-7.78 2.81-2.81c.8-.78.8-2.07 0-2.86zM5.41 20L4 18.59l7.72-7.72 1.47 1.35L5.41 20z\"/>\n",
              "  </svg>\n",
              "      </button>\n",
              "      \n",
              "  <style>\n",
              "    .colab-df-container {\n",
              "      display:flex;\n",
              "      flex-wrap:wrap;\n",
              "      gap: 12px;\n",
              "    }\n",
              "\n",
              "    .colab-df-convert {\n",
              "      background-color: #E8F0FE;\n",
              "      border: none;\n",
              "      border-radius: 50%;\n",
              "      cursor: pointer;\n",
              "      display: none;\n",
              "      fill: #1967D2;\n",
              "      height: 32px;\n",
              "      padding: 0 0 0 0;\n",
              "      width: 32px;\n",
              "    }\n",
              "\n",
              "    .colab-df-convert:hover {\n",
              "      background-color: #E2EBFA;\n",
              "      box-shadow: 0px 1px 2px rgba(60, 64, 67, 0.3), 0px 1px 3px 1px rgba(60, 64, 67, 0.15);\n",
              "      fill: #174EA6;\n",
              "    }\n",
              "\n",
              "    [theme=dark] .colab-df-convert {\n",
              "      background-color: #3B4455;\n",
              "      fill: #D2E3FC;\n",
              "    }\n",
              "\n",
              "    [theme=dark] .colab-df-convert:hover {\n",
              "      background-color: #434B5C;\n",
              "      box-shadow: 0px 1px 3px 1px rgba(0, 0, 0, 0.15);\n",
              "      filter: drop-shadow(0px 1px 2px rgba(0, 0, 0, 0.3));\n",
              "      fill: #FFFFFF;\n",
              "    }\n",
              "  </style>\n",
              "\n",
              "      <script>\n",
              "        const buttonEl =\n",
              "          document.querySelector('#df-0cf63ed7-c31d-4b4a-8db2-ec38e168881e button.colab-df-convert');\n",
              "        buttonEl.style.display =\n",
              "          google.colab.kernel.accessAllowed ? 'block' : 'none';\n",
              "\n",
              "        async function convertToInteractive(key) {\n",
              "          const element = document.querySelector('#df-0cf63ed7-c31d-4b4a-8db2-ec38e168881e');\n",
              "          const dataTable =\n",
              "            await google.colab.kernel.invokeFunction('convertToInteractive',\n",
              "                                                     [key], {});\n",
              "          if (!dataTable) return;\n",
              "\n",
              "          const docLinkHtml = 'Like what you see? Visit the ' +\n",
              "            '<a target=\"_blank\" href=https://colab.research.google.com/notebooks/data_table.ipynb>data table notebook</a>'\n",
              "            + ' to learn more about interactive tables.';\n",
              "          element.innerHTML = '';\n",
              "          dataTable['output_type'] = 'display_data';\n",
              "          await google.colab.output.renderOutput(dataTable, element);\n",
              "          const docLink = document.createElement('div');\n",
              "          docLink.innerHTML = docLinkHtml;\n",
              "          element.appendChild(docLink);\n",
              "        }\n",
              "      </script>\n",
              "    </div>\n",
              "  </div>\n",
              "  "
            ]
          },
          "metadata": {},
          "execution_count": 7
        }
      ]
    },
    {
      "cell_type": "code",
      "source": [
        "sentences = list(chatbot_data['Sentence'])"
      ],
      "metadata": {
        "id": "3K3Ov08-SHUl"
      },
      "execution_count": null,
      "outputs": []
    },
    {
      "cell_type": "code",
      "source": [
        "embeddings = model.encode(sentences)"
      ],
      "metadata": {
        "id": "4zxH4UaXYIFe"
      },
      "execution_count": null,
      "outputs": []
    },
    {
      "cell_type": "code",
      "source": [
        "len(embeddings)"
      ],
      "metadata": {
        "colab": {
          "base_uri": "https://localhost:8080/"
        },
        "id": "-UPYT1_1onET",
        "outputId": "9dd4276a-e601-47df-d930-cbc98c3bc054"
      },
      "execution_count": null,
      "outputs": [
        {
          "output_type": "execute_result",
          "data": {
            "text/plain": [
              "4000"
            ]
          },
          "metadata": {},
          "execution_count": 10
        }
      ]
    },
    {
      "cell_type": "code",
      "source": [
        "# clustering\n",
        "from sklearn.cluster import KMeans\n",
        "\n",
        "num_clusters = 4\n",
        "clustering_model = KMeans(n_clusters=num_clusters)\n",
        "clustering_model.fit(embeddings)\n",
        "cluster_assignment = clustering_model.labels_"
      ],
      "metadata": {
        "id": "bHxvVhewYLSA"
      },
      "execution_count": null,
      "outputs": []
    },
    {
      "cell_type": "code",
      "source": [
        "cluster_assignment"
      ],
      "metadata": {
        "colab": {
          "base_uri": "https://localhost:8080/"
        },
        "id": "q8p3PC6BpLdg",
        "outputId": "000dff3c-7d7a-4bbd-d4cf-22da9d905c8e"
      },
      "execution_count": null,
      "outputs": [
        {
          "output_type": "execute_result",
          "data": {
            "text/plain": [
              "array([0, 2, 0, ..., 2, 2, 2], dtype=int32)"
            ]
          },
          "metadata": {},
          "execution_count": 119
        }
      ]
    },
    {
      "cell_type": "code",
      "source": [
        "clustered_sentences = [[] for i in range(num_clusters)]\n",
        "\n",
        "for sentence_id, cluster_id in enumerate(cluster_assignment):\n",
        "  clustered_sentences[cluster_id].append(sentences[sentence_id])"
      ],
      "metadata": {
        "id": "S6RqOe9LYV6j"
      },
      "execution_count": null,
      "outputs": []
    },
    {
      "cell_type": "code",
      "source": [
        "for i, cluster in enumerate(clustered_sentences):\n",
        "  print('Cluster', i+1)\n",
        "  print(cluster)\n",
        "  print(\"\")"
      ],
      "metadata": {
        "colab": {
          "base_uri": "https://localhost:8080/"
        },
        "id": "aywPGa3EYreB",
        "outputId": "4a1a4225-6136-472d-c8b3-0930f00fb522"
      },
      "execution_count": null,
      "outputs": [
        {
          "output_type": "stream",
          "name": "stdout",
          "text": [
            "Cluster 1\n",
            "['덕분에 주방에서 요리하는게 넘 좋아졌어요', '원호 형님 형님이 올해 우리팀으로 온다고 해서 얼마나 기뻤는지 몰라요', '하루에 2만명 넘고 너무 좋겠네요!!', '오빠들덕에 재미있는 크리스마스이브가 이렇게 마무리되서 기쁘고 오빠들도 메리크리스마스!!!', '연아양 본인이 만족하고 행복해하니 팬 입장으로서도 뿌듯하네요.', '신바람 나는 LG!!!', '광희가 잘되서 기분좋네!', '이런 저질프로가 폐지되서 정말행복합니다. 대한민국만세', '진짜 골키퍼 하드케리로 승점5점 땄네 ㅋㅋ', '봐라 결국 돌아오잔니ㅋㅋㅋㅋㅋ', '오랜만에 시원하다~', '이재용이 구속안된게 내가 기분이 좋네 ~^^', '속이 다 시원합니다', '비가 촉촉히 와서 좋네요', '동토의 나라가 이렇게 반갑다니.', '기부를 하는 본인이 더 행복하고 마음이 따뜻해진다는걸~~~^^', '찬성하는 정책이다!', '제가 하고싶었던걸 해주시니 가슴이 뻥 뚤리는 기분이네요', '앗싸 꽃피는 춘삼월 좋은소식 대한민국 방방곡곡 울려퍼지겠네', '태극기 걸은 게 맘에 듭니다 !!!!', '생활속의 작은 기쁨 ㅎㅎ0', '그 여자애가 연예인을 좋아해서 전에 생일때도 앨범을 사줬는데 좋아하더라구요.', '귀가따뜻핼.ㅎㅎ', '꽃다발 하나 선물해 보세요^^~~', '인맥도 환영합니다^^', '오늘은 치즈김밥 줘서덕분에 먹으면서 아침 맞이했다.', '그래도 캐럿이라는 이름이 있는것만으로 만족합니다!', '제대해서 좋아~~~~', '오늘 대박 세일가로 스틱 분유 사가지고 왔어요.', '메리크리스마스!!!!~ ㅋ', '오빠의 행동하나하나가우리에게 즐거움을 주네요.', '무조건 증정이니 해볼만 한 이벤트같네요~', '서용빈선수가 1루로복귀한다니 참으로 기쁜소식이군요.', '나오신다길래 조아서 히히히 다보구 이름을 쳐봤는데 펜카페가나오드라구요^^!', '유재석 오라버니 하늘이 파랗게 있으니 날씨가 좋더라고요', '아 오늘 생일이네요 ㅋㅋ', '세봉이들!오늘 드디어 데뷔600일~~~', '덕을 보네요', '역시 정한이오빠 생일이니까 사진은 오랜만에 정한오빠 짧은머리로~', '새해가 밝네요', '데뷔한지 얼마안된것 같지만 벌써 1주년이 지나고 오빠도 데뷔하고 두번째 생일이네요.', '티비에서 자주뵈니 좋습니다', '제가 오빠를 좋아한건 94년 오빠가 데뷔했을때죠!', '내일부터 추석연휴에요~~ 오빠!!', '오늘은 벌써 제가 오빠를 좋아하게된지 90일!!', '오빠 아까 해투 잘봣어요ㅋㅋ', '그리고 요즘에 너무 뿌듯해요..', '세븐틴에게 지금이 소중한 추억으로 기억되고 있는 것 같아 내가 다 뿌듯하네ㅎㅎ', '오늘 저는 정말 힐링을 했어요!!', '두손 꼭 잡고 들었어요.', '각자 21살, 20살 생일이네요 ,,!', '냠냠냠 모든 음식은 맛있게 먹어야 합니다.특히 야식', '이거 성공하면 우리나라 캐릭터하나 건지는거임!!!', '내가 왔어요 ~ 꺄', '올만에 훈훈한 뉴스네요~', '간만에 좋은소식 들어서 기분 좋네요.', '굿... 꿩먹고 알먹고 누이좋고 매부좋고', '사이다~~~속 시원타', '수원 햇빛 좋다아', '오늘은 일주일동안 기다렸슈~~♥♥♥', '먼가 이 뉴스가 엄청 위로가 된다ㅠ', '나는 운동경기장에서 국민의례할때 국가에 대한 자부심을 느낀다', '첫사랑이 이루어졌네^^', '어느 한곳이라도특출나게 크고 있는 이들이있어 다행이다', '의리 한번 쥑이네~', '안녕하세요~ 박보검입니다~^^♡', '좋은기사..한참동안 읽었네요^^', '같이 얘기하며 일하며 긍정적으로 살다보면기쁨도 있고 행복도 있답니다.', '그와중에도 모두들 질서지키고 평화시위하는 시민의식에 감동받음', '이럴때 하라고 기립박수가 있는겁니다!!!', '라며 공감해주는데말하면 말할수록 그 따뜻한 고마움에 눈물이 나는거있죠 ㅋㅋㅋㅋ', '응원 감사합니다 :)----------------------------------------------------------------------------------출근 07시 30분집에오는시간 12시?', '정말 위로가 필요했는데이 글로라도 위로가 되네요..', '그 무더운 여름날,캐나다에서 땀흘려가면서 노력한 보람이 마침내 나타나는 군요.', '자기 인생을 정말 열심히 살아가는 것 같아요.', '제가 제일 좋아하는 팀인 LG에 오셔서 넘 기뻐요.', '글만 올려줘도 행복한데 컴백하면 얼마나 감격스러울까ㅜㅜㅠ', '오빠오늘은 오빠가 태어난지 7000일되는날이예요!!', '연아선수덕에 저를 비롯한 많은 사람들이 너무도 행복한 시간을 보냈어요', '두산 진짜 대박 ㅎㅎ 이용찬오고 불펜도 더 단단해졌고', '우리 모두가 다 고맙고 좋은 대한민국 국민이구나 싶네요', '한국인이란게 자랑스러운게 이번이 처음', '내 생일 선물인가바', '아직 우리나라는 살만 하구나.', '참 우리 국민들 착하고 또 착하다', '미세먼지에 시달리다보니 장맛비 소식이 이렇게 반갑네요!!', '삼고초려 끝에 오케이해준 에릭 진짜ㅜㅜㅜㅜㅜ 완전 좋다!!', 'MC민지 올해 열일 한거 팬들이면 다알지요!!', '오늘은 하늘이 맑아 감사한 하루.', '수술이 끝나고 면회를 갔는데제 손을 꼭꼭 잡아주셨어요..', '방향이 같고 야자도 같이 해서저 잘 챙겨줘요', '오늘아침부터 도쿄사진보내주는 오빠야 맘씨에 감동했구-♡', '수능을 잘 보든 못보든 막냉이 정한이오빠 애기 찬오빠가 성인이 다 되어가니 감격..', '연아 선수때문에 정말 감동적인 며칠을 보냈어요', '남친이 항상 내가 첫사랑이자 끝사랑이라고 늘 노래를 불렀음 ㅋㅋ', '오늘 무한도전 본방 잘 봤어요 ㅎㅎ!!!', '요리만큼 아내분도 사랑하시는 마음이 느껴져서 정말 좋아요!!', '오늘 서가대 본상 정말 뿌듯했습니다ㅠㅠ', '오랜만에 듣는 아름다운 소식이군요', '9위할줄알았는데 7위해서 너무 감격해서 울엇나봐여 ㅠㅠㅠㅠㅠ', '우리 삼둥이 너무 보고싶었엉~ ㅠㅠ', '부모님을 어느정도라도 이해하고 존중하는 마음을 갖을 수 있다는것 자체가 큰 행운입니다.', '용감한시민상 솔선수범상줘야지', '이제 한곡이라도 나오는것 만으로 땡큐♡', '오늘 드디어 태극기가 좃불을 눌렀다!!!!!!~~~~~', '드디어 ㅠㅠㅠ', 'ㅠㅠㅠㅠㅠㅠㅠㅠㅠㅠ한참기다렸어 준영아ㅠㅠㅠㅠㅠ보고싶었어 어서와ㅠㅠㅠㅠㅠㅠㅠㅠㅠㅠㅠㅠㅠㅠㅠ', '민아때문에 2달동안 행복했어요', '뭉클하다...이런뉴스를 많이 보내주세요..', '새벽마다 도시락을 싸면서 딸에 대한 지극한 맘이 주위를 감동시켰네요', '남미 지역에 코리아 이름을 널리 알리셨군 ~~~', '믿고 기다리고있었지만 떠난다는 생각은 1%로도 안했다는말에 더더욱 감동입니다...', '오늘순산햇어요', '오빠들 저는 오늘 오빠들한테 편지 처음 써봐요ㅎㅎㅎ', '그리고 마지막멘트는 정말 겸손 그 자체였어요,,,', '오빠들이 땀흘려가며 노력한 끝에 1위를 차지하고 난 후 벌써 1년이 흘렀네요.', '오늘이 피겨를 사랑하는 사람들에겐정말 뜻깊은 날 같아요~', '오빠가 상받엇을때가 엊그제같은데ㅠㅠ', '클린연기로 우리에게 큰기쁨을 주네요', '초심을 잃지 않고 소박한 모습이 편안해 좋습니다.**', '와.. 드디어 1주년이네요', '오늘감동이엇어준영오빠ㅠ', '성공 커플 ㅠㅠㅠㅠㅠㅠ', '반갑다 이제 진짜가을이오는겨~~^^^^', '정말 따뜻하고 행복한 콘서트였어요!! 또 봐요. 자주자주 봐요!!', '잘됐다. 얼마나 행복할까. 아기는 축복이다.', '드디어 이런날이 오다니..', '다들 도경수 너무 아껴주는거 한눈에 보인다 ㅠㅠㅠㅠㅠㅠㅠㅠ', '저소득층 아이들을 위한 기부라니 더 감동입니다', '좋은조건이고만!!', '복이가 보낸 웹진기사 읽고 나니가슴이 따뜻해지네....', '안녕....드디어 정회원됐어ㅠㅠㅠㅠ', '자리에 올라 전세계 팬들에게 감동을 ㅠㅠ', '오늘도 뮤작뱅크에서 1위했네요', '김연아 선수를 알게 된 건 행운입니다.', '우와아 왕댯님생일에 6번째 1위라니!!', '역시 무도 멤버들 배려에 감동입니다', '연아양으로 인해 행복했던 지난시간들을 맘속깊이 간직합니다', '티켓팅 성공해써요ㅜㅜㅠ', '최선을 다하는 모습 그것으로 만족합니다.', '자랑스런 대한의 딸 연아양 몸이 떨리는 감격스러움...', '반갑습니다 정준영 ~', '고객을 생각하는마음이 정말 멋지다생전처음으로 대기업한테 감동받아본다', '자기하고싶은 욕심줄이고 팬들의견반영한다는거 감동', '이 기사 좋아요', '맥 운영체제에서도 게임가능하다는거에 너무 감사 ㅠㅠ', '오늘처럼 손님자리 꽉찬적은 처음이다...ㅠㅠㅠ', '좋은 꿈 꾸시고 오늘 아침도 상쾌한 하루 보내세요♡♡', '오빠가 김해 온다니 정말^^I.N.', '형님은 좋은 동료이자 친구들과 아름다운 신부 모두를 얻으셨네요.', '드디어 연아양을 만날수가 있겠군요!!', '안녕하세요 승관님ㅜㅠㅠ', '오늘 첫 1위를 했잖아요?', '오래도록 기다려 왔던 세계적인 한국인 피겨선수! 연아 선수가 우리 나라에 있다는 그 자체만으로도 우리는 감격하고 있습니다.', '오늘 정말 브이ㅇ에서 재밌고 웃기고 활기찬 모습 보여줘서 고맙고 정말...1시간이 1분처럼 빨리 지나간 것 같네요ㅠㅠ', '좋은이미지로 적당한 때 그만둔건 신의한수다.삼둥이 때문에 슈돌이 즐거웠습니다.건강하십시오', '이예쓰! 작가님!! 맞아요!!!!!!', '뻐스기사님들 힘내세요 항상감사드려요~~~', '서울대 인권센터연구팀 너무 감사합니다. ㅠㅠ. 지원해준 서울시도 감사. 저 원본 유네스코에 등재합시다!!!!! 박근혜가 망쳐버렸지만 역사의 증거는 변하지 않으니까요.', '감사히 무 베팅하겠습니다', '그나마 일본 법으로 다룰수 잇는거에 감사합니다', '당신이 남긴 주옥같은 명곡들을 들을수 있음을 감사합니다 ~~편안하게 돌아가셨다니~~~~~', '그리고 쉬지않고 밤낮 고생하시는 택배 기사님들 감사해요', '여태까지 경기하시면서 최선을 다하시는모습 감사합니다', '항상 매주마다 유느님 모습들이 재밌게 보여주시니감사합니다', '그리고 1004까지 갈 수 있게 해주신 예지력 회원 분들께 감사드립니다', '그래서 항상고마워요♡!', '항상 반짝반짝 빛나고 있고 진짜 제 가수가 되어주셔서 감사합니다.', '우리를 17년동안 기쁘게 해주셨는데 우린해드릴게 없네요', '공포스러운 최순실 처단해주는 특검에 오늘도 삼성은 감사해야한다.', '멀고 먼 타지에서도 대한민국 국민임을, 잊지 않고 활동해주셔서 감사합니다.', '만세ㅜㅜㅜㅜㅠ탈큡만세ㅜㅜㅜㅜ쉽지않은 결정이였을텐데 너무 고마워요', '그 특유의 유쾌함이 참 팀에 많은 도움을 준다. 고마워요~', '앞으로 30년을 더 살면... 감사합니다.', '여러분들은 어떻게 참으시는지 알려주심 감사하겠습니다.ㅜ', '힘들고 지칠 때도 많았을텐데 늘 밝은 모습으로 와줘서 , 캐럿이라는 이름을 행복하게 해줘서 고마워요', '항상 집에있는 재료로 새로운 음식을 만들게 해주는 레시피 감사드려요 ^^', '요리라고까지 말할수는 없지만음식 만드는것에 자신감을갖게해준 백선생님 최고감사합니다', '마지막까지 최선을 다하시고 멋진 경기 정말 고마워요', '늘 집에서 해 먹을 수 있는 요리 레시피 감사히 잘 받아 사용하고 있습니다.', '세븐틴에서 있으면서 캐럿들이랑 함께해주는것도 고마워요', '백주부님 레시피로 맨날 요리해주는 울 남푠저도 열씸히 배울려고 노력중이에요늘 감사드려요', '대한민국의 건강을 위하여 항상 연구하시는 님의 노력에 감사드려요.', '하루살이 가을야구... 생명연장!!! 고마워요 오지사또 ㅋㅋㅋㅋㅋ', '고마워요... 한국 정부보다 낫네', '전국에 계신 생다남,생다녀여러분 늘, 감사합니다.', '지금은 아직 최종결정은 안 났지만, 좋은 소식 생기면 연아선수에게 꼭 감사할 거에요~~', '느님결혼 후 10년 동안 못 느낀 요리에 재미를 느끼게 해주신 백주부님 감사합니다.', '외식을 하는 삶에서 ,,,,집밥을 할수 있게 해주신 백선생님 너무너무 감사드립니다~~', '세븐틴 사랑하고 고마워요??', '세븐틴 내가수가되어줘서 고마워요', '늘고마워요', '감사합니다 조의연판사님 당신덕에 아직 대한민국은 정의가 살아있는듯 합니다 (꾸벅)', '박원순 서울 시장님 그리고 제일 고생하시는 종사자분들 항상 감사합니다', '졌는데도 안다치고 경기끝나게해준거에 감사해라', '징글징글하게 니가 안미워서 큰일이다 나도,그래도 태어나주고인연이되어 만났던 거난 감사해.', '같은 거 추천해주시면 감사하겠습니다.', '언제나 지금처럼 성장하고 우리를 위해 노력해주는 모습 보여줘서 너무 고마워요', '연습생활할때 좌절할때도있엇게지만 다극복하고 데뷔해줘서 고마워요ㅠㅠㅠ', '시즌동안 최선을 다하는 멋진모습 보여주셔서감사하구요,', '연아 선수가 우리 나라에 존재 한다는 것이 너무 감사하고 고맙기만 합니다.', '성공하든 실패하든 요리에 첫 발걸음을 떼게 해준 백주부님 감사합니다.', '이제 며느리 없을 때도 밥은 굶지 않겠구나싶어 감사 드리고 싶습니다.', '힘들고 아플텐데 캐럿들 앞에서는 밝고 활기찬 모습 많이 보여줘서 고마워요.', '항상 밝게 세븐틴 이끌어가줘서 고마워요', '전주가 참 살기 좋은 동네였군 좋은 정보 감사', '어제 밤 고생하시면서 평화로운 시위문화를 만들어 주신 분들께 감사드립니다', '뭐든지 있을때 소중함을 알고 감사해하며 살자!!!!', '남자친구가 군인인 여자분들은 물어봐서 알려주시면 감사해요', '제목좀가르쳐주시면 감사하겠습니다;;0', '참여해주시면 감사합니당 !!!!!!!!!!!!!!!!!!!!!!!!!!!!!!!!!!!!!!!!!!!', '언제 어디서든 백선생님 보면서 감사한마음으로 레시피를 따라해봅니다.', '그런 재능이 연아선수에게 있음이 감사합니다.', '의도하시진 않았겠지만 감사합니다♥♥', '솔로인 특히 남성들에게 음식 조리를 해서 먹을수 있는 방법을 알려주어 감사하고 ^ㅎ^', '영화관에서 자주볼수있게되어서 기쁘네요.', '6.25때 안살아봐서 모르겠지만 전쟁때 폐허가 된 우리나라를 도와줬다는데에 대해서 깊게 감사드립니다!', '감사합니다 오늘 치맥파티합시다', '시청자들도 진심으로 기뻐하고 환호했다ㅋㅋㅋ', '정말이지 선수들의 기뻐했던 모습들..', '20번째 생일을 맞이하셔서 무지 기쁘실거예요.', '???????????첫팬미팅기간에 오빠생일이 겹쳐서 되게기쁘겠네요', '우리 지환이가또!!! 추석에좋은소식 감사용', '양철로봇의 애절함도 통했다는 것이 더 기쁘다~~', '우리모두 준혁이성과 LG선수들이 선전할수 있게 기를 넣어줍시다.', '글구 지호 100일도 축하해요...ㅋㅋㅋㅋㅋㅋㅋㅋㅋ', '글구 지호 100일도 축하해요...ㅋㅋㅋㅋㅋㅋㅋㅋㅋ', '예D ~ 500일 축하해요', '예D ~예밤 300일 너무너무 축하해요 ^^', '화이팅!!^^', '800일 축하해요', '붐붐 1위한거 너무 축하해요 !♡', '앞으로 언제나 캐럿들이 함께 있을게요!', '건강한 하루요~~~', '7500일 축하해요', '*^^*최만호 화이팅~ (^^)/', '돈(데프콘형님 패러디^^)화이팅~!!', '방동민 선수 화이팅!', '응원할게요^^', '나이에두 상관없이 진짜 열씨미 뛰어주는 울 용수 아자씨 홨팅임다!!', '날씨는 춥고 행복한 일도 없지만 그래도우리모두 화이팅 입니다.', '백주부님 응원도 하구요', '나도 외국에서 응원할게', '어색하면서도 건방지지만 병풍같고 항동이 형돈형님 정말 축하드립니다 ㅋㅋ', '연아양은 마음도 넓고 굳세니 잘 할거임^^', '다른 사람들이 오빠보고 다 진상이라고 해도 전 오빠를 좋아할꺼에요', '그럼 오빠 오늘 하루도 행쇼~♥', '항상 응원합니다♥♥♥', '세븐틴 보컬팀리더, 천재작곡가 울 지훈 생일축하해요', '화이팅 김연아 선수♥ 항상 당신을 응원합니다~', '행님이 열애설이 진짜라면 축하드리구요..', '연아 화이팅 대한민국 만세!!!', '암튼 올시즌 첫 홈런 축하드립니다~~~', '안뇽~오늘 더쇼 1위 진짜진짜 축하하고!', '김연경 화이팅!!!', '유시진대위 또 이걸 해냅니다~^^', '올해는 케베스의 해였네 누굴줘도 이상하지 않아. 다 인정이야', '수지 힘내세요!!♥♥♥', '고경표 흥해랏^^~~~~', '육성재 화이팅!!! ㅠㅅㅠ', '신범죄구단 엔씨 ㅋㅋㅋㅋㅋㅋㅋㅋ 축하한다', '기부천사 스크!!!', '성노을, 화이팅!!!', '조기에 빠른 대처를 하신 기장 및 승무원 그리고 지시에 따라주신 승객까지.. 모두 잘하셨습니다!', '너무 잘하는데 더더 잘되라~!ㅎ', '얼굴부터 마음까지 예쁜 우리 지원언니! 응원할게요!!!', '임신이면 누가 뭐라하냐? 둘다성인인데 축하할일이지!!', '태현아 아직도 안믿기지만 항상응원할게♡♡♡', '특검잘하고있다!!!', '멋지당 랄프 화이팅 오래 살아랑', '나나이쁘다 ㅠㅡㅠ 잘되서 흥하길!!', '무조건 본다~~~^^라미란 파이팅~-ㅎㅎ', '응원합니다!!!! 꼭 대상받으시길♥', '역시 이대호~ 알아서 잘해주네요~~ 쭉쭉 갑시다ㅎ', '김현수화이팅!!!항상응원할게요!!!!!!', '잼나겠어요~ 민경훈도 화이팅', '홈런에 무너져버렸네엔씨축하드려요', '엘지 화이팅입니다!!', '김종민씨 진심으로 축하드려요~ ㅎㅎ1박2일~대박나세요 ㅎㅎㅎ', '두 분 축하드려요! 나도 결혼하고 싶다 ㅜㅜ', '우리 서중원 변호사님 최고라지요!!', '손흥민...토트넘의 승리...!', '와 추카추카 작감배 다들 덕분에 드라마 잘 보고 있어요.', '멀리서나마 응원하고있어요 ㅎㅎ', '올해 한번 일내보자~~김성근 감독님, 오간도, 한화이글스 화이팅!!', '넥센 화이팅', '그래 김종민하나줘야지 축하합니다', '규현 화이팅♡', '멋지고 자랑스런 우리 국민!!', '국군장병전우들아 수고해요 ~ㅋ', '다들 응원 열심히 해봐옹ㅎㅎ~~', '우리 다 잘될거에요!', '지난 삼성전에 6실점하고 승리하신것 넘 추카추카 드리구요', '우리모두에게 진정한 도움이되는 셰프님 - 국민셰프님 입니다.', 'v오빤 언제나 저에겐 최고에요 , 오홍홍', '건강하시고... 행복하세요!!', '끝까지 응원한다 성운이!!', '세븐틴이랑 정한님께 조공을 바치며 살아가겠습니다...', '응원할게요~새해복 많이 받으세요!! ㅋㅋ', '항상 팬들이 응원하고잇답니다..', '연아선수 너무너무 수고많았어요!!!', '우와 이번활동 많~이 수고했어요ㅠㅠ', '다시한번 추카추카~~', '유재석 Jr.의 탄생을 축하드려요~', '백주부님 파이팅 입니다 ^^', '아시아투어 건강하게잘갔다와요!!', '안병원선수의 LG팬으로써 진심으로 축하 드리구여.', '그리고 실검 1위도 축하해요????', '병규형은 언제나 최고였고 앞으로도최고의 선수일거예요.', '화이팅!!!', '민규야아아아아아아아아ㅏㅏㅏㅏㅏㅏㅏㅏㅏ진짜넘넘 진심으로 너의 탄생일을 추카한다ㅠㅠㅠㅠ', '그리고 새해 복많이 받으세염 ㅋㅋㅋ', '형돈형님 사실이면 축하드립니다', '항상 건강하시고이번 우승 축하합니다^^**', '(세상에 어떤일이 있더라도 저에게 있어서는 연아양이 최고입니다.!!)', '홧팅!^^', '그러니깐내가 초4학년때부터 형을 좋아했어요!!', '마지막으로 다시 700일 축하해요????', '일단 400일 축하해!!', \"앞으로도 영원히 '유재석'이라는 사람을 사랑할것을 맹세합니다\", '세상에 하나뿐인 든든한 총괄리더 승철아생일 축하해.', '연아선수!!! 화이팅!!!ㅎㅎ', 'LG화이팅....김민기 화이팅', '오빠들 일위축하해요!!!!', '시간이 늦었지만 오빠 생일축하해!!', '세븐틴 만세만세만만세!!!', '다비켜 우리준휘오빠가 최고야ㅜㅜㅜ', '새해 복많이 받으시고올해도 건강하시고홧팅하세요^^', '화이팅!!!!!!!!!!', '언제까지나 응원하고 기억할께요!!!^^', '연습생때는 그냥 빨리 데뷔했으면 좋겠다했는데 이젠 일위도하고 너무 자랑스럽당!!', 'ㅎㅎㅎ예쁜 아기랑 행복하게 사세요~~~', '힘내세요 김승회 선수', '역시 설날엔 설날두', '기아가 내년에 우승하겠군요, 축하합니다.', '와 대박 지디 화이팅^^', '보성형님.. 의리 !!!', '계주는 역시 방탄소년단!!!', '기아 타이거즈~!!!♡♡♡', '역시 한국이 제일 안전해 ^.^', '항상 응원하고있어요~!', '좋은 연기 보여주세요 응원 합니다^^', '준비 잘해서 좋은 멤버들이랑 데뷔했으면 좋겠다!! 도댕 응원합니다!!', '블핑이들 축하해~~~!!', '앞으로는 행복하렴.', '평화로운 시위로 믿음을 만들었기에 가능했다고 봅니다!', '엘지 추카해요 기아몫까지 최선을 다해 좋은결과얻길^^', '15년전 영종도 칼국수 집에서 뵜었는데..건강하세요^^~♡♡♡', '내 아들도 재학생(군복무중)으로 자랑스럽내요', '오 선택잘했다 롱런하길~', '송송커플 대상 응원합니다!!!!!!!!!!', 'NC 코리안시리즈 진출 축하드립니다.', '나의 멘토이자 우상 창정이형 화이팅~~~행복하세요~~~', '응원합니다. 화이팅', '신정환 복귀 찬성~~!!', '당잠사 화이팅', '황덕균선수 축하합니다진정한 프로인간승리', '대한민국 사법정의를 바로 세우기 위해 밤낮없이 일하시는 법관님들 존경합니다. 화이팅', '대한국민 만세', '강한울 선수 그동안 기아에서 정말 수고 했어요~~삼성 가서도 응원 많이 할께요~^^홧팅!!', '헐 . . .왠일 ! 2년동안 ??대박 . . . . . . 너무 축하드려요♥선남선녀', '우리대한민국 국민들 정말 위대하십니다.', '3주간 너무 재밌었어요 1박2일 만세', '밖에서 일하시는분들 힘내세요 ^^ 화이팅', '콧끝 찡하게하네요...김보성 화이팅!!!', '당연히 받을줄 알았다 이젠 대한민국을 대표하는 에이스 투수!!!', '박태환은외압에 굴하지 않고오뚜기처럼 일어선대한민국의 진정한 영웅이다.', '위대한 대한민국 민중의 역사적 승리의 날로 오늘을 기억하라!', '잘한다~~♡♡♡', '잘 됐네 성공 하시길', '트럼프 형님 축하 ㅋㅋㅋㅋㅋㅋㅋ', '힘들게 돌아온길...좋은결과로 이어졌으면 좋겠네요. 김혜동선수 화이팅!', '비투비 화이팅 ㅠㅠㅠ 1곡마저짤렸지만 계속응원할께요!ㅠㅠ♡', '힘내세요 2017년 화이팅!', '첸도 기부했는데 ㅎㅎ 역시 친하게 지내는 그룹끼리♡ 방탄분들 마음씨 너무 착하세요!', '기대해봅니다~~김사부 화이팅!!', '소연씨 지금도 충분히 잘~~하고 있어요 -♡- - ★★★★★- 홧팅!!', '하시는 사업 항상 응원합니다~ 젝키 투잡 하신다 해도 찬성입니다 ^^', '감독님 수고 많으셨습니다', '착한사람이 잘되는 세상을 꿈꾸며 박보검 언제나 응원합니다~!!', '용감하고 정의로운 여성분이시네요..', '국민의당 잘한다..응원합니다', '수고하시는 특검에 응원을 보냅니다', '대한민국만세다^^', '소수만 걷는 꽃길이 아니라 국민이 걷는 꽃길이라니... 용기에 박수를 보냅니다!! 그것도 mbc사장 앞에서~ 멋집니다.', '참 흐뭇하네여 삼성에서골든글로브받길응원함다', '화이팅 트럼프.... 만세...', '역시 국대 에이스다...!!', '13번받아도전혀부족함이없고 오천만이인정한 진정한대상입니다', '당연한 1위!!!', '헌재 재판관님들 고생많으십니다.', '국민들모두 멋지십니다.', '와 추카추카~~꼭 건강한 아기 순산하시길요~~', '특검팀 힘내세요 !!!!', '다들 힘내시길 바래요 ㅠ', '그렇게 허리부상이 있으면서도 열심히 하시고!', '건강하게 몸 관리 잘 하시고언제나 그랬듯이 최선을 다하는 모습이 보물 같습니다.', '물론힘들고 어려운 것이지만 그래도 마음만으로라도 도전하고 싶은마음이 들게 해 주셨네요', '백주부짱!!!', '선수들의 팀웍에 감동했고 성적에 한번더감탄했습니다.', '정말 열심히 준비했구나 하는 생각 뿐이었어요~~', '당신의 500일 축하합니다!', '언제나 힘이 되도록 지켜보고 있을께요~!', '작은힘이나마 백주부님 응원합니다...', '새시대를 주도해나갈 사람 연아양 !', '이번 시즌 첫 우승을 축하 합니다~!!!!', '해낼줄 알았어요....', '든든한 5천만국민들 그리고 세계여러나라에 있는 연아선수 팬들이 항상응원하는거 알고계시죠?^^', '더 멋진 경기 할 수 있도록응원의 박수 .......', '웃기는것도 중요하지만 건강이 젤 우선이란거 항상잊지말고 건강도 챙겨가면서 큰웃음도 함께주셨음 좋겠어요!', '당신이 편안하시길 ...', '연아양 너무 자랑스러워요~', '연아선수.. 정말 수고했어요~', '김성근 감독님의 뛰어난 데이타와 지도력에 박수를 보냅니다...', '엑소 너무 인성도 좋고 애들이 착하기도 하고 밝아서 보기 좋았습니다 앞으로도 응원합니다', '넥센 그들은 진저한 영웅이다', '박초롱 윤보미 정은지 손나은 홍유경 김남주 오하영 에이핑크♡핑크판다 영원하자!!', '엑소처첨 밀린셀러 꼭하는 가수가 될길바래여~', '국민이 신뢰하며 보고있는 방송..응원합니다', '방송으로 봐도 참 착한 청년같다 이런 사람들이 더 잘돼야지~', '세단어 노래 정말 감동이에요. 꽃길만 걷자구요~~^^', '애국지사의 죽음이 헛되지 않도록, 남은 애국국민들은 목숨걸고 대한민국 지키겠습니다 !!', '힘내세요~어릴때부터 팬입니다!!!', '구조 하느라 수고 많으셨어요 ^^', '정말 국가의 영웅이다 이정도면 대접해줘도 된다고 생각한다', '마리..너무 귀여운 악녀였어요. 임세미씨 앞으로 응원할게요~!', '종석이 ㅠㅠ 강철 진짜 사랑해요', '영화의 한장면 같네요,,정말 축하합니다~~^^', '오늘 드디어!!! 홧팅!! 1위 꽃길 예약!!!젝키짱!!!', '감동주는 촛불광장이추운날씨에 대단하신국민들!!', '장시간 운전하는 것도 힘든데~당신들 같은 분이 계셔서 우리 아이들에게 미래가 있습니다.멋지네요~', '조정석 너무 좋다!!!!!앞으로도 응원할게요~', '왜 잘생겨보이지? 대접받을 충분한 자격되십니당~ 항상응원해요~', '모처럼 시원한 사이다 소식....^^박영수 특검님 .....화이팅!!!!!!', '항상 응원하고 있습니다~~^^', '감동주는 깊은연기 대상감!!충분합니다 앞으로도 좋은연기 부탁요 축하합니다', '트럼프 만세!!!!!잘한다 트럼프!!♥♥♥♥♥♥♥♥♥♥♥♥♥♥♥♥♥♥♥♥♥♥♥♥♥♥♥♥♥♥♥♥♥♥♥♥', '축하하고 역시내오빠들', '묵묵히 자기의 소명과 사명을 다하신민주화의 성지 경찰관님들 존경합니다', '가장 좋아하는선수중 한명 제라드선수 항상 응원할게요', '북한놈들때문에 보초서고 있는 군인들 한테 고맙다.', '진심 종이 틀려도 당신은 존경한다...진심으로', '진정아빠다ㅠ 진정한 아빠', '부산시민 여러분 훌륭하십니다!!!쵝오!!', '당신은 영웅입니다 영원히 ~~', '신지님이 스승이라해주며 따뜻함이 느껴지는 사람 김종민씨 축하드립니다.^^', '한때 구설수도많았지만 두분 정말 응원합니다.', '찬헌아 첫승 축하해 ㅎㅎ', '아주안된다고하면 진짜방법없는거지만서도여튼 오늘하루종일 고마워..', '왜냐면 우리들이 믿는만큼 오빠도 스스로를 믿으실테니까요.', '재현빠 화이팅!!!', '힘들때마다 전세계의 수많은 팬들이 뒤에서 지지하고 기다리고 있다는거 생각하면서 잘 견뎌내줬으면 좋겠어요.', '멀리서 응원해요...', '무엇을 하든....언제까지나 연아선수를 마음으로 응원할게요!', '차기 국민MC 형돈이 화이팅~', '이땅에모든 부모님, 존경하고 사랑합니다.-', '온 국민이 연아양의 아름답고 멋진 연기를 바라보며 불황인 지금 현실에서 희망을 안아 봅니다.', '늘~ 감동을 주는 경기 잘보고 있습니다...', '그저 건강하게 마음껏 소치의 경기장에서 잘 마감하시길...', '쭉응원할께여 ㅋㅋㅋ', '보컬팀의 리더이자 세븐틴 노래의 프로듀싱을 맡고있는 우(리)지(훈이)!!', '도니오빠도 하는 일들 모두 실타래 처럼 잘 풀렸음해요^^', 'jtbc.. 대한민국의 희망입니다', '너무나 착한 마석고 학생들.. 복받을 거예요. *^^*', '특검을. 믿습니다. 화이팅', '추운날씨에 진압하신 경찰들도,집회에 참석한 시민들도 고생이 많으셨습니다~~~', '박보검 눈물의 최우수상 같이 울었네요~축하해요 보검이도 송중기도요~♡', '네 그래야죠 뭐라하든 신경쓰실거없습니다 지금까지해온것처럼만 잘준비해주세요!!힘내세요 특검!!', '원더걸스 1위 축하합니다 ♡♡♡', '고공폭격기 클로제형님 그동안 수고하셨습니다', '빤형 혜자 계약 인정합니다', '깨끗해지고 정상이 정상인, 국민이 주인공이 되어가는 이 나라가 자랑스럽습니다.', '승패와 상관없이 박수!', '인정!!!!!!!!', '특검화이팅!!!응원하고있습니다', '김동현 선수 아주 존경해~^^*', 'Jtbc 항상 최선을 다하는 모습 존경스럽습니다♡계속해서 응원하겠습니다!!!', '대박!!! 응원합니다. 박영선의원님', '너무 잘 어울리네요 행복하게 사세요', '경수야 응원할게!!!!!!!', '패션모델인줄..ㅎ 여튼 지지합니다!!', '우리국민들아직죽지않았네요~!화이팅!!', '좋은 일 하시네요!세월호 진상규명될때까지저두 응원 합니다!', '다시 삼성으로 돌아오셨군요 투수들 지도 잘 부탁드립니다', '이것이 참 대한민국이다~! Go Korea ~~~!!!', '존경합니다. 말그대로 피나는 노력...ㅠ', '소혜 화이팅!!', '가을야구를 해서가 아니라 그 노력과 정직함에 박수와 응원을 보냅니다 사랑해요♡', '성숙한 민주주의를 이뤄가는 국민이 자랑스럽다!!!!', '현희씨 응원합니다 밝은 모습과 글솜씨에 감탄했어요', '특검 화이팅', '우리나라의 힘입니다.', '간바레 화이팅!', '진짜 쇼챔 1위 못할까봐 심장 쫄이면서 기다렸는데 1위라니 정말 수고많이하셨어요ㅠㅠ', '언제나 매 게임게임마다 최선을 다하는 모습을 보면...', '전 영원한 재석오빠의 팬이니까요!', '방송일 잘 하시라구요..', '전 lg와 선수들 글구 울 재현오빠를 믿습니다!!!', '진심으로 바라겠습니다..', '당신의 그 선택들은.. 항상 옳았을꺼에요..', '그래도 오빠 열심히 하시고요.', '정말 정말 연아양 자랑스럽습니다.', '이번 마마무대 준비하시느라 수고많으셨고 또 컴백준비하시느라 바쁘실텐데 다치지말고 화이팅!', '응원합니다.', '정형돈씨는 팬들이 지키는 개그맨이잖아요. ㅋㅋ^^', '내가 많이 사랑해요????', '맘속으로 오빠응원하고끝나는데로 바로 카페들어갈게요!♥', '언제나 항상 밝은모습으로 열심히 노력하시는 모습을 보니 정말 수고 많으셨습니다.', '그리고 이상훈 선수..모두 너무 열심히 하셨고..', '올한해 연아양 덕분에 피겨도 알고 연아양 연기보면서 항상 마음이 어려울때 도움이 됐어요..', '오빠들,캐럿들은 오빠들을 항상 믿어요', '영원한 우리의 메뚜기 영원하라~~', '연아선수는 저를 제가 더 좋은 사람이 되고 싶게 만들어요..', '전믿습니다!!!', '특검 화이팅~^^', '국민들이 역사가 당신을 기억합니다. 정말 수고 하셨습니다.^^', '좋은곳으로 가길바란다 은비야', '항상 응원합니다 태호피디님짱', '손흥민 다시 훨훨 날아다니길 응원한다', '연기력 매력 최고 앞으로 승승장구 하시길...', '보검이팬이데 어제 보고 송중기까지 좋아짐ㅎ두분 응원합니다♡', '수고하셨습니다. 염갈량..', '안과 밖에서 바쁘네 힘내라 대한민국!', '콜롬비아 산토스프리지던트 평화의경의를 표합니다.', '수지 항상 활동 열심히 해줘서 너무 고마워 건강 조심하고 항상 행복하길 기원할께~', '태후모든출연진들축하?송송대상인정', '역시나 울보검님...멋지십니다..항상 응원할께요^^♡', '소방관님들 정말 자랑스럽습니다', '응원합니다 아베 신조', '환경칼럼이나 그린피스 정기후원이나 홍보활동도 그렇고 꾸준히 하시는거 보기 좋아요ㅎㅎ 영화들도 대박나길!', '기사를 다 읽게 하는 멋진 기자 !! 화이팅', '이거에 그리 기여한바는 없지만 너무너무 축하해요 ㅠㅠㅠ', '들어갈때나 나올때를 아시는분 감독님 사랑 합니다 늘 건강하세요...', '눈물이 핑^^아빠 화이팅~~', '수고했어요 개리씨 보고싶을꺼예요♥', '이쁜사랑 하시길~~~^^', '김승회선수 어느팀에서나 항상 응원합니다', '힘내세요 응원하겠습니다', '대한민국만세이재용회장님만세', '교민들 최고다!', '특검이 틀리지 않았다는거 국민들은 압니다ㅠㅠ 힘내세욧!', '특검은 대한민국이 응원합니다.', '의리의 아이콘 !!', '변희재 정미홍 김진태 여러분 진심으로 존경합니다', '대한민국 국민들 자랑스럽습니다...', '진짜 열심히한다 칭찬해', '연아 선수 그대는 하늘이 이 나라에 주신고귀한 선물입니다.', '예밤라디오(장예원의오늘같은밤) 애청자로서 뿌듯(?)했고 자랑스러웠어요!!', '연아선수의 끊임없는 열정과 노력을 본받고 싶습니다.', '저는 김연아 선수를 존경하는 고2학생입니다.', '백쌤께서도 울나라 새로 떠오르는음식계 조리사계 태양으로 우뚝 서시길~~~~ 바랍니다', '컨디션이 좋지 않은 상태에서도 우승을 한 김연아 선수에게 아낌없는 박수를 드립니다..', '13개의 보석인 오빠들.', '늘 열렬히 응원하는 아빠나이 아저씨입니다.', '승패를 떠나서 열심히 해주시는 여러분들을 보러 저희들은 야구장에 갑니다~!~!', '언제나 당신 곁엔 모든 lg트원스 펜들이 함께할 겁니다.', '^^항상 건강조심하세요~', '힘들텐데 봉사까지 하시고 정말 훌륭합니다', '응원해드려요~~!!', '밥도 꾸준히 잘 먹고 건강관리 열심히해서 좋은 모습으로 쇼케이스때 꼭 보길 희망하고, 늘 응원하고 빛내줄께요!', '항상 청량폭발하는 메인보컬 도겸오빠 7400일 너무 축하하고 컴백도 축하해요!', '마지막 공연까지 힘내시고 좋은공연보여주셨으면 합니다.', '묵묵히 수고하고 있는 경찰및 의경도 소중한 우리 국민입니다.', '박근혜 각하 덕분에 국민들이 쉴 수 있습니다', '오늘 콘 최고였어요!! 프로 우리 메보!! 아프지 마여ㅠㅠ', '대한민국을 들썩이게 만들었던.. 도깨비.. 안녕.. 고마웠어♡', '역시 낭만닥터김사부 역시 한석규 축하드리고 앞으로도 좋은연기 보여주세요^^', '나지완! 난 너랑 함께할께^^ 모두 널 주목하지않고 있지만 움츠려들지말고 어깨펴!! 내년에 어디서든 활활 날아보자^^', '아이구밤새고생했쑤다', '박명수씨...복 받으시길. ..', '야신은 항상 옳다....', '대상축하해요~! 강철연기너무좋았어요', '어제 너무 재밌었음 빅뱅 홧팅~^^', '크 배운신분들', '경건한 치느님.. 치멘 ㅠ', '축하합니다~ 두분이서 이쁜 사랑 하시고 좋은 결실 맺었으면 좋겠어요. ^^ 진짜 잘 어울리시네요~', '오바마 대통령님 존경 합니다', '수민언니 보니하니 MC햇으니까 음악중심 MC도 잘할것 같네요!!화이팅!!', '대한민국 국민의 위대한 승리입니다', '보성이 동생 존경합니다....소아암 환자 를 돌보는 당신 아름답습니다...', '축하합니다^^ 내년에도 화이팅!!', '진짜 모범적인 연옌 부부가 될거 같아요추카드려요', '손흥민 선수 응원합니다', '바리바리 양세바리 쵝오!!', '내생에봄날 에서 여주 했었자나요 잘했었어요 잘할거예요', '우리세자저하이영앞으로도 꽃길만 걷기를', 'ㅋㅋㅋㅋㅋㅋ 수원팬인데 진짜 서울 우승 축하합니다', '자랑스러운 대한민국', '추운날씨 광장에 나간 우리 시민들께 경의를표함', '우리나라국민으로 특검 을 믿습니다!', '진짜 우리나라 국민들 대단하다!!', '남격에서 봤을때부터 응원했습니다!', '잘한자 잘한다 잘하고 있다 칭찬해주고 싶다..', '그래도 이번 시즌 고생 많았습니다', '당신들의 애국심은 존경합니다.', '앞으로도 힘내시고 화이팅이요~^^♡', '준플레이오프 출전 미리 축하드립니다...', '진짜 당신들의 취재력에 박수를 보냅니다.', '마지막까지 안울고 다른 연습생 진심으로 축하해주는게 느껴지더라', '최동수 화이팅!!', '저는 늘 연아선수를 믿습니다..', '이상한 소문이 돌아도 1 위 가수 세븐틴이 아니라도 항상 내 가수여서 고맙다는 생각을 하고 있다는 거 기억해줬음 좋겠어요', '정말 최선을 다했어...', '언제나 응원하는 팬이 될게요^^', '저는 엘지만을 응원하고 엘지의 선수들을 조아할것입니다...', '저에게 요리의 희망을 주신분이기에 사랑할수밖에 없는 멋진분입니다', '항상 건강하시구요', '전 장문석선수를 믿습니다...', '당신의 노력과 열정...', '내일도 소마는 야구장에서 박용택 선수님 응원합니다 ^^', '서로만 믿고 같이 나가자', '오~~예 박그네 대통령님 good ---!', '애플은 위대하다. 고 스티브잡스 존경합니다', '내년에도 박보검의 열일을 응원합니다', '어떤 결정을 어떻게 내리든 언제나 응원하고 함께할께요', '특검 힘내세요~~', '믿고보는 jtbc 응원합니다.', '무한도전 오래오래 함께해요 우리~', '수고하셨습니다 당신은 최선을 다 했어요', '대단하시네요.. 열흘동안힘드셨을텐데', '다행이네요 남은생 별탈없이 잘지냈면 좋겠군요', '응 니들은 하지마형이 다즐기고 다닐께 고마워', '새해에도 건강하고 콘서트 많이 해주세요. 응원합니다. 민경훈 화이팅', '특검 ㅡ화이팅 ~~^^♡', '아ㅜ아버지 어머니들 힘내세요..', '필 선수 그동안 정말 고마웠습니다, 앞으로도 꾸준히 좋은 성적 내주길 응원합니다', '낼 생일이라 함 가보려구요..ㅎㅎ~~', '울 도니오빠는 일등 신랑감!', '팬클럽창단식해염!!!!!!!!!!ㅋㅋㅋㅋㅋㅋㅋㅋ', '내일과 또 제가 가는 내일모레 팬미팅도 멤버들과 캐럿들과 함께 즐거운 추억 많이 만들어요~~', '진짜 많이 기다렸던 공카가 드디어 열렸어요', '2016년 마무리 이쁘게하고 2017년은 또 새롭게 같이 시작해봐요??', '음식도 웃으면서 기분좋게 만들어야 더 맛있죠?', '저두 재현오빠 무지 좋아해여 ^^---------------------', '그리고 발렌타인데이♡ ㅎㅎ', '게다가 곧있으면 생일!!', '한시간 동안 재밌게 잘 볼게요', '이 젊은이들이 있기에.... 아직은 희망을 가져봅니다....', '이제시작이다!!', 'SES 노래는 지금들어도 정말 좋은데 다시 재결합을 한다니까 너무 기대되네요!', '오호호호 ! 내일 하는군욥!', '어제 너무 재밌게봤어요!오늘도 기대합니다!', '좋은 관계 잘 유지하세요. 결혼까지 가면 좋지만 ...^^', '리얼 기대기대 믿고 봅니다 ♡', '준영아! 앞으로 많이 행복하자', '기아가 승리한다.ㅇㅇ', '서영주 배우 응원하고 기대합니다!', '믿고보는 팀 버튼 감독님 빨리 보고싶다', '기대기대~~왕기대~', '기사를 잘 쓰시네요 ㅎㅎ 구르미 본방사수~', '크면 좋은것이다..아빠를 자랑스럽게 생각할수 있어~ㅋ', '돌아가면서 뽀뽀 해주고 싶다 ♡', '기도하는 입보다 돕는 손이 더 이쁘다.', '앞으로도 아이들의 건강한 웃음을 기대하겠습니다.', '특검,,, 확고한 의지가 엿보이네!!', '기대보다 빨리 실현되어 너무나 행복하네요!!', '앞으로도 좋은 배우가 되었으면 좋겠다.', '새로운 역사의 시작을 준비해주세요!!', '이제 연말이네요~', '그걸 해줘야 릴렉스도 되구복근이 이쁘게 생긴단다 ㅋㅋ', '이따 예밤에서 뵈요!!', '꼭 본방사수해서 시청잘할께요^^', '앞으로도 무한도전에서 더욱더 좋은 모습 재미있는 모습 기대 할게요~>ㅁ<', '그럼 내일을위해 고고싱!! ㅋ', '컴백까지 건강챙기시고 멋있는모습으로 만나요?', '내일 데뷔 1주년이니까 멤버들 전체한테 한번 적으러 올께요', '오늘 저녁시간에도 백주부님 만세요~~~', '다음번에는 꼭 1위시켜드릴수있도록 노력하겠습니다♥', '팬들을 위해서 열심히 싸워 주십시오....^^', '이번에 꼭 1위 시켜줄게요 ♡', '항상 기다릴테니까!', '앞으로 더욱 멋진 모습 기대할께용ㅋㅋㅋㅋㅋㅋㅋㅋ', '좋아 올해는 뭔가 필이 온다^^', '아 귀여웡~~~~이번엔 꼭 보러가야징', '결과와 관계없이..그저 멤버들이..즐겁고 행복하게 원없이 활동하는 모습..보고싶네요!!ㅎㅎ', '정말 기다려지네요.대장 쵝오^^', '금토가 젤로 기다려지는1인 입니다넘 잼나요', '좋앗어 우리동네에 호날두오신다', '원인규명이 되었다니 다행이네요. 보완작업 잘하고 기능추가해서 완벽한 갤노트8이 빨리 나오길 기다리고 있겠습니다.', '젝키 신곡 지붕킥하자!!!!!!!', '비좀와라 좋은 현상임 굿굿', '서인국에게 반함~~~~~~♡♡♡', '둘다 순수하고 묘한 자기만의 세계가 어울림ㅎㅎ어여 결혼갑시다^^', '가족 건강하게 해줘', '내 이상형인 누나다!!!!!!!!!!!!!!!!!', '김주혁의 역할도 크다', '자랑스런 대한민국 국민들 95%가 새역사를만들것입니다 !!!', '본방사수 할께요^^', '수목이 기다려집니다 ^^너무 재밌고 본방사수', '아는형님 재밌게보고있어요!! 이렇게 좋은일을 하시는걸보면 영철님은 정말 마음이 따뜻한사람같아요! 앞으로도 좋은활약 기대합니다~~', '우리의 꿈과희망 청소년들 멋있고 고마워~그리고 너네 젊은이 부러워~', '백종원님 지나는길에 들리심 그냥 대접하고 싶어요♡♡♡', '대박좋다 ㅋㅋㅋㅋㅋㅋㅋㅋㅋㅋ유지태라니!!!개대된당ㅋㅋㅋㅋㅋ저번에 전화연결 실패해서 쟈나횽 시무룩했는데 드디어 ㅋㅋㅋㅋ', '마음씨도 착한 송송 커플', '긍정적 에너지 넘쳐서 좋다 딘딘~^^', '강승윤 기대합니다^^♡~~~', '이런분들이 많아야대한민국이 삽니다~', '아침에 영어유치원으로 등원하는 아이들 모습~진짜 귀엽죠?', '빨리 보고싶어요!!!', '남을 배려하는 재석오빠의 따뜻한 마음에..', '너무 조급해 하지 말고,선수들은 차근차근 연습으로 준비하고 팬들은 변치 않는 열성으로 뜨겁게 응원하면 V3는 우리의 것이 될 것입니다...', '정말 준비 마니 하시는 것 같아요.', '불졍애청자로같은년배의시청자로두분꼭한방에서한이불덮으면백년해로하길^~^', '힘든시기에 마음 따뜻한 드라마 보기좋았어요.다음에도 부탁드려요', '훈훈해 ㅠㅠㅠㅠ 나도 내년에 가는데...', '같이 티비보면 울 엄마 쟤는 어디가든 사랑 받겠다고 하시네 부모님 정말 잘키우신듯', '루이야 내가 마이 보고시포 ㅠ', '개봉일에 봤는데 앞으로 1번 이상 다시 보러 갈거에요 !!!', '이가혁기자 상줘야겠네', '재진 기여어ㅠㅠㅠㅠㅠㅠㅠ', '그래도 엘지 올해 잘했고 내년에도 기대된다.', '진짜 양현석이 와이프를얼마나좋아하고사랑했으면 이재진한테 그렇게잘해줄수가있는지욯', '올 시즌엔 꼭 두자리 승수 올려서 새로운 쌍둥이 마운드에 주역이 됐으믄합니다...', '이민호 때문에 참 많이 웃고 울었네. 이젠 안녕 허준재 김담령', '송중기 되게 지인한테 선물같은 거 잘주더라...괜히 의리있다고 하는 게 아님..배포도 크고', '주군과 끝까지 함께한 의리남으로 기억하겠습니다...', '특검팀 최선을 다하는모습 멋져요~', '이승엽 선수의 강의가 후배들에게 좋은 귀감과 도전이 되었을 듯...', '대호야 나도 설렌다...16년에 사직 한번도 안갔는데 니때문에 간다', '잘 부탁한다 상우야~~^^', '어제의 아쉬움 뒤로하고 팬밋만 기다립니다~~', '김종민 펜인데~연예대상받아서 넘기뻐요대상받길바랬거든요김종민씨 좋은모습오래오래보여주세요', '어머님과 연아님의 열정', '동계훈련 준비 잘하셔서 다음시즌에도 좋은모습 바랍니다..', '앞으로도 쭈욱~~~', '부럽네요 저도 아기천사가 오기를...', '마음씨가 따뜻하군 혜리b', '마음씨가 참 고운 아이들', '오늘 포수 유강남의 역전 투런 홈런과 허프의 7이닝 1실점으로 배터리들의 활약이 가장 돋보였다!', '미얀마 또 가고싶다...사람들 착하고 순박하다..', '대상후본데.. 꿈이 연말 시상식에 다 나가는거.. 진짜 소박하고 귀엽다', '10년째 한결같은, 앞으로 10년도 한결같을 우리 윤아', '이것이 진정 우리가 이기는길입니다!!', '2017년에도 열일을 기대합니다!', '오늘은 또 얼마나 맛있게 만들어 주실지 벌써부터 기대하고 있습니다', '완벽한 결말을 위해 힘들지만 저희가 기달리겠습니다♡', '지금도 너희는 캐럿들의 기대에 부응하기 위해 타국에서 열심히 노력하고 있겠지!', '이때까지 예쁘다 활동하신다고 고생많으셨어요', '기대하고 볼게요~', '드뎌~완전 기대기대~^^', '앞으로도 기대할께요!!', '비가 오면 좋은 징조다', '백주부님 덕분에 요리하기가 잼있어 졌어요...', '퇴근까지 16분 남았당 ㅇㅅㅇ 으흐흐 공조보러가야징 넘흐 기대됨!!ㅋ', '결승 기대된다', '이준기ㅠㅜㅠ진짜기대합니다♡', '우리이쁘니 항상 응원합니다', '개꿀잼이었음 담주 기대됨', '기대 됩니다~!!!!!!', '조기대선 벗꽃대선 기대된다앙~~~', '1위 기대합니다 ㅎㅎ', '아들셋 군대보냈지만 이런 아들 참~ 훌륭하군요더 멋진 활약 기대합니다~^^', '류준열 기대됩니다 오피셜 곧 뜨길바랄께요', '오늘 이라도 잘생긴 오빠 얼굴 많이 봐야겠네요^^', '이제 훌훌털고 일어나행복한 스케이터로서 예의 그 밝은 웃음으로아이스쇼에서 만나길 기대합니다.', '부럽다 시키 잘살아라 ㅋㅋ', '현역으로 가서 안까이길 기대했는데 너무 좋은 소식이네요.^^', '오늘도 출발합니다', '자원봉사 와 주세요 해야지', ' 두산팬이지만 kt감독님으로도 응원할게요.', '일개 월급쟁이로서 파업 지지합니다.', '지금 나오길 잘한것 같다..', '대한민국의 정의를 위해 국민들이 힘을모아 응원합니다', '지동원 약속 꼭 지켜라!!! ㅋㅋ', '씨엘 응원할게요~~', '좋겠네...물고기 집에 넘처나겠구나! 잘 잡아먹어라.', '버텨라 그리하면 살리라', '그래 제대하면 우리 친구고 아들이고 동생이고 형이고 부하직원이고 후배고 선배고..국민이다', '대구민심 진짜 무섭다 대구시민들 화이팅!!!', '끝까지 응원합니다..', '기자성공햇다 반응오지구요', '앞으로 부상없이 좋은모습보여주고 강팀을상대로도 이런모습보여주면 더성장할수있을꺼같음', '다들 좃같은 추석 보내시길 바랍니다^^', '젊은그대들 신바람나는 야구판 만들어보소', '가족동반 촛불집회 하기좋은 날씨네요...........', '현종아 행복하자...', '많이 올랐네. 다시 가고 싶다.', '고독을 잘 이해 해주던 연인도 결혼과 동시 가족이 된다는걸 명심해라....', '얼른 복귀하세요 ~~', '예 오래오래 행복하세여ㅋㅋㅋㅋㅋㅋㅋㅋㅋ', '돌아올 거라 믿고 있었음 잘못한 게 없으니까', '박사모 반사모 만세', '파란덕후가 좋아합니다', '한화 목숨걸고싸운대ㅠㅠㅠㅠ', '부탁해요 헌재^^~~', '성큰옹 갓대호 사랑 시작되겠네.. ㅎㅎㅎㅎㅎㅎㅎㅎㅎㅎㅎㅎㅎ', '잠좀 자라', '아 맞았냐? 오늘 알았네', '잘못은 처벌받고 앞으로 잘하시길', '그래. 목사님 잘 계시고?', '우리 철수형도 한번더 수고부탁드립니다..', '새해...1월1일은...이휘재가..장식하네..', '기상청은 빨리 해 띄우세요~!!!!!!', '짬짬이 만나서 대실해라~^^', '너 있잖앙~~~~~', '힘내라 특검 ㅠㅠ']\n",
            "\n",
            "Cluster 2\n",
            "['덕분에 요리가 즐거워요~', '정말 행복해요.', '매번 좋은 정보 감사합니다.', '잊지 못할 크리스마스 선물 줘서 진짜 고맙고 앞으로도 절대 잊지 못할 것 같아요ㅎㅎ', '정유라 최순실님 감사합니다', '다시 만나니 반갑네요..0', '그동안 수고 많으셨습니다..', '만나서 반갑습니다.', '애기들 다행이다 ㅠㅠ', '와 다행이다!!!!!!', '히히 안녕하세요', '안녕하세요~^-^!', '오빠안녕하세요!', '모두 모두 반갑습니다.', '진짜 겸손하다 ㅜㅜㅜㅜㅜㅜㅜ', '오늘 너무 감동적이었어요ㅠㅠ', '정성이 담긴 이쁜손편지가 들어있네요^^', '노래해줘서 고마워요 감동이네요', '인간적인 냄새를 맞게 해 주신 두부부께 제가 배울점이 정말 많아 너무 좋았네요.', '감격이에요 ㅠㅠㅠㅠ', '훈훈한 소식이네요~ ^^', '이러한 소소한 배려와 나눔이 삶의 큰 감동이네..', '나에게 신이 주신 최고의 선물이라고 생각할께.', '여러분너무 감사해요임신이래요!!!!!!', '설연휴토요일에 오늘같은밤듣고있는데 손편지코너에 제가 보낸엽서에 읽어주셔서 감동받 아서 감사하고요', '아주머니 옳은 말씀 시원하네', '감동으로 펑펑 울게 해줘서,', '와이지 젝키 컴백시켜주셔서 감사합니다..', '좋은 글 감사합니다~', '시청자의 한 사람으로써 재미있는 프로그램 제작을 위해 열일해주셔서 항상 감사합니다', '좋은기사 여러사람과 공유했네요 감사', '소방대원분들 감사드립니다.', '감사합니다.', '용기 있는 증언 정말 감사드립니다', '그리고 감사합니다', '독립 운동가 분들께 진심 감사드린다', '이 험난한 시국에 활력소가 되어주어서 감사해요!!', '시원한 기사 감사드립니다', '감사합니다', '오호 땡큐요', '아침부터 좋은 글 감사합니다ㅎㅎ', '그래도 군대잘갔다오라고해주신분들께 마지막으로감사말씀 드리고출처를 클릭해주세요^^3', '늘 감사한 마음이 커요.', '댓글 에 대답 해주시면 감사하겠습니다!!!!!^^', '감사했었습니다', '답해 주시면 감사하겠습니다~!', '관심 많이 가져주신거 다시한번 감사드립니당^_^', '조언들 정말 감사합니다.', '알려주시면 감사해요 ^.^!', '감사합니다...^^', '연아선수, 마음에서 우러 나오는 축하와 감사를 보내요.', '감사^*^', '항상 고마워요', '멋진 미소와 멋진 방송 감사해유!!!!!!!', '요리를 해봐야겠다는 용기를 내게 해주셔서 감사합니다.', '땡큐.^^', '좋은 레시피 감사합니다', '쉽고 간편한 레시피 감사해요.', '감사~~', '오빠들이 존재하기에 고맙고 이렇게 좋은노래로 캐럿들 감동시켜줘서 고마워요.', '넘 감사합니다.', '감사히 먹었습니다', '요리에 대한 두려움을 없애 주시는 분 감사드립니다~~', '광고보는 재미까지 주셔서 감사', '감사합니다..', '쉽게음식식을 할수 있어 감사합니다', '감사드리고 화이팅 하세요 ~~', '맛있는것 많이 해줘서 감사해요~~', '또 한번 행복의 세계로 초대해줘서 너무나 감사해요..ㅠㅠ', '그리고 태어나줘서 고마워요 !', '쉽고 간단하게 맛있게 요리를 할수 있게 가르쳐 줘서 감사합니다.', '감사할 뿐입니다 ^-^', '항상 감사 합니다.', '감사합니다^^', '항상 고마워요', '넘 감사 감사 화이팅~', '장예원님 감사합니다.', '감사합니다~^.~', '항상웃음주셔서감사하구요...', '넉넉한 이웃에 감사합니다.', '정말 감사해요..', '어머님감사합니다♡', '감사합니다.^^', '감사합니다~', '모든게 다 감사합니다', '늘 감사합니다', '캐럿들을 위해 열심히 해준게 너무 고마워요ㅠㅠㅠㅜㅠㅠㅠㅜ', '감사해요.', '언제나 화이팅하시구 감사합니다~~~', '항상 감사 합니다.', '그리고 웃음을 주셔서 감사해요...', '그냥 고마워요', '너무너무 올려줘서 고마워요ㅜㅜㅜ', '언제나 사랑하고 존경하고 감사합니다!!♡', '요리에 쉽게 다가설 수 있도록 해 주심 감사드립니다.', '백종원님 좋은 정보 감사합니다.', '항상 변함 없는모습에 감사드립니다^^', '??태어나줘서 너무너무 고마워요~', '그리고 너무 고마워요!', '감사해요', '너무 너무 감사드려요.', '감사합니다^^', '항상 재미있는 웃음 보여주셔서 감사드립니다!!', '????데뷔해줘서 너무 고마워요!!', '따라하기 좋은 래시피 감사합니다.', '늘감사합니다', '청소아주머니 사이다 발언!!!!! 맨날 댓글로 욕해도 듣지못하는데 거기서 해주셔서 감사합니다!!', '감사합니다 변호사님 존경합니다', '고개 숙여 감사드립니다.', '특검 감사합니다 !!!', '정말 감사합니다ㅜㅜ', '몰랐네요.. 정보 주셔서 감사합니다', '이제 알겠네요. 감사합니다.', '기자님 좋은기사 감사감사!!!!!!', '정말 무도에게 그리고 감사한 마음입니다.', '열일해주셔서 감사합니다 ㅠ', '이 추운 날씨에 정말 감사하고 고맙습니다', '감사해요^^', '좋은정보 감사합니다!', '다들 기다려주셔서 감사해요', '난 고마워요', '감사합니다. :)', '글 내릴게요. 감사합니다', '알려주신분들 감사해요', '댓글 감사합니다^^', '정신차리라고 냉정한말감사합니다.', '읽어주셔서 감사합니다♡', '적지만 댓글 남겨주신 분들 감사해요', '감사합니다', '쉽고 맛있는 레시피 감사드려요~~~', '항상 고마워요!', '세븐틴 멤버여서 고맙구 윤정한으로 태어나줘서 고마워요!!', '매일매일 감사합니다^^', '항상 캐럿들을 위해 곡과 안무를해주셔서 감사하고요', '멋있는귀요미오빠를 낳아주셔서감사합니다.', '항상 고마워요', '이 세상에 태어나 주셔서 감사합니다.', '감사합니다!', '색다른 면을 느끼게 해줘서 감사합니다.', '대한민국에 태어나줘서 정말 고마워요', '언제나 밝은모습시원시원한 말씀프로의마인드 감사드립니다.', '백주부님께 감사 드림니다.', '감사합니다', '항상감사합니다', '팬들에게 기쁨을 줘서 감사합니다..', '쉽게 접할수있는 재료들로 쉽게 요리할수있게 도와주셔서 너무 감사드려요..', '정말 너무 고마워요', '그래도 귀엽게 봐주시면 감사합니다 ㅠㅠㅠ', '그래도 잘드셔 주셔서 정말 감사했습니다..', '감사드려유~~', '감사함다~', '항상 좋은정보 감사합니다.', '그리고 내가수가 되서 고마워요', '집밥 백선생님 프로 너무 감사하고 좋아요!~~', '알기쉽게 간단하게 설며해줘서 땡큐', '음식을 너무 쉽게 만드는 바ㅏㅇ법을 기르쳐 주셔서 감사 드립니다.', '편안한 인상으로 맛난 음식 소개까지 감사합니다.', '집밥 백선생 감사이 잘 보고 있습니다', '언제나 화이팅하시구 감사합니다~~~', '항상 고마워요?', '진심으로 도망치지 않고 제대로 사과하고 일 마무리 지어줘서 고마워요', '항상 감사합니다ㅋ', '그리고 태어나줘서 너무 고마워요ㅠㅠ', '감사드려요~~~', '조금씩 요리에 자신이 생기도록 쉽게 설명해 주셔서 감사드립니다.', '쉽고 간결한 설명!!!따라하기 쉬어서 정말 좋아요^^항상 감사 드립니다.', '요즘 참 감사합니다', '정말 감사 합니다.', '너무 감사합니다.', '백주부님 감사합니다.~~~^^', '좋은 정보 감사합니다.', '감사해요~~', '가정에서 쉽게 구할 수 있는 재료로 특별한 맛을 낼 수 있게 도와주시는 백주부님 늘 감사해요.', '구수한 말투와 쉬운 요리비법 감사해요~~', '감사해요..', '항상잼나게 방송해주시니 감사합니다.', '요리에 대한 마음의 부담을 덜어주셔서 감사합니다.', '역시 음식은 자신감이라며 저에게 자신감을 넣어준 백선생님께 넘넘 감사하답니다^^', '조금이나마 음식 만드는 것을 시작할 수 있게 해주셔서 감사합니다.', '항상 감사한 마음을 가지고 있답니다.', '감사 합니다~`', '감사합니다ㆍ', '항상 감사드려요^^', '매번 좋은 정보감사해유~', '요리를 가장 쉽게 알려주셔서 너무 감사합니다~~', '국민으로써 얼굴에 미소짖는 소식 감사합니다', '선생님들이 계셧기에 지금 저희가 있습니다. 진심으로 머리숙여 감사드립니다.', '직관하시는분들 복터졌고 좋은 댓글 넘 감사합니다ㅎㅎ', '기사를 읽기 좋고 쏙쏙 알수 있게 정리되어 있어서 좋네요감사합니당~', '감사합니다..감사하고 또 감사합니다...', '정말 뿌듯합니다 감사해요', '올레 ㅎㅎ 오우 감사합니다 ㅎㅎ', '아름다운 영상을 위해 노력해주시는 촬영팀과연출팀에게도 무한 감사를 드립니다~~', '감사합니다!', '감사합니다', '국민의 마음을 대표해주셔서 감사합니다ㅜㅜ', '정말 좋은 드라마 고마워요 ㅠㅠ', '좋은 기사 감사합니다.', '유용한 정보 감사합니다.', '그래도 닮았다고 해주신 분들 고맙구요...좋은 댓글 달아주신분들도 감사합니다.', 'ㅡ 댓글 감사드려용', '감사합니다.', '알려주시면 감사하겠습니다*^^*', '알려주시면 감사하겠습니다ㅠㅠ!', '관심 감사합니다.', '감사합니다!', '감사합니다.', '댓글감사합니다', '감사합니당>.', '감사합니다!!!', '감사합니다', '저번에 힘내시라고 응원해주신분들 감사합니다!', '감사해요', '행복한 시간을 선물해 줘서 너무 고마워요~', '너무 감사해용~~~^^', '맛있는 요리하기를 즐겁게 만들어주는백주부님 감사합니다', '감사드려요', '항상 좋은정보 감사드립니다...', '너무 감사힙니다^^', '그동안 요리법 공개등 감사를 드리며...서민, 자취생 등 간단히, 영양을 고려한 요리 부탁드립니다.', '오늘도 요리 감사합니다', '감사합니다.', '감사해요^^~~', '언제나 웃는 모습과 먹방의 진수를 보여주어 감사합니다.', '많은 팁과 놓치기쉬운 부분도 자세히가르쳐 주시고 많이 배움니다감사합니다', '물넣고 볶는것도 배우고 감사합니다', '좋은 음악을 만들어 주셔서 감사합니다.', '다시한번 축하와 감사를 보냅니다.', '언제나 좋은 정보와 댓글 감사합니다', '간단하면서 고급진 요리 감사합니다~', '세븐틴이여서 고마워요사랑해요 !', '좋은 레시피 감사합니다.', '새 프로그램을 볼 수 있게 해주셔서 감사해요', '백주부덕에 많은 요리 접할수있어서 감사해요', '따라하기 쉬운 요리법 감사합니다 .', '많은 도움 감사', '백종원님 레시피 항상 감사합니다.', '늘 감사합니다.', '거듭 감사 합니다', '어제 많이 감사했구요!!!', '오빠 태어나줘서 고마워요??', '?세븐틴 해줘서 감사하구 감사해요', '소중하고 귀한 레시피 마음열고 공개하니 요리초보들 모두 감사맘으로 요리하고 있읍니다.', '감사합니다??????', '맛난 반찬 감사했습니다', '항상 하는 일 잘 되시고...요리 쉽게 하시는 법 알려주셔서감사합니다.', '요즘 하지 못한 음식을 텔레비젼에서 많은 배움을 얻어 와이프한테 만들주면 맛은 없어도 고마워 하니 백선생님께 감사드립니다.', '어렵지 않은 요리를 알려 주셔서 감사해요^^', '항상 좋은모습 보여주셔서 감사하구여.', '항상 열심히 웃겨주셔서 감사합니다.', '훌륭한음식 만들어 주어 여러모로 감사드립니다.', '큰선물 해주셔서 고마워요~!.', '무한 감사드리고 항상 응원할께요', '그리고 태어나 주셔서 정말 감사합니다 ㅠㅠ', '태어나주셔서 감사해요...', '감사 합니다.', '율작가님두 고마워요', '국민의 음식문화 대중화를 위해 힘쓰시는 운영진님 감사합니다.', '늘 감사드립니다', '맛있는 것을 만들수 있다는 자신감을 얻게 해주어 감사합니다.', '쉽고 간단하게 설명해 주셔서 감사홧팅!', '항상 좋은 요리 . . . 감사합니다.', '이번 시즌에 많은 활약 해주셔서 감사합니다.', '백주부님넘 쉽게 잘 가르쳐주셔서 감사합니다.', '남자로서 음식을 하게된 동기부여를 해주셔서 감사합니다.', '어르신 감사합니다.', '염감독님 그동안 정말로 감사했습니다', '박사님 감사합니다.', '희망을 주셔서 감사합니다', '어머님.. 덕택에 사이다 한잔 마신것 같네요. 감사합니다 . 캬아 !!', '그동안수고하셨고 감사드립니다', '유익한 기사 감사하니다', '온 국민과 후손이 모두 공유할 수 있는 기회를 마련해 주셔서 감사드립니다.', '아이고 너무너무 감사합니다', '리옹님 감사합니다', '겨울다운 날씨가 와서 감사합니다', '엔씨 팬인데 진짜 감사합니다ㅎㅎ', '그래도 해피앤딩 만들어줘서 감사해요', '저 대신 가주셔서 감사합니다!!!!!!!!!!!!!!', '많은 댓글 조언 감사합니다.', '네 답변들 감사합니다...', '성원에 감사합니다.', '추석지났지만 선물이래아 감사합니다', '알려주시면 감사하겠습니다', '감사합니다 :)', '읽어주셔서 감사합니당.', '댓글달아주신 여러분들 너무너무 감사해요...', '간략하게 소개를 해주면 더 땡큐~~~~~~', '댓글 감사합니다.', '혹시 팁가지고 계신분은 알려주시면 정말 감사할게요!', '주시면 감사하게 잘쓰고 다른 필요한 분에게 물려드릴께염...ㅠ', '클릭해주셨던분들 감사합니다^^;', '연아양을 처음 발굴한 그분에게 진심으로 감사하고 싶다.', '감사합니당 ^^', '감사드립니다', '음식을 이렇게 쉽게 전수해 주시니 정말 감사합니다.', '감사합니다.', '감사드려요', '감사해유!!', '감사하고 또 감사합니다!!', '관심 감사합니다..', '조언감사합니다', '항상 하는 일 잘 되시고...요리 쉽게 하시는 법 알려주셔서감사합니다.', '쉽게 가르쳐 주셔서 감사해요.', '감사하고 그저 고맙습니다', '댓글로 조언해주신분들 모두 감사해요!', '댓글감사해요', '많은 분들 감사요..', '쉽게 만들 수 있게 가르쳐주셔서 감사합니다~~~!!!', '요리를 해봐야겠다는 용기를 내게 해주셔서 감사합니다.', '정말 감사드리고...', '정말 감사합니다', '타이틀 처럼 음식이 어렵다는 편견을 조금은 깨게 해주신 백선생께 감사드립니다......', '수십년 어렵게 쌓아온 노하우들쉽게 널리 알려주셔서감사드립니다', '정말 재미있고 쉽게 맛있는 음식 만들게해 주셔서 감사해요', '백선생님의 요리를 보면서 요리의 자신감과 흥미를 갖게되어 정말 감사드리고 너무 쉽게 지도해주셔 매혹이 됌니다 감사해요~', '항상 감사드리고...', '좋은 요리 쉬워서 감사합니다', '너무 편안하고 감사합니다.', '감사하고 고맙습니다.', '좋은 정보 감사', '어딜 가도 백선생님 요리 쉽게 가르쳐줘 감사하대유~~~', '감사합니다.', '너무 감사하다는 인사를 드립니다', '감사합니다♡', '글구 까페 쥔장님 감사요.!', '쌀국수라 든든하고,,,감사 또 감사해용....', '감사합니다...', '맛있고 쉬운 요리 설명해주셔서 늘 잼있고 감사하게 보고 있습니다.', '이렇게 좋은 카페를 알게되어 무한 감사들 드립니다.', '항상 감사합니다', '정말 너무너무 감사드려요..', '감사드립니다', '감사해요~', '매주 좋은정보감사합니다. ^^', '전 정말 감사 함을 느낍니다.', '항상 감사합니다^^', '또 감사하답니다', '간단하고 먹음직스럽게 쉽고 맛나게후딱후딱 반찬 하게 해주셔서 감사해요~~~~', '좋은 정보를 주심에 다시한번 감사드리고항상 건강하시며 좋은 일만 가득하시길 바랍니다 (^*^)', '연아양 감사했어여 ㅜㅜ', '백주부님~저같은 초보를 위해좋은 레시피 가르쳐 주셔서늘 감사합니다', '너무나 친절하게 사진을 찍어준 오빠에게 정말 감사드립니다', '염병하네 혼내주신 아주머니 감사합니다', '열일해줘서 고마워요..!!', '물속에서 최고의 연기보여주신 두분 감사합니다~~~~~♡', '한 시즌 좋을 글 감사드립니다~~^^', '런닝맨을 사랑해주신 모든분들께 감사드립니다.', '국민을 위해 헌신하는 많은 분들에게 진심어린 감사와 존경을 표합니다.', '그렇게 좋은 목소리로 노래를 불로 주셔서 감사합니다ㅎㅎ', '저희 동네 택배기사님들 진심으로 감사드려요.', '피드백 감사....', '수고해주신 일본 소방관들 감사합니다.', '감사합니다. 기자님.', '대박날꺼에요 정말 감사합니다^^', '조언댓글 감사합니다', '감사해요^^', '본인의 일처럼 분노해주신 모든분께 감사드립니다.', '쌩뚱맞지만 그냥 감사하다고 말씀드리고 싶었어요~', '감사 합니다.0', '참여해주신분들 감사합니다.^^', '정말 도와주시면 감사드립니다!!!!', '그냥..내여자친구도 잘 기다려주고있어서 너무감사해~', '꼭 알려주시면 감사하겠어영!!!!!!!', '도움주신분들께 감사드립니다.', '감사합니다.', '넘 쉽게 알려주셔서 감사하고요...', '감사혀유!! ^^', '감사합니다~~홧팅!', '그치만 정말로 좋은 정보, 귀한 정보주셔서 참 감사드리고요.', '감사합니다!!', '슈아오빠 원우오빠 태어나줘서 고마워요', '항상 쉽게 요리 레시피 설명해주셔서 감사합니당', '또한 많이 많이 고마워요.............', '답변 해 주신분들 정말 감사해요ㅜㅜ', '끝까지 힘 되어준 내 남편 너무 고마워요..', '조언감사해여..', '내용또한 감사합니다. ^^', '즐거운 요리 레시피 감사합니다.', '항상 감사한 마음 입니다...', '감사하고 그저 고맙습니다', '집에서 쉽게 요리할수 있는 레시피 감사합니다.', '내 가수 해줘서 고마워요!!', '항상 좋은 음악,좋은 노래 들려줘서 너무너무 고마워요~', '정말로 고마워요', '쉽고도 재미있게 따라할수있어 감사해요..', '그리고,,,,, 보는사람의 마음도 행복하게 해주셔서 정말 감사합니다!', '여러모로 고마워요', '태어나줘서 고맙고세븐틴으로 나와줘서 고마워요', '감사합니다.', '그래서 사장님께 감사한 마음으로열심히 일한다.', '너무감사드려요.', '계속 쉬운 요리 개발 하실 거쥬 감사해요', '제가 공부하는시간에 좋은노래와 꿀목소리 들려주셔서 감사합니다~~', '너무 태어나줘서 고마워요.', '넘 감사해요.', '항상 쉽게 가르쳐 주셔서 감사해요~', '감사합니다.', '항상 좋은 레시피랑 쉬운 조리법 알려주셔서 감사해요!!!', '백주부님덕에 요리를 어느정도 할수가있어서 감사합니다.', '감사해요', '늘 감사해요~~^^', '감사합니다..', '읽어주셔서 감사합니다.', '읽고 봐주셔서 감사합니다.', '쉬운 요리 맛난 요리 가르쳐줘서 감사해유^^', '감사드립니다.', '감사드립니다', '백주부님 정말 감사합니다^^', '좋은 정보 너무 감사합니다.', '아무튼 감사 드립니다~~^^', '맛있는 음식을간단하고 센스있는 항상보여주셔서 감사합니다', '정말 쉽게 알려주셔서 감사해요', '건강하시고 항상 좋은 음식 감사 드립니다.', '위치도 알려주시면 감사합니다.!!', '어찌나 반갑던지..감사', '오 좋은 정보 감사 ㅋㅋ', '박수!!! ^^멀리서도 감사드려요~~', '소스케줄 감사합니다.', '저도 기쁘고 보람됩니다.', '유재석mc님 많은 웃음을 짓게해주셔서 너무 감사했습니다.', '체리 정말 기뻐졌어요!', '정말 기쁘고 속 시원하다.', '우리에게 맛있는 음식을 전하시는 백주부님 당신 멋져', '생일진심으로 축하해요', '축하~!!!', '대단하신 우리 백쌤, 화이팅요!!', '생일 축하해요', '축하드려요.', '대상 수상 축하해요', '생일 진심 축하드려요 ㅜㅜ!!!', '자랑스럽네요~~', '준휘오빠 생일축하해요', '형님의 생일을 진심으로 추카추카 합니다....', '늘웃음을주는 도니님 생일을진심으로 축하합니다!~~^^♥♥♥', '예디 누나 생일 축하드려요', '다시한번 생일축하하고.', '400일 정말 축하해!!', '정말 진심으로축하드려요♥♥♥♥♥', '노래정말좋고 수고했어요!!!!', '아쉽지만 축하해요', '하하하결혼도 축하하고요!!', '생일축하해용ㅎ', '오빠 생일 축하해용!!!', '축하합니다. 행복하세요^^', '축하해요♥♥♥♥♥♥', '진짜 고생했다 받을만해씀 ㅊㅋㅊㅋ', '재석 삼촌 축하해요!!♡', '최유정 김도연 축하합니다!!', '축하드려요 여자친구', '축하드려요~~!', '유느님 대상 축하드립니다', '수상축하드립니다~~', '림아 축하해♡♡♡!!', '축하해요 소연언니!!', '축하드려용^^♡♡', '회복하셨다니 다행입니다. 응원합니다!', '박보검 진심으로 축하해요.', '트럼프 각하 축하드립니다.', '대상 축하드려요.', '임신축하드려요.', '그리고 대상 축하드립니다~~~~', '생일 맞으신거 정말 진심으로 추카드려요.', '생일 진심으로 축하하고 좋은 하루 보내요^^', '생일 축하합니다~~!!', '생일축하해요!', '오늘 너무 자랑스럽구요...', '진심으로 생일축하한다', '생일축하해 찬아♡ 아!', '진심으로 생일 추카드려요!!!', '슈아!생일축하해 ,,', '대기록 달성 축하해요.', '오빠이 생일축하해요!!!', '생일 축하 드리고요~~', '마음이지만 정말로 생일 축하드립니다.', '이찬오빠 생일축하해요♡', '글~구 생일 축하혀유~~~^^', '다시 한번 정말 축하드립니다~!!', '생일 축하해♥♥', '생일축하해요!!', '오빠 21번째 생일 정말축하해요', '진심으로 축하해 준휘!', '너무 축하드려요 ㅠㅠ', '축하합니다~ 축하합니다~', '정말 생일 축하해요', '오빠 졸업 축하하구!!', '진심으로 축하합니다.', '임신 축하드려요 지영누나', '공동수상 진심으로 축하합니다!!', '축하드립니다. ㅋㅋ', '유부녀 축하합니다 ^^', '축하드립니다 !!!!!!', '그래 아주 잘했어요', '다혜누나 수고했어요 ㅠㅠㅠ', '대선 축하합니다......', '트럼프 만세 당선 축하합니다.', '축하드려여 ㅎㅎ.ㅎ', '축하합니다~~넘 잘됐네요.', '김민희씨 진심 축하드려요 한국영화계의 큰 경사네요', '형 사랑합니다 ㅠㅠ', '감동이네요^^ 화이팅!!', '신동엽 축하드립니다', '멋지십니다. 박수...', '축하합니다. 자랑스럽네요.', '세분 모두 느낌 좋으니까~~~~~축하해요', '축하해요~~행복하세요 ~~~~~', '고마우신분이네요.복 받으실껍니다', '오늘 생일인데 축하좀 부탁드림', '도움주신분들 모두 고맙습니다:D1번2번3번4번', '고마워ㅠㅠ', '유느님이하는프로그램마다저를 웃게해주셔서 고맙습니다', '지훈오빠 생일축하해요 ! ㅠㅠ', '고생많으셨습니다. 그대의 삶에 박수를 보냅니다.', '수고했어요 자랑스런 나의우상~^^', '존경해요 항상ㅋ', '유재석님 너무 축하드려요!!!', '훌륭하십니다. 행복하세요.', '사장님 존경합니다', '차두리 고마워~~~~~', '너무 잘 어울려요..^^~~ 축하합니다', '박끄네씨! 고맙습니다.', '축하합니다.', '고생 많으셨습니다~~', '진심으로 고마워^^', '저에게 메일 주신 모든 분들 응원할게요!', '얼굴도 모르는 사람의 글에 답변달아주신 형님,누나,동생분들 고맙고 항상 복 받으세요...', '좋은 음악 만들어주고 불러줘서 고마워 ♥', '이번에 정말 수고햇어욤 ㅎㅎ', '박수를 보냅니다..', '많이 배우고 존경합니다.', '멋지세요~', '김연아님 진심으로 축하합니다. ^^', '대박나세요~~~^^', '와우ㅡ추카해용^^', '축하드립니다 룡따궈~', '고마웠고수고했어요', 'ㄱㄱㅑ~축하축하해요~~예쁜사랑 하세요~너무 잘어울려요~', '존경스럽습니다!', '대단합니다 축하드려요', '샘 미안하고 고맙습니다.', '모두축하해용', '백주부님쉽게쉽게 요리를 풀어주셔서너무너무 존경합니다', '자랑스러워요', '연아양...너무나 기쁘고 축하합니다.', '고맙습니다 기성용 선수...', '축하드려요..어제 방송도 잘 봤습니다', '축하 한다 ~~^^', '트럼프 당선 축하드립니다', '축하한다 연아야^^', '수고 많으셨어요!!!!', '모든국민뿐아니라 제주 해녀님들에게 좋은 소식이군요. 축하합니다.', '수고 많으셨습니다...', \"그동안 수고했고 드림걸스 '와러맨 너무너무너무' 까지 계속 잘 달려와줘서 너무너무너무 고마워~~\", '알아주니 다행이다 이청용 화이팅!!', '존경했습니다...', '공유님 !! 수고하셨어요 !!! 천만돌파축하드려요~~???? 다들수고하셨습니다!!!!', '자랑스러운 한국인! 당신을 존경합니다.', '진짜 축하 ㅋㅋ 완젼 잘던짐', '축복합니다~~~', '진심으로 응원합니다!!', '할머니 용기에 박수를보낸다', '날 사랑해줘서 고마웠어.', '항상 너무 고맙고 사랑합니다', '넘넘 축하드리구영~', '연아양,,, 넘 수고하셨습니다.', '연아양 수고햇어요...', '매일 새로운 모습보여주려고 고생해서 너무 고마워ㅠㅠㅠㅠ', '수고많았습니다.', '그래주면 우리가 고맙고 미안하고 그렇네...', '고생하셨슴다 홍포 !', '엄마사랑합니다. ㅜㅠ', '아쉽지만 잘했어요 미나!!', '혜리가 나온다니 그저 고마울뿐 ㅜㅜ', '귀여워요 너무너무^^', '사랑해요 박효신님.....', '칭찬하고 박수쳐줘야지요', '고마해라 마이 했다아이가']\n",
            "\n",
            "Cluster 3\n",
            "['활동혜택으로 오션월드 입장권 2매까지 주는 폴인러버!', '요리가 차~암 쉽쥬~~~~^^', '이런이런 오늘 신문을 보니 엘지가 올시즌을 포기한다구 나왔더라구여!!!', '움직이는 물체를 100% 잡아내니야간에 가게에 혼자 있어서 무섭지가 않아요!', '최우수상은 커녕 우수상도 못받으셔서 mbc 뭐 이런데가 다 있나 했더니대상을 받으실줄이야.', '나이스4명깔았다', '오락가락이 붙었다!!!!!ㅋㅋㅋ', '18년뒤면그래도 살아잇네 다행', '더울땐 사무실이 짱....', '6만원짜리중고자전거사서 3달째 출퇴근하는데배도들어가고 자전거값은 뽑음ㅋ', '사이다 다', '족발 예약한 시간 됐구나~~', '아 막판에 ses컨셉 콘서트보고 배꼽빠지는줄....', '금연한 돈으로 기부까지 ^^', '그래도 이제 밤엔 션해서 좋아용', '솔직히 안오니까 좋기만하다.', '넘어지는 장면은 진짜 혼자 시트콤찍는줄ㅋㅋㅋㅋ', '여름은 끝자락에 시원하고만~~', '맹뚜기 30초요리ㅋㅋㅋㅋ', 'ㅋㅋㅋㅋ크트는이원석안데려오길잘햇다ㅋㅋㅋ', '아기엄마들의 전투육아 스토리를 이모티콘으로 만들어 봤어요.', '애들 편도나 기관지 쪽에 좋은 제품들 주길래 혹 하는 맘에 해봤어요 ㅎㅎㅎ', '부산에 부릉부릉 갔는데~~ 해운대에~~바다보러가서~~맛나게 스파게티도 먹어주시구~~', '나 말년휴가나왔다복귀하면 제대한다 ㅋㅋㅋㅋ', '오늘도 500원짜리 5개? 100원짜리 2개 주웠네 ~~~~', '심장이 쿵쾅쿵쾅그날을잊을수가업ㅂ다.............', '4월에 첫 출근한 인턴인데 5월 4일 샌드위치데이에 회사 쉰다고 하더라구요.ㅎㅎ', '어차피 전 중국어를 공부할 생각이라 여기 신청했는데보니까 괜찮은 거 같아서 남겨 봅니다 ~!', '제가 아직 취준생이라 돈은 별로 없어서 고민중이었는데지금 세일도 많이 한다고하더라구요', '여긴 수수료도 안받더라구요 ㅋㅋ', '지금은 22살 아기는 이제 돌 됐어요', '나처럼 지금 돌침대 누워있으니까 시원하기만 한데', '오빠 아프다는 소식 듣고 눈앞이 캄캄 했는데 오늘 그 어둠이 조금이라도 사라졌어요', '4개월쫌 넘은 아기입니다~', '결과적으로 여친이 한번 눈 감아준답니다.', '제가 여기동호회에 재현오빠 클럽을 만들었거든요..', '글정리같은거랄까 그냥 깔끔한걸 좋아해요 ..', '24년동안 결심못했던 다이어트 김혜수님 덕분에 2주 넘게 다이어트중!', '오늘 판에 들어와 보았는데 메인에 있어서 놀랐어요^^', '2일 후면 예디 팬 된지 딱 1년 되네요ㅎㅎ', '오늘밤 SBS 11시 25분 첫방송~!!!', '만능간장으로 채소요리도 쉽게~~', '메.찾.사 를 개설한지 5주년이 됐네요 !', '승관군 오늘 공카 왔다 갔죠~', '어제 자기전만해도 18등이였는데 지금 4등이나 올랐어요 !', '아이스쇼로 스트레스가 날아갔어요~', '글해도 1kg이 빠져써혀~', '어제 전주 삼성문회회관에서콘서트 봤지요.', '유재석 오라버니 또 다시 5월 셋째 주가 시작 하네요', '3:2로 삼성에 지고 있다가 양준혁 선수가솔로 홈런으로 동점을 만들었네요.', '그래서 바로 다음카페를 가입하고 메찾사를 가입했습니다~', '제가 가입한지 얼마 안되고, 제가 그렇게 열렬히 카페 활동하지 않지만, 가입했다는 것 만으로도 기분 좋은 거요..', '꼬쑵은 참기름 냄새가 솔솔', '능력자의 메뚜기 바지 벗길때 가장기억에 남는다. ㅋㅋㅋㅋㅋ ㅋ ㅋ ㅋ ㅋ ㅋ ㅋ ㅋ', '오늘날잡압았어 날씨 끝짱이다. 5000천만 집결', '겜방가서 광클해서 대기 4600명 뚫고 성공', '시상식 3대기획사 찬치인데 올해 Yg에 부재 방탄이 좋은기회를 받았네요.', '호구든 거품이든 뒷돈이든 난모르겠고 영입 참 잘했다 ㅋㅋㅋㅋㅋㅋㅋㅋㅋㅋㅋㅋㅋㅋㅋㅋㅋㅋㅋㅋㅋㅋㅋㅋㅋㅋㅋㅋㅋㅋㅋㅋㅋㅋ', '2007년 전국의 텔미열풍은 잊을수없다', '진지하게 기사 읽다가 푸틴 사진보고 뿜었다ㅋㅋㅋㅋㅋㅋ', '쌈자때문에 심장미치잖아ㅠㅠㅠ', '티브이에 안나오는건 잘한 결정임... 진정한 아부지네요~', '진짜 나 슬기가 노래 부를때 나 진짜 울뻔했어', '콩테가 그냥 압살해버리네 ㅋㅋㅋㅋㅋ', '이런게 진짜 도전이지...', '그래서 난 제로칼로리 콜라가 좋음.', '꿈이 현실로', '결국시간이흘러서 기다리고기다리던전역날이왔네요ㅜㅜ', '아이들도 좋아할거같고~에버랜드 튤립축제 진해군항제등 볼거리 많네요', '크흡작년에 이직해서 다니고있고 집안이 어려워서 엄마 도와준거때문에 돈 못모았었는데천만원이 눈앞에 있어서 기쁘네여 ㅋㅋㅋㅋㅋㅋ 오예!!', '벚꽃도 피고 이제 정말 봄이네.', '제가웬만한일로는 눈물같은거 안흘리는데 그때는 저도 모르게 눈물이흐르더군여^^;', '집에서 구하기 쉬운 재료로 간단히 만들수 있는 음식에 정말 감명받았습니다.', ': 병규형이 승여비를누르고 올스타 최다득표의 영예를안았습니다', '진짜 격투기를 안좋아하지만 처음으로 격투기를보고 전율이란걸 느끼게해준 경기', '이러려구 사귀나보다 ㅜㅜ', '급속 충전 강추.. 배터리 걱정이 없움..', '시민의 수준이 훨씬 높네', '퇴진 100만 함성소리에 전율이 느껴졌다~~', '시민들이 지치지 않고 계속 싸우면 이룰 수도 있지 않을까 싶기도 하는 희망이 조금은 보이는 것 같다 요즘은', '현재 영국은 축제의 장입니다.', '깜깜한 암흑의 공간인줄 알았는데 빛나는 수많은 별들이 반짝거리고 있더라고요.', '오빠가 있었던 곳이라니..ㅠㅠ', '저희 담임선생님이신데 운명인가봐요', '요즘은 호기심이 워낙 많아 그런지 물티슈만 쥐어줘도 정말 잘노네요 ㅋㅋ', '저는 집이 강원도라서 야구장에 갈 기회가 없어서 안타까웠는데 이렇게 봐서 좋아요.', '아직도 1위영상을 보면 눈물한바가지는 흘려요ㅠㅜ', '요리초보에게 가슴에 와 닿는 요리법입니다!', '드뎌 면접보러가요 ㅠㅠㅠㅠㅠㅠㅠㅠ', '오늘도 연아선수의 경기를 보며 혼자 울컥 눈물을 흘립니다..', '직가님 진찌 배우신분ㅜㅜㅜㅜㅜ원년멤버 그대로가야 의미가 있다는 말에 전적으로 동의합니다ㅜㅜㅜ', '마음을 울린 드라마', '저승으로 가는 사람들 사연 다 슬프고 감동적이다ㅠ', '형 근데 홈런송구는 잊혀지지가 않네 ㅋㅋ', '레스터시절에는 이랬지 재미있었지 레강딱', '웃다 웃다 눈물흘렸네요...', '오늘이 마지막인데도 속도없이 좋구나', '마땅히되어져야할순서였다!양심있는판사도있네!한줄기희망이생겼다!', '내가 삼선짬뽕을 첨먹은지 15주년 되는 날^_^', '맨날 눈살 찌푸려지는 뉴스 읽다가 이런 뉴스보니 마음도 따뜻해집니다', '추운 날.. 뭉클합니다. ^^', '군인인데 뜬금없는 편지는 마음을 울리는듯', '어제 밤에 직장에서 상사들과 경기를 보는데 정말 온몸에 전율이 흐르더라구요.', '밀려오는 감동으로 눈시울 좀 적시고이제 자려고 합니다.', '클린 했을때 저 진짜 눈물이..ㅜㅠ', '아ㅠㅠㅠㅠㅠㅠㅠㅠ대체왜내가감격하는거집....', '미셸 오바마 연설하는데 내 나라도 아닌데 좀 울컥했음....', '리틀히어로라는 프로그램에서 세계에 해녀를 알리기 위해 자비를 들여 애쓰는 사진작가의 이야기를 본적이 있었는데 드디어 꿈을 이뤄주셔서 넘 감격스럽네요', '대단하다 그렇게 지고도 6위와 두게임차 ㅎㅎ', \"☆6년만에 인피니트 '남우현' 솔로앨범이 나왔어요.\", '출근길에 들으려고 보니 지금도 1위네요.', '왜 조선이 1등인지 알겠음 !', '창단 4년만에 한국시리즈 진출..', '써보신분들 대답해주시면 감사하겠습니다', '안녕하세요오늘 면접을 보고 왔어요회사에서 면접비라고 챙겨주시더라고요..', 'TV에서만 보다 카페에서 보니 감개무량입니다.', '도서관 가기로했는데 피곤해서 못일어날수도있다고톡했는데 아침에 갑자기 전화해주더라고', '어제 경기에서 지현오빠 첫타석 홈럼...', '드디어 3개월의 월드투어가 끝났네..', '신곡이 3곡만 추가되서 11트랙밖에 안되지만 그래도 이게 어디야...', '문학계도 한류가....', '87학번이라 더 정감이 ㅎㅎ', '오이 오라버니 내한하면 공항에서 노숙할꾸야ㅜㅠㅠㅜㅜ', 'EU에 팔아먹은 주권을 되 찾아온 역사적인 날이다.', '백만 촛불의 열기로 올 겨울은 따듯할꺼 같다', '진짜 이번에 공유 역대급이었고 김고은 헤어져서 울때 나도 같이 펑펑 울었다..', 'IMF 때문에 힘들땐 우리가 극복했습니다...', '제남자친구가 2주일전 해군에 입대했는데어제편지가왔어요ㅠ_ㅠ', '이 짧은 문장을 읽고 그날 하루종일...전..27년이라는제 인생을 잠시 돌아봤답니다....^^a', '나도 눈물이 날려고 하네..', '캐럿들이 힘들어하는거 어떻게 아시고 ㅠㅠ', '오늘 프리보면서 울었어요..', '어쩜 연아양 같은 사람이 우리나라에 태어나서...', '캐시템 유효기간이 좀 길어졌네', '난 대구에서 태어나 먹고 자랐지만 다행히 초등학교시절 제일 좋아하던 시간인 역사시간에 선생님이 상당히 진보적인 역사교육을 해주셔서 참 다행이라고 생각한다', '이재용영장재청구감사.', '제가 놓치는 환자정보 있으면 알려주고바빠서 차트를 자세히 못볼때가 많은데 간호사들이 다파악하고 있어서 같이 일하는 입장에서 정말 고마워요.', '문의사항이나 제보는 아래로 연락주시면 감사하겠습니다.', '요리를 겁내하는 저에게 요리를 할 수 있게 쉽게 알려 주시니 감사드려요.', '아 그리고 이 노트북들이 별루라면 추천 해주셔도 감사해용0', '파는 곳 좀 알려주시면 감사하겠습니다0', '지가유 왠만하면 티비를 잘 안보거덩유 근디 선상님 요리푸로는 재방으로라도 볼려고 애 쓰구만유 감사드려유~~~', '저렴한 가격에 쉬운 재료로 어쩌면 그렇게 쉽고 맛있게 할수잇는지감사합니다.', '혹시 이 맘때 이유식거부 극복하는 방법과 단유하는 방법좀 알려주시면 감사하겠습니다~~', '이니스프리의 미스트 중에 괜찮은거추천해주시면 감사하겠습니다', '가격이나 뭐 배송이나 이유식의 질등 다양한 시각에서 괜찮은지 이야기 해주시면 감사하겠습니다:D', '요리에 자신이 없어 늘 가족핀잔백주부레시피를 따라했더니 엄마가 한거 맞나고 하네요감사~', '댓글에 카톡 아이디 남겨주세요.ㄳ', '오늘 추워서 다행이다 더웠으면 어절뻔했어 내가 쓴 댓글 상황 8월달 보고난 후 지금을 감사한다', '연락 빨리주시면 감사하겠슴돠ㅠㅠ', '아시는분이 계신다면 꼭 좀 알려주시면 감사하겠습니다.', '혹시 전자쪽 계통이신 분들이나유망한 자격증을 추천해주고 싶으시면말씀 감사드립니다.0', '맛집 장소 궁금 하였서 찾다보면 시간이 걸렸서 힘들었는데 쉽게 알려주심에 감사해여요.', '경험 있으신 분이면 좋겠지만 없으셔도 같이 고민해주시면 감사해요ㅠ', '그래도소비자를배신하지않아감사합니다', '이번에 양준혁선수대신 서용빈선수를1루수로 기용하신게 너무 잘하셨네요.', '일단 다른말이 필요 없을듯...형돈님 수고하셧습니다.!!', '다음 시즌때는 도시락 싸들고 응원 갈께요', '연예인들 전부이러면 악플러들 많이 사라질텐데 잘햇다', '후반에 얀센뻬고 손흥민 중앙이동이 신의 한수였다', '내고향 울진!', '연기는 연기고 사생활은 사생활 일 뿐~~축하!', '류제국 오늘 지렸다...ㅠㅠㅠㅠㅠㅠ', '이나이에 이정도 활약하는거 보면 전성기때 epl갔으면 씹어 먹었을듯.', 'ㅋㅋㅋㅋ난 코빅에서부터 양세바리 좋았어 ㅋㅋ 이대로 고정까지 가라 ㅋㅋ근데 양세형 안티가 별로 없네 ㅋㅋ 머리스타일이 초딩가틈 ㅋㅋㅋ 까불까불한 초딩 ㅋㅋ', '핸드폰 인증보다 아이핀인증이 아주 쬐금 더 편하더라.', '우리 집은 xp 아직도 잘 쓰는 중ㅋㅋ 사이트 안 되는 건 크롬 써서 하고', '폭스바겐같은 삼류기업이랑은 as나 서비스의 질이 틀리구먼 허허..', '???첼시가 이길텐데', '무도는 레전드만 내보내도 6개월은 떼울 수 있음ㅋㅋㅋ', '예능이 무한도전 이전과 이후로 나뉘듯 드라마도 도깨비 이전과 이후로 나뉠듯 정말 기똥찬 드라마 나왔네요^^', '야식은 치킨이 진리군 ㅋ', '루니가 축구 잘해.', '나라를 구한다는게 이런거지...', '지금 생각하면 유익한 프로그램이었던듯', '이렇다 저렇다 기자들의 말이 많지만 무한도전 특유의 재미가 있으니 그냥 믿고 봅니다.', '왠만하면 글 안 남기는데 정말 대단하세요 ♡', '재미있을듯 권상우 정준하도 홧팅.', '보수의 해체를 축하한다', '그래도 인생드라마는 확정인듯', '3월내내 맴버들 생일이 없어서 축하글 오랜만에 써요ㅠㅠ', '웃고 싶을땐 형돈이 형만 보는듯..ㅋㅋㅋㅋ)', '95년도에 일본과 친선경기때 처음 유지현선수를 보고 펜이되었습니다.', '무한도전 지피지기!!', '엘지 팟팅!', '연아언니가 한 경기를 매일 되풀이 하며 보고 있습니다.', '대한민국에서 김종민 모르는사람듵있을까요', '올해 최고 의학드라마는 태양의 후예~ ㅇㅇ', '스마트폰 꼭 봐야 편하다 왜냐 스마트폰은 내 친구니까 스마트폰 하트', '손지창 홧팅', 'Sk에서 시구까지하고 이미 그는 sk레전드입니다', '비와이 미리 ㅊㅋㅊㅋ', '이름 그대로 가요계의 신화.. !', '김감독 경질이나 자진사퇴 기사가 났으면여권을 불태워 버렸을텐데 ㅜㅜ한해동안 수고 많았어~~ ㅋㅋ메이저 가서도 승승장구하기를!!', '예술가는 예술로 사회를 이야기하고 지켜 나가야 할 책임이 있다고 말한 피카소처럼 선생님의처한 사회와 상황을 외면하지않겠다는 맹세에 존경을 표합니다', 'KBS 김태욱 특파원은 뉴스에서 보니까 지금 중국 상해에서 계속 계시던데 역시나 기자라서 그런지 글과 기사도 참 잘쓰시네요', '인생은 차우짱처럼!', '자기관리 철저한 김재중 의지가 약해서 실패하는 일인으로 존경스럽습니다.', '나의 황제는 나달이다.', '토트넘 동료들이 흥민이 훈련때 보면 잘한다 함 갑자기 잘하는게 아니라 원래부터 잘했다함 .놀랄일도 아니다함', '민경훈의 음색에는 어떤 특별한 울림이 있어자꾸 듣고 싶어진다. 이번 나비잠 완전 개취', '양키스는 좀 먼이야기 같긴한데 어쨌든 지금 엘지 진짜 잘함 타팀팬이지만 이건 정말 인정', '솔직히 현빈보다 윤아가 연기잘함', '오늘 첼시 경기력 지림', '서인국이 갑인듯....', '40대 남자가수들 중에 음원차트 올킬 할수 있는 건 박진영이랑 임창정 밖에 없을듯', '파이널보스 오승환!!!', '누나 가슴속에 3천원쯤은 있는거잖아요!! 화팅', '진짜 세상의 모든 어머니들은 대단하다.', '은퇴시즌에 타격폼 변화주는 진짜 레전드', '역시 요즘 칼럼은 박문성', '상당수가 할머니라는데 대단하긴한거다 박보검', '그렇게 캠벨은 두목님으로 아스날의 레전드가 되었지..', '앞으로도 10년은 유재석천하 일듯 싶다.', '경향신문 전병역 기자야말로 진짜 기자다.', '저부터 영원히 삼성충성고객될거같네요', '추카추카', '그중 단연 이승엽은 난사람이고 된사람으로 생각한다.', '전라도분들은 35만을 굳게 믿습니다.', '부상임에도 불구하고 그만한 연기가 나오다니요...', '연아 선수의 저런 놀라운 기록과 관중들의 호응은 쉽게 얻어지는게 아니라 경기가 있기까지 수 많은 연습을 한 결과물일거에요.', '그랑프리화이널 우승보다 연아선수 자신이 불안했던 자신을 이겨냈다는것이 더 훌룡한것임니다.', '이 모든 괴물들과 싸우느라 정말 고생했어여.', '고등학생 때 점심먹고 쉬는 시간에 함께 어울릴 친구가 없어 적적할 때 항상 영상으로 달래주었던 연아선수..', '탄핵집회 이것 저것 뉴스 검색하다가우연히 무도 홈피 갔다가 알게됬는데 용기 있는 행동에 박수를 보냅니다.', '호날두 와 세계최고답다..메시보다 우월한게 한두개가 아니군..호날두는 노력형이고 메시는 천재형..효율적인 축구는 메시가 더 나은듯', '그래도 인생드라마는 응팔이다 !-!', '엘지를 사자. 엘지가 이제 최고다.', '와 코리안시리즈 재패의 기운이 엘지를 향해있다', '외압에 흔들리지 않는 강력한 지도자', '이런상황도 같이 헤쳐나가서 이뤄내는게 진짜 무한도전인거같다', '엘지가 독립군 지원한회사 였다는게 왠지 어울린다.... 엘지 흥해라..', '수아레즈의 리버풀을 모두의 리버풀로 만든 클롭은 명장입니다.', '이세돌의 위엄......', '지금은 조금 늙으셨지만 예전에 영화 나왔을때 진짜 대박이였지.', '내가살면서 영화 같은거 극장에서 2번본거 인터스텔라밖에없음...진짜명작임', '피가되고 살이되는 야신의 말씀........', '그냥 꽃길만 쭉 걷자 ㅜㅜㅜㅜ 우리 앙순이들???', '코스타는 월클이다', '구글은 진짜 세계최고의 기업이다.', '그래도 상을 받아서가 아니라 우리의 오묘한 문맥과 정서를 이해한단 자체가 대단 합니다.', '몇년 몇십년후 노래를 들으면 아.. 하고 떠오를 그런 그륩', '챔스에서 30골도 대단하네..ㄷ..ㄷ..', '500살 넘는것도 있답니다. 정말 대단한거 같아요.', '엠비씨 사랑합니다♡♡♡♡꺄', '메시는 역사를 쓰는구나', '무 적 엘 지 캐 넌 히 터 김 재 현 !', 'All 방송에는 유재석님이 지만, Real 방송은 정형돈님이 정말 최고입니다.', '금방 사라지고 마는 스타들이 많은 우리 프로야구계에서 아저씨야말로 지존입니다.', '연예인으로 살다가 일반인으로 돌아가서 사는 것도 힘든데 자기 사업까지 성공한 거 보면 정말 대단하다', '구설수와 사건사고많은 연예판에서 살아남은거 보면 참대단한사람인거같다', '비난은 많이 받은 한해였지만 그래도 야구에 대한 열정 은 인정한다.', '역시 방위산업도 삼숭!!!', '대상 그 이상의 의미를 지닌 사람', '알파고를 이긴 유일한 인간 이세돌 역사에 남길~', '이렇게 한걸음씩 전진하다보면 인류가 가지고 있던 우주에도 다른 생명이 존재할까하는 의문이 풀리겠죠. 과학자 여러분 수고하셨습니다.', '리스펙.......', '할수있다 할수있다 ㅎ', '도날슨 야구감각 이종범 급이었다', '클래스는 영원하다 . .', '두 팀 모두 클래스가 느껴지더라.', '괜히 오랜기간 국민 MC라 불리는게 아니다..', '교수들 비리 파헤치고 시위도 한 이대생들 대단하다', '영국은 이래서 종경 하고 싶다.', '국내 최고의 톱타자는 유지현이라는거....아시져??', '쉽게 요리하는 백셈 최고입니다.', '지난시즌에서 이루어냈던 엘지의 집중력과끈기!!!', '순위에 너무 신경쓸필요 없을만큼 잘했어여....', '아무리 이병규가 못하더라두 이병규는 나의영원한 우상입니다...', '국내 최고의 왼손 중거리타자.', '김국진 지금도 잘 나가는 이유가 있다', '일본이라는 나라는 증오하지만 그나라 국민성이라던지 기업들은 진짜 존경한다', '여군이였으면 사령부에서 일했을 탁월한 인재', '3세트는 이번 롤드컵 아니 올해 최고의 명경기였다', '잘 되셔서 삼송, 앨지 견제할수 있는 능력자로 거듭나시길 바랍니다.', '루니는 맨유의 상징이자 레전드다', '용기있네. 부패정부와 부패재벌과싸움은 목숨걸어야하는데...', '무능한 떡검보다 훨 낫네!!!! JTBC 화이팅입니다~', '한획을 거신분이네요', '아이폰도 삼성따라 블루나오는데 원조블루는 삼성이 최고인듯', '숨소리까지 다르더라.', '별 생각도 못한거에 다 트집잡히네 힘내라 exid', '바마형님 고생하셧습니다 ㅠ.ㅠ', '와이지와 타블로의 힘이지.', '- 힘들때 연아선수의 올림픽 롱프로그램을 보며 힘을내는 팬드림-', '역시 차세대 MC...', '다른 누가 머라고 하여도...우리는 엘지트윈스의 영원한 팬입니다...', '대세 미존개오 정형돈~', '노래 만들고 안무 만들고 다같이 맞춰보고 진짜 고생했어요 ..', '오로지 무한도니교 뿐입니다...!!', '태후기록앞지르고대박나세요', '대한민국 역사상 가장 위대한 예능, 아니 가장 위대한 티비 프로그램 무한도전의 500회를 축하합니다!!!', '컴퓨터부문에 노벨상이 있었다면 저프로그램 개발자에게 줘야한다 정말대단한사람', '타격7관왕 이대호!', '갓영표 촌철살인 지렸다', '07-09 시즌은 진짜 넘사벽', '참석안해서 안줄줄알았는데 역시청룡', '김연아, 박태환, 김동성 국민적 영웅으로 불렸던 이들은 뭔가 달라도 다르다!', '저렇게 자신들의 나라가위험에 쳐햇다는걸알리려 올리픽출전할려는의지 아주 존경 스럽습니다 자국을 사랑하고 위하는 그마음 온세상에 퍼트려졋음좋겟습니다', '내가 아는 스트레칭은 몸 쭉쭉 늘려서 근육 풀어주는건데 김연아한테 스트레칭은 스쿼트랑 런지라니 역시 운동선수는 다르긴 다르네', '동물농장 미우새 모두 받을만 해요', '헌재화이팅', '유재석 김종민은 연예계성자다', '선수 개인 볼터치 하는 클라스부터 다르더라..', 'Jtbc 기자만 정신이살아있네', '박남정은 가수로써 그 시대 한획을 그었다..', '언제에서 어떤 자리에 있던지 영원히 엘쥐만을 사랑하며지켜볼테니..', '부진의 부진을 거듭해도, 배트를 들고 연습배팅에 여념이 없는 그 모습에도, 늘 힘이 됩니다.', '한번 LG는 영원한 LG입니다...', '주부로써 요리의 젬뱅인 저를 요리의 신세계로 이끌어주신 백주부님 제게는 신입니다', '예디 2015년 소처럼 일하시느라 고생하셨어요,', '사실 저게 쉽지 않은데 흉기가 있을수도있고 아무튼 용감하신분', '이해 못할 무슬림이었지만, 이것만은 기립박수쳐주고 싶다.', '정부는 세계적 망신이지만 국민들의 대응은 자랑스럽다', '10년뒤예디에게손편지쓰고꼭예밤음감회도갈께요!', '백주부님딸바보 되시겠네요', '백주부님을 보고 요리에 대해 관심이 생겼어요!!', '벌써 9월 5일이라는 시간이 다가왔네요!', '오늘은 무 한도전하는날~', '다음 시즌땐 꼬~~', '내일 시험끝나니까 내일 편지는 더 길게 쓸게요!', '호날두 이제 확실히 폼 떨어진줄 알았더니 귀신같이 다시 골머신됨 ㅋㅋㅋㅋ', '태연이랑 결혼하고 싶어요', '맨유 : 아스날 경기가 기대된다ㅎㅎ', '정말 국내에선 박병호나 손아섭이라는 톱타자보다 못했으나 국제경기에 가면 상당히 강했나보네~ 내년시즌 김현수 기대해도 좋다.', '오늘 12시에 형돈이와대준이 피처링 아이유 음원나와요^^많이들어주세요~', '저거다. 저게 바로 내가 기다리던 내 햄버거야', '이 기사 개꾸르잼', '예전에 술마시고 냉장고에 볼일본 사연 웃겼는데', '대놓고 ppl이 어색하지 않은 요상한 드라마 ㅋㅋㅋㅋㅋ', '티벳가기 편하겠네', '진짜.눈 깜빡이는 시간도 아까운 드라마~~~', '차태현 나오니 더욱 재미나겠네요..기다려집니다', '에릭 대박ㅠ못하는게 뭐예요?', '노래는 시바가 훨좋다.. 그리고..귀엽고좋다.. 활동을 몇번만 더하면 역주행한다', 'X맨 부활인가요?', '아 손호준만 보면 멜팅호준 떠올라 ㅋ', '시체팔이 실패 개꿀잼 ㅋㅋㅋㅋ', '아수라가 생각보다 재미가없엇고 럭키가 생각보다 너무 재밋어서 입소문으로 대박남ㅋㅋㅋ', '여성분들 시청률이 꽤 놓은데 역사를 알고 보는 입장에서 너무 흥미진진합니다', '그와중에 던파는 재밌더라', '누나는 식빵구울때가 젤 머싯어요', '양세형 대상후보랑 숏터뷰 형식으로 얘기하는거 윳겨서 그거보고 껏다 ㅋㅋㅋㅋ', '옵파그러지말고한번더보자!!ㅎㅎ', '면접 안보고 바로 최종합격은 아님?', '다음주부터 사각턱이랑 광대 눈 상담받으러 상담투어 갑니다 ㅋㅋ', '교복은 진짜 얘만큼 잘어울리는애 없음', '빼고 다 내스탈이야넌 내꼬♥♥♥', '키디 맥시프로로 제주도 여행 계획중입니다', '만능간장으로 꽈리고추 볶음 무지맛나서맛들려서 매일 해먹구요', '2010 올림픽이 열릴 벤쿠버 경기장에선사대륙 첫 우승!!', '그럼 저는 티켓팅하러!!', '그렇게 살다보면 언젠가는 사람들이 알아주는 날이 오는법이다.', '내일모레가 방학이예요!!!', '저는 취미로 요리를 좋아하는 사람인데....제가 평소에 원했던 프로그램입니다.', '앞으로는 다이아길만 걷게 해줄게요!!', '에이 날도 더운데 여친이랑 시원한 모텔이나 가야겠다 ㅎㅎ', '오늘 너무 웃겨서 앞니 빠지는줄 알았음! 서장훈 눈치보며 흘린밥풀주워먹고 조세호 표정 ㅋㅋ', '왜 난 말하는데 당황하는 모습에 개웃겼는데 ㅋㅋㅋㅋ', '그 와중에 게임하는 천명훈 개웃김ㅋㅋㅋㅋㅋㅋㅋㅋㅋㅋㅋㅋㅋㅋㅋㅋㅋㅋㅋㅋㅋㅋㅋㅋㅋㅋㅋㅋㅋ', 'ㅋㅋㅋ 이따가 또가야짘ㅋㅋㅋ', '조만간 김신욱 보려 스카웃터들 한국 방문할듯ㅎ', '걸그룹대첩보다 이게 훨씬 더 재미있다', '김정민 김구라 잘 어울리는데 그냥 결혼해라 ㅎㅎ', '메시는 그닥 노잼일거같고... 그냥 섭외한다면 섭외능력에 감탄할뿐 솔직히 재미는 없을거같다.. 족구하고 물공헤딩하고 그런거하고 끝나겠지.. 오히려 베어그릴스랑 메기잡기는 꿀잼일거같다 ㅋㅋㅋㅋㅋㅋㅋㅋㅋㅋㅋㅋㅋㅋㅋㅋㅋㅋㅋ', '결방은 싫지만 연속방송 해주고, 스페셜도 보여준다니그냥 넘어가야지^^', '콘서트 와이프 손잡고 가자고 해야겠다.', '처음엔 음악대장의 팬이었다면 이젠 국카스텐의팬이다', '레고는 시티 시리즈가 꿀잼이었는데 ㅋㅋㅋ 도로 판 사서 건물들 세워놓고', '오늘치킨시켜먹어야지ㅈㅈ', '아바타 3부터는 VR로 즐길듯..기대되네..', '아이유보다 혜리가낫다!', '김구라.확실한부정 웃겨요ㅋ', '낼 한화 승 기아 엘쥐 패하면 재밋어지겟다 ㅋㅋ', '옛날부터 존잘인데 왜 안뜨나 했었는데 이번에 배역 제대로 맡아서 뜨나보다 ㅎㅎ', '퍼거슨이 떠난 레전드감독의 자리를 이어받을듯!!!!', '이참에 화성산업 주식이나 사볼까?ㅎㅎ', '슈돌 섭외력 우주돌파', '앜ㅋㅋㅋ진짜 이성종 겁나웃곀ㅋㅋㅋㅋㅋㅋ', '누나 나랑 사귀자ㅋㅋㅋ', '조금 뻔하긴 하지만 연출이 지린다진짜', '땀노예 ㅜㅜ정재훈 선수처럼 대박치길', '야구는 어디서 하든 똑같다는말 멋지다.', '어휴 드디어 가네 이제 다시 무도 봐야겠다.', '둘이 결혼하면 안되나 잘 어울리는데', '두분 추카드려요다른 드라마에서 다시 같이 연기하는것 보고싶네요^^', '한국 좀비영화 중에선 기대이상', '투표개표가 이렇게 흥미진진할수가...', '이정도면 리버풀 승리', '이동욱 우와? 눈빛도 슬프지만 코도 입도 슬퍼 보인당~~ 이동욱 하드캐리~~', '자신이 하고 싶은 여러가지를 시도할 수 있는 환경이 된다는게 그저 부러워요', '한시즌에 3할대 타율에 100도루가 달성된다면 영원히 깨지지 못할 대기록이다!!!!!!!!!!', '커쇼마지막커브진심지렷다', '아마 인류사에 그정도로 완벽한 비주얼은 당분간 나오기 힘들듯', '38사기동대 꼭보세요', '여자친구 노래만든 작곡가 동상 세워 줘라..', '진짜 팥의 맛을 제대로 느낄 수 있는 파리바게뜨 국산팥빙수!', '아무리봐도 백쌤 만큼 손쉽게 맛잇게 빠르게 만드는 요리사는없는것같아요', '놀란이 비교를 하면 안되는 넘사 감독 제임스 카메론 ㅎㄷㄷ', '김구라보다는 100 배는 괜찬은 사람인듯!', '딘딘이 의외로 잘생겼네 무도에서 보니 못생겼던데.', '저런 눈빛 가진 남자가 한국에 몇 있을것 같냐. 알랭들롱에 버금가는 눈빛이다.', '멋지다 광주경찰 같은민족입니다 우리가 살고있는 민주주의의 시작은 전라도가 아니었을까요?', '폐지만하지마요 런닝맨 멤버들 케미보는맛에 봤는데 본방은 못봐도 재방은 꼭보는 방송', '지하철타고다니고. .귀여워 스타병도 없나봐', '민주주의 대통령은 이래야한다~~~', '안구정화하고싶은분 꼭 보세요ㅎㅎ', '같이 사회보는 장근석한테도 막던지던데 그분위기에 안정적으로 대처하는 장근석이 진짜 프로였다.', '결론은얘기가재미있어야한다는거지~김은숙짱~ㅋ', '박보검 얼굴에 홀린듯 한시간이 지나갔음', '그냥 커쇼는 어디서뛰든 잘던지는거다.', '젊은 보수들 강연하는데 보니 아주 똑소리 나더라..', '연기들이 개쩔어요', '오늘?공개한 1차 모션 포스터를 보니이건 꼭 봐야한다는 사명감이 든다ㅠㅠ', '쉬우면서도 여러가지하나하나 도전해볼렵니다.', '이제 연아양의 perfomance가 막을 내리기 전에 이 곡을 배경으로 연아양의 연기를 꼭 보고 싶네요.', '차우찬이 진짜 개승리자다 시기가 천운이네', '이진욱 별로 안좋아했는데 이번 사건으로 호감생겼다. 화난얼굴 존잘이드라.', '그래도 로우지 총총걸음 기엽자낭', '오~ 김동률 마음 씀씀. 선배가 먼저 게스트해주겠다고', '배우인생작은 아닐수도 있겠지만 진짜 내인생작 될각이네요', '머든지 결말이 좋아야하지만 도깨비는 그러기엔 엔딩전까지의 매 화들의 스토리들이 너무 말도안될정도로 작가의 뛰어난 창의력이 매번 돋보였다.', '한국에도 있으면 좋겠다', '진화라는 과학을 아주 재밌고 쉽게 표현해주셨네요!', '졸리같은 외모는 진짜 배우 역사상 전무후무 할거 같다.', '불의를보고 참지 못하는 좋은 분이시네', '빨리 괜찮아져야하는데 몬스터에서 연기 너무 좋아요~~~', '멋있다 시민들 더이상 우린 개돼지가 아니다', '이야 댓글 남녀비율이랑 나이대별로 나오네 크', '로즈 데뷔골 기억난다 아스널전 코너킥 상황에서 뒤로 흘러 나온 골을 논스톱 발리로 그냥ㅋㅋㅋ', '오승환은 메이저리그 씹어먹는 ing', '암울했던 나라가 희망의 나라로 ~~~', '오오~~바르샤가 좀 더 우승하겠는데~!!ㅋㅋㅋㅋ', '보통 사기캐여야지 여운이 안가신다', '인간비타민 보검이 ㅠㅠ', '수비도 잘하지만 공격 재능이 뛰어난 지단 닮은 선수다.', '영향력으로 칠거 같으면 괴델의 불완정성 정리 그 이상의 엄청난 수학적 성취인데 ㄷㄷ', '다같이 치킨을 논하고 여러 사람도 만나고또 정모도 자주 해서 리뷰하는 그런 카페가 목표에요!!', '세그룹의 올해나온 앨범은 진짜 명반이죠', '내년을 기약하며 무적엘쥐의 신화창조는 아직 끝나지 않았다!!!!', '식재료에 대한 해박한 지식..', '이젠 남자분들도 요리 까막눈 없어지는 신세계가 열리지않나싶네요.', '매일 TV코메디프로에서만 보다가여기와서 재석이형이 쓴글들을보니정말 팬들을위하고 누구보다도 열심히 노력하시는것 같아정말 멋있어보이네요', '예전에는 알지 못 했지만 투피엠분들 다들 인성도 좋으시고 사람이 참 괜찮은 사람들인걸 최근들어 알았어요', '역시 거미 찌질하게 질투난다는 유이보다는 백배낫다 ㅎㅎㅎ', '영화관에서한번보고끝내기아까운영회', '보검이 유정인 아마 탑스타될듯 ?', '이프온리 다시보고싶다', '오늘 장민재 공 쩐다 ㅋ 이러다 민재가 대신 메이져갈거같다 ㅋㅋ', '납득이 케릭은 진짜 길이 남을듯 ㅋㅋㅋ ㅋ', '오늘 라스 진짜 졸잼ㅋㄱㅋㅋㅋㄱㄱㄱ담주도 완전기대됨ㅋㄱㅋㄱㅋㄱㅋ', '카메오인데 주연포스드라마를 영화로 만들어버리는 김혜수', '아진짜라붐은>< 그런미녀가또있을까', '발라드는 진섭이형이나 문세형이 부르는게 듣기좋다', '광주는 그냥 수준이 다르구만...', '디카프리오보면 맞는말같기도하넹', '코믹버전이 덜하니까 훨 집중도 있네. 재밌다.', '노블레스오블리주.이서진', '역시 전거성은 옳았다', '이동욱 사극 어울림', '홍채인식이 혁신 그자체', '댓글이 장난아니네~ 빨리 다음회 보고싶다ㅠㅠ', '아니어느곳저승사자랑도깨비비주얼이저러냐ㅋ진짜환장하것다ㅋ', '하니는 천사임 날개는 잃어버림', '김종민 개인이 아니라 1박2일 팀에게 대상준다에 한표.', '지금까지 손흥민 경기보면 암 걸리는 기분이었는데 엊그제는 진짜 전나 잘했다.', '빅뱅은 월드스타라서 인기가요같은 무대가 이젠 어색하다', '저 우주에 저 별들이 둥둥 떠서 규칙적으로 해를 돈다는게 신기하다.', '쩔어 더킹에 택시운전사에 침묵의 목격자까지', '2G폰에서부터 지금 스마트폰에 이르기까지 그리고 디자이너에서부터 영화 주인공까지 어우러져 왔다니 앞으로도 기대됩니다.', '강하늘 진짜 짱 이준기랑 강하늘 없었으면 어쩔뻔 했냐', '그래서 사이즈도 더 팍팍 줄긴했겟지만~암튼 부럽.... ㅠㅠ 살을 뺀 의지도.....', '백선생께서 폭리를 취한것도 아니고 가격파괴와 혁신으로 오히려서민들 가벼운 주머니를 부담없이 해주셨다고 봅니다.', '평범한 재료로 멋진 요리를 만들어내는 마술사 같은 분.', '백선생님은 요리가 하고 싶어지게 만드는 능력을 가지고 계신듯 합니다.', '다른건 몰라도 미국의 표현의 자유는 정말 부러웡', '루니 왜케 열심히 뛰노.. 신인인줄', '구봉서 선생님 유일한 적통 후계자 거성 박명수', '박보검 멋있음 요즘 친구들이랑 맨날 얘기함ㅋㅋ', '커피프린스 이후로 드라마 기다렸는데 너무 기대 됨', '수명이 짧은 운동선수로써 엄청난 결정이네요...부인도활동하고 지금도 적은연봉은 아니니...멋있네요참ㅋ주장이라면 고려대상이 아니다..이말이참 감동적ㅋㅋㅋ', '이드라마의신의한수는 공유랑 이동욱', '너무 좋은드라마인데 몰라주는게 짜증난다..작가님 책으로 내줘요', '준재가 청이의 마음 속 말을 들을 수 있어서모든 기억이 돌아 오는 상황연출, 표현하는 이민호 대박이었슴', '월 화 는 구르미로...달은 연기자가 둘 뿐이라~~~ 구르미 흠이라면 유정이가 남장 치고는 너무 예쁘다는거.....', '단순한 반주에 수지 목소리 들어간 곡 몇개면 충분해 목소리가 넘나 이쁘니깐', '이제 자주 방송에서 봐요!!!!!!!', '진짜 시즌2 가자', '시그널도. 시그널이었지만 싸인이 저에겐. 너무 센세이션이었어요', '첨엔 좀 그랬는데, 열심히 하는거하며 형들 챙기는거하며, 겉으로 말하는모습하고 다른면도 많이 봤다. 군대 잘갔다왔으면ㅋ', '주인공들 모두 서로서로 캐미가 터지는듯 ㅋㅋㅋ', '미키 부상복귀골 지렸고', '막내 빨리 복귀해서 형님들과 완전체로 이멤버 리멤버하자', '놈놈놈 박창이 개간지~~', '흔하디 흔한 멜로들은 가라 함틋...', '원작 먼저 봐야겠네요~^^', '오스트리아 리그가 빅리그에서 오퍼 들어오는 리그다.', '생각해보면 김태균도 은근 혜자네...', '정확히 회피하면서 카운타 날리는데 그런 헛점 포착하는 눈 가지는게 쉽지 않은거지..', '진짜 11 12화는 내용도 연기도 레전드..', '중저음 보이스..ㅠㅠㅠㅠ', '지금 엘지에는 주전선수들이 부상으로 많이 빠져 있지만, 오히려 이런 기회가 더 두꺼운 선수층을 만들 수 있는 좋은 기회가 되는것 같습니다~!', '무슨 요린든 간단히 쉽게 그리고 핵심을 찌르는 비법을 전수!', '안희정의 부드러운 강인함과 인간적 매력이 승리하지 않을까 싶다.', '알바하고있는데어떤 아저씨가 공과금내러와서지로하고있는데아이고 이쁘네', '진주씨 계속나왔음 좋겠닺 진주씨땜에 고삐리에게 받은스트레스 풀어 넘잼있게보고있어', '내년이 더 기대되는 오승환이다.', '은지원이 말하는 좀비게임 대체 뭐길래 ㅋㅋㅋㅋㅋ핵궁금', '잘생긴게 아니라 느끼는데,인기많고 잘생겼다는 말 많이 들은 남자인데요.', '강아지들이 젤웃기고귀엽 막헥헥거리면서 허리 겁나흔듬ㅋㅋㅋㅋㅋㅋㅋㅋㄱ', '영화로 잼있게 봤던 마다가스카뮤지컬로 다시 태어났어요!', '요리를 전혀할줄몰라는데 요즘요리하는게 너무신기해요', '뽑아보고 안통하면 그냥 미디어 담당으로 써도 된다ㅋㅋㅋ 진짜 궁금하다.', '덕배 vs 흥민 2라운드 기대한다.', '순실아감방가자 게임 잼있음.', '제2의 비몽이면 진짜기대된다!!!', '꽃놀이패 우연히 볼게없어서 아빠랑 강승윤편봤는데 넘나 웃긴것!!', '가요대전에선 아이오아이가없어서 섭섭했는데가요대축제 기대합니다~', '아 기대된다 엑소 정규 3집 리팩이라니..!!', '유망주 딱지 때기 쉽지않은 엘지인데 그래도 이왕가는거 꼭 열심히 해서 풀타임 1군에서 활약하길 기대할껭‥ㄷ', '물론 어리버리한게 진영이의 매력이기더 하지만 ㅋㅋ', '함틋지겨워서 더블유로갈아탔는데 꿀잼ㄷㄷ', '남자 아이돌 그룹 빨았었는데 얼마전에 쌈자 매력보고 갈아탔음ㅋㅋㅋ', '어째 버락오바마는 실제 인물이 더 잘생긴듯', '역시 한화이글스는 신기록 제조기팀이네~~ ㅋㅋㅋㅋㅋㅋ', \"예전에 이수경 드라마 '며느리전성시대'의 이수경역과 현실이 비슷해서 신기ㅋㅋㅋ팬입니다\", '화면보는것보다 어머니들 토크가 더잼', '밀당보다 직진이 더매력쩔음', '다 필요없고 산다라박이 제일 예쁘다', '인성이네 엄마가 사기 당하는게 직업이냐고 !! 버럭할때 너무 웃겨서 ㅋㅋㅋ', '요즘 구르미 보는 재미로 산다', '이광수랑 노홍철이랑 배신자 동맹 맺으면 꿀잼이긴 하겠다.', '소소한재미가 피곤함을 풀어줌 걍보면 웃김', '싸인펜이나 물감으로 그림을 예쁘게 그리신 후 여름 물놀이가방으로 사용하셔도 참 좋아요~', ' 소량은 먹어도 인체에 해롭지 않고요.', '그래도 청문회 나온 놈들보다는 정직한 대답 한것 같다', ' 이런일 터지기전에 이미 계약 했을까?', ' 좀더 신중할필요가 있다...', '이번엔 베터리 색상은?', '근데 탈모도 아버지가 머리가풍성해도 아들은 탈모이고 아버지가 탈모여도 아들은 머리가 풍성한사람의외로많음.', '최형우를 잡으려면 계약금은 최소 연봉은 최대로....', ' 제작진 쪽에서는 이미 같이 하자고 했겠지.', '저 문 어떻게 여는 거예요?', ' 위안부 문제는 민간이 할 일이다,', ' 물론 극우파답게 초강대국 소련은 또 예외로 했다.', '테임즈 공격이랑 주루만 부각되는 경향이 있는데 1루 수비도 잘했음.', '보우덴 올해 마지막 경기인데 좀 더 던져도 되지머', '가을은 오호츠크해 기단의 영향받는거아니었나?', ' 이것이 공정한 사회요 법치이다.', '교육은 남에게 봉사 희생 헌신을 가르치는것이지..', '기사제목 개식상하거나 사심기사거나', ' 축구로 비유 하자면 호날두나 메시가 발롱도르 받는 거랑 같지 ㅋㅋ', '시민에 피해가 없어야 합니다', '생각해봅시다.', '기아가 수비를 못해서 과연 이길 수 있겠나', '혈액 검사하면 금방 알 수 있다', '여기엔 꼭 댓글 달아야겠다.', ' 휴게소로 따라갔더니.', ' 감독은 오늘 운좋게 경질 피했다.', '하지만 후반에는 변했다.', '브래드가 매덕스에게 자식에대한깊은사랑을 가지는게 가능할까?', ' 불난곳은 잘탈수있는 의류매장이 집중된곳이다', '지방이라서 참여 못한 사람들까지 합하면 100만명 200만명 이상이지 싶다', '미국은 손해볼것 없다', '여친 1위후보 떨어지니 오마이걸이 1위후보됬네', '누가 끝이 좋은 인생을 마감하게 될 지 지켜보자.', '수장인 태호PD가 여러가지 의견을 반영해서 결정하겠지~~', ' 근데 상민이형, 룰라 10집 언제나와요?', ' 올해에 마사지 업소에서 3번 냉동 기증했다.', '준비운동하는데 몇주씩 걸리네,', '진정한 보수는 젊은이들이다.', ' 별로다 싶으면 김과장으로 갈아탈거야...', '그건 모르겠는데 두산보다 약하다는건 알겠다', ' 한국이면 이미 계란날라왔다', '그게 판결에 영향을 줌?', '류현진급 한명 영입해왔네', ' 지금 어물쩡거리면 선거 땐 아웃이다', '우리나라는 특히 서울 수도권에서 터지면 인구밀도가 높아서 그어느 테러보다 사상자 클듯', '파스타는 2차세계대전에서 급격히 개발 되었습니다...', '저는 법학도이고 현재는 로스쿨에 재학중입니다.', '근데 솔직히 금액은 축소발표한게 거의 확실하지.', '인정도 안하는 일본 전 대사관과 영사관앞에 설치하게 정부에서 조용히 독려하는게 맞다.', '임창용은 걱정 안해도 된다...', '김종민씨는 절대 그럴 일은 없을 것 같아요.', '서울인구가 1000만이라고 한다.', '그래도 20년은 더 남았잖아??', '우리는 예전에 경제대통령이 있었습니다.', '전설의 기록을 깨도 마음 속의 전설은 그대로다', '시대의 흐름을 보니 트럼프 당선이 확실시 되는듯', '우리가 기억해야 할 것은 박근혜가 투표에 의해 선출되었다는 겁니다.', ' 유엔총장은 노무현이 밀어서 된게 아니다.', ' 분석은 도저히 전산기를 따라갈수 없음.', '전반에 두 골 넣고 후반에 두 골 역습으로 먹혀서 클롭 표정 썩을듯', ' 우리나라도 최저시급높아지면 알바안쓰고 자판기들이겠지', '지금까지는 커다란 단백질을 붙여서 유전자를 인식시킨 다음에 잘랐는데 크리스퍼는 조그마한 RNA를 붙여서 유전자를 인식시켜 자르기 때문에 좋습니다', '그럼 김구라랑 몇살 차이 안 나네..', '양세형은 맴버 된건가요?', '소년이 온다는 미래 노벨문학상 수상작이다.', ' 돌아가서 할일들 하고 월급 받아가~~', ' 그리고 미국 대통령이 다른나라 대통령들처럼 권력이 생각보다 크지는 않아요.....', '울집에선 이미 그렇게 보관하는뎅', '그럼 사드 배치 의지도 못 바꾸겠네.', ' 하긴 우리나라였으면 어땠을까?', '전동차 고장 시험한거니깐 1시간 30분 어치 임금 지급하세요', '난 개인적으론 첼시가 이긴다.', ' 연령층을 보니 집회 기획이나 준비 등을 할수 있을만한 대상이 아니던데..', '어제 뉴스 보니 해병대 고참이 설국열차처럼 후임의 영양 보충을 위해 먹이는 식량이던데.', ' 어린애가 둘이나 있어서 물건 가지고 가기 힘드니 담부턴 집으로 가져다 달라고 부탁드렸네요.', ' 아님 단지 지금의 문제를 내일로 미루는 미봉책인가', ' 체중이 정상인거랑 뚱뚱해보이는거랑은 달라~', '이제 지구엔 플라스틱으로 덮이겠다', ' 게임회사 본사 앞에가면 출현해요.', '남은 시간 안정적으로 경기를 가져간 바이에른이 승리를 챙기게 됐다', 'LG V20 지금 나오면 완전 묻힐텐데 갤노트7은 제품도 제품이지만 출시타이밍이 정말좋았다.', '친환경 도마 쓰면 자연보호되고 건강지키고 좋습니다', 'A조에선 우즈벡.이란이 나갈거 같은디?', '우리도 이렇게 해고가 쉬워야 젊은 친구들 일자리가 늘어나고 청렴해지고 건강해진다.', '산왕은 19년간 소리없이 강했다', ' 일부 사람들의 삐뚤어진 생각인 듯', '1000원만 있으면 하루종일 넘치게 놀수있지', '미국이 싫어도 중국과 친하는건 미래의 화를 부른다.', '미래 예언 해볼까?', '공격과 중원라인에 비해 곽태휘 빼곤 수비쪽 무게중심이 너무 떨어진다...', '이태곤씨 학창시절때 학교 짱이었을 만큼 싸움 잘했어요', '미셜은 트랜스젠더고 그의 아이들은 입양아 입니다', '저기가 요즘 부산레즈들 사이에서 핫플레이스라던데..', ' 기자가 자판을 어떻게 두들기느냐가 중요하지요.', '와.....근데 160으로 외야에서 송구하면 얼마나 빠를까', ' 아무리 명감독의 전술과 조련이 있더라도 기본적으로 선수가 좋아야한다.', ' 장사는 저렇게 하는 거이다.', '아이돌이라도 연기만 잘한다면 주인공이여도 진짜 상관없다.', '월급의 반은 무조건 저축하고 쓰던지하면 몇년지나니 통장에 몇천이 모이긴 하더라', ' 위조범이 자백하고 과학수사해보니 재료도 위조틀림없는디..', '그만큼 돈도많이 받을텐데 당연한거지', ' 아무리 강팀도 수비 일관하는팀을 이기긴 쉽지않다.', ' 예전에 화장실에 있는 거 잡으려고 모기약 반통 이상 쓰면 기절해 있음.', ' 소득불균형만 해결하면 끝난다.', '일본으로 돌아간 거 너무 궁금하다', '저는 2년째 양파를 기르고 있습니다.', ' 그거는 그냥 이의제기 하면 바뀌는건데..', ' 개와 가장 가까운 친척인 늑대만 해도 어떤 행동을 함에 있어 인간의 반응을 살피지 않음', '까마귀도 이쁘던데 왜 혐오라 그러는지 모르겠다.', ' 한국에서도 촬영하는군.', '일본에 살고있는교민이다 .', ' 세계유수의 메이커가 전부 중국에서 만들어진 OEM 아닌가?', '미국에서 왜 아우디 판매가 저조할까요?', ' 제주도는 10월 억새철이 참 좋습니다', '여러분 핸드폰도 자동으로 따라다니는 날이 옵니다', '남아공 마을의 주민들이 자신들에게 다른 기린들이 먹을 식량을 모두 먹어치워버리는 큰 기린을 사냥하도록 요청했다는 것이다.', ' 혼밥족들 신선한 쌀맛 볼수잇겟다', ' 영생교에 따르면 모든 인간은 신이라고 한다.', '안보신분들 보세요..', '입꼬리 한쪽이 올라간 모습은 상대를 우습게 안다는 뜻이다.', '요즘보면 영화나 드라마나 중국 수출 기대하고 만드는 것 같은데....', '국민투표라는것만 빼면 왠지 18대 대선하고 참 비슷한것 같다.', ' 새로 지은 집말고 헌집은 그런 집 많음.', '혜자,혜리,백종원중에 혜자도시락이 젤 낫지않나?', '요즘 한강다리 뉴스 뜸하더라~~', ' 러시아축협처럼 은행대출이나받아야할듯', ' 근데 여기대부분은 휴대폰 자주바꾸고싶어서 단통법이싫은게 열에아홉.', ' 신임 감독이 어떤 사람인지 모르니까 그냥 지켜보는 수밖에..', '더나은 삶을 위해 이혼했다면 그사람이 평생 참으며 후회하는 사람보다 낫다.', '호수공원 주변에 자전거,전동킥보드 임대하던데?', ' 나머지도 봐줘야겠지??', '죄짓고 증거 들이밀어도 모른다고 우기면 죄가 안되는건가요?', '무슨생각을 하고 있을까?', '이제 인생 후반전에 접어드니 먹거리를 볼 때마다 건강을 먼저 생각하고 수저를 들게 된다.', '수사관님들이 하시는 말씀이 있습니다', '난 지어야 한다고 생각한다', ' 참여를 많이해야 댓글 사라집니다.', '연료가 없어서 선회비행을 할 수 없다고 말하지 못한 기장의 책임이 가장 크다.', '저건 솔직히 포켓몬이라는 컨텐츠의 힘이지...', '고지방 다이어트 10일 해봤습니다..', ' 각국 방위성들이 예약할려고 줄설거야.', '건강하려면 골고루 먹는 게 중요함.', '다 받을 사람이 받은 듯..', '전쟁은 군이든 민간인이든 국익을 위해 필요 하다면 죽여야 한다는거 안다,,', 'S6처럼 공짜폰 되면 사야지', '껄껄껄... 이래서 최신폰은 두고보고 사야된당께...', '국가가 살아야 국민이 살터인데', '계속 머물게하나요? ?', '작년 이맘때 분명히 비슷한 기사를본걸로 기억합니다', '정현이는 장 지져서 손 못쓰게 되면 국민이들이 불쌍해서 용서할껀데 약속은 지켰다고', '출퇴근시 한여름 찜통더위여도 무조건 긴바지 입어야..', ' 훗날 역사가 말해줍니다.', '기브 앤 테이크 맞는디...', ' 요즘은 치킨 먹고 싶으면 언제든지 시켜먹는 시대인데.', '포치는 어차피 손흥민을 2선자원으로 쓰려고 데려온게 아님.', ' 손연재가 자기는 김연아급이라고 떠들고 다닌 것도 아닌데 말이지.', ' 그런 자리는 경차도 간신히 들어간다~ㅋ', ' 에휴 저런거보면 노홍철 음주운전 유도한 그때 그 사건이 이해가 간다.', '리듬체조에서 손연재보다 잘하는 선수가 있긴함?', ' 진짜 게임을 즐기려면 상황 파악 및 전달이다.', '부모 잘못도 있고 동물원도 담장을 더 높이 설치해야했다', '님이 인터넷 안쓰면 요금이 부과될 일 자체가 없습니다.', '근데 애플은 알고있지.', ' 그래도 기본 뼈대는 남아있다.', '노트3 3년째인가4년째 쓰고있는데 이제바꿀때네', ' 쥬라기 시대 같은건 없었습니다.', ' 오로지 법원만이 사법으로 분류된다.', '재계약이맞겠지.', '한국인들은 게임 개발을 잘하는게 아니라 게임을 잘하는거야.', ' 자신들을 위해서 일하는 사람 뽑으세요.', '예전엔 감기안걸렸는데 이제 40대후반 다가오니 감기도 자주걸리네요.', ' 대작 논란도 간단한 문제다.', ' 일 생각보다 할만하고 나중엔 힘든일은 시키면됨.', '홍콩에게 자치권을 줘야 발전이 있다..', ' 전기 에너지 변환 방식만 안정적이고 효율적으로 바꼈다는 거 아닌가요?', ' 그사람들은 매일 고기 버터 치즈만 먹는다', '가해자가 반성도 안하는데 피해자가 용서해 주는건 잘못이다.', ' 보통 사람은 다리 아파서 1분도 못 버틴다', ' 맨 위에 수식 사진이야 내 분야가 아니라 잘 모르겠다만.', '저때 5살이 였는데 tv로보던거 생생히 기억남', '순위 내라고 모셨는데 순위를 떠나서는 어불성설 아닌지요.', '오버워치도 현질성이 있지.', ' 역사는 역시 긴 호흡으로 봐야되는거여.', ' 한국과 중국은 그런 단순한 관계가 아니다.', '대체인력 기관사입니다.', '참고로 한자 또한 동이족의 문자입니다.', '필히 지켜질수있도록 관리감독을 철저히해라.', '그리고 나경원 원내대표 지지 55명이니까 결과적으로 55~64명 사이일듯', '이대호 일본가니까 의미없다', '이런걸로 비교하며 우리나라 격하시키고 싶지않다.', '10년전 구매한 42인치 LG TV 이제는 좀 고장났으면 좋겟다', '일본은 정기권끊어도 한국보다 비싸요..', '코치들은 투수의 담력같은건 계산에 안넣나?', '리버풀로 와서 클롭한테 배우면 되겠네.', '미국에 안팔면 그만이지..', ' 결함이 있으면 사과하고 조치를 취하는게 옳은 일이지', '911보셨나요?', '시대가 요구하는 사람이 대통령이 된다...', '사실 정부에서하는 합법도박은 돈을 다 잃게 됩니다.', ' 전문 기업경영대표를 세우고 회사를 이끌겠지.', ' 황박사에게 다시한번 기회를 주고 황박사가 자기돈을 쓰건 말건 상관하지 말아야 한다.', ' 처음붙는 팀이면 당황할수있는 전술이니깐.', ' 많은 사람들이 기부 못할걸요?', ' 굳이 아이폰 공부할 필요없이 다른 안드로이드폰 많은데...', ' 그것이 최소한 넥슨의 명예를 지키는 길입니다.', '양평 계곡에 와있는데 춥네 벌써 가을인가~', '김구라가 그렇게 나쁜사람은 아닌것같아', '게임 강국이 아니라 게이머 강국 아닌가?', '일반인들도 저정도 사고나면 면제거나 공익인걸로 아는데', ' 결과는 알수없으니까요', '그리고 강하늘 고등학교 때 사진봐봐.', ' 합법화된 나라에사람들이나 우리나라사람들이나 결론은 자발적으로가는겁니다', '그냥 건강한 체질인 것 같아.', 'WBC 망해서 열받는건 잠깐이고 메이져리그 시즌은 길다', ' 한국이 짱깨 보다 먼저 화성 간다.', '저렇게 전압체크해서 정상이라고 판정 하면 교환이 안된다.', '강원도 화천 계신분 오늘날씨 어때요?', ' 한국에 오는 중국 관광객들은 중국에서 중산층이다..', ' 다들 반감이 크겠지.', '중국산사는 놈들은 무슨생각으로 산거지? 돈 쓸데가 없어서 그런가?ㅋㅋ', '덕분에 소아암에 대해 모르던 사람들이 알 수 있게 해주는 계기도 될 듯...', '절약한다고 욕먹는 옌옌 첨이다 그게 큰 잘못이냐', '아주 깨끗한 물에서 수영해본지가 언젠가....', '잔잔한 물결이 큰 파도를 만드는 원동력이 될 수 있다. 10분의 3도 결코 작은 수가 아니다.', '이런거 해봐야 일본이 겁먹냐... 비웃고 말지..', '인간들은 너무 죄가 많다', '나도 이 병 걸렸었는데 안구돌출 심했음..', '주댕이도 삐뚤고 씨부리는 말도 삐뚤고', '보검정말 좋지만 기사제목이 자꾸 걸리적거리네....!', '그럼샤오미도 배상하라해라', '아이폰은 스그가 진리다.', '월드컵 미나인줄 안 사람 아재인증이다ㅋㅋ', '이게 속보냐?', '무죄라는것도 아닌데..', '글고 보니 밥 먹는걸 못본거 같은데 혹시 밥 말고 다른거 먹는거 아녀??벰파이어??', '영장을 왜 기각했는지.참 기막힌다.판사야', '밉상, 빨리 잡아들여야되는데', '트럼프, 아베, 최솜실 믿고 사드 들여와 푸틴 시진핑과 척을 진다? 현명할까?', '이 상황에 짱깨들 무비자 입국 어서옵셔.', '지도자를 잘못뽑으면 나라가 개판된다', '개인주의라는 부매랑은 던지면 피해는 다시 돌아오게 되있다', '일본 야후 들어가봤는데 국내(일본) 뉴스보다 한국 뉴스가 더 많았음', '군대갈려고 머리 짜른줄', '작가가 시킨대로 했을건데', '이래서 tv는 스탠드형은 위험해 벽걸이로 설치 ㅡㅡ 새우튀김도 밖에서 먹자', '오늘 저 북한군 닮은 떡검보 색희 발표 후 주식 시장은 폭락하고 환율도 8원 이상 올랐네 ㅋㅋㅋ', '차기 대통령 후보 1순위!황교안 각하! 종북을 척결해 주세요!', '미주야 너는왜 잘안나오니', '아프지 않아서 계속던지다 아파서 안던지게되는게 아니라, 아프기전에 관리가 되어야 하는것이다.', '된장이 폭발했다고 똥을 먹을수는 없지', '부결되면 혼돈의 대한민국으로 화염병 나올듯', '스포츠에 타어강 같은 기사인가..', '지금 jtbc 세월호 침몰한다 꼭 봅시다', '결론은 박근혜입니다', '두번째 꼭두각시', '한국이던 대만이던 낮선이가 먹을거 주면 의심부터 하자', '난 또 뭐하는 사람인가 했네..', '마르크스주의가 실현되기는 힘들지만 인류가 궁극적으로 추구해야할 이상향이라고 할 수 있다.', '한국에서 찍는 이유가 제작비 지원 해준다던데', '이단장 너 팀성적책임지고 나가야지!!', '탄핵이 인용되면 바로 구속시켜 버리세요.', '반토막 나면 또 모를까...', '당연하고 지당한 결과', '호일 그럼 아무작에도 쓸모가업네', '이 일본놈은 고개 숙이는게 일이네 ㅋㅋ', '업댓 해야돼 말아야돼?', 'IS 가 폭탄터뜨리는게 아니라 정부에서 폭탄을 돌리는구나', '6만명이것지..?', '말 한마리가격이 얼만데?', '부결시 여의도에 모이자', '그걸 세금으로 왜 들여온거임?', '12일에 만납시다', '... 이모티콘인줄ㅋㅋㅋ', '공짜돈 쓰는게 임자입니다', '미국식 형사처벌과 징벌적 손해배상이 더 중요하다면 찬성. 박근혜 탄핵이 더 중요하다면 반대 눌러주세요.', '그래봐야 노트북 어딜가든 피시방이 있는 대한민국에서는 필요없음', '이명박 박원순 신동빈', '과잉충성은항상선의피해자가생기고정신적문제인으로오인받을수있다..', '폭탄사용 안해도 사망자가 100명을 넘길 수 있구나..', '다필요없고 트럼프당선됨', '대구는 월급도 짜고 그나마 괜찮게 주는곳은 근무시간이 길거나 근무강도 빡센곳 그나마 노른자자리나면 경쟁률 심하고 그래서 대구쪽에 공대생들은 취업하자마자 경기도나 울산이나 구미로뜸 그러니 인구유출심한거', '대한민국 아시아 강호 아냐', '꿀벌이 사라지면 인류도 멸망한다', 'A 이후에 푸쉬해줬어야지....', '보도에우울한기자입니다로 본건 저뿐임???', '앞으로 특정정당에서 특정후보가 대통령되면 무기구입보단 무료급식, 주한미군철수, 국보법폐지만 외치겠지', '인터뷰하는 반기성씨도 반성하세요.', '똥폰만 쓴다면 통신비 낮아진게 맞다.', '솔직히 공익 부러워서 까는거다', '이대은은 뽑을려나....', '아이고 의미 없다......', '그래서 인천은 몇 백만임??', '후진 넣고 풀악셀!!!', '법인세 걷어서 충당하자', '백야 김좌진 청산리전투', '이름은 그럼 별옥수수인가?', '아이패드 에어1 아직까지 쓰고있는데 좀 고장이 나야 바꾸던지 하지.', '국민의 알 권리가 우선이지 국익을 위한다면 쟤네 세금이나 제대로 내라고 해', '짜장면 현금ㄱㅖㅣ산시3인곳도 아직있다', '촛불 최대의 적이 될듯 ㄷㄷㄷㄷ', '그거 할 돈으로 교육복지환경 개선합시다', '질서있는 퇴진이 탄핵이다', '몰매를 맞을만하니까 맞지요', '서로 안주고 안받기 운동 캠페인 합시다.', '공원가니 수두룩하던데 참 한심하다 ......', '마인드컨트롤무기 현재에도 사용되고있으며 저는 피해자입니다.', '이미 생각읽는시대는 와있다.', '닥치고 한미합방하자', '일본은 솔직히 우리보다 부자인데 뭘도와주냐 에콰도르는 도와주자', '드디어 깨어나는건가?', '이재용이 찾아와서 무릎꿇고 사죄하고 교환해 달라고 요청해야 환불하려나 보다', '0.1%대가 대부분이다.', '부자 감세란다 ㅋㅋㅋㅋㅋㅋㅋㅋ', '서울은내려도거기서거기.', '삼성변호사넘들이 보통이 아니니 꼼꼼히준비후 영장청구하세요!!', '차우찬 국제 대회서 삼진 페레이드 한거 말곤 딱히 임팩트는 없는데', '이제 이슬람도 바뀔땨가됐다', '화력발전은 미셔먼지 원자력은 방사능 위헝 때문에 증설이 어렵다. 양해하시오.', '골프스킨 주먹파워 정말 센듯 ;;;', '굳이 해외 안가도 된다 국내에 공장 짓고 신규 인원 뽑고 복수노조 세워서 기존 노조와 비교해봐', '일당 얼마짜리 알바?', '이웃집 사람이 우리집 청소?', '연예인들한테 뭘 그리들 신경쓰냐? 니들하고 하나도 관계없어.', '방구가 잦네요~~~~', '폰보면서 계단 내려가다 발목 접질러서 몇개월 고생한적 있는데 진짜 이거 조심해야함 생각도 못한순간 다침', '악플러보이면 신고하기 눌러주세용', '장마가 오긴 왔었나?', '이쯤되면 대표인 본인이 제일 문제인걸 알아야할텐데', '나라 버리는 놈은 뭐다? 나쁜놈이다', '앞으로 진행 안하셔도 될 것 같은데..ㅋ', '이런 쓰레기들은 소각하는게 답이다', '마치 북한의 주민 사상비판의 모습을 보는것 같네..', '솔직히 오바마 케어는 망한거 맞다.', '미국이랑 부칸이랑 한판 싸울것같은데 올해안에 ㅋ', '객관적으로 조작과 함정의 냄새가 나는것같다', '트럼프 사위 되고 싶으신 분 ? 추천 ~~^^', '하이바써라 못알아보겄다 ㅋ', '아이폰은 큰모델쓰면 삼성 개바르드디 갤7박히면 플러스모델과비교해야되는거아니니', '201600302는 문서번호다. 날짜가 아니란 말이다..', '루이가 일등 했음 좋겠지만 시청률이 뭐 중요한디다 잘 마무리 하길', '사고치가 쫒아내는거겟지 조만간 기사뜬다', '약물했는데 왜 기자가 쉴드를 쳐주지?', '중간고사 망치고 기말고사 잘봐야지 하는 느낌인데?ㅋㅋㅋㅋㅋㅋㅋ', '느낌이나 관습보다 과학을 믿어야 한다.', '통신사 기본료 없앨때가 왔다. 기본도 못하는데 기본료는 왜받냐', '태풍 오는데 무서운줄 몰라. 아몰랑 차 뺄거야', '추가적인 자료가 뭐 있어야 주지.', '빅피쳐가 한국에선 쫌...', '세금 낼 돈 없다고 했지. 내가 먹고 놀 돈 없다고 했냐?', '전두환이 최고의 리더로 보일정도다', '연봉자들은 쉴만하죠...시급제는 쉬는날 너무 많으면 쩐이 않됨.', '아니면 아닌거지 확실하지 않으므로 맞다ㅋㅋ 고마츠 나나와는 아직 썸일수는 있을거같음', 's사 이휘재는 욕 많이 먹고 있음ㅋ 작년 전현무처럼 될것같은 느낌', '참 말못하네?누가봐도 말학교좀 다녀야될듯', '다들 그만큼 일하다다른 직종도 그 정도로 월급 올려라~', '초기 접속이 힘들어서 20마리 잡고 앱 지움...', '이 세상을 다 얼려버리겠답~ 프리징블리자드!!☆ 이얍!!', '부품이랑 살때받았던거 다 들고 가야되나?', '취소했다고 발표 하는줄...요구하기로 했다는건 머임?', '박그네가 어론에 못보였나전언론이 죽일러고 달려드네', '인공지능이 가장먼저정리할 대상이라더라 ㅎ', '국민 대다수가 해당하는 5만원 이하 요금 누진제는 유지..월 40만원씩 전기쓰는 집도 드물지..', '북한이 경제적으로 못살지만 서민에겐 헬조선보다는 낫다는 엄연한 사실이다', '테임즈는???????????', '교회 11조 카드로 가능한가요? 진심 궁금 하내', '삼성 소프트웨어 입사조건1순위 소연고대 최고 학점2순위 토익토풀 최고 점수3순위 프로그램 개발능력', '이제는 국회마당에서', '나 한테 오면 맨날 백원씩 주는데', '삼계탕 자주 먹다보니 맛 없어서 요즘은 다른거 먹고 다님...', '아이폰으로 보고있는 사람 손', '내교과서물려줘야겟네', '매북 강등 정의구현!!!!', '스탠드 켜고 일한답니다.', '트럼프는 바보 같군 미군이 동맹국에 영향력 행사위해 파병한거지ㅠ지킬려고 파병한걸로 아나보다.', '음.... 마취총을 쏘는게 보통 아닌가?', '세살버릇안마 여든까지 간다', '왜 난 트럼프얼굴만보면 웃기짘ㅋㅋㅋㅋ개그맨같음 말하는거랑 생김새가ㅠ', '작가 발언 이해해 줍시다.. 알고 썼다고 하면 밤길이 얼마나 무섭겠어요 ㄷㄷㄷ', '무도 복귀도 너무 기대하고 있어요. 건강은 좋아졌는지 궁금하네요.', '삼성의 올시즌 박석민,나바로 빠졌었음', '나만의 철학을 만들자', '나라가 잘되야 차도사고 그러지', '무도빼곤 다 할거에요^^', '집에 삼성 엘지 tv 두대 있는데~솔직히 화질은 엘지가 좋음~', '꽃할배가 보고 싶은거지 흔하디 흔한 방송상의 젊은 연예인 러브라인을 위해 본 게 아니다', '나 드라마 안봤눈데 공유가 고블린이야??', '잉글리시 프리미어리그 우승 경력은 없지만..', '이제 엘지랑 호흡맞추면 또 엘롯기', '결국 철도가 답이네', '오늘부터 당신 책은 우리집에서 사라질거야', '주먹감자에 비하면 애교수준 아닌가??', '그 가면을 이제 벗으시오', '땡!!! 다음!!! 안됩니다! ㅋㅋㅋㅋㅋㅋㅋㅋㅋㅋㅋㅋㅋㅋㅋㅋㅋㅋㅋㅋ', '폭망은아닐것같은데 상대적으로 손이작은남성이나 여성들, 기존아이폰5사용자등 수요자들이 꽤있을것같다', '때로는 무위의 삶이 필요하기도 하죠.', '기사 주인공은 천주교 신자인데.', '저 머리는 얼마나 걸리셨나?', '흰달걀있네', '솔직히 좋아하는 사람한테 한번쯤은 써보고 싶다..', '엘지는 은성 천웅 형종 석환 강남 상우가 제대로 풀타임뛰어야지', '각본을 써줬구만..대사를 줄줄줄 외네..', '쓰레기단체와 보수를 구분하자.', '님 주제나 알고 다니세요;', '어제 서울구치소 직원중에 윤선찡 똥구멍 검사한 직원 개꿀 빨앗노~', '우리나라 대통령좀 스카웃 해가시죠.', '난 밤눈 어두우니께 뒤에 등 안달은 넘들은 알아서해라잉~ ㅋㅋㅋ', '아직도 이런 나라구나....', '소미양은 나중에 JYP돌아가면 공식 솔로 아티스트로서 활동한다는 기사를 어디서 봤던거같은데 혹시 제대로 아시는 팬분들 있나요...?', '군사용으로 쓰기에는 너무 느리지 않나.....', '요즘 갤럭시노트5 얼마하나요', '캄플라데가 천천히 죽여준다네 순실아', '현실에선 유시진같은 구조는 없습니다...', '이휘재와 비교됨', '불타는 노트7이 더 매력적으로 보이는 가격이네...', '중국 유난히 발로하는거 못함 손으로하는 운동은 좀하는데 발은 거의다 의족수준 해외나가잇는 중국선수 본적이없음', '이미 아침에 일어나면 깜놀할 수준임', '조선족타운이네 ㅋㅋ', '느그탄 맨유에서의 마지막 여행~~~!! 느그바 맨유에서의 새로운 여행~~!!', '요즘 십대들 정치에 관심잇고 좀 이상한듯', '요기 비온다 당진', '과거를잊은민족에겐미래는따위다', '나이가 70세가 넘으시면 운전면허와 투표권은 국가에서 회수하면 좋겠다고 69세이신 어버지가 말씀하신다...', '솔직히 대한민국에 삼성만큼이나마 고객 무서운줄 알고 챙겨주려고 하는 회사가 몇이나 되냐?', '건강식품 판매원같아', '사이보그 폭행에 최홍만 일라운드 케이오패됨', '실제 스타일은 어떨까..진짜 궁금..', '4~50대에게 8년이란 시간은 누구에게나 비슷하게 적용된다 정도의 차이가 조금 있을뿐', '티볼리 좋은가요 아시는 분 평가좀', '백배동감..남편만이 남의 편', '맨유의 차도남 ㅡㅡㅋ', '왜이렇게 빨리 주연을 맞지..?', '기자가 옹호해주는 건가?', '서문시장 갈때 컨셉은 나 걱정!', '모든선출직에대한국민소환제를반드시도입해야되며,당장은대통령결선투표제부터도입해야됨.', '갤빠들은 분노하는군 ㅋㅋ', '일본 j리그 가야 한다고 본다', '세계 200여개국에서 주요뉴스로 다뤄질듯..정치는 썪었지만 국민성은 세계최강이라고..', '야구선수는 실력으로 보여주면 된다 ㅎㅎ', '이제야 좀 겨울이 겨울같네', '동성애관련 병에 관한 사진 봤는데동성애는 사랑이 아니구나', '넥슨이 돈슨이라 그런것도 있지만, 헬조선 특성상 넥슨은 실패할 수밖에 없음', '일본처럼 동남아나 조선족 엄격하게 관리하는 나라에서는 몇몇 자국인 빼고 크게 문제될거 없을듯', '근데 네이버 댓글은 남자가 여자보다 항상 많다', '경찰추산이 얼추맞아 떨어지는경우도 있구나!', '인원수로 계속해서 뻥치네 ㅋㅋ', '일단 돈은 챙기시지..', '이석기나 풀어줘라.', '맛도 맛이지만 고퀄에 박리다매만 살아남더라 요즘엔', '동북공정도 역사왜곡', '썬더는 확실히 원전에 있을것', '바로 얼마전에 비정상회담 나오신분 아닌가?', '민의를 호도 하지 마라.', '삐빅 홍어들이 몰려와 깽판칠 기사 입니다', '재물이란 오물과도 같아서 쌓이면 악취를 풍기지만 그것이 세상에 뿌려지면 땅을 비옥하게 만드는 거름이 된다.', '박도섭 검사가 김단씨 좋아하는 듯?', '오늘 손흥민이 못한게아니라 패스가 없더라...', '트럼프랑 닭이랑 비슷하구만.', '서건창 스크이적하겟네 ㅋㅋ', '저 여자 신상 공개 해서 또다른 피해자가 안생겨야한다고 봄니다', '벌써 삼성이 저러면 헬조선 망했다 보는게 맞네', '어차피 서울부산 8시간 걸리는거 편하게가느냐Ktx로 빨리가느냐의차이다', '이휘재 알바 슬슬 등장하네', '본인도 문제가 있었다는 부분은 알겠지만 부모와자신의 명예적인 부분 때문에 절대 인정하지 않을것입니다.', '미국이였으면 넌끝났어', '아 이래가지고 고3인데 요번주금요일 학교 나오지말라던데', '왜 오래살까?? 그것은 자외선을 쬐지 않기 때문에.. 인간도 자외선을 쬐지 많으면 오래살수 있다', '요리할때 깨스사용시 독성물질 다량발생합니다 전기깨스렌지 사용하세요 업체아님', '말 한마디 툭 던지고 끝?', '대한민국에서는 법을 아는 사람들과 법대로 하자는 사람들이 제일 무서운 괴물들이죠...', '인천 송도에 눈이 옵니다', '이래서 외교에 영원한 우방이란 없다고 하는거지.', '흑인92퍼센트 힐러리 지지', '역대 미국대통령들중 가장 무난하고 탈없었던 대통령', '미리 비옷 챙겨놔야겠다', '헌재가 부역자 집단인지 헌법 수호단체인지 조만간 알게 되겠네요.', '며칠전5프로 아니었나?', '제주도 밑에 우리땅 있었지않았나?', '여자든 남자든 바람둥이들의 필수폰이 되겠군~', '김영란법위배기사인지 확인해봐야할듯', '조이한테 관심없고 소현이한테 관심은 육성재~ 기사도 봣겟네~~ 보는 눈빛부터 다를껄', '차우찬은 진짜 애매한 포지션이지. 투수로 보면 얼마 더보태서 김양사는게 훨이득이고 비슷한 가격대엔 황재균도 있고', '전교조 선생들은 커밍아웃하라', '여배우 얼굴이 여주급은 아님', '이거 분명히 정신병이 있는게 틀림 없는데 연구 할 만한 케이스다.', '영하20도는 되야 약간 춥구나하지', '김재규가 아른아른', '법데로 조속히 처리해라.', '솔직히 1박2일 지킨건 김종민이지..', '시민의식이 얼마나 중요한지 보여주는예ㅋ', '주작충이 이미 체육관 다 점령해서 뚜벅이는 할수록 손해 ㅋㅋㅋ', '한화 3연승하니. 이런기사 나오는구만.ㅋㅋ', '걍 관광지서 평화롭게 살아요 심심하면 가이드라도 하던지', '꿈은 메이져 평가는 마이너 현실은 kt', '근데 외국선수만 사와도 중국축구가 발전함?', '트럼프 비선실세는 누구냐.', '이걸로 하메스 첼시행은 거의 사실화 되는건가', '마치 노 고무현 대통령과 흡사하네요', '야..... 나중에 저 두명 이대 상대로 소송걸면 어떻게되는거지?', '당연히 오바마 대통령께서는 백인을 대표하시죠', '빨리 기어핏2 풀려라 ㅎㅎㅎ', '그냥 그럼 축구장을 하나 더 사', '저런 음속열차는 한국같은 좁은 나라에서는 고작 대전 대구 부산만 연결할 수 있을 뿐이다. 상업성이 없지.', '아르헨 애들은 항상 향수병에 기량 출중한데도 꼭 아르헨으로 돌아가더라', '찌라시 아니냐??', '그냥 다른일 해라', '목성이 그래도 태양계 탱커인데', '기억에 맨유를 끝으로 은퇴한다고 했던거 같은데 인제 그냥 후배들에게 맡기셔도 될듯한데', '송승원에 악역 상상이 안가는군', '집전화도 바꾸고 티비도 바꿨다.', 'ㅋㅋ 자판전사들 신파 들어가나요~~', '전쟁으로 중국도 미국도 이긴 위대한나라필리핀', '불가능할것같은데 cctv에 번호판다찍히는데', '잘하건 못하건 그냥 팀에 여자있으면 흥분하는 애들 쫌 있더라 ㅋ', '저게 눈이지!!! 20cm 내린다 했으면 미리 준비 하면 46도 걱정없을텐데', '내수용으로는 정말 오지는구만ㅋㅋ', '그 김상수가 아니었구나..', '30년뒤엔 주인 머리위에 동동 떠다니는 장바구니 나올것같음', '갤럭시s7 이나 노트5 쓰는게 더 좋지 않을까요?', '마치 한국인 없으니 우린 상관없는거 같이 말하네 ...', '북돼지들이 공산주의자가 아니듯 is도 이슬람이 아니다', '이선화.최고 여자기자상 받으려고?', '최수종 사극에 중독된거 같음..ㅋㅋㅋ', '최초 신고자가 항공기 기름값도 아껴 줬구만.', '첼시가 조 앨런 영입해줬으면 좋겠다', '필리핀같은 막장치안은 막장경찰로 대항하는게 좋음', '불과 얼마전 포스트시즌때 엠스플에서 본선수가 바로 건너오다니', '아버님 일단 딸 얼굴보고 판단할게요..', '삼성 마케팅 직원 여러분 여기서 이러시면 안 됩니다.', '잘난사람에대한 못난사람의 땡깡', '박그네 최순실 정유라 니들 보며 가정교육의 중요성을 느낀다', '그럼 고기를 줄여라', '아버지 부시는 아들이 성인이라 백악관 같이 안 데리고 갔는데 아들이 자기 힘으로 들어간거네', '우리나라에는 노무현이 있었고 미국에는 오바마가 있었다', '모든걸 로봇이 해주는 미래에서 구지 인간이 노동에 종사해야 할지부터 고민해야 될것 같다.', '탈일이 없는 구간이구만', 'ㅋㅋ무도 김태호인줄', '탁재훈은 이상민이랑 나올때 가장 재밌음. 다른프로나온건 다별로였음.', '중국애들 베트남애들 안보이네?', '둘이 달에 몇천은 그냥 벌겠지???', '알파고가 데자뷰라도 시전하는건가ㅋㅋㅋ', '여주 남주가 드라마에 끼치는 영향', '이거왜함? ㅎ ㅎ ㅎ', '나만 맛없어하는건가?', '보농은 언더가 답이라던데 맞나여?', '저거랑비스무리한거 잏는대 정부야 3억만주구사가라 웅', '여친꺼 kt 골드 예약한거 출시하루전에 나왔다고 연락오던데....', '저런말 하는거보니김경문 다른팀으로 가겠네....', '역시 DTD는 무시할수없다', '안버리는 국민성 때문에 호황', '뱅기 안에서 스튜어디스 돌아다니며 압수해야', '안치홍 선수 삭힌 홍어 먹나요?', '가운데 둘만 인정!!!', '메갈리아에서 밀고있는 여자연예인 2명 : 이국주, 박나래', '가치관때문에 아무데나 못가지서로 불편하니까', '몇몇의 신분을 과식하는 승머자체을 없애는건 어때요', '메이저리그에 안 간게 그나마 다행이다.', '별 의미없다고 본다', '음주운전 관련법을 더 강하게 해야함', '토요일 일요일은 춥겠다 이젠 35~37도 견딜만하다..', '저돈은 어디서?', '그만좀해라 토일이면 충분하다', '국방백서에 주적을 일본으로.해야 할듯.', '우리동네 13000원', '벌써 제대네', '횡단보도 나 인도에서 자전거에 치이신 분들 꼭 경찰에 신고 하고 피해보상 받으세요. ^^', '잊을만하면 어글잡는 기사 뜨네', '동물원이랑 수족관을 없애면 되겠네...', '탈세는 기본이요. 탈색은 덤이로다.', '일단 일본인처럼 생겨야지;;', '포켓몬 자체가 드물게 나옴.', '중국국대보다 한국국대에 더 관심이 있는 것일 수도?', '한국은 유출당해도 솜방망이 처벌받으면 지나가는일', '근데 솔직히 위에붙은 나무잎을 먹기위해 목이 오랜 기간(몇만년)에 걸쳐 길어졌다는 진화론은 맹점이 있음.', '핼로비너스는 유아라가 탈퇴한 후 이미 잊혀진 그룹 아닌가요???', '마약사범에 대해 우리 국민들을 사형 시키는 것을 중지하고 우리나라로 범죄자를 넘기기나 해라~~', '해운대인데 방파제 부딪히는 파도 10층높이는 될듯합니다', '이만하면 약재환이 아닌 갓재환이다.', '거품 크보리그 양현종 잡을라면 110억이상은 줘야 될건대..', '맞습니다 언론은정확한내용만전달해야합니다', '엄중히,철저히,정확하게,털끝만큼의의혹도없게수사해주십시오', '뒷북을 울려라 둥둥둥~', '아예 학교가 이사를 와야 할 듯...', '전처자식이 화동이라...참ㅠㅠ', '이젠 생각좀하고 출산장려광고해라맨날 돈만쓰고 욕만먹지말고', '부산 엘 시티사건 방송하세요', '새로미가 부잔줄알고 결혼했는디 실상은 노자도 기집 무자밝히고쇼윈도부부에서 결국 파탄', '힐러리 진짜 억울하기는 하겠다~', '저 둘 중 누구와 더 친분이 있냐에 따라 영화의 내용은 달라질 것이다.', '누가 돌아다니면서 까지 게임하겠냐??', '왠지 리콜이 아니라 전면폐기 해야 할것 같다', '여자 팔자 뒤웅박이라는 말도 있듯이,.남자보다는 아무래도 여자가 배우자에 영향을 더 받지...', '범죄 없이 살고싶다', '포켓몬 고 뭐 어떻게 하는지 해봐야겠다', '여자가 군대를 가든 안가든 모병제로 가야지', '100세 시대에 의미 없다', '4천원이면 봉지라면사다가 계란풀고 햇반도 말아먹는돈 아니냐', '다른 나라 여행하세요', '헛소리 말고 가만히 있어라.', '획일화된건 로봇이 다할 수 있으니까 창의적이고 비판적인 사고를 해야 살아남을 수 있다는 이야기이다.', '조폭은 우리 군에게 맏겨주세요삼청교육대에서 다스리겠습니다.', '그냥 칠레에서 알아서 하세요.', '머지 않아 우리나라 꼴 되지 않을가 싶은데 존재감 없는 ~', '그렇게 힐러리가 좋았으면 경합주에서 다 이겼어야되는거 아니었는지.', '담배가 부의 상징이 될듯', '미국 폭망하는거임?', '회사는 전쟁터지만 밖은 지옥이다 - 미생 어록 -', '횰망구..이젠 소길댁 놀이도 지겨워졌나보네..', '술집에 두고간 지갑 않가져간건 정직하다기 보단 cctv때문이 아님?', '김태균보다 낫지않나. .?', '그런데 우병우는', '인터페이스 사용에 필요한 다른 부가적인 장치들은 없는지 궁금합니다.', '우리나라 공무원이 거기가 있나보네', '말기 신장암ㅋㅋ 뭐하러 병원에서 삶을 연명하고 계시는지', '중국보단 그래도 한국이 나을터인디 ㅉㅉㅉ', '외교는 비즈니스니까. 비즈니스하러 간다고 집 열쇠, 지갑 아무데나 놔두고 가는 사람 봤음? 댓글 보면 대단힌 착각들이 많음.', '만약 롤이 스마트폰 나오면 1위', '어떤 중한벌을 받나보자', '성소수자 시설보다 장애인 시설 만들어라. 더 도덕적이다.', '주모 있는거 다 가져와', '작뱅만 데려가면 계산 딱 떨어지는데', '책상머리에 앉아 쉬운 결정만 하니 현실과 동떨어질 수 밖에...', '자니스 그룹중에서슨 아라시,스맙,킨키키즈 다음으로 인기있는 가수.', '북한에 대해 떳떳한 사람이 대통령이 돼야 남북관계가 바로섬은 역사가 증명해준다.', '임대아파트 외제차.. 주민들차도 있겠지만 임대라 관리 허술한거 이용하는 얌체 딜러들꺼도많다.', '2700분의1이면 굉장히 높은 확률 아닌가..', '댓글 알바 얼마 주노?', '한반도 전쟁나면 세계3차대전 날 가능성 많다주변국 정세가 그렇다 미국이 쉽게 전쟁 일으키지 않는다', '미세먼지 늘어난다는 뉴스구만. . .', '올해도 또 걸리는 예비 살인마들 또 있겠지ㅋㅋ?', '테레비 라디오좋은거사서 일본예보나 번역하면되겠네.', '명확한 기준이 머지?', '70세가 넘은 사람은 운전을 못하게 하거나 검사를 자주 실시 해야 일본 같은 경우도 고령자 교통사고 때문에 골치 라고 하던데', '중심타선은 엔씨가 더 나은건 사실이다', '니들덕에 국민들이 단합하고 의식적으로 더 성숙해졌다.역사의 찌꺼기가 될지, 마지막에 정의로 돌아선 변절자로 기록 될지는 니들 선택이다', '미국도 투수 혹사가 쩔었었구나...전세계적으로 선수 보호가 이루어져야한다 정말', '더 어려워야 하고 10년주기로 갱산해야 한다.', 'Akg 기술 이어폰을 준다는 소리에 혹하지만 삼성이라는 브랜드에 신뢰도가 약해져 고민해본다', '음성지원 나만 느끼는건가?', '강소라가 현빈을 이용하는 것 아닌가?', '미국인이 미국인 쏘는게 하루이틀인가', '솔직히 kbs였으면 최우수상도 힘들다', '울릉도에서 출발햇습니다', '김영삼 노무현 김대중 정권에서도 잠잠하던 것을', '돈마이 받았나보군', '근데 그돈은 다어디서나오는걸까?', '드디어 흙수저들끼리 수저차지하려는 진흙탕 싸움이 시작됩니다', '딸 땜에 찍어주는 그런 무지한짓은 안하겠지...', '통신사도 외국계열 들어오면 가격경쟁이 될려나...', '세지도 못하는거 이왕이면 한 오백만쯤 부르지', '망고로 태어났어야했는데', '폰만 들여다보고 걸어다니는 모습 너무 위험해 보임', '좆소기업 10개는 합병되겠는걸', '아마도 우리가 저랬으면 빨간줄 쫙~~~^^', '여자와의 관계는 기기에 저장하는 게 아니고 마음속에 저장하는 것', '전효성만 있음 됨 .', '기후가 바뀌면서 이제 절기가 맞지 않습니다', '7S 엣지랑 7노트랑 크게 차이가 없는데 7노트는 왜 잘터지는지 모르것네', '가지도 못해.....', '오바마부인도 다음에 대통령후보 될수도', '열등 뭐니 적었다가 지운 겁쟁이 어디갔니?', '군대갈만하겟다', '힐러리 교도소 갈 채비 하는중', '예능노잼으로 유명한 그룹아닌가.', '그래도 백악관에서 굿판은 안 벌이겠지', '난징학살 시즌투 찍어야한다', '지석진은 남네....', '결론은 중국산 쓰지 말자는 거구나.', '군대갔다오면 M자탈모 나만생기냐', '법정모독죄 추가요', '인생 말아먹은 누리꾼이라 하하', '뭣이중헌디~~~~~~', '복지가 꼭 나쁜건 아닌데,가난하게 됐으면 줄여야 하지...', '포장지를 먹지 마세요', '다예상했던거아닌가?', '난 노트7이지만 흠 잘쓰고있음. .', '바아보오인갑다...', '나는 지금도 초딩에겐 2천원 중고딩에겐 만원주는데 돈받고 기쁜표정을 안보이면 바로 뺏어서 불우이웃돕기에 보낸다.', '독재국가이고 소수민족 탄압하는 쭝꿔가 할 소리는 아닌듯', '우리도 다음 문체부 장관을 연아로 뽑으면 미녀 장관 생긴다.', 'lg전자가 언제 알카텔과 같은 구역에 있게됐지?', '미국도 지 먹고살기 바빠진듯 ㅋㅋㅋ', '중국만 그럴거라고 생각하지말아요', '당장 올해도모르면서 확인안된다고 막질르는구나 ㅋㅋ', '사진만 보고 한화 유니폼인줄 알았다', '아무리 러시아라도 오스만제국 터키를 쉽게 건들 수 없지 투르쿠 전사들의 유럽정복 역사를 안다면', '솔직히 설사가 친박이라면 오줌정도가 비박이다', '작두를대령하렸다!!', '짱깨박멸에 찬성은하나 중국에 있는 모든공장이 폐쇄되면 물가가 엄청오를텐데', '신정락은 선발보단 불펜이 더어울리는 투수', '공공 근로...', '개누리당에서 가장 소신있고 민심을 따른 사람은 김용태 딱 한명 뿐이다...', '소니의 마지막 종착지가 어딜지는 잘모르겠지만 하나 확실한건 다음 기회에 메달 따서 군면제 받고 지금 실력 반만 꾸준히 보여준다면 아버지세대도 알만한 빅클럽 갈 확률 높다', '버스비랑 퍼거슨 늙은모습 비슷하네', '최훈에게: 좋아요?', '스코트랜드, 북아일랜드, 웨일즈 와 카탈루냐 등등은 모르겠는데 티벳은 반드시 통일 국가를 이룩해야 한다.', '북방 요동부터 제주도까지 신석기 또는 백악기 공룡화석까지 유전자 드립은 요동 한반도 시초로 퍼져 나갔다는게 설명이 된다', '그 사건 이후로 예정된 결말같다', '대박. . . 헛점을 찌르는 신의한수 ㅋ 특검 핫팅', '그돈으로 쪽발 사묵겠지 ㅋ', '그래도 손흥민보다는 축구 못하더라.', '트럼프가 당선될듯.', '그많은 닭 흙에 묻으면 그땅은 괜찮은건가요???', '중국신용불량자 \"어차피 돈없어서 못탐\"', '새누리당 6300원도 많은 임금 이라면서', '바보들만 중국과 친해지는걸 나쁘다고생각해~', '소비를 해야 돈이 돌지', '바쁜. . 벌꿀은. . 애국심을. . 느낄새도 없습니다', '남배우들 서로 하고 싶어하겠다..', '뭐 그래도보는사람이있으니까 살아남는거겠지', '달나라에 집은 어디간겨?', '이거 너무..ㅋㅋㅋㅋㅋㅋ 진짜 멍청이가 아니고서야 누가 이걸 믿냐..;;', 'yg는 방송안나오니 빅뱅 말곤....', '목숨 내놓고 사는놈 있긴하나보네 ㅋㅋㅋ', '우리도 이런 지도자가 나와야....', '이슬람은 치료법이없는 전염병같다', '단속도 중요하지만 장기적으로 도로구조를 개선해야함', '이러니 탕탕맨이 필요하다는 거다.', '두테르테야 뭐쫌 해봐;;;', '올해 태풍이 생기긴 생겼구나', '저기 몰라서 그런데 히트맵이뭔가요??', '댓글창이 더러울땐 스크롤을 올려 성비를 보라..', '김진영 을 선발로 쓰세요', '안내방송은 무시하고 알아서 하자', '패소해서 보상해주면 삼성이미지망 좋아지고 저사람들이 패소해도 이미 보상제도 이뤄지고있는 상태라 저인간들만 욕쳐묵', '기사대로라면 국산 달걀도 문제아님?', '영상 최근에 봤는데 체중관리하고 세련돼졌을뿐 외모는 똑같던데 캡쳐들 좀 악의적으로보임', '성괴라고 비하하고 욕해도 막상 내앞에 수술해도 성형 티 안나고 예쁜 여자 있으면 다 좋아한다......', '이게 무슨 의미가 있니..', '악개고 자시고 블락비팬은아닌데 그냥 지코 박경 나오는게 지코한테도 득일듯', '얼마를 원하는건데?', '새누리가 만든거죠...?', '주모 \"태업할 시간도 없네\"', '아버님 차량이 2011년식 뉴 SM3 인데 아무곳에도 해당없네.', '감옥이 아방궁이지요', '공뭔 복지카드 나두 줘', '울타리 없으면 위험하지 ;;', '사장을 대한문에 목 매달자', '폭염이 좋은점도 있네...', '홈에서 3대2면 진거지', '요리하는 사람은 원래 저런거냐?', '왜 저러는 거래요? ㅋ', 'SM도 은근 망하는 그룹 쫌 되는듯...', '그랴 그냥 유럽쪽으로 가라', '광풍의 나라에서 또 광풍이 부는구나', '각자가 일터에서 맏은바 본연의 일에 충실할때지', '이명박.노무현.김대중 누가 돈 많이 유출시켰을까?', '이미 한물 갔지 않나 ?', '금은 화강암지대인 태백산맥줄기에 많은데 해남이라', '트랜스포머 되는 폰은 언제 만들거냐?', '청담고 이대 섞을대로 섞은 학교', '근데 인도 중국이 소멸하면 인구는 몇으로 줄어들죠? 중국이 13억플러스 알파니까...흠', '국회에 앞서 우리 국민부터 각성해야 할 시기입니다', '고등어가 아니라 산줄알어~', '에이핑크가 걸그룹 유망주였던게 엊그제같은데.........', '흰달걀을 낳은닭이면역력이 안좋아 병에약해서 현재의 누란달걀을 낳는 닭으로 품종을 바꿔다고 알고 있느데', '그냥 우리나라에 지어ㅋ', '남자가 보기에 잘생긴 얼굴은 공유보다 이동욱', '언론의 역할과 국민의 관심이 이렇게 중요합니다', '같은 팀 투수 톰 쾰러도 함께 보트에 타고 사망했다는 찌라시도 돌고있음', '철구 유행어가 언론을 타네', '예쁜애로 할거면 무조건 찬성 아니면 꺼지고', '마약쟁이 범죄자 검은머리외국인', '친한지인 기사뜰듯~', '인민재판이라도 하려는가? 북한처럼', '우리나라에 전라디언들이 많긴 많네', '그날 케이블에서 시크릿가든 재방송중이었나보네.ㅋㅋㅋ', '0.0024% 불량률? 그건 불량률이 아니라 폭발 보고된 건수일 뿐이지', '소득이 적다.', '애플 소프트웨어에 삼성 하드웨어갖고오면 폰바꿀게', '사이비종교에빠지면 답이 없음', '프로그램을 쥐락펴락할수있는 유재석이 몰랐을리 없었을꺼 같은데....', '국민이 없었다면 대한민국은 북한과 다를게 없었을것이다', '달걀은 항상 희생당하는구나 크으으으', '100억이면 투자금 거의 회수 했구만 뭐', '개편하고 그러는거보니 슬슬 프르그램의 마지막이 다가오는듯', '군인은 명령에죽고 명령에산다', '기아야수는 김주찬..안치홍이말고는 삼성에와바야 2군에나 쳐박어둬야하는데 투수나 잘눈여겨보는게맞다..', '혼자삽니다....', '이래서 삼성폰은 짝수 아이폰은 s 붙은 모델을 사는게 기기가 안정적인듯', 'Sns는 전범기 올리라고 있는 곳이 아니라 이렇게 의견을 표시해야할 때 표하라고 있는 곳입니다', '그냥 화장지우면 다 똑같음 ㅋㅋㅋㅋ', '그리고 대기업들에게. 끝까지 서로 유리한쪽으로 말하라는 메시지가 담겨있두만 언론이 대신전달해주고있네', '더비는먼가 다이나믹하네요', '과연 저 항공기가 미세먼지 원인만 보다가는걸까', '그럼...고졸 아니라고 하고 중학교도 조사..하자.', '책도 상품인데 어느 만화책처럼 비닐포장히자.', '인성교육은 필요조건임.', '아직 뇌물죄 언급 안했는데~~~', '암만 비서가 교체했다해도 본인 쓰던 PC인데..이유를 모른다는 건...말이 안되잖아..말이..', '제이티비씨는 최순실 테블릿 해명 안하나요???', '성지 순례왔습니다.', '갤노트 망한 기사 위아래 사이에 아이폰 인기퍽발 기사가', '저사진 오바로드 같은데', '제발 영화로 나와주세요 마법사의돌~불의잔 감독이랑 조앤롤링대본 그대로ㅠ', '냉철하고 자비없는 삼성의 역공을 기대합니다~', \"차기대권은 박원순+안희정 공동경선출마, 분할직권. 주어진 권한에대한 분할책임, 이것이 ' 공유' 이고 답입니다.\", '배터리 사용시간만 늘어나도 V20은 이미 반은 성공한 것이다.', '사형제도는 이럴때 쓰는거 아니냐??', '강호동 투입과정에서 뭔가일이있는듯', '김민희는 배우생활 끝낫지뭐', '안가저가면 버려.', '신사임당 율곡이이 엄마로 유명한거 아님?', '야구장갈 계획 없다.', '돈받는순간 그 분들 어찌 되는거에요?', 'ㅋㅋㅋㅋㅋㅋ 지 욕먹기 싫고 앞길 막힐까 걱정되서 저러는거 딱 보이긴 하는데 결과적으로 좋은 결과 나오니까 괜찮다.', '서비스는 어디까지 되나요', '첫방 ocn드라마 첫회 최고 시청률 보여주듯이 몰입도 최고였고, 기자의 어그로 제목 때문에 폄하글 많은데 시그널과 다른 소재의 재미로 스릴러 좋아하는 시청자라면 반기는 작품임에 틀림없다', '이지은은 살부터 빼고 들어와야할듯', '늙으면 겸양과 지덕을 갖춰야지 어찌 탐욕에 쩌들어 명을 재촉하는지 다 부질없는것을...', '전에 있던거를 부활시킨건데ㅋㅋㅋㅋㅌ', '매일 두시간씩 머리하는 시간 .', '지은지 몇년되지도 않았는데', '우송대 의문의 1승', '그다음은 바이오칩이냐?', '난셋째돌잔치도갔다왔지.......', '작년6위해는테 가능성보인다고 설레발치던 보살팬들', '두선수다 계약안한다는 소리로 들린다', '지구의 여드름이 아닌게 우리가 여드름 터뜨리면 얼굴 주위로 뭔가로 뒤덮혀지진 않잔항', '볼거 뭐있다고 몰카를 찍고 그러냐....', '이준도 원래 인기 좀 있는 아이돌이긴 했지만 거기 나가고 난 뒤에 아이돌 팬 외의 사람들한테도 엄청난 임팩트로 각인됐던 기억이 있다.', '이 기술도 미국이 원조라던데 그 기술료로 얼마나 벌까요?', '다른 조사할것도많을텐데...', '이휘재는 뭐했다고 대상 후보였던거임?', '이제 사람 죽일때 바퀴 안빼도 되겠네용~', '그럼그럼 암데서나 그러믄 안니됨 ~', '앞유리 황사 쌓인거 어떻게 털어내요 ????', '나야 그림 관련 직종이라 그림 그리는 용도로 쓰지만 일반인은 뭐에 쓸까...', '김상수 정인욱 보내라', '난 마티즈를 타지도,라면을 먹지도, 아파트에 혼지 있지도 읺을 것이다', '대상을 확대하지 않는다면 납득을 못 할 정책이다.', '여기엔 검찰도 공범이지', '친일파 국민보단 자신을 위해일하는 자들 친박파 국민보단 자신을 위해 무슨짓이든 하는자들 뭔가 같은데요', '김치녀 춘장녀 스시녀 이 중 정답은?', '요즘 날씨에서 미세먼지 얘기는 안한기로 약속했나요??', '나중에 이 세대 아이들은 대학가기 수월하겠어...', '불교도 나서는데 개신교 원로들은 대통령을 위한 기도중', '아무것도못하는 우물안개구리 개구리밖으로나오면 일본 중국이 요리하고 미국은멀치감치바라보고있겠지요', '아프리카부족장으로 귀환한다고 함', '그동안 처벌을 안하니까 위증을 밥먹듯하지..', '나 어릴적 포켓몬 향수를 이딴걸로 망치고있다', '지나치다고 생각해', 'ㅋㅋㅋㅋ 해외인데 이게임 열풍 딱 1달 ㅋㅋㅋ 이후로 하는 사람 못봄', '허리수는 어딜가지?', '바퀴벌레가 지능만 있었다면 인간 이겼을듯', '오늘만 출근하면 내일부터 백수네..', '능력도 안되면서 균형외교를 외치면 유럽의 스위스가 아니라 동남아의 라오스꼴이 날것이다.', '아이폰 보다야 노트7s지.', '순시리를위해 국내도입이 시급', 'ㅋㅋㅋㅋㅋㅋㅋ옆집 이웃이 더 가깝겠다', '용산 또는 왕십리 좋다.', '이 사실을 이만희가 알았다면 위증교사 공모죄에 해당되고... 몰랐다면 청문회에 참여하는국회의원이 그 정도 기본적인 사실확인도 안해 봤다는건데... 박근혜와 마찬가지 수준의 국회의원이네...', '순실이 건평이 홍걸이 현철이 모두 비선실세 권력남용이다........공평하게 대우해야 인권살고 민주주의 해먹는다', '왜 힘들고 어려우시다면서 계속 자리에 연연하면서 붙어 있는지 진심 궁굼하네.....', '나는 니들이 저 문구를 창의적이라고 생각하는것 자체가 웃길뿐이다 ㅋㅋㅋㅋㅋ', '러시아의 미국 및 유럽 선거 개입 해킹이 아주 근거 없는 소문은 아닌듯..', '문체부도 따봉충이였냐', '혹사 아니라더만 권혁에 이어 송창식도 부상이군.......', 'LG 스마트폰을 보면 인터넷 대통령 문국현이 생각난다.', '할배들 척추는 서요?', '결국 서양사람들은 서양사람이 맞다고 본거다...', '진정한 범죄와의 전쟁이군.', \"'국화와 칼'은 진리다.\", '언제 통계냈냐', '유시민 대위... 썰전에서 만날수 있나??', '실질적으로는 여자친구인듯 금1은1동1', '으깨지는게 아니라 정신이 못견딤.육체를지배하는 정신이', '애국보수와 찌질이의 만남 흥행보장 양쪽둘다', '펌웨이로 끝......', '얼마를 해먹었는지 그걸 밝혀낼수는 있나?', '박그네가이글을싫어합니다.', '박정희시대 김기춘 같았으면 순시리 가만 놔뒀겠나..민주주의에 감사해라~', \"'혼란스러울 땐 정도를 가라' 는 말이 있다.\", '저 할머니가 뭐했는데 누구임', '지금 가장억울하고 열받는 사람이군...', '이것저것 다떠나서 얘기한번해봅시다.', '국회 청소정규직으로 채용요망', '4월7일 예약판매되면 바로 블루 5,8인치 예약해서 21일 공식판매전 일주일전에 받아서 노트5 20개월다되가는거에서 바로 교체 해야겠네요', '알바하러 가야겠다~!!', '김국진성격에이정도오픈하는걸보니결혼할생각인듯', '저런 딮러닝 인공지능을 해킹전선에 투입하면 어떻게되는거지..?', '착한거 잘알아요. 착한거 아는데 이런기사 본인한테 무지 부담될듯', '머리손질은 20분인데 미용사 부른 시간부터 따지면 한시간도 넘을것 같은데', '아무리 댓글로 싸질러봐야 달라지는거 하나없음 ㅋ', '트럼프가 미국주류 백인남성의 목소리를 대변하는한 월가에서 백날 힐러리밀어도 안될꺼다.', '옆에서 맞은 사람은 얼마나 열받을까', '청와대에 먼저 설치해라', '오엥..소아과에가면 무조건 청진기로 아이부터 체크하는데유??????', '5만원권 심사임당 만원권 세종대왕 그림을 친일파가 그린그림이라는거 아는사람이 얼마나될까~', '오늘 매뉴는 덮밥이다 퍄퍄~~', '이미 알고 있던 시나리오라 안놀랍던데', '머지.....정말 그랫단말인가', '이제 탄핵 가결 되었으니 장 지져라', '그 사건을 이유로 나오지 말라는 사람들은, 예전의 무도 노홍철을 응원했었을까??', '아무것도 아닌 빵 스티커도 그렇게 매출이좋았는데 오죽하겠어 ㅎㅎ', '정몽주니어 연전연승을 거듭하는구나ㅋㅋㅋ', '외국인 감독 2번째가 아닌 거 같은데, 두산도 한 번, 그리고 현역 감독도 일본 사란 한 명 있잖수?', '사랑은 머리가 아니고 마음으로 하는거지', '스렉코비치로 msn계산 해법을 찾은 문성이형', '다 법때문이지', '코끼리트레킹도 하지 말아야 함...', '나 집회에 있었는데 싸늘까지는 아니었음.', '두번째 사진은 여인숙에서 한바탕하고 나오는 사진같은데', '도깨비작가한테 배우고 오세요', '역대는 아닐건디..', '블로그나 카페보면 v20 산 사람이 더 많은거같은데', '아마...스타워즈의....데스스타 일것이다....', '캐릭터의 힘 무시 못하죠', '미국 대학생들 과반수가 요가 바지 패션', '됐고 어차피 바퀴벌레가 이긴다', '강호동이 왜 욕먹어야하나', '윌리안 윙백도 괜찮을거 같은데', '의정부 비 약하게 오고 있음', '재들이 오려고하겠냐 ㅋㅋ', '부산에 필요 합니다', '스위스로 이민가야겠다', '사스가 땅콩항공', '아이고 의미없다~~', '라면 값 안오르는게 다행이다 ㅜㅜ', '이슬비 개는 안잡아넣냐?', '2배속댄스 최단시간에 실패해도 그게 어울릴것같은 빅뱅ㅋㅋㅋㅋㅋㅋㅋㅋㅋㅋㅋ', '세상에 김숙만한 여자 또 없습니다!', '독일에 수사협조하면 자진귀국하지 않을 까요? ㅎㅎ', '트럼프되는 순간 게임끝', '내일 아침에는 해가 뜬다는거랑 뭐가다름이제 곧 가을인데', '이 나라에서 시행되면 대충,그래도 열심히 일하는 놈,일 안하고 금액에 맞춰 생활하는 놈,유흥,오락으로 탕진하고 어렵게 사는놈등...이렇게 되지 않을까.', '삼 ~` 성 애플 따라하믄 안돼지 ㅋㅋㅋㅋㅋㅋㅋㅋㅋㅋㅋㅋㅋㅋㅋ', '알다가도 모르겠구나', '사람들은 죽어서도 자손들에게 대우 받고 싶은 인간의 본성이 제사라는 문화로 나타났다', '서장훈:도대체 이게 무슨 의미가 있습니까~', '박병호 보다 강정호가 한수 위다', '아닙니다. 빨리갑니다ㅋㅋㅋㅋㅋㅋㅋ같이출발한 우리 숙모 저랑1시간차이났습니다ㅋㅋㅋㅋㅋㅋㅋㅋ', '누나.... 근데 담배랑 좀 어울리긴 해욬ㅋㅋㅋ']\n",
            "\n",
            "Cluster 4\n",
            "['제일처럼 기쁘고 좋은데....', '너무 너무 좋아요!!', '오빠의 유쾌한 웃음소리가 들리는듯 하네여...', '너무반갑습니다.', '전 개인적으로 수록곡중에 웃음꽃이라는 노래가 참 좋은데 오늘 뮤뱅에서 이렇게 들으니까 또 기분이 새롭네요!', '우하하하하하하그럼..', '유명짤하나 탄생했네 ㅋㅋㅋ', '보면서 넘 흐뭇함~~', '연말에 박보검 배우 볼수 있다 ...조으당~~~', '나이스샷 ~~~~~', '추워서 조으다', '노래가좋아', '날씨 좋~다~!!!!', '삿포로 맥주 너무맛있다ㅜㅡㅜ', '신선하다 그리고 지루하지 않아 보면서 힐링이 되는 기분이다..', '기사볼때마다 그냥 흐뭇하다 ㅋㅋㅋ', '어제 나올 때마다 웃은듯ㅋㅋㅋㅋㅋㅋ', '진짜 둘 보면 저절로 엄마미소가 지어진다ㅋ', '노래도 좋은데', '솔직히 기분 좋다 ㅎㅎ', '난 무도만의 콩트 되게 좋아요', '육중완님이 성재 진짜 좋아하심ㅋㅋㅋㅋㅋㅋㅋㅋㅋ', '그냥 감동이네요...', '골 진짜 멋있게 들어갔다', '완전 뿌듯 ~~', '남중 남고를 지내왔던저에게디자인대학은 정말 꿈만같은 곳이었습니다.', '아.. 아무튼 좋네요0', '내 자신이 대견해.', '아 진짜 덕분에 오랫만에 실컷웃네요', '어제 너무 좋았습니다.', '상큼한 트레이닝복 화보 촬영중인 나나!', '노래도 좋고0', '너무너무 좋다', '정말 오랫만에 연아선수의 아름다운 연기를 볼수있게 되어서 정말 기뻤어요.', '와우진짜 오랜만에여기왓어요ㅠㅠ', '그렇게 최고 자리에 있으면서도 끊임 없이 발전하는 모습이 너무 보기 좋네요...', '>_< 정말정말 열심히 하는 모습 보기 좋습니다.', '방송에서 본 모습이 넘 좋아보여요.', '역시 만채오빨 알아보시는 분이 계시군여..^^', '이번 아이스쇼에 갔었어요!!!', '존재자체만으로 큰기쁨이였어요', '오늘 짱이었어요~', '정말 기쁨돠⊙.', '아싸 슈요일 개이득 ㅎㅎ', '오 이거 보자마자 대박을 외쳤슴', '말로웃겨서 큰소리로웃게한아저씨가 처음', '김비서님이 나쁜놈이아니라 넘나 좋은거~~', '어멋? 언냐들 이 기사 너무 조은데 어터카지 냐하~', '사진 절묘하게 잘골랐네ㅋㅋㅋ', '싱그러운 청춘사극 분위기 너무 좋고 눈호강도 제대로 한다ㅋㅋㅋㅋ', '예감적중!!', '츄리닝 처럼 쭉쭉늘어나는 정장 너무 좋다', '이형 대상받는데 왜 내가 다 기분이 좋냐 ㅋ', '존나 야무지게 달리네.ㅋㅋㅋㅋㅋㅋ', '양세형이랑 하하ㅋㅋㅋㅋㅋㅋㅋㅋㅋㅋ', '야 음악 좋다!!!!!다!!!!!다!!!!', '송지효가 눈해주고 김종국이 발해줘서 다른애들 조지는건 진짜 쩔었다 ㅠㅠ', '조연들이 좋네요.', '대상받는거보고 눈물나긴첨', '김소연 이필모 연기 진짜 잘한다.마지막씬 보고 눈물이 줄줄 흘렀다.', '뭘하든 자연스럽고 척이 없는데 그게 다 선하고 센스있어서 너무 좋음..', '아직도 이렇게 천사같이 좋은 분이 계시다니요ㅠ', '가슴뭉클하다.!', '감동이네요..눈물난다', '엄마미소ㅠㅜㅜㅜㅜㅜ', '진실하게 말하는 모습 인상깊습니다...', '우와 울컥 했당.ㅜㅠ 감동', '헐 너무 좋아ㅠㅠㅠㅠㅠㅜ', '최고였음 역대최고의 드라마 드라마보면서 이만큼 눈물이나다니 가슴이먹먹함', '와 맑은 서울하늘 ㅋㅋㅋㅋㅋ', '앙리형 아스날 잠깐 와서 골 넣을때 겁나 감동했었음.', '유재석소감 들으며 감동', '완전 대박이였음ㅠㅠ', '대박 한편의 영화본듯~~!!!!ㅠㅠ', '아가의탄생도 아름다운순간!', '캬 bbc까지 극찬을!!!!!', '캬~사이다!!!', '그래서 전문가들이 칭찬한단다', '고난이도액션 와이어 연기수준급이네......', '나무막대 하나만으로도 이렇게 예쁜 그림이~~', '행복한 스케이터의 모습이어서 더욱 빛이나는 연기가 나온거 같다는생각이 들어요...', '어제 그 뮤직비디오 잊지 못합니다 ..', '너무나 우리에게 분에 넘치는 감동을 주는군요.', '이 말이 너무 와닿습니다.', '진쨔 한번보면 눈물이 펑펑나올것같네욤ㅎㅎ', '웃는 모습이 세상에서 제일 예쁜 두 천사가 한 날에 태어났다니 이건 정말 운명의 데스티니네요', '형돈이형 추운 날씨에 다리다치고 노래연습 하니깐 너무 감동적이네요', '수줍은 미소 속에 세계를 감탄하게 하는 미소가 있다는 걸 있지 마세요 ^^~', '우왕 진짜 감동이에요.', '진심이 느껴지네요.', '저렇게 일일히 걸어주다니 ㅜㅜㅜ 감동 ㅜㅜㅜ', '나도의경나왓지만 저런모습보기좋네요', '사람보다 낫다. 백배 천배...', '하나님이 나타나서 기적을 행하셨다.', '최고의 명승부 잘 싸웠습니다 스오?', '완전 감동적이네~!', '아주 잘했구먼...', '해떳습니다.사진찍어보여주고싶네요', '영화스토리같다ㅠㅠㅠㅠ', '유재석 대상수상소감 너무 감동적이었다..ㅠ', '정말 아름답고 감동적인 사연입니다', '감동 그 자체...', '제인구달인줄 알았네요 감동적이예요', '구치소도완전장악!!!!실력있네!!!!!', '넘 감동적이라 두번 봤어요', '오늘 ㄹㅇ MOM 진짜 감동먹음ㅠㅠㅠ', '참 감동적인 장면이다', '이런 훈훈한 기사...', '정식음반은 아니지만ost참여 한다니 넘나 좋네요', '무도가 참 좋은일 많이하네..', '촛불이.. 별빛보다 아름답네..', '태극기 물결이 감격입니다.', '이게 얼마나 감격스러운건데 ㅠㅠ', '정말 감동했음..0', '\"제겐, 또 하나의 영감을 얻는 시간 이었어요.', '넘 감격적이었구여...', '트랙리스트 진짜ㅠㅠㅠㅠ', '많은 것을 느끼게 해주는 글이랍니다..', '피겨 스케이트를 처음 봤음에도 불구하고 참 아름다워 보였어요.', '연아선수 아이스쇼 감상잘했고요', '골든벨에서도 대박!!', '근데 비록 엘쥐는 아니지만 손혁선수를 볼수 있다는 것이 너무 반가워요...', '해먹어보니 맛은 짱이구요~', '아 감동..ㅠㅠ', '백주부님..집밥에서 짜장면보고 감동했어요.', '에릭의 요리는 힐링이다~♥', '인상깊은 글이네요!', '소문난 잔치는 진수성찬 이었다', '정말 감동적이고 눈물이나네요', 'PD사람 엄청 좋은거같으다, 뮤비촬영때도그렇고 방송잘되는데는 이유가있다만은 오늘도 넘 감동이네', '감동입니다. 마음이 훈훈하네요^^', '정말 아름다운 동행이네여~~', '핵사이다~님 좀 짱인듯~^^', '정말 제목 그대로 아름다운 동행이네요~^^', '멋지네.. 진짜 감동', '인생의마지막에큰즐거움을안고가셨네요.', '개코씨 정말 감동했어요', '정말 세상에 이렇게 예쁜 여자가 키도크고..박정아랑 느낌 비슷한데 더 예쁘다', '감격 했음요', '경사났네', '전 그 어느 프로그램보다도 올림픽보다도 더 큰 감동을 받았어요.', '그거 수화로 예쁘다라는 뜻인거보고 또 소름 쫘악 돋고..', '연습하느라 넘어지고 힘들었을텐데 너무 멋지게 경기에 임해주셔서 보는사람에게 감동을 안겨다준것 같네요', '그 넘치는 감동이란 말로 표현 못하죠.', '연아양의 혼신어린 그 경기와 자세에 감동했습니다.', '정말로 감격적이었습니다.....', '와 대박이다 ~~~~~!!', '이런게 우리가 배워야할 가장 아름다운 참교육입니다', '감동의눈물이...ㅠㅠ 너무 아름다운..인간도 그런 맘이 있음 조으련만..', '진짜 너무 오랜만인것 같아요ㅠㅠㅠ', '역시 이번에도 듣기만하라고 만들었네요..너무 좋습니다', '오늘 펜싱대박ㅠㅠㅜ', '정말 잘 봤습니당', '완전좋네~그냥봐도 좋네~달달하니 좋네~', '이건 아주 좋은 발상이다', '아주잘햇다.', '점점 선해지는거같다', '이 드라마 공감되고 편하게 볼 수 있어서 좋음 ㅋㅋ', '오늘 한편의 영화 같았다.', '솔라트레 감동이다ㅠ', '재미있게 잘봤습니다 ♥', '이 시대 최고의 희소식 ㅋㅋㅋ', '진짜 진짜 잘됏어요~', '내 일도 아닌데 너무 행복하다 ㅎㅎ', '오마이걸ㅠㅠㅠㅠㅠㅠㅠㅠㅠ', '남녀노소 다양하게 많은 사람들 모인거 보고 벅찼다.', '느낌은 굉장히 좋고요', '오늘은 감성이 폭팔하네요 ㅎㅎ...', '감정이입되가지고 도니님이랑 함께 떨며 감정이 올라와서 울컥~', '한 편의 영화를 보는 듯한 감동적인 움직임이 잊혀지질 않네요', '지훈아... 노래들 너무 좋다.', '정말이지 설레고 경이롭습니다!', '그래도 저녁에 유느님이하는 동상이몽을 보며 하루를마칠생각에 괜히 좀좋아지네요', '광고효과 지대로 얻네ㅋㅋ', '신기하고 감동적이다.. 흉악한 사람보다 훨 났네..', '목소리가 이렇게나 좋았나 하는 생가들던데 나레이션 정말 좋은듯', '마지막 감동이네 워 경차과시민의악수', '끝사랑존좋', '눈물과 감동이 흐르네요', '지금 영화보고 나오는 길인데 언니가 더 좋아짐요♡♡ 슬픔&안도ㅜㅜ', '우리 애인 감동의 눈물...', '처음써보네요ㅠㅠㅠㅠㅜㅠ', '스파이럴에서 가슴 뭉클했습니다.', '뿌리치신 프로정신 감동 ㅠㅠ', '완전 일어나서 두근두근이었습니다!!!!', '체중계를 보고 얼마나 감격했는지..!!!!', '정말 감격 ,~ 감격 또 또 !!!!!!~~~~~~~~~~', '점프하나하나 뛸때마다 조마조마하게 봤는데 클린을...!!!ㅜㅠ', '수상소감 너무 좋았어요', '어제 진짜 감동 먹었어요 ㅠ', '드시는모습또한 일품이고요', '진심이 묻어나는 수상소감 ㅠㅠ', '개봉 타이밍이 신의 한수', '나이 먹을수록 더 멋져지는 그야말로 배우 공유님 감사합니다', '요리 프로보고따라 하는 모습이너무나 이뻐보이니백주부님께 감사드립니다', '완전 땡큐지', '아름답게 좋은일을 하면서 매일을 살아가는 모습을 가끔 가끔 들으며감사했습니다.', '요즘 3대천왕 에서 얼마나 멋있는지 ....언제나 좋은모습 고마워요', '백종원씨는 역시 프로입니다 ㅎㅎ', '역쉬 커쇼다.~~^^', '여기 댓글도 아주 난리났네 이병헌 마스터 대박나자!!', '유재석 최고~~^^', '너 진짜 웃겨 인정 이제야 재능을 살리는듯', '정말 대단하고 멋지십니다~♥', '똑똑하다 그랬는데... ㅊㅋㅊㅋ', '흥해라 흥해라 손세이셔널~~', '너무도착하고 천사같은 박보검 화이팅', '여전히 두산이 최강이네 이리보고 저리봐도 4명이 다 잘해 ㅎㅎ', '이거 보면 즐라탄은 진짜 자기관리가 대단하다 최고의 선수다움', '역쉬 실력자들 !!!', '박보검 구르미 더더더 흥해라 ㅊㅋㅊㅋ', '역시 명불허전 박효갓', '믿고보는배우이종석~~본방사수', '대단하다 대단해 .... 곡성근', '여태본 의학드라마중 단연최고~', '추카드려요', '반찬을 넘 쉽게 척척 만드시네요~', 'TV에서 자주 뵙는데 멋지십니다', '수고가 많으시네요...다비드상 참멋있어요....그배..참..멋져요..!!!앞으로..', '><!오빠 감정 최고에요', '언제어디서나 기분 좋게 바라 볼수 있는분!!', '백주부님은 사람을 즐겁게 만드는행복 바이러스..ㅎ', '챔피언답습니다!', '런데빌런은 최고!^^', '진짜 맨유시절 호날두가 역대 최고의 크랙이지...... 기가 막혔는대 진짜 ㅋㅋㅋ', 'ㅋㅋㅋㅋㅋ 생각만해도 웃낌 기대되요 김종민씨화이팅!', '아...윤균상이라니...이건 정말 신의 한수예요!!', '갓현주연기좋아요♡♡', '어디서나 인정받는 이준기 배우님 자랑스러워요!!???', '이청아 이기우 너무잘어울리고 이쁜커플 ㅎㅎ', '이렇게 보니까 잘 어울린다♥', '탁재훈님 짱!!! ㅋ', '다른배우분들도 잘하셨지만....소연씨 정말 받을만한 분이 받은겁니다^~^', '생각보다 조합이 상상안감 ㅎㅎ 그치만 축하합니다', '딘딘이 하드캐리♡', '라키티치 은근 개잘하지', '어떤 영화일지 너무 기대됩니다 류준열 화이팅', '치차리토 존나 잘하네ㄷㄷ', '강호동 사람 참 괜안네', '이쁘다.좋아요^^노래잘부르세요!', '역시 갓짜장', '엄마의 힘은 위대하다', '장훈이형 너무 대단하시다 감동 ㅠ', '하나님의 기적 잘 보았습니다', '역시 성룡이야 ㅋㅋㅋㅋㅋㅋㅋㅋ', '류준열 역시 멋진 사람', '개코 짱이다ㅠㅠ', '와 개간지다 ㅜㅜㅜㅜ', '나나 연기 개 잘해!!!', '김민재씨 무뢰한에서 연기 진짜 잘하시던데', '나는 이래서 존스가 좋다', '박진영이 극찬한 이유가 있었어', '이준기압도적이다 진짜', '이민호 연기 존나 잘해 우는데 넘 슬프더라ㅠㅠ개좋아ㅠㅠ', '주갤러가 솔직히 젤 잘 했지', '80년이면 거의 37년을 연구했다는건데. 훌륭하오. 일본인이지만 존경스럽소.', '황정민영화는다본듯 연기짱이여', '스타끼리의만남이라 잘어울리네요', '진짜 참다운 선생님들이시네', '염감독은 진짜 명장이다..', '유재석 행님 대단하십니다... 존경합니다', '제 인생 최고의 드라마였습니다', '진짜진짜축하해ㅠㅠㅠ명수야진짜ㅠㅠㅠ대단하다!!!', '여전히 멋있는 모습으로 멋있는 생각을 가지고 있네요!! 당신의 길을 응원합니다!!', '인간 유재석은 본받을만한 사람이다', 'jtbc 짱이다~', '참...오바마 새삼 대단하게 느껴진다..사진속에 모습 참 훈훈한 광경이네 .....', '두 번 정도 결정력 아쉬운 거 빼고 다 좋았다 갓흥민 ㅅㅅㅅㅅ', '대단하단 말밖엔', '믿고 보는 김은숙 작가 로코하면 김은숙 작가 레전드지 진짜', '이래서 송중기 송중기 하는구만 ㅎㄷㄷㄷ 역시 믿고 보는배우네..', '이상우 ㅜㅜ 예쁘게 사랑하세요', '역시 갓문성!', '역시테슬라다 대단해!', '연기 넘 잘하시네요...최고!!^^', '외국 장관이지만 정말 본받을만한 장관이네요', '척사광때부터 한예리님 연기 최고입니다!!!', '양상문감독 대단하다.', '너무 멋지고 훌륭합니다.', '남다른 재능에 남다른 노력까지...가히 박효신이다.', '대단했어.', '예능에서활동하시는모습보면재미있고보기좋아요이상민화이팅!!!!', '콜마회장님 대단하시네요 ㅠㅠㅠ', '정말 양상문감독 인정 안할수가 없네요 .', '진심용기있으시네요!', '우와~어째든 대단햐', '남녀노소 모두좋아하는 진정한대중가요의왕', '너무 멋지세요!!!!!??', '진정한 배우중배우세여!!', '막 ㅇㅇ 정말 리스펙해요~', '요즘 최고의 인물입니다.', '인간의승리같아요', '웜업에서 힘들었지만 경기에서 완벽하게 해내는 모습을 보고 엄청난 감탄을 했습니다.', '정말 대단합니다....', '세상 진리인듯.', '진행너무잘해요', '티부에서 이요리 보면서 대단하다는걸 느겻네요^^', '세계최고의 스케이터입니다.ㅠㅠㅠㅠㅠㅠㅠㅠㅠㅠㅠㅠㅠ', '항상 매주 해피투게더 보지만 진짜 유느님 진행은 감탄을 하게 되네요', '역시 연아 누님은 넘사벽이에요.', '홍콩반점 넘 좋아요..', '안쓰럽기도 하면서도 자랑스러워 하고 있습니다', '그녀가 자랑스럽습니다^^', '정말 멋지세요~~~~', '빌게이츠회장은 여기서도 일등먹네요.참 대단한 인물..', '둘다 진짜 대단하다...', '요즘 보기 드물게 우직하고 순수하신 분 그래도 몸은 챙겨가며 방송하세요', '원더걸스는 역사에 남을 아이돌임', '얼굴도 예쁜데 알뜰하니 살림도 잘하던데.. 앞으로 행복하셨으면 좋겠어요', '우리 쓰까형님 조근조근 카리스마 정말 멋지십디다', '목 핏줄이 어떻게 연기를 하지? 어제 진짜 깜놀했다요.대단해요~~', '박영수 특검 사람 참 믿음직하구만그래 ㅎㅎ', '승짱은 대단합니다..', '역시 천상 골키퍼 브라보!', '이강인 대단하다 ㅇㅇㅇㅇㅇㅇ', '손석희씨가 존경스럽다!!', '역시갓수근', '솔직히 이런 상황에서 안정적으로 착륙하는 기장님들이 대단하다고 느껴진다..', '첼시는 역시 최고야!', '마동석씨 할말이 없게 만들정도로 멋찌고 훌륭한 연기에 박수를 보냅니다', '조종사 능력 대단 하다!!!!', '오 역시 월클 지성팍 ^^', '역시...장꾸준!대박입니당!^^♡', '충분히 훌륭합니다!!', '역시 원더걸스 레전드네', '역시 믿고 보는 정동하 무대였음', '멋있는분이시네... 존경합니다', '우와 대단한 선택하셨습니다. 존경합니다!', '환희가왕 클래스 ㄷㄷ', '갓세정.... 대단하다!!', '김혜수 is 뭔들!!^^♡', '정말 인생을 멋지게 사시는 분입니다.', '아이유 잘하고있어요...!!', '메르켈 대단해요^^', '진정 최고 이십니다', '와..대단하다.', '오우!!! 대다나다!1', '우리나라는 유저가 대단한거지..', '무도 진자 대단하다', '흥행과 상관없이 손예진 연기는 최고였다', '신화창조가 이렇게 대단합니다 ^^', '나도 니네 너무너무너무 궁금해다들 너무 대단해서!', '연아 선수는 역시 최고 입니다 ㅋㅋㅋ', '정말 대단하세요.', '그래도 너무 멋지드라아라앙♡', '선수들중에서 제일 가슴에 남고 최고의 연기를 선보였던 연아언니..!!', '넘 멋진 우리의 LG 선수...', '어른스런 모습 언제나 자랑스러워요', '역대 최고 점수, 쇼트 1위..', '카메라 앞이라 좋은 모습만 보이려 전전 긍긍하는 연예인들과는 달리어쩜 솔직하고 꾸밈없는 있는 그대로의 방송모습 정말 멋지십니다^^~', '재석 오빠 진짜루 멋진 사람이에요!!', '최고 이십니다 !!', '존경스럽끼까지한 선수.', '그리고 벽타고 내려오실때 겁없이 내려오실때 너무 멋지셨어요!', '정말 대단합니다.', '아무튼 연아 선수, 대단해요.', '특히유지현선수의멋진수비....', '유재석 의 도전 대단하다..', '아 진짜 너무 멋지고 존경스러운 분', '춤추고 노래하는 고지용씨보다 자기일 멋지게 하며 큰 포부갖고 있는것도 보기좋고 멋지시네요~~', '역시 그알 진행할인물이다.♡♡', '63번버스 매일타는데 다른기사님들보다 참 젊은기사분이라고 생각했었는데 멋지시기까지 하네요!!', '오바마 참 인간적인 대통령 이었다.', '와, 대단한 사람이다...', '자랑하셔도 될정도의 휼륭한일을 하신겁니다', '미사는 정말 최고~~~아직도 눈의 꽃나오면 가슴이 넘 시려온다', '이런거보면 카노가 진짜 대단한거임 같은 도미니칸인데', '이 형 솔직히 멋짐 !', '누구생각인동 칭찬받아 마땅하네요~good!', '진짜 너무 멋지심ㅋㅋ', '6000억 형님 장훈이형 멋져요', '진정 용기있는 투사십니다.', '끼야 진심 저게 감독이지.', '김훈 선생의 세련된 문체에 존경을 표합니다.', '아무리봐도 퍼기가 명장인듯 ㄷㄷ', '진정한 희극인 이십니다', '시그널 진짜 인생드라마...', '단역배우들 연기력도 넘사벽', '오바마 진짜 대단한 사람', '암튼 대단하다고 할 수 밖에...', '정말 감동적이었어요ㅠㅠ갓예진 연기력도 외모도 짱!!', '오~~~멋찌다!!용기에 박수를 보냅니다!', '리스펙!!!!!!!', '정말 태후에서 유시진 연기는 최고였다!!대상 축하합니다~~', '박찬욱의 변화가 반갑고, 박찬욱의 여전함이 감탄스러웠던 영화. 감독님 사랑해요.', '크레옹팝 진짜 대단하다 ~&~?!', '무한도전 최고 유느님최고 엑소최고 오늘너무재밌었어요!!!!!!! 대박', '이걸 발견한 한국일보 기자 대단하네요', '역시 국내 최고는 다르다 !!', '기존의 기술에 충실하면서 혁신을 더해나가는 모습이 정말 대단하다.', '대단하신분 임은 틀림없네요', '한국 최고의 여장부이십니다', '같은 여자로써 너무 멋지십니다.', 'god 효신ㅠㅠㅠㅠㅠㅠㅠㅠ', '용기가 대단하십니다~엄지척~!!', '나에겐 불멸의 이순신 역사 드라마가 최고였다', '덕배 is 아주 쩔어', 'ㅣ멋지다 유느닌님ㅎㅎㅎㅎㅎ', '그경기 MOM이었고, 그런 대단한 선수다.', '저 사람 수술해준 렛미인 병원 의사도 대단한듯 ㅋㅋㅋ', '그런 배짱 존경합니다!!', '많은 사람들이 연아양을 좋아하고 위대한 스케이팅이라고 한 이유.', '늘 아름답고 더더욱 성장한 연기로 빠짐없는 감동을 선사하시는 김연아선수..', '대단한 결정 내린 것같아요.', '너무너무 이쁘고 아름다운, 감동적인 연기 였어요.화이팅!!', '이것은 퍼팩트다 라고 속으로 외쳤읍니다.', '정말로 부럽고 존경스럽습니다', '최고의 연기를 보여준 김연아 선수 잘했어요', '백주부님 짱입니다^^', '정말루 종경스럽네요', '인상도 좋으시고 솜씨 또한 최고싶니다.', '세상에서 가장 아름다운 생명체인 우리 연아님^^', '쥐훈이 간만에맘에드는컷그렸군 수고 ㅎㅎ', '진짜 멋있다... 존경스러워요 언니', '역시 보컬의신!! 이승철이다', '정말최고였어요링거투혼!!!', '말그대로 신들린 연기 ㄷㄷㄷ', '최고의 선남선녀 짱~~~', '뭉클하고 든든하고 멋지네요!!', '사시미가 대단하네.', '이제훈 최고ㅠㅠㅠ', '?.....역시 황교안 최고!!!!!!!♥♥♥', '역시 우리형 대인배 인성...', '갓재석님 ㅜㅜㅜ 진짜 존경함', '오늘 연출,대본,연기 다 대박', '대단한 손세이셔널', '두테르테형 진짜 대단하다!!', '진정 연출력에 박수를 보냅니다!', '대인배네 대인배...', '리스펙 그랜트! 리스펙 요!', '레전드.. 장인.. 진정한 프로!', '정말최고다 와우!!', '최고의 여배우 입니다~', '소름~ 역시 갓효신', '니가 짱이구나!!!!', '갓해진 갓빈 ㅜㅜㅜ', '울 쌈자신 쵝오~~~~~~~~사랑합니당.', '용기있는 지식인', '역시 교황님은 다르네....', '저 학생이 자랑스럽네', '역시 킹재환 대단하십니다!', '오간도 진짜 최고인데....한화....', '역시 알레그리는 명장이다', '대단하다 우리나라!!', '오바마 대통령, 보기 드문 참 멋쟁이 대통령이야!', '참 대단한 사람이다...', '그래도 대단하다!', '와 역시 삼성 굿 !!!', '축하합니다~~^^박보검이란 배우 최택서 이영세자까지 정말 다양하게 볼수있어서 너무 행복 했답니다~~^^', '제 가슴속의 레전드는 오마쥬 투 코리아 입니다.', '실력으로만 최고가 아닌 인간적인 소탈함과 대범함이 그녀가 왜 최고여야 되는지를인증해 주셨네요~', '김연아선수..대단합니다..', '마지막무대인데도 최선을 다하시는모습 진심으로 멋있고 대단했습니다.', '베테랑의 힘은 역시 대단해', '와.... 박하선 대단하다', '헌재 잘한다!', '시대 영웅이십니다', '오재일은 인정할수 밖이다 진심', '내마음의 음악대장....ㅠ', '진심 마음에서 존경심이 우러나온다...', '역시 무도 큰형님', '드디어!!!! 장하다!!!', '박지성선수 이후로 최고의 아시아선수다.....', '과학자들 존경스럽군ㅎㅎ', '우리라미란씨 화이팅 당당한당신모습이멋집니다', '완전 잘 어울려ㅜㅜㅜㅜㅜㅜㅜ믿고 봅니다!', '이효리는 ♡♡입니다.', '미래부가 나서네. 최고다!', '대박... ㅎㄷㄷ .갓소라', '초등학교 6학년때 본 에일리어2가 최고였어!!!!', '정말 최고다...', '진짜힘든게 정기기부 하는거라고 하던데 진짜 대단하시네요~', '말이 필요없는 두배우..', '위엄보소.......캬', '진짜최근들어봤던 드라마중 최고인듯..', '근데 김연경 경기하는거보면 참 멋지긴하더라..엄지척~~~', '갓윤아연기 개쩐다!!!', '메시는 경기보면 감탄밖에 안 나옴', '사업/ 요리/결혼 모두 부럽고 존경합니다.', '너무 멋졌어요..', '이세상 최고의 스케이터랍니다~!!', '아무리 봐도 너무 대단한 거 아닌가요?', '오늘 연기 정말 멋졌어요~', '정말 최고의 연기였습니다.', '짱입니다', '배울점이 많은 사람', '대단하시고 멋지십니다. 자랑스럽습니다.', '구르미 찍느라 박보검 수고했다', '웃긴거 알죠?~ㅋㅋㅇ ㅏ~', '요리의 매력에 빠졓슈', '고게 훨씬 귀엽고 더 어려보여요 진~짜~', '세븐틴 예쁘다!!', '게다가 위트도 있으시고 편안한 인상 너무 좋습니다', '기분 좋은 맘으로 요리를 하면 맛도 업!', '백주부님 멋지세요^^', '정말 재미있어요~^^', '정말 멋졌어요!', '너무도 이쁘고 멋진 미소이심', '우히히....... 어제 무한도전 너무 재밌게 봤어요', '홍홍홍홍 웰케 잘생겨졌냐면서..', '갑돌이랑 갑순이덕에 너무 재미있었음', '오늘 촬영하는거 봤는데 공유 존잘', '캬!! 장관이로고 자연의 아름다움이 느껴지네', '인물도곱고 맘씨도 아름다바라~~♡♡♡', '김세정 진짜 이쁘다', '딘딘이 너무 귀엽고 웃김 ㅋㅋㅋ', '어머님들 표정이 진짜 재밌었음. 진짜 리얼 표정 ㅎㅎㅎ', '나도 친구분처럼 김영철 씨가 가장 웃기다고 생각했었는데 지금은 정말 멋있는 개그맨이 된듯', '아는형님 진짜 개재밋음ㅋㅋ', '언제봐도 늘 멋쪄요~♡', '요즘 배우중 조보아 참 이쁘던데~~^^', '구르미에서 연기 너무 잘하셔서 호감!!', '오 드디어 ㅋㅋ 열일하는 나피디 ㅋㅋ', '머머리아재들 희소식 노벨상감', '조정석. . . 연기 느무 잘해염~!!', '멋지다 추진력~~!!', '김사부님 서정이 수술찬성할때 정말 리액션 귀여웠음', '이태원 바에서 예은봤는데 성격엄청좋아보임 ㅎㅎ 물론 얼굴도 예쁨 행쇼', '이준기 연기인정하죠 매력적이고', '연기 너무 잘해요~ 루이가 너무 보고싶어요!', 'ㅋㅋㅋㅋㅋㅋㅋ졸 우낀다 ㅎ 주사 ㅋㅋㅋ', '너무 몰입되서 오랜만에 좋은 드라마 봅니다~~연기들 너무잘하세용', '멋진 베네딕트~~!!', '더블유가 너무 신선하고재밌어서...', '완전 귀요미.', '멋쪄 멋쪄 다 멋쪄', '고영태 멋지다 금메달감이다', '신한슬기자님 예쁘세요', '오 그렇네 재밌었던 영화', '잘생겼다. 귀엽고 섹시하고 매력이 많아', '진짜 재밌었다.마지막까지', '안 본 사이 더 예뻐 지셨어요.', '미쳐 활동때 배추머리는 대박 카리스마개쩔', '라이브 듣고 완전 소름. 유스케 기대된당!!!', '존재감 쩔었음ㅎㅎㅎ', '도전한자는 멋지다^^', '난 남잔데 설현보다 송중기 멋진 모습 보는게 더 좋더라...암낫게이', '둘다 잘생겼으니까 인기있지 ㅋㅋㅋ', '드라마화가 뭐 오나귀 가 좀 특별나게 재밌었지만 이것도 좀 재밋어요', '난 일단 비쥬얼 짱인 푸바', '하면서 보아스랑 비교하면서 재밌었는데 ㅋㅋㅋㅋ\"', '아이유 너무 예쁘고 사랑스러워요~', '몰랐는데 훤칠하고 멋있음', '요즘 최고 잼나도 듀가 노래도 멋졌음', '누나예뻐요ㄹㅇㄹㅇㄹㅇㄹㅇ', '근데 피디는 개웃기다', '어제 재밌게봤는데', '꿀이로구나 둘이 붙어있는 씬 케미 최고', '진짜 존멋 개멋', '얼마나 꿈같을까짝짝짝', '엄정화 좋음.', '넘나재미씀', '김건모 어머님 너무 잼나요', '손나은 첫 등장할때 너무 예뻤음', '아이돌중에서 미모 탑이다진짜!!', '더블유 존잼 ㅋㅋㅋㅋㅋㅋㅋㅋㅋㅋ', '새미....너무귀엽네 ㅋㅋㅋㅋ', '외모상으로 똑부러지고 야무질거같은 느낌드는 여자', '천상여자 같은 느낌이야.', '사진은 이뻐서ㅎ', '외모는 충분히 이쁘다..', '솔직히 한효주니까 여신인거지???', '이러는데너무 귀여워 죽겟닼ㅋㅋㅋㅋㅋㅋㅋㅋㅋㅋㅋ', '멋진 백주부님!', '서로 의식하게 되고 좋아하게 된 시기가 겹쳐서 너무 신기해요', '궁금해서 여기 눈팅하고있는데 이거 너무 웃김 ㅋㅋㅋㅋㅋㅋㅋㅋㅋㅋㅋ', '이번 해투는 가요제이후로 절 젤로 웃긴, 도니님다운 몸개그와 언변이었다고 생각합니다!', '백선생님요리 정말제미있어요.', '재석오빠, 오늘 무도 정말재밌게 봤어요 ㅎㅎ!!', '이쁜 석민아♡', '오늘은 해투 촬영날이자 무도 하는 날!!', '백쌤 얼굴만 봐도 절로 입가에 미소가~', '독특한 억양이 너무 멋있습니다', '주말이 되면 무도 볼 생각에 진짜 좋더라고요유느님 활약 기대됩니다', '텔레비젼에서 수다떨떼나 에드립할떼 눈 웃움이 멋저요 ^^^', '후반으로갈수록 존잼 ㅎ', '대박^*^은근히 섹시한 보검계속 기다리게됨 ㅎ', '윤아 연기 잘하고 이쁘고 매력있어~~!', '오늘 너무 웃겼어요ㅋㅋㅋㅋㅋㅋㅋㅋㅋㅋㅋㅋㅋㅋㅋㅋㅋㅋㅋㅋㅋㅋㅋㅋㅋㅋㅋㅋㅋㅋㅋㅋㅋㅋ', '아진짜 w존잼이었다', '역도요정재밌음ㅋㅋㅋ', '근데 진짜 잘생겼네ㅋㅋ 원빈급이다', '진짜 제일 좋아하는 야구선수 김병현 . 진심 멋지다.', '이런거 넘 좋아ㅋㅋㅋㅋ 허준재 질투 귀여울 것 같음ㅋㅋㅋㅋ', '능력 있는 어른의 모습.. 멋있어요♡', '예쁘게 사는배우네.', '둘다 자알 생겨따^^', 'K pop 스타 마지막이라 그런가 참가자 실력도 좋고 완전 꿀잼^^', '선동렬급 ㅋㅋㅋㅋㅋㅋㅋㅋ 존내 웃기다 ㅋㅋㅋㅋㅋ', '너무재미있음 오늘보러갔다왔는데..또보고싶음', '잼나네 ㅋㅋ', '박영선 위원 정말 사이다입니다.. 멋지십니다.', '고유어는 아름답다!', '전복 이름 지어준거 겁나웃김ㅋㅋㅋㅋㅋㅋㅋㅋ 마이클이라닠ㅋㅋㅋㅋㅋㅋㅋ', '뒷북 꿀잼 ㅋㅋㅋㅋ', '난 암전게임 재밌었음 송민호 스탶입니다 재치있더라 귀여웠음ㅋㅋㅋ', '보고팠어요 멋있는 효리씨', '조윤선 너무 이쁘다♡', '수지 능청스럽게 비굴한 연기도 잘 하고 귀엽고 사랑스러운 연기도 잘 하고 자연스럽게 잘해잘해 예뻐 죽겠어~', '이 아재 개그 좀 할줄 아네 ㅋ', '어제나온 부부 너무보기좋더라~~설현도좋았고 ^^', '검은사제들에서의 카리스마~짱!!!', '훈훈한 비주얼에 따뜻한 연출 기대할게요!!', 'ㄹㅇ대박날만함...시청률 30은 나와줘야지...개존잼 꿀잼 ㅇㅈ', '진짜나랑개그코드가 너무 똑같애서 배꼽잡고 웃는다 너무 재밋서 ㅋㅋㅋㅋㅋㅋㅋㅋㅋㅋㅋ', '잘생겼당 이민호~', '일목타령이 제일 웃기네 ㅋㅋㅋㅋㅋ', '슬리피 이국주 개웃길듯ㅋㅋㅋㅋㅋㅋ', '우린 가장재밌어 ㅋㅋ', '발가락이 닮았어요~', '박재범 멋지다', 'ㅋㅋ 남자가 봐도 멋있다말 진짜 잘한다.', '키야 아들 잘생겼다', '형님 얼굴도 멋있으시고 행동도 멋있으십니다', '어제 귀여워죽는줄ㅜㅜㅜㅜㅜㅜㅜ', '호부지 멋지다...', '완전 멋있다! 마음까지도', '무엇보다 연기앞에서 진지하고 성실한 부분이 박수받아 마땅한듯.', '박보검 사극 했어도 한번더 보고싶네요 박보검 강추♡♡', '얼굴에 한민족의 점잖음이 기품이 뭍어나네', '마크 러팔로 멋있다..', '멋진 친구네여', '신의 얼굴‥ 등골이 오싹하더라 표현 정말 좋았어 !!', 'ㅎㅎ 역시 김선달 잼있음!!!♡♡', '멋있다신화~~~', '고급스럽게 아름답다', '보검이는 사랑할수밖에 없는 남자', '만세는 날로 잘생겨져가네', '눈치보지 않고 하고자 하는 말씀 시원시원하게 해주시는 모습, 멋있습니다!', '윗입술이 너무귀여워요 ㅎㅎ', '넘 넘 잼있는 드라마~!!', '잘생겼다......', '언니는 백야행때도 정말 아름다웠다고 생각함', '김비서 님 티티 각임미다♡♡ 넘무 귀여우심', '멋잇어요~~', '넘 재미남ㅠㅠ 이민호 넘 존잘에 설레는데 코믹한 연기도 넘 잘해ㅋㅋ', '박보검은 남자인 내가봐도 잘생겨 보이는데 여자들은 오죽할까 ㅋㅋ', '역시 얼굴도 착해 몸매도 착해 마음씨는 말할것도 없네 ^^', '책장 움직이는 거 멋있었어', '우리 오지환 킹지환 갓지환은 사랑입니다 ♥? 문천재도 멀티홈런 멋졌어요 ^^', '멋지다 역시', '박보검은 그냥 보기만해도 기분이 좋아지는 매력이 있다. 마냥 흐뭇해지더라~', '어머나~머리스퇄하나로 이리 바뀌는구나~~귀엽네~~~', '현빈♡♡ 멋짐..', '멋있어 해병대 갈때부터 알아봤다니깐 역시 남자야ㅎ', '마음씨도 참 곱고 이쁘다~~^^', '아 졸귀탱들ㅠㅠㅠㅠㅠㅠ♡♡♡♡', '우주는 정말 신비롭다', '개지리겟다 존멋~~~♥♥♥본방사수해야징', '몸이랑 얼굴 비율이 헐리웃 배우같아ㄷㄷ', '기대하고있어요!너무좋다 ㅠㅠㅠ', '먹는것도 잘먹고 몸매도 좋고 매력짱^^', '류준열 너무 좋아 .....', '이 분 음색이 갑... 말 할 때도 노래할 때랑 목소리가 똑같은데 너무 섹시하고 예쁘셔여...', '김종국버전끝사랑개존좋..', '탕웨이 닮은 딸은 또 얼마나 이쁠까....', '진짜 개꿀잼.....꼭 봐야됨', '진짜 테임즈 팔뚝을 비롯한 몸은 대박임', '진영이 작곡한 같은곳에서, 벚꽃이지면 진짜 명곡임....', '시영이는 얼굴도 예쁘고 운동도 잘하고 머리도 좋고 못하는게 뭐니', '승재 너무 귀여워~~ 사랑사랑하네♡♡', '형님~ 너무 멋있으십니다.', '맨탈갑!!!!!ㅋㅋㅋㅋㅋㅋㅋㅋ', '와 어떻게 해도 예뻐ㅠㅠㅠ', '은지원 매력이 정말 많은 사람이라 신서유기에서 보여주는 매력도 장난 아니구ㅠㅠ', '유재석 몸매 장난아니더라 ㅠㅠ', '딱 한번 나온 미용실 원장님의 아우라 또한 잊혀지질 않네요.ㅎㅎㅎ~~~', '젠도 사랑스럽습니다', '수지 예쁘고 착하더라 존예짱예', '근데 겁나 재밌네요^^;;;', '김하늘이 뭔가 묘한 매력이 있긴 함~', '정말 예쁨 ㅠㅠ', '비와이가 기존랲퍼랑 완전 차별화된 점은 불량스럽지가 않다는거 오히려 성실해보임 이런 랲퍼는 처음이다 진짜', '자동차 너무 귀엽네요!!', '다시한번 반했어요.', '멋져 멋져 멋져.', '진짜 부러워요', '상대 타자들을 압도 할 만한 터프한 턱수염 와이리 멋있잇는지..', '스핀의 우아한 자태, 나는 듯 활강할 때의 쿨한 느낌이 얼굴에 다 묻어나고, 그게 연기와 잘 어우러지니, 연아양 경기를 보고 있으면 마치 발레 공연을 보는 것 같은 착각까지 들어요.', '오늘이랑 어제 춤 완전 짱짱이었어요!!!', '너무 멋졌어', '정말 신기하죠ㅠㅜㅠ', '아무리 봐도 실수랄 만한 건 안 보이는 완벽한 연기였어요.', '보고 또 보고 싶은 연기였어요', '독도팀과 베이징팀의 치열한 감남스타일 뮤직비디오 찍으시는 걸보면서역시 멤버들 짱이시다라고 느겼습니다', '참 멋있다! 시급도 부럽다!', '멋진남자..멋진배우..', '와 윤어 저 사진 넘 이쁘다', '그런데 정준영 진짜 잘생겼네', 'ㅋㅋㅋㅋ진짜 웃기더라ㅋㅋ예능신 강림ㅋㅋㅋ', '어제 잘하던데 부상 참고 계속 뛴게 멋있다 ㅎㅎ', '이청아 진짜 예쁘네.', '민진웅배우 정말 목소리도 좋고 연기몰입도가 짱이더라 ㅠㅠㅠㅠㅠ', '진짜 남일이라 신경끌법도 한데대단하다 멋있다', '꼬부기 정말 귀여워요 ㅋㅋ', '와아아아아아아아아아아아아 정말 진짜 남자다 !!!!!!!', '수란 음색 쩐다', '모든장면이정말명장면이었습니다 ㅠㅠ', '이뿐만 아니라 일본은 머든지 아이디어가 기발한 나라같다', '근데 김소은 연기 잘하네', '여자 몸매 쥑이네.', '티저보고 괜찮네 했는데 진짜만드네', '조선 최고의 로맨티스트 직진 벤츠남 이영ㅠㅠ 박보검의 눈빛, 감정 연기가 진실되고 뭉클했다', '재덕아~~넌 정말 천사같이 잘생겼어!!!^^', '마지막까지 멋있다 전병두 선수!!!!!', '군대 갔다와서 더 멋있어진거 같다', '박신혜 이쁘다 ㅎㅎㅎ', '익스 이상미 누나 진짜 너무 이뻐요', '박보검 너무 좋고 구르미그린달빛 너무 재미있어요', '김사부 정체 알기 전후 유연석 눈빛이 확 달라지는데 감정연기 섬세하게 잘 하더라', 'Day day는 진짜 노래 너무 좋음', 'ㅁㅊ 개잘생겼어', '바리깡으로 미는 사진 보니 원빈이 얼마나 잘생긴건지 알 수 있네요...', '진짜 명경기였어요 보면서 탄성이 나왔네요 그리고 버티는게 크', '이민호 눈빛 너무 좋음', '알고보면 정말 훈훈남', '보검이 얼굴이 국민드라마다!', '딘딘 얘는 계속 호감인듯', '차인표 라미란 케스팅 진짜진짜 신의 한수~~!!!', 'ㄱㅊ 엠마왓슨 개이쁨', '영지 너무 귀엽다 ㅋㅋㅋ', '금발머리 포수시절때 참 좋아했는데', '외모도 착하지만 맘씨도 착하군요!!ㅠㅠ', '세상 에서 가장 멋있다', '노래도 뮤비도 퀄 ㅎㄷㄷ 조이 진짜 예쁘고 노래도 잘하는구나', '이동욱 넘 귀엽고 연기도 짱 잘하네요~', '용기있는 래퍼', '멋쟁이네 김광호 아저씨 !', '얼굴도예쁘고연기도잘하고다좋아요~♡', 'JTBC 진심쩐다.... 권력에 맞서네!', '신화 정말 멋있네요!!', '트리진짜 너무 이쁨 ㅋㅋㅋㅋ', '심지어 작가도 아름답구나', '브리짓 꿀잼임!!!', '넘나 자상하고 요리도 잘하네요', '정채연 너무 예쁘다 ㅜㅜ', '속부터 끝까지 멋진 리더 ~ 부럽다 ^^', '금비가 더 잼있더구만 영온공주 너무 예쁨', '서인국 연기 참 디테일하게 잘해 표정연기 최고다 남지현 복시리랑 오래오래 행복해라', '머찌다!!!!상남자 아이가~!!!', '강한나 존예 ㅜㅜㅜㅜ', '엑소랑 유재석 콜라보라니 기대만땅!!!!', '근데 참 잘생겼다', '김종민 진짜 착한 사람인듯', '와 이쁘다!', '키퍼 세이브장면이 젤멋있네', '정말 카멜레온처럼 다양한 매력을 선보이고 있어서 박보검 참 좋다.', '아씨 지맘대로 잘뻣고 잘생겼네 아휴 흥', '애기가 말두 넘 똘똘하게 잘하구 독보적인 캐릭터인거같아요ㅠㅠ넘귀욥당ㅠ', '와..표정들이 다 순수해..', '이세영 노래 진짜 잘한다', '우와 아베멋있다.', '우와 주원 대박..!', '류준열 정말 연기 좋으시더라구요', '잘생기긴 했지 ㅡ 화면에 몰입하게 하는 얼굴 눈빛 ㅡ좋아', '유승민 기캐 졸예ㅠㅠㅠㅠ♡', '강하늘 사람이 참 선해보여..', '가사를 보면 센스가 돋보임', '설아 수아 대박이 너무 귀여워 ㅋㅋㅋㅋㅋㅋㅋ', '배역이 너무 사랑스러웠다', '넘 이쁘구만요~~♡', '두분 영화 기대되네요~^^', '연기가 진짜 예술이었어요', 'ㅋ 대통령이 가방 들때 부터 웃겼다.', '윤계상 연기가 점점 훌륭?멋집니다?', '공유님 보는 낙에 사는 1인', '내가 화장한 얼굴보다 훨씬 몇천배는 이쁘더라..ㄹㅇ하얗고 피부 좋아ㅠㅠㅠ너무 이뻐', '김은숙작가때문에 도깨비를 봤는데 정말 공유 멋내지 않으면서도 슬픔과 기쁨을 표현하더라.', '둘다 연기 잘해용~~^^♡', '털많은 귀여운애라 그래도 이쁘고 귀엽지 ㅋㅋㅋㅋㅋ', '괜히 몸매 종결자가 아니네요', '몸매가 약간 탄력이있으면서 슬림한게 스펙이 대단하네요..', '신민아 요즘 너무 예뻐서 신민아 나오는영화 다봤는데 존내 예쁘네 ㅠㅠ0', '예뻐졌다', '크리스마스브이앱은 역대급 꿀잼이였다????', '정말 잘생겻더라구여...', '연아양 정말 너무나 아름답고 가슴 뭉클하고 ....', '트윗 지금 봤는데 넘 예뻐..', '진짜 보컬팀 어제 라이브 레전드 였어요!!', '음식의 맛은 물론음식에 들어있는 히스토리까지알려 주시는 선생님의 박식 하심!!', '너무너무너무너무너무너무 이쁘셨다는말밖에는..ㅠㅠㅠㅠㅠㅠㅠㅠㅠ', '멋있다!!!!!', '나날이 발전하는 너무 예쁜 연아양!', '제가 감히 생각해보건데 형의 장점은 ...우선 타격에서 그 타고난 감각으로 안타를 정말 잘 치는 것같아요...', '막판에 유느님 활약도 멋있었어요', '재밌게 잘 보고 있습니다.', '갈수록 예뻐지는 언니가 무지 부러워요.', '그리고 마음이 우러나오는 스케이트라고 연아양의 마음을 스케이트에서 느낄수 있다는게 신기하네요..', '남자들만 계시다가 남녀가 계시니 색다르게 보였고유느님과 김제동 씨랑 호흡에 감탄 했습니다', '그리고 lp종달새의 비상 너무너무 예뻤어요~', '이쁘고 섹쉬하기 까지 합니다.', '백선생님의 여유가 너무 좋고 박식함에 탄복합니다.', '3할을 훨씬 넘는 깔끔한 타격에 인상적인 수비...', '두분의 사랑이 넘 보기 좋네요~~~~^^', '오늘 음색 짱 이였어요...', '어쩜 요리를 그리 쉽게 잘 가르치시는지 부럽네요.', '진짜로 오빠들이 자체작이라는 말에 저는 이끌려 오빠들 매력에 푹 빠졌죠', '이젠 프리곡이 더 멋지네요...', '오늘 정말 한눈에 반할 정도로 이뻤어요~~', '700일동안 화려한 팀워크와 자체발광하는 아름다운 노래.', '청하 솔로로 ost도 낸다던데 다재다능하다 진짜', '한마디로 멋있으십니다', '연기지들 모두 짱이다', '스페셜~~ 봐도 봐도 또보고 싶음~~♡', '크~진짜 훌륭한 작품일세~~~~', '우와 최민용씨 다리기네요 .비율이 좋네용', '한마디한마디 다 가슴에ㅣ 와 닿는다정말 부럽네요', '어쩌다 졌는데 , 이쁜외모에 투기 ,의지 ,견지 ,능력을 보여줘서 조자룡을 연상케, 가슴에 애기안고 조군의 적진을 난타하며 뚫고 나오는 조자룡 같아!', '강참치형 오지게 잘생겼다', '셋다 진짜 기가 막히게 이쁘긴 하다..', '주위를 환하게 만드는 박보검 능력~~', '김태리는 이뿌건 당연한데 묘한 분위기가 있음~~', '개인적으로 8:45 heaven 젤 좋았음 초명곡 ㄷㄷ', '말도 잘 하고 얼굴도 예쁘고 못하는게 없는 유정이', '반페르시 골들은 진짜 멋있게넣네', '이민호 눈빛연기 감정연기 개잘함', '마마무 왜케 좋지?ㅠ', '횃불 완전 멋있었다 장관이었음 ㅋㅋ', '부럽네요 저 성숙한 국민성이', '류준열 기대기대 선배들과 아우라 멋짐!', '공주가 직접 총을 들고 자신의 몸과 반군을 보호하는 모습이 그때 얼마나 멋있었는지…', '에르도안 술탄 위엄 보소', '완전부담스러웠을텐데 연기도너무잘하고 너무너무이뻐요 완전기대됩니당', '진짜 이쁜건 국내원탑이다 ㄷㄷ 개이쁘네', '연애시대 유은호 역할이 최고예요 !!!', '묘한 매력있어요!!!', '연기잘하시드라구여.ㅈ', '박보검벌써보고싶네 ~~~~', '이쁘고 노래 잘하니 반하나 안반하나', '멋있어 외모도 액션도 거기에 연기까지 엄지척', '아이유보다 훨 이쁜데', '솔직하게 정정해주고 예쁘다', '야 김혜수.이재훈 .여기에 김희원등 조연들도대박 지디는무도씩스맨이니새로울것도 진짜영화다.', '멋있다 진짜', '이준기 진짜 연기넘잘함 재밌는데 언제나본방사수', '진짜 자기꿈을향해서 맨몸으로 부딪히는게 진짜 멋있다', '키스장인 두배우들이 열일했다', '진짜 예쁘시다 딱 내스탈', '현빈 진짜 멋있음 ㅠㅠㅠㅠㅠ이 영화보고 한번 더 반함 ..', '스토리도 재밌지만 비주얼이 화려해서 입벌리고 봄', '제가 본 웨딩드레스 중 가장 아름다웠습니다.', '진짜 연기 개잘해ㅋㅋㅋㅋㅋㅋㅋ', '멋있다!!!!!!!!', '준청 눈싸움하는장면 둘의 연기너무좋았다', '노장의 투혼, 멋있다', '아오~~ 멋있어~~~^^', '받을 자격있으시죠~낭만닥터 재밌습니다', '기희현 걸크 ㄷㄷㄷ 개멋지다 사이다', '와 존예보소 ㄷㄷ', '몰입도최고!! 배경음악도 짱!!', '멋있다 저런게 국위선양이지 ㄹㅇ', '작가+감독+배우 다 열일ㅠㅠㅠㅠ', '유스케...비와이 등장!!! ㅋ', '멋져요~~ 영화 꼭 볼게요', '현빈의 액션은 대박이었다', '대박이당!!! 출연하면 무편집영상본 갖고싶당ㅠㅠ', '저 배우들을 같은 드라마에서 보다니 대박!!', '겁나 웃길듯 ㅋㅋㅋ', '광희 이곳저곳에서 열심이더라~기특~!!', '뵨사마 ㄹㅇ 존멋 ㄷㄷ', '7위ㄷㄷㄷㄷㄷㄷ 탈아시아급 김동현~', '이청아 넘흐 이뻐요', '하.. 이쁘다.', '사실 특별출연 이었지만, 영화가 끝난후 가장 기억에 남는 배우였음.', '류준열 대박.', '감탄밖에 안나온다', '남주 여주 넘 매력 넘치니 대박 터질일만 남았네', '사진에서 빛이나네??', '(읍출신)서울이 진짜 반짝반짝 빛나고, 멋있더라고요', '그냥 멋져유 ~요리할땐 더 멋져유~기부했다고 들었을땐 더더더 멋져부러유~~^^', '넘넘 아름다웠어요~~~', '노트르담도 멋있군요.', '진짜 너무귀여워요 ㅠㅠㅠㅠㅠ♡', '목소리 넘~~좋으시네요!!!', '어제 불후의 명곡도 너무 멋있었고 마마무분들이랑 바꿔서 무대한 데칼코마니도 대박이었어ㅠㅠ', '연아양은 가만보면 피겨를 즐기면서 하시는것같아요..', '말 마성의 매력을 가지신거 같아요!!', '어제 런닝맨 완전 재밌었어요!', '요리하시는 모습과 3대천왕에서 활동하시는 모습을 보면서 참 멋지신분이구나라는 생각을 하게 됩니다.', '신이내린 완벽한몸매...', '마운드에 그의 모습은 정말 멋있다..', '시크린가든 역린 연기력은 최고였지', '그래도 이휘재씨는 멋진 분입니다.', '김세정은 솔로가 더 어울린다. 매력적인 감성보컬 김세정~~', '다른건 모르겟고 안현모님 너무 예쁨예쁨 하시네...', '생각보단 이쁘네 화장하면 상당히이쁠듯 목소리도 섹시하고 의외네', '와 대박 지창욱이랑 윤아 존나 잘어울린다ㅠㅠ 얘네둘볼라고 드라마봄', '정말 미인얼굴이다 안떠서 그롷지', '진짜 재밌고 배우들도 제옷을 입은 거 같아요', '악뮤만의 스타일이 너무좋아서 찾아들음!!♡', '얼굴 만큼이나 마음 씀씀이도 참 예쁘네^^', '김병만 연기잘하네', '신선한 소재로 지나칠법한 내용..어떻게 이리 작품으로 잘 만드셨는지..당신과 그들과 함께한 모든날이 좋았다', '맛있겠다ㅜㅜ', '박효신 콘서트 같았어 멋있도라...', '김소연 오열 소름연기 대박이예요', '김성욱색히 그와중에 잘생겼네', '조이~~ 너무 예쁘다!!!', '넘멋있어용 김연경', '아 진짜 너무 이쁘다..', '이름도 간지', '그래도 마지막에 과르디올라 선수들 다 안아주는거보고 진짜멋있었음', '재미있게 읽었습니다', '이엘씨 분량 늘려주세요.이언니 매력 쩔어.', '이민기 멋있네.. 진정한 상남자..', '주연배우들도 좋지만 공시생3인방이나 학원쌤들의 감초연기도 넘좋다~', '정말 멋진분인것같아요.', '어제 덕혜옹주 잘봤습니다', '아나운서 골반 섹시하네', '드레스 이쁘다. 신부두 이쁘고 .', '이서진 에릭 윤균상, 생각도 못했던 환상적인 조합!!', '이드라마를 통해 발견한 사실, 수영 연기잘한다,이선빈 예쁘다, 마동석 귀엽다.', '김주혁 연기짱 ㅋㅋ', '미친존재감..ㅠㅠㅠ', '왠지 멋있다.......', '어우 김아중도 그렇고 주진모도 그렇고 미녀는괴로워때 레전드급이였지', '보검이 어쩜 그렇게 이쁘니.착하고 인성 좋은게 보이니.', '유느님 진짜 멋잇다!!!', '캐스팅쩐다!!!!!', '어쩜 말도 예쁘게해 ㅠㅠㅠㅠ', '미남가수 황치열 가창력 짱 섹시 ㅋ', '씨잼 비와이 개굳이네', '백현 무대에서 눈빛 표정 진짜 장난아님ㅠㅠ 목소리도 개좋고ㅜㅠㅜ 기대중', '공유 가을 겨울 패션이 너무 맘에 든다. 취향저격!', '장근석 말 재치있게 잘 하던데 ㅋ젤 재밌음...', '멋져요 동완오빠', '촬영에 애정이 많다니 진짜 좋은 배우인듯 류준열ㅠㅠ', '다음 작품에서는 어떤 모습일지 늘 기대되는 배우. 담백한 스타일의 연기가 넘 좋다.', '드라마 존잼. 도깨비씨 액션에 사극에 뽀뽀씬에, 저승씨랑 터널에서 걸어주시고 종합선물세트였네', '팬들힌테 모자 벗고 답례할때 너무 멋있었다외쳐 장잘샀 !!', '간신으로 나오신분 쇼핑왕루이에서 되게 순박해보였는데 역시 배우셔서 그런지 연기가 ㅎㄷㄷ함', '한혜진을 제대로 본 기성용이 똑똑한 남자.', '그래서 난 갓신양을 찬양하지 많은 작품을 하진 않지만 항상 그 배역을 완벽하게 표현해내는 연기의신 ...', 'JTBC 멋집니다~!!', '남지현 존예다 ㅠㅠ', '잘되고안되고를 떠나서 김종국 진짜 멋있음 ㅎㅎㅎ', '넘나 잘생겨졌네요', '나한텐 정말 인생드라마인둣.', '터널 좋아요 잘봤어요', '박보검 얼굴 몸 미쳤다 ㅠㅠ', '전지현 누나도 이민호 형도 너무 이쁘고 멋있어요.', '연예인 결혼식중 가장 아름다워요', '이상우 해피투게더에서 좀 엉뚱하고 가벼워 보여도 사람자체는 순수하고 괜잖은거 같더라', '영온커플 케미 최고! ^^', '넘넘 예쁘네요', '역시 눈코입 이쁘면 살쪄도 이쁘네', '가만히 있어도 웃기만 해도 뿜어져 나오는 여유와 카리스마!!', '아 진짜 영화같은 경기~~!!!', '진심으로..엄정화를 다시 보게 된다...', '멋있다!', '초특급귀요미ㅠㅠ', '유진이 그땐 진짜 예뻤지', '매력 진짜 와..', '지나고 보니 정말 좋은사람..', '생긴것도 엄청 귀엽고 웃을때는 정말...', '오늘 너무 침착하게 잘 해줬고 너무 아름다웠어요', '선수는 선수로써 아름답습니다.', '역시나 . ㅁ ㅏ음씨도 착한.', '어젠 정말 형의 모습이 멋져 보이던지~~', '우지오빠 어떻게 노래 그렇게 잘만들고 노래도 잘해요?ㅠㅠ', '어제 경기는 정말 아름다웠습니다..', '세븐틴이 너무잘생겼고 진짜로 콘서트에 한번가보고싶어요', '너무 잘생겼잖아요ㅠㅠ', '제일 멋있어ㅠㅜ', '백주부를 보면 넘 넘 부러워요......', '정말 멋있으세요', '백주부님 웃는 모습이 아주아주 매력적이십니다.', '소농민 잘하더라 ㅋㅋ', '기사 사진 진짜 개간지네요 ㄷㄷㄷㄷㄷㄷㄷ', '이민호는 연기도 잘하고 비줠도 최고고 지금도 인기많지만 더 잘될거같다 한류인기도 독보적이고 진짜 멋진배우! 배우자체 매력도 넘치고 성실하고 인성까지 좋으니 안좋아할수가 있나 소처럼 일해주길!', '원탑이면서 자만히지 않고 착하고 아름다운 수지', '어제 엄정화랑 신화할때가 가장 신났음', '실물봤는데 분위기개쩔고 이쁜듯', '이종석 인형같애 너무 잘생김', '연기잘하시는거 같아요.', '에릭 정말 좋은 사람인 것 같음', '캐스터님, 너무 아름다우시네요...', '명품연기가 괜히 나오는게 아니네..', '도끼 더 콰이엇 랩 너무 잘하심...', '론다 인간미 있네', '완전 겸둥이 ㅠㅠ 말을 어찌 그렇게 잘할까이제 완전 기대 !!', '이 검사 멋지네.....', '착하게 보이는데 정말착하고 선하다', '마지막 김고은 연기 ㅠㅠㅠ와....진짜..보는 내가 울컥했다z....', '조현재의 MBC 러브레터서 신부님 역할이 강렬했지.', '첼시가 너무 잘한다 ...', '수지언니는 오저렇게 이쁘냐고ㅜㅜㅜ', '병연이냐ㅠㅠ 이장면만 생각하면 계속 눈물이ㅠ 박보검 눈빚과 연기에 빠져버렷다..정말 대단하다 박보검', '협찬 받지 않은 것 정말 멋있네요.', '소유진이뿌당ㅜㅜㅜㅜ', '현승희 노래 잘하데요', '국회의원 출석두 체크하는 장관...멋있다...ㅎ', '쩌..쩐다 세배 세레모니 뜻을 외국에서 알면 어썸거릴듯', '그림채가 따듯한 느낌~ 너무 좋아요', '유인나 예쁘다!', '정말 너무 멋있다.', '뭐야 너무 귀엽잖아!!!!', '너무 아름답다 저 두분이', '멋있어요 다시봤어요 정말', '일본 2020 도쿄올림픽 소개 영상은 진짜 잘만들었다', '공유 존멋..', '유인나정도면 저승사자도 반할만하지', '크으....... 잘한다 특검!!!!!!!!!!!', '김우빈은 복받았네!와우~!', '이영자 의리있는 모습 보기좋다', '요번엔 진짜 잘 만든것 같다 +_+!!!', '정말 다들 연기 대박!특히 서인국 놀랍네요!', '솔직하고 귀엽네ㅋ 볼수록 매력있다ㅎ', '진/짜 고급지게 이쁘다', '김해숙님 연기야 최고고 강하늘도 연기 진짜 좋은데.. 꼭 볼게요', '이야 진심 잘생겼다', '삼둥이ㅜㅜㅜ걔들은정말 넘이뻤음', '오모~섹시하여라', '오 아이 무대 개쩐다', '이민호 눈물연기 대박 ㅠ ㅠㅠ', '김보경 솔직히... 기대이상으로 잘했다', '유재석 김국진 에릭남 박보검 송중기 김숙은 정말 몰고다니는 미담이 너무 많다', '세배우다 너무훌륭하고 좋거든 ...', '이준기+사극=완전대박 이던데..', '오바마 제일 멋있음 짱^^', '옥탑집 계단에 레드카펫이 멋있어보이긴 처음이다 기발하다', '이민호 연기 완전 대박.', '이영애 미모는 여기서 늙었네 머네가 아닌 자기만의 미도 계시고 한국적 미가 있는 국보급임', '노래 너무 좋음 정말로.', '진짜 멋지긴하네!!', '확실히 고해 편곡 잘했음!!', '특검보님 표정변화 넘 재밌었어요 ㅋㅋ', '항상 느끼는 거지만 작품 할 때마다 더욱 예뻐지는 것 같아요..!', '외모가 그닥 화려하지 않았지만매력이 넘쳐 흐르지도 않지만너는 매순간 감동을 주는 사람이었어', '어제 홈런은 정말 멋졌는데..', '물론 이번경기 너무너무 멋있었어요^^', '멋집니당!!', '환상적이고 멋진 연기 보여줬습니다 ...', '연기 정말 잘하시더라구요 !!!!', '놀러와 녹화 분도 보면서 입담도 잘 하시고요', '오늘 교복입고 혼자 춤춘거 진짜 멋있었어요.', '상준이형 형은 수비를넘넘잘해여.', '백종원님의 푸근한 성품 그리고 놀라운 음식 솜씨에 반하기도 했습니다.', '아직 TV중계와 사진만 봤지만..넘 예뻤어요', '그리고 지난 주 주말은 무도,런닝맨 본 뒤무도는 신나게 음악 만드는 모습을 보여주시고런닝맨에서는 카리스마 보습을 보여주셔서 정말 유느님이 멋있게 보였어요', '더 이뻐지신듯...!', '봐도봐도 질리지 않는.. 포스가 느껴집니다..', '형..알면 알수록 멋져서 빠져 버려요.', '박보검♡김유정 이들이 드라마를 멋지게 살림♡', '캐릭터 잘살림♡', '쉬운 설명과 편안함으로 넘 매력적인 백주부님^^', '송민호 매력덩어리 나피디 안목 믿어요', '존잼꿀잼 요즘 나의 낙♡♡', '최근의 무한상사도 너무 재밌고 흥미진진하게 잘 봤습니다.', '잘생긴 얼굴에 좋은 성격에 훌륭한 연기력까지 ㅜㅜ', '음식하기 정말 싫었는데달콤한 슈가보이님 등장으로흥미만땅~ㅎㅎ', '진짜 기대를 안했는데 생각보다 너무 좋았다 ㅠㅠㅠㅠㅠㅠㅠㅠㅠㅠㅠㅠ', '음식에 흥미를 느끼게끔 해주시네요..', '무도 꿀잼 대겟네 ㅋㅋ', '잘생겼다 최민용~~~~~', '수지가최고이쁘네. . .', '결말이 살짝 아쉬웠지만 빠른 전개덕에 몰입도 잘되고 엄청 잼났음ㅋㅋ', '무도 기대됨니다...', '한효주 넘 예쁘고 연기도 짱 대박!!!', '은지원 이재진 조합 완전 기대되네요ㅠㅠ', '귀엽고 잘생김 매력있음', '이동욱 너무 섹시함 진짜♡', '자전거 존나잼써ㅋㅋ', '연예인 탑 쓰리안에든다 진심이쁘네', '예쁘고 연기도 잘하고 자기 생각이 뚜렷해서 너무 좋아하는 배우ㅠㅠㅠ 작품 많이 해주세요!!', '아 웃겨ㅋㅋㅋ 또 바꼈어', '선생님들 귀여워 ㅋㅋㅋㅋㅋ', '고양이 너무 귀여워요~??', '예능프로에서 잴 잼나다갱규 호동 너무웃겨드라마보다 낫더라', '살쪄보이는 분장을 해도 정말 이쁘기만 하네요', '얼굴도 예쁘고 마음도 예쁘고..', '아이유 드라마서 정말 귀엽고 연기도 제법 잘 하던데요.', '연기대상노려보자구그달~~♡', '예은씨랑 정진운씨는 완전 잘어울림!!!ㅎ 부럽습니다!!', '무척 이쁘네요~', '그렇게 귀여워도 되는겁니까?', '너무귀엽고깜찍하셨어요', '형돈오빠 웃겨요', '구덩이에 빠졌을 때 꺼내들라고 슈렉 고양이 눈빛 발사하다 버럭 하다 하는 거 정말 귀엽고 웃기고 연기도 잘했음 ㅋㅋㅋㅋㅋㅋㅋㅋㅋㅋ', '일단 박근혜 똥줄 타는거 꿀잼...ㅋㅋㅋㅋ', '강수지씨 아직도 이쁘세요', '일반인치고는 잘생긴 얼굴', '근데 아이 진짜 똘망똘망하고 귀엽네요ㅎㅎ', '볼때마다 폭소만발 넘나 핵잼', '존잼!!!!!!!!', '양세형이오늘다살린듯ㅋㅋㅋ귀여워', '너무이쁘네♡ ♡', '매력 충분한듯 저런 참한스탈이 최고임', '뀰잼ㅋㅋㅋ연기잘해서잼남', '꺼져가 난 너무웃겨ㅜㅜ', '오늘무도 진짜꿀잼 무중력체험해보고싶다', '아... 심쿵심쿵 앞으로의 닭살케미 벌써 기대됨...', '걍 빅뱅 멤버다웃겨요ㅋㅋㅋ', '다나오네 다나와 기대된다 흥행신 오달수님까지', '강소라 몸매 좋지 얼굴이쁘지 어리지 성격 쿨하지..', '확실히 매력있음!ㅜ', '닥터스에서 젤루 매력 터지는 캐릭터~', 'ㅋㅋㅋㅋㅋㅋㅋㅋㅋㅋㅋㅋㅋㅋㅋㅋㅋㅋ 아 웃겨', '귀엽고.', '완전 기대됩니다..', '혼술 꿀잼~~~~~~', 'ㅋㅋ 10초쯤에 나오는 코트 돌리기 귀엽네욤. ㅋ..', '그런데 어제 저희 건물 위층에 정말 이쁜 여자가 살더라구여 바로 눈돌아가고 그사람이 궁금해 지기 시작했습니다.', '잘생겼어요!!!!♡♡', '한참 예쁘게 준비하고 있을 모습이 눈에 선하네요', '넘 귀여워~~~', '백종원님 구수한 말투에 요리도 최고시고 센스가 넘치시고 집중할때 삐죽 튀어나온 입 섹시해요!', '광고나오는거 따라하는게 너무 귀여워서 올려봅니다.', '얼굴도 왜이리 이쁘장한지!~', '귀엽고,,,성격쿨한저의 이상형이랍니닷......쿵', '너무 착하게 생겼다', '꽃놀이패 진짜 재밌는데 ㅋㅋㅋ', '이슬비 대위 이쁘네...', '통통한여자도 은근 매력있음', '오늘 진짜 꿀잼 ㅋㅋㅋㅋㅋ히트다히트', '외모지상주의 웹툰 잼난다^^', '강성훈 이재진 잘생겨따!!!!!!!!!!!', '아오 귀여워 ㅋㅋㅋ', '은근 꿀잼이던데~~~', '둘다 부럽다. 여자는 이쁘고, 남자는 멋지고ㅋㅋ진짜 잘 어울림^^', '도깨비 진짜잼있어용', '연기대박 내공이있는 배우라는걸 새삼느끼네요', '이여지 한성주 매력있다!', '호랑아 자존심상하지말고 들어 \"귀여워\"', '완전잼난다 ㅋㅋㅋ 아 집앞에 공원하나있어서좋네', '제시님 랩두 잘하구 귀여워요 보니까 ㅋㅋㅋㅋ', '잼난다.. ㅎㅎ', '예쁘다예뻐 ㅎㅎ', '잘생겼어~', '둘다 너무 이쁘구 사랑스러운 것 같아요 ㅎㅎㅎㅎㅎ', '영상 귀엽죠? ㅎ', '내 취향은 아니라고 하니 자기 눈에는 이쁘다며다른사람들 눈에도 괜찮을거라 하네요 ㅎㅎㅎ', '오빠ㅏㅏㅏㅏㅏㅏㅏ오빠는 볼수록 너무 귀엽고 멋진거같애용,ㅜㅠ', '한국 여자들보다 이쁘네', '노래도 참 좋았는데.', '수녀님이 뭔가 잘생겼는데?', '핵그네처럼 속보이는 거짓말 보단 솔직해서 좋긴 하네.', '아 그래서 메퇘지들이 사랑을 엄청 받아서 살이 듬뿍 찌는구나.ㅋㅋㅋㅋㅋㅋㅋ', '매가 호강하네', '근데 저러면 이뻐보이긴하더라;', '서숙향 작가님의 제2의 로코 드라마가 탄생됨!!', '너무 좋다 너무너무 좋다명동은 간판부터 한국말로 갈아치워라', '일본 강소라역할 김희애닮았네', '이쁘면 다 용서된다', '빅뱅이 엠비씨를 좋아하네', '내가아는 범죄자랑똑같이생겻다', '가슴에 실리콘 넣은 여자랑 성기에 구슬 넣은 남자랑 잘어울린다...', '다 맞는말입니다....', '강호동 잘선택했네', '오타쿠들의 성지 ㅋㅋㅋㅋㅋㅋ', '캬 어제ㅔ아는형님 말이 맞ㅈ앗네 ~~~~', '내가꼽은 최고의선수 기도....', '이드라마는욕댜급김고은몇년뒤대표님이공유가환생한거일수도있다는예상을하지만', '대통령 보다 낫네.', '둘 다 서로 호감 있는거 같던데.. 쇼윈도 쇼윈도 하지만 서로 호감이 있는건 맞는듯', '재밋는데 어제는 안봣어 쉰들러리스트봣거든', '얼굴이 선한게 복받을 관상이구나~', '제가 남자로서 멋있다고 생각하는 사람 정우성, 차승원, 김보성', '소대장님이 명언을 남기셨네요^^', '엣지는 괜찮게 나온고 같은ㄷ', '알파고 너무 사랑하시네...', '순식간에 막찍어내더만~']\n",
            "\n"
          ]
        }
      ]
    },
    {
      "cell_type": "code",
      "source": [
        "all_list = []\n",
        "for s, t in zip(list(chatbot_data.Sentence), list(chatbot_data.tag)) :\n",
        "  all_list.append([s,t])"
      ],
      "metadata": {
        "id": "b94EdnBUq4rU"
      },
      "execution_count": null,
      "outputs": []
    },
    {
      "cell_type": "code",
      "source": [
        "tag_dict = dict(all_list)"
      ],
      "metadata": {
        "id": "6ZxWJGi5rMSO"
      },
      "execution_count": null,
      "outputs": []
    },
    {
      "cell_type": "code",
      "source": [
        "clusters_tag = []\n",
        "for i, cluster in enumerate(clustered_sentences):\n",
        "  print('Cluster', i+1)\n",
        "  result = []\n",
        "  for data in cluster :\n",
        "    result.append(tag_dict[str(data)])\n",
        "  clusters_tag.append(result)\n",
        "  print(\"\")\n",
        "  print(clusters_tag)"
      ],
      "metadata": {
        "colab": {
          "base_uri": "https://localhost:8080/"
        },
        "id": "Ok6qxcjbaDkm",
        "outputId": "18fdca4e-6a78-41ae-cee0-352abe9aed35"
      },
      "execution_count": null,
      "outputs": [
        {
          "output_type": "stream",
          "name": "stdout",
          "text": [
            "Cluster 1\n",
            "\n",
            "[['기쁨', '기쁨', '기쁨', '기쁨', '기쁨', '기쁨', '기쁨', '기쁨', '기쁨', '기쁨', '기쁨', '기쁨', '기쁨', '기쁨', '기쁨', '기쁨', '기쁨', '기쁨', '기쁨', '기쁨', '기쁨', '기쁨', '기쁨', '기쁨', '기쁨', '기쁨', '기쁨', '기쁨', '기쁨', '기쁨', '기쁨', '기쁨', '기쁨', '기쁨', '기쁨', '기쁨', '기쁨', '기쁨', '기쁨', '기쁨', '기쁨', '기쁨', '기쁨', '기쁨', '기쁨', '기쁨', '기쁨', '기쁨', '기쁨', '기쁨', '기쁨', '기쁨', '기쁨', '기쁨', '기쁨', '기쁨', '기쁨', '기쁨', '기쁨', '기쁨', '기쁨', '기쁨', '기쁨', '기쁨', '기쁨', '기쁨', '기쁨', '기쁨', '기쁨', '기쁨', '기쁨', '기쁨', '기쁨', '기쁨', '기쁨', '기쁨', '기쁨', '기쁨', '기쁨', '기쁨', '기쁨', '기쁨', '기쁨', '기쁨', '기쁨', '기쁨', '기쁨', '기쁨', '기쁨', '기쁨', '기쁨', '기쁨', '기쁨', '기쁨', '기쁨', '기쁨', '기쁨', '기쁨', '기쁨', '기쁨', '기쁨', '기쁨', '기쁨', '기쁨', '기쁨', '기쁨', '기쁨', '기쁨', '기쁨', '기쁨', '기쁨', '기쁨', '기쁨', '기쁨', '기쁨', '기쁨', '기쁨', '기쁨', '기쁨', '기쁨', '기쁨', '기쁨', '기쁨', '기쁨', '기쁨', '기쁨', '기쁨', '기쁨', '기쁨', '기쁨', '기쁨', '기쁨', '기쁨', '기쁨', '기쁨', '기쁨', '기쁨', '기쁨', '기쁨', '기쁨', '기쁨', '기쁨', '기쁨', '기쁨', '기쁨', '기쁨', '기쁨', '기쁨', '기쁨', '기쁨', '기쁨', '기쁨', '기쁨', '기쁨', '기쁨', '기쁨', '기쁨', '기쁨', '기쁨', '기쁨', '기쁨', '기쁨', '기쁨', '기쁨', '기쁨', '기쁨', '기쁨', '기쁨', '기쁨', '기쁨', '기쁨', '기쁨', '기쁨', '기쁨', '기쁨', '기쁨', '기쁨', '기쁨', '기쁨', '기쁨', '기쁨', '기쁨', '기쁨', '기쁨', '기쁨', '기쁨', '기쁨', '기쁨', '기쁨', '기쁨', '기쁨', '기쁨', '기쁨', '기쁨', '기쁨', '기쁨', '기쁨', '기쁨', '기쁨', '기쁨', '기쁨', '기쁨', '기쁨', '기쁨', '기쁨', '기쁨', '기쁨', '기쁨', '기쁨', '기쁨', '기쁨', '기쁨', '기쁨', '기쁨', '기쁨', '기쁨', '기쁨', '기쁨', '기쁨', '기쁨', '기쁨', '기쁨', '기쁨', '기쁨', '신뢰', '신뢰', '신뢰', '신뢰', '신뢰', '신뢰', '신뢰', '신뢰', '신뢰', '신뢰', '신뢰', '신뢰', '신뢰', '신뢰', '신뢰', '신뢰', '신뢰', '신뢰', '신뢰', '신뢰', '신뢰', '신뢰', '신뢰', '신뢰', '신뢰', '신뢰', '신뢰', '신뢰', '신뢰', '신뢰', '신뢰', '신뢰', '신뢰', '신뢰', '신뢰', '신뢰', '신뢰', '신뢰', '신뢰', '신뢰', '신뢰', '신뢰', '신뢰', '신뢰', '신뢰', '신뢰', '신뢰', '신뢰', '신뢰', '신뢰', '신뢰', '신뢰', '신뢰', '신뢰', '신뢰', '신뢰', '신뢰', '신뢰', '신뢰', '신뢰', '신뢰', '신뢰', '신뢰', '신뢰', '신뢰', '신뢰', '신뢰', '신뢰', '신뢰', '신뢰', '신뢰', '신뢰', '신뢰', '신뢰', '신뢰', '신뢰', '신뢰', '신뢰', '신뢰', '신뢰', '신뢰', '신뢰', '신뢰', '신뢰', '신뢰', '신뢰', '신뢰', '신뢰', '신뢰', '신뢰', '신뢰', '신뢰', '신뢰', '신뢰', '신뢰', '신뢰', '신뢰', '신뢰', '신뢰', '신뢰', '신뢰', '신뢰', '신뢰', '신뢰', '신뢰', '신뢰', '신뢰', '신뢰', '신뢰', '신뢰', '신뢰', '신뢰', '신뢰', '신뢰', '신뢰', '신뢰', '신뢰', '신뢰', '신뢰', '신뢰', '신뢰', '신뢰', '신뢰', '신뢰', '신뢰', '신뢰', '신뢰', '신뢰', '신뢰', '신뢰', '신뢰', '신뢰', '신뢰', '신뢰', '신뢰', '신뢰', '신뢰', '신뢰', '신뢰', '신뢰', '신뢰', '신뢰', '신뢰', '신뢰', '신뢰', '신뢰', '신뢰', '신뢰', '신뢰', '신뢰', '신뢰', '신뢰', '신뢰', '신뢰', '신뢰', '신뢰', '신뢰', '신뢰', '신뢰', '신뢰', '신뢰', '신뢰', '신뢰', '신뢰', '신뢰', '신뢰', '신뢰', '신뢰', '신뢰', '신뢰', '신뢰', '신뢰', '신뢰', '신뢰', '신뢰', '신뢰', '신뢰', '신뢰', '신뢰', '신뢰', '신뢰', '신뢰', '신뢰', '신뢰', '신뢰', '신뢰', '신뢰', '신뢰', '신뢰', '신뢰', '신뢰', '신뢰', '신뢰', '신뢰', '신뢰', '신뢰', '신뢰', '신뢰', '신뢰', '신뢰', '신뢰', '신뢰', '신뢰', '신뢰', '신뢰', '신뢰', '신뢰', '신뢰', '신뢰', '신뢰', '신뢰', '신뢰', '신뢰', '신뢰', '신뢰', '신뢰', '신뢰', '신뢰', '신뢰', '신뢰', '신뢰', '신뢰', '신뢰', '신뢰', '신뢰', '신뢰', '신뢰', '신뢰', '신뢰', '신뢰', '신뢰', '신뢰', '신뢰', '신뢰', '신뢰', '신뢰', '신뢰', '신뢰', '신뢰', '신뢰', '신뢰', '신뢰', '신뢰', '신뢰', '신뢰', '신뢰', '신뢰', '신뢰', '신뢰', '신뢰', '신뢰', '신뢰', '신뢰', '신뢰', '신뢰', '신뢰', '신뢰', '신뢰', '신뢰', '신뢰', '신뢰', '신뢰', '신뢰', '신뢰', '신뢰', '신뢰', '신뢰', '신뢰', '신뢰', '신뢰', '신뢰', '신뢰', '신뢰', '신뢰', '신뢰', '신뢰', '신뢰', '신뢰', '신뢰', '신뢰', '신뢰', '신뢰', '신뢰', '신뢰', '신뢰', '신뢰', '신뢰', '신뢰', '신뢰', '신뢰', '신뢰', '신뢰', '신뢰', '신뢰', '신뢰', '신뢰', '신뢰', '신뢰', '신뢰', '신뢰', '신뢰', '신뢰', '신뢰', '신뢰', '신뢰', '신뢰', '신뢰', '신뢰', '신뢰', '신뢰', '신뢰', '신뢰', '신뢰', '신뢰', '신뢰', '신뢰', '신뢰', '신뢰', '신뢰', '신뢰', '신뢰', '신뢰', '신뢰', '신뢰', '신뢰', '신뢰', '신뢰', '신뢰', '신뢰', '신뢰', '신뢰', '신뢰', '신뢰', '신뢰', '신뢰', '신뢰', '신뢰', '신뢰', '신뢰', '신뢰', '신뢰', '신뢰', '신뢰', '신뢰', '신뢰', '신뢰', '신뢰', '신뢰', '신뢰', '신뢰', '신뢰', '신뢰', '신뢰', '신뢰', '신뢰', '신뢰', '신뢰', '신뢰', '신뢰', '신뢰', '신뢰', '신뢰', '신뢰', '신뢰', '신뢰', '신뢰', '신뢰', '신뢰', '신뢰', '신뢰', '신뢰', '신뢰', '신뢰', '신뢰', '신뢰', '신뢰', '신뢰', '신뢰', '신뢰', '신뢰', '신뢰', '신뢰', '신뢰', '신뢰', '신뢰', '신뢰', '신뢰', '신뢰', '신뢰', '신뢰', '신뢰', '신뢰', '신뢰', '신뢰', '신뢰', '신뢰', '신뢰', '신뢰', '신뢰', '신뢰', '신뢰', '신뢰', '기대', '기대', '기대', '기대', '기대', '기대', '기대', '기대', '기대', '기대', '기대', '기대', '기대', '기대', '기대', '기대', '기대', '기대', '기대', '기대', '기대', '기대', '기대', '기대', '기대', '기대', '기대', '기대', '기대', '기대', '기대', '기대', '기대', '기대', '기대', '기대', '기대', '기대', '기대', '기대', '기대', '기대', '기대', '기대', '기대', '기대', '기대', '기대', '기대', '기대', '기대', '기대', '기대', '기대', '기대', '기대', '기대', '기대', '기대', '기대', '기대', '기대', '기대', '기대', '기대', '기대', '기대', '기대', '기대', '기대', '기대', '기대', '기대', '기대', '기대', '기대', '기대', '기대', '기대', '기대', '기대', '기대', '기대', '기대', '기대', '기대', '기대', '기대', '기대', '기대', '기대', '기대', '기대', '기대', '기대', '기대', '기대', '기대', '기대', '기대', '기대', '기대', '기대', '기대', '기대', '기대', '기대', '기대', '기대', '기대', '기대', '기대', '기대', '기대', '기대', '기대', '기대', '기대', '기대', '기대', '기대', '기대', '기대', '기대', '기대', '기대', '기대', '기대', '기대', '기대', '기대', '중립', '중립', '중립', '중립', '중립', '중립', '중립', '중립', '중립', '중립', '중립', '중립', '중립', '중립', '중립', '중립', '중립', '중립', '중립', '중립', '중립', '중립', '중립', '중립', '중립', '중립', '중립', '중립', '중립', '중립', '중립', '중립', '중립', '중립', '중립', '중립', '중립', '중립', '중립']]\n",
            "Cluster 2\n",
            "\n",
            "[['기쁨', '기쁨', '기쁨', '기쁨', '기쁨', '기쁨', '기쁨', '기쁨', '기쁨', '기쁨', '기쁨', '기쁨', '기쁨', '기쁨', '기쁨', '기쁨', '기쁨', '기쁨', '기쁨', '기쁨', '기쁨', '기쁨', '기쁨', '기쁨', '기쁨', '기쁨', '기쁨', '기쁨', '기쁨', '기쁨', '기쁨', '기쁨', '기쁨', '기쁨', '기쁨', '기쁨', '기쁨', '기쁨', '기쁨', '기쁨', '기쁨', '기쁨', '기쁨', '기쁨', '기쁨', '기쁨', '기쁨', '기쁨', '기쁨', '기쁨', '기쁨', '기쁨', '기쁨', '기쁨', '기쁨', '기쁨', '기쁨', '기쁨', '기쁨', '기쁨', '기쁨', '기쁨', '기쁨', '기쁨', '기쁨', '기쁨', '기쁨', '기쁨', '기쁨', '기쁨', '기쁨', '기쁨', '기쁨', '기쁨', '기쁨', '기쁨', '기쁨', '기쁨', '기쁨', '기쁨', '기쁨', '기쁨', '기쁨', '기쁨', '기쁨', '기쁨', '기쁨', '기쁨', '기쁨', '기쁨', '기쁨', '기쁨', '기쁨', '기쁨', '기쁨', '기쁨', '기쁨', '기쁨', '기쁨', '기쁨', '기쁨', '기쁨', '기쁨', '기쁨', '기쁨', '기쁨', '기쁨', '기쁨', '기쁨', '기쁨', '기쁨', '기쁨', '기쁨', '기쁨', '기쁨', '기쁨', '기쁨', '기쁨', '기쁨', '기쁨', '기쁨', '기쁨', '기쁨', '기쁨', '기쁨', '기쁨', '기쁨', '기쁨', '기쁨', '기쁨', '기쁨', '기쁨', '기쁨', '기쁨', '기쁨', '기쁨', '기쁨', '기쁨', '기쁨', '기쁨', '기쁨', '기쁨', '기쁨', '기쁨', '기쁨', '기쁨', '기쁨', '기쁨', '기쁨', '기쁨', '기쁨', '기쁨', '기쁨', '기쁨', '기쁨', '기쁨', '기쁨', '기쁨', '기쁨', '기쁨', '기쁨', '기쁨', '기쁨', '기쁨', '기쁨', '기쁨', '기쁨', '기쁨', '기쁨', '기쁨', '기쁨', '기쁨', '기쁨', '기쁨', '기쁨', '기쁨', '기쁨', '기쁨', '기쁨', '기쁨', '기쁨', '기쁨', '기쁨', '기쁨', '기쁨', '기쁨', '기쁨', '기쁨', '기쁨', '기쁨', '기쁨', '기쁨', '기쁨', '기쁨', '기쁨', '기쁨', '기쁨', '기쁨', '기쁨', '기쁨', '기쁨', '기쁨', '기쁨', '기쁨', '기쁨', '기쁨', '기쁨', '기쁨', '기쁨', '기쁨', '기쁨', '기쁨', '기쁨', '기쁨', '기쁨', '기쁨', '기쁨', '기쁨', '기쁨', '기쁨', '기쁨', '기쁨', '기쁨', '기쁨', '신뢰', '신뢰', '신뢰', '신뢰', '신뢰', '신뢰', '신뢰', '신뢰', '신뢰', '신뢰', '신뢰', '신뢰', '신뢰', '신뢰', '신뢰', '신뢰', '신뢰', '신뢰', '신뢰', '신뢰', '신뢰', '신뢰', '신뢰', '신뢰', '신뢰', '신뢰', '신뢰', '신뢰', '신뢰', '신뢰', '신뢰', '신뢰', '신뢰', '신뢰', '신뢰', '신뢰', '신뢰', '신뢰', '신뢰', '신뢰', '신뢰', '신뢰', '신뢰', '신뢰', '신뢰', '신뢰', '신뢰', '신뢰', '신뢰', '신뢰', '신뢰', '신뢰', '신뢰', '신뢰', '신뢰', '신뢰', '신뢰', '신뢰', '신뢰', '신뢰', '신뢰', '신뢰', '신뢰', '신뢰', '신뢰', '신뢰', '신뢰', '신뢰', '신뢰', '신뢰', '신뢰', '신뢰', '신뢰', '신뢰', '신뢰', '신뢰', '신뢰', '신뢰', '신뢰', '신뢰', '신뢰', '신뢰', '신뢰', '신뢰', '신뢰', '신뢰', '신뢰', '신뢰', '신뢰', '신뢰', '신뢰', '신뢰', '신뢰', '신뢰', '신뢰', '신뢰', '신뢰', '신뢰', '신뢰', '신뢰', '신뢰', '신뢰', '신뢰', '신뢰', '신뢰', '신뢰', '신뢰', '신뢰', '신뢰', '신뢰', '신뢰', '신뢰', '신뢰', '신뢰', '신뢰', '신뢰', '신뢰', '신뢰', '신뢰', '신뢰', '신뢰', '신뢰', '신뢰', '신뢰', '신뢰', '신뢰', '신뢰', '신뢰', '신뢰', '신뢰', '신뢰', '신뢰', '신뢰', '신뢰', '신뢰', '신뢰', '신뢰', '신뢰', '신뢰', '신뢰', '신뢰', '신뢰', '신뢰', '신뢰', '신뢰', '신뢰', '신뢰', '신뢰', '신뢰', '신뢰', '신뢰', '신뢰', '신뢰', '신뢰', '신뢰', '신뢰', '신뢰', '신뢰', '신뢰', '신뢰', '신뢰', '신뢰', '신뢰', '신뢰', '신뢰', '신뢰', '신뢰', '신뢰', '신뢰', '신뢰', '신뢰', '신뢰', '신뢰', '신뢰', '신뢰', '신뢰', '신뢰', '신뢰', '신뢰', '신뢰', '신뢰', '신뢰', '신뢰', '신뢰', '신뢰', '신뢰', '신뢰', '신뢰', '신뢰', '신뢰', '신뢰', '신뢰', '신뢰', '신뢰', '신뢰', '신뢰', '신뢰', '신뢰', '신뢰', '신뢰', '신뢰', '신뢰', '신뢰', '신뢰', '신뢰', '신뢰', '신뢰', '신뢰', '신뢰', '신뢰', '신뢰', '신뢰', '신뢰', '신뢰', '신뢰', '신뢰', '신뢰', '신뢰', '신뢰', '신뢰', '신뢰', '신뢰', '신뢰', '신뢰', '신뢰', '신뢰', '신뢰', '신뢰', '신뢰', '신뢰', '신뢰', '신뢰', '신뢰', '신뢰', '신뢰', '신뢰', '신뢰', '신뢰', '신뢰', '신뢰', '신뢰', '신뢰', '신뢰', '신뢰', '신뢰', '신뢰', '신뢰', '신뢰', '신뢰', '신뢰', '신뢰', '신뢰', '신뢰', '신뢰', '신뢰', '신뢰', '신뢰', '신뢰', '신뢰', '신뢰', '신뢰', '신뢰', '신뢰', '신뢰', '신뢰', '신뢰', '신뢰', '신뢰', '신뢰', '신뢰', '신뢰', '신뢰', '신뢰', '신뢰', '신뢰', '신뢰', '신뢰', '신뢰', '신뢰', '신뢰', '신뢰', '신뢰', '신뢰', '신뢰', '신뢰', '신뢰', '신뢰', '신뢰', '신뢰', '신뢰', '신뢰', '신뢰', '신뢰', '신뢰', '신뢰', '신뢰', '신뢰', '신뢰', '신뢰', '신뢰', '신뢰', '신뢰', '신뢰', '신뢰', '신뢰', '신뢰', '신뢰', '신뢰', '신뢰', '신뢰', '신뢰', '신뢰', '신뢰', '신뢰', '신뢰', '신뢰', '신뢰', '신뢰', '신뢰', '신뢰', '신뢰', '신뢰', '신뢰', '신뢰', '신뢰', '신뢰', '신뢰', '신뢰', '신뢰', '신뢰', '신뢰', '신뢰', '신뢰', '신뢰', '신뢰', '신뢰', '신뢰', '신뢰', '신뢰', '신뢰', '신뢰', '신뢰', '신뢰', '신뢰', '신뢰', '신뢰', '신뢰', '신뢰', '신뢰', '신뢰', '신뢰', '신뢰', '신뢰', '신뢰', '신뢰', '신뢰', '신뢰', '신뢰', '신뢰', '신뢰', '신뢰', '신뢰', '신뢰', '신뢰', '신뢰', '신뢰', '신뢰', '신뢰', '신뢰', '신뢰', '신뢰', '신뢰', '신뢰', '신뢰', '신뢰', '신뢰', '신뢰', '신뢰', '신뢰', '신뢰', '신뢰', '신뢰', '신뢰', '신뢰', '신뢰', '신뢰', '신뢰', '신뢰', '신뢰', '신뢰', '신뢰', '신뢰', '신뢰', '신뢰', '신뢰', '신뢰', '신뢰', '신뢰', '신뢰', '신뢰', '신뢰', '신뢰', '기대', '기대', '기대', '기대', '기대', '기대', '기대', '기대', '기대', '기대', '기대', '기대', '기대', '기대', '기대', '기대', '기대', '기대', '기대', '기대', '기대', '기대', '기대', '기대', '기대', '기대', '기대', '기대', '기대', '기대', '기대', '기대', '기대', '기대', '기대', '기대', '기대', '기대', '기대', '기대', '기대', '기대', '기대', '기대', '기대', '기대', '기대', '기대', '기대', '기대', '기대', '기대', '기대', '기대', '기대', '기대', '기대', '기대', '기대', '기대', '기대', '기대', '기대', '기대', '기대', '기대', '기대', '기대', '기대', '기대', '기대', '기대', '기대', '기대', '기대', '기대', '기대', '기대', '기대', '기대', '기대', '기대', '기대', '기대', '기대', '기대', '기대', '기대', '기대', '기대', '기대', '기대', '기대', '기대', '기대', '기대', '기대', '기대', '기대', '기대', '기대', '기대', '기대', '기대', '기대', '기대', '기대', '기대', '기대', '기대', '기대', '기대', '기대', '기대', '기대', '기대', '기대', '기대', '기대', '기대', '기대', '기대', '기대', '기대', '기대', '기대', '기대', '기대', '기대', '기대', '기대', '중립', '중립', '중립', '중립', '중립', '중립', '중립', '중립', '중립', '중립', '중립', '중립', '중립', '중립', '중립', '중립', '중립', '중립', '중립', '중립', '중립', '중립', '중립', '중립', '중립', '중립', '중립', '중립', '중립', '중립', '중립', '중립', '중립', '중립', '중립', '중립', '중립', '중립', '중립'], ['기쁨', '기쁨', '기쁨', '기쁨', '기쁨', '기쁨', '기쁨', '기쁨', '기쁨', '기쁨', '기쁨', '기쁨', '기쁨', '기쁨', '기쁨', '기쁨', '기쁨', '기쁨', '기쁨', '기쁨', '기쁨', '기쁨', '기쁨', '기쁨', '기쁨', '기쁨', '기쁨', '기쁨', '기쁨', '기쁨', '기쁨', '기쁨', '기쁨', '기쁨', '기쁨', '기쁨', '기쁨', '기쁨', '기쁨', '기쁨', '기쁨', '기쁨', '기쁨', '기쁨', '기쁨', '기쁨', '기쁨', '기쁨', '기쁨', '기쁨', '기쁨', '기쁨', '기쁨', '기쁨', '기쁨', '기쁨', '기쁨', '기쁨', '기쁨', '기쁨', '기쁨', '기쁨', '기쁨', '기쁨', '기쁨', '기쁨', '기쁨', '기쁨', '기쁨', '기쁨', '기쁨', '기쁨', '기쁨', '기쁨', '기쁨', '기쁨', '기쁨', '기쁨', '기쁨', '기쁨', '기쁨', '기쁨', '기쁨', '기쁨', '기쁨', '기쁨', '기쁨', '기쁨', '기쁨', '기쁨', '기쁨', '기쁨', '기쁨', '기쁨', '기쁨', '기쁨', '기쁨', '기쁨', '기쁨', '기쁨', '기쁨', '기쁨', '기쁨', '기쁨', '기쁨', '기쁨', '기쁨', '기쁨', '기쁨', '기쁨', '기쁨', '기쁨', '기쁨', '기쁨', '기쁨', '기쁨', '기쁨', '기쁨', '기쁨', '기쁨', '기쁨', '기쁨', '기쁨', '기쁨', '기쁨', '기쁨', '기쁨', '기쁨', '기쁨', '기쁨', '기쁨', '기쁨', '기쁨', '기쁨', '기쁨', '기쁨', '기쁨', '기쁨', '기쁨', '기쁨', '기쁨', '기쁨', '기쁨', '기쁨', '기쁨', '기쁨', '기쁨', '기쁨', '기쁨', '기쁨', '기쁨', '기쁨', '기쁨', '기쁨', '기쁨', '기쁨', '기쁨', '기쁨', '기쁨', '기쁨', '기쁨', '기쁨', '기쁨', '기쁨', '기쁨', '기쁨', '기쁨', '기쁨', '기쁨', '기쁨', '기쁨', '기쁨', '기쁨', '기쁨', '기쁨', '기쁨', '기쁨', '기쁨', '기쁨', '기쁨', '기쁨', '기쁨', '기쁨', '기쁨', '기쁨', '기쁨', '기쁨', '기쁨', '기쁨', '기쁨', '기쁨', '기쁨', '기쁨', '기쁨', '기쁨', '기쁨', '기쁨', '기쁨', '기쁨', '기쁨', '기쁨', '기쁨', '기쁨', '기쁨', '기쁨', '기쁨', '기쁨', '기쁨', '기쁨', '기쁨', '기쁨', '기쁨', '기쁨', '기쁨', '기쁨', '기쁨', '기쁨', '기쁨', '기쁨', '기쁨', '기쁨', '기쁨', '기쁨', '기쁨', '기쁨', '기쁨', '기쁨', '기쁨', '기쁨', '기쁨', '기쁨', '기쁨', '기쁨', '기쁨', '기쁨', '기쁨', '기쁨', '기쁨', '기쁨', '기쁨', '기쁨', '기쁨', '기쁨', '기쁨', '기쁨', '기쁨', '기쁨', '기쁨', '기쁨', '기쁨', '기쁨', '기쁨', '기쁨', '기쁨', '기쁨', '기쁨', '기쁨', '기쁨', '기쁨', '기쁨', '기쁨', '기쁨', '기쁨', '기쁨', '기쁨', '기쁨', '기쁨', '기쁨', '기쁨', '기쁨', '기쁨', '기쁨', '기쁨', '기쁨', '기쁨', '기쁨', '기쁨', '기쁨', '기쁨', '기쁨', '기쁨', '기쁨', '기쁨', '기쁨', '기쁨', '기쁨', '기쁨', '기쁨', '기쁨', '기쁨', '기쁨', '기쁨', '기쁨', '기쁨', '기쁨', '기쁨', '기쁨', '기쁨', '기쁨', '기쁨', '기쁨', '기쁨', '기쁨', '기쁨', '기쁨', '기쁨', '기쁨', '기쁨', '기쁨', '기쁨', '기쁨', '기쁨', '기쁨', '기쁨', '기쁨', '기쁨', '기쁨', '기쁨', '기쁨', '기쁨', '기쁨', '기쁨', '기쁨', '기쁨', '기쁨', '기쁨', '기쁨', '기쁨', '기쁨', '기쁨', '기쁨', '기쁨', '기쁨', '기쁨', '기쁨', '기쁨', '기쁨', '기쁨', '기쁨', '기쁨', '기쁨', '기쁨', '기쁨', '기쁨', '기쁨', '기쁨', '기쁨', '기쁨', '기쁨', '기쁨', '기쁨', '기쁨', '기쁨', '기쁨', '기쁨', '기쁨', '기쁨', '기쁨', '기쁨', '기쁨', '기쁨', '기쁨', '기쁨', '기쁨', '기쁨', '기쁨', '기쁨', '기쁨', '기쁨', '기쁨', '기쁨', '기쁨', '기쁨', '기쁨', '기쁨', '기쁨', '기쁨', '기쁨', '기쁨', '기쁨', '기쁨', '기쁨', '기쁨', '기쁨', '기쁨', '기쁨', '기쁨', '기쁨', '기쁨', '기쁨', '기쁨', '기쁨', '기쁨', '기쁨', '기쁨', '기쁨', '기쁨', '기쁨', '기쁨', '기쁨', '기쁨', '기쁨', '기쁨', '기쁨', '기쁨', '기쁨', '기쁨', '기쁨', '기쁨', '기쁨', '기쁨', '기쁨', '기쁨', '기쁨', '기쁨', '기쁨', '기쁨', '기쁨', '기쁨', '기쁨', '기쁨', '기쁨', '기쁨', '신뢰', '신뢰', '신뢰', '신뢰', '신뢰', '신뢰', '신뢰', '신뢰', '신뢰', '신뢰', '신뢰', '신뢰', '신뢰', '신뢰', '신뢰', '신뢰', '신뢰', '신뢰', '신뢰', '신뢰', '신뢰', '신뢰', '신뢰', '신뢰', '신뢰', '신뢰', '신뢰', '신뢰', '신뢰', '신뢰', '신뢰', '신뢰', '신뢰', '신뢰', '신뢰', '신뢰', '신뢰', '신뢰', '신뢰', '신뢰', '신뢰', '신뢰', '신뢰', '신뢰', '신뢰', '신뢰', '신뢰', '신뢰', '신뢰', '신뢰', '신뢰', '신뢰', '신뢰', '신뢰', '신뢰', '신뢰', '신뢰', '신뢰', '신뢰', '신뢰', '신뢰', '신뢰', '신뢰', '신뢰', '신뢰', '신뢰', '신뢰', '신뢰', '신뢰', '신뢰', '신뢰', '신뢰', '신뢰', '신뢰', '신뢰', '신뢰', '신뢰', '신뢰', '신뢰', '신뢰', '신뢰', '신뢰', '신뢰', '신뢰', '신뢰', '신뢰', '신뢰', '신뢰', '신뢰', '신뢰', '신뢰', '신뢰', '신뢰', '신뢰', '신뢰', '신뢰', '신뢰', '신뢰', '신뢰', '신뢰', '신뢰', '신뢰', '신뢰', '신뢰', '신뢰', '신뢰', '신뢰', '신뢰', '신뢰', '신뢰', '신뢰', '신뢰', '신뢰', '신뢰', '신뢰', '신뢰', '신뢰', '신뢰', '신뢰', '신뢰', '신뢰', '신뢰', '신뢰', '신뢰', '신뢰', '신뢰', '신뢰', '신뢰', '신뢰', '신뢰', '신뢰', '신뢰', '신뢰', '신뢰', '신뢰', '신뢰', '신뢰', '신뢰', '신뢰', '신뢰', '신뢰', '신뢰', '신뢰', '신뢰', '신뢰', '신뢰', '신뢰', '신뢰', '신뢰', '기대', '기대', '기대', '기대', '중립']]\n",
            "Cluster 3\n",
            "\n",
            "[['기쁨', '기쁨', '기쁨', '기쁨', '기쁨', '기쁨', '기쁨', '기쁨', '기쁨', '기쁨', '기쁨', '기쁨', '기쁨', '기쁨', '기쁨', '기쁨', '기쁨', '기쁨', '기쁨', '기쁨', '기쁨', '기쁨', '기쁨', '기쁨', '기쁨', '기쁨', '기쁨', '기쁨', '기쁨', '기쁨', '기쁨', '기쁨', '기쁨', '기쁨', '기쁨', '기쁨', '기쁨', '기쁨', '기쁨', '기쁨', '기쁨', '기쁨', '기쁨', '기쁨', '기쁨', '기쁨', '기쁨', '기쁨', '기쁨', '기쁨', '기쁨', '기쁨', '기쁨', '기쁨', '기쁨', '기쁨', '기쁨', '기쁨', '기쁨', '기쁨', '기쁨', '기쁨', '기쁨', '기쁨', '기쁨', '기쁨', '기쁨', '기쁨', '기쁨', '기쁨', '기쁨', '기쁨', '기쁨', '기쁨', '기쁨', '기쁨', '기쁨', '기쁨', '기쁨', '기쁨', '기쁨', '기쁨', '기쁨', '기쁨', '기쁨', '기쁨', '기쁨', '기쁨', '기쁨', '기쁨', '기쁨', '기쁨', '기쁨', '기쁨', '기쁨', '기쁨', '기쁨', '기쁨', '기쁨', '기쁨', '기쁨', '기쁨', '기쁨', '기쁨', '기쁨', '기쁨', '기쁨', '기쁨', '기쁨', '기쁨', '기쁨', '기쁨', '기쁨', '기쁨', '기쁨', '기쁨', '기쁨', '기쁨', '기쁨', '기쁨', '기쁨', '기쁨', '기쁨', '기쁨', '기쁨', '기쁨', '기쁨', '기쁨', '기쁨', '기쁨', '기쁨', '기쁨', '기쁨', '기쁨', '기쁨', '기쁨', '기쁨', '기쁨', '기쁨', '기쁨', '기쁨', '기쁨', '기쁨', '기쁨', '기쁨', '기쁨', '기쁨', '기쁨', '기쁨', '기쁨', '기쁨', '기쁨', '기쁨', '기쁨', '기쁨', '기쁨', '기쁨', '기쁨', '기쁨', '기쁨', '기쁨', '기쁨', '기쁨', '기쁨', '기쁨', '기쁨', '기쁨', '기쁨', '기쁨', '기쁨', '기쁨', '기쁨', '기쁨', '기쁨', '기쁨', '기쁨', '기쁨', '기쁨', '기쁨', '기쁨', '기쁨', '기쁨', '기쁨', '기쁨', '기쁨', '기쁨', '기쁨', '기쁨', '기쁨', '기쁨', '기쁨', '기쁨', '기쁨', '기쁨', '기쁨', '기쁨', '기쁨', '기쁨', '기쁨', '기쁨', '기쁨', '기쁨', '기쁨', '기쁨', '기쁨', '기쁨', '기쁨', '기쁨', '기쁨', '기쁨', '기쁨', '기쁨', '기쁨', '기쁨', '기쁨', '기쁨', '기쁨', '기쁨', '기쁨', '기쁨', '기쁨', '기쁨', '기쁨', '기쁨', '신뢰', '신뢰', '신뢰', '신뢰', '신뢰', '신뢰', '신뢰', '신뢰', '신뢰', '신뢰', '신뢰', '신뢰', '신뢰', '신뢰', '신뢰', '신뢰', '신뢰', '신뢰', '신뢰', '신뢰', '신뢰', '신뢰', '신뢰', '신뢰', '신뢰', '신뢰', '신뢰', '신뢰', '신뢰', '신뢰', '신뢰', '신뢰', '신뢰', '신뢰', '신뢰', '신뢰', '신뢰', '신뢰', '신뢰', '신뢰', '신뢰', '신뢰', '신뢰', '신뢰', '신뢰', '신뢰', '신뢰', '신뢰', '신뢰', '신뢰', '신뢰', '신뢰', '신뢰', '신뢰', '신뢰', '신뢰', '신뢰', '신뢰', '신뢰', '신뢰', '신뢰', '신뢰', '신뢰', '신뢰', '신뢰', '신뢰', '신뢰', '신뢰', '신뢰', '신뢰', '신뢰', '신뢰', '신뢰', '신뢰', '신뢰', '신뢰', '신뢰', '신뢰', '신뢰', '신뢰', '신뢰', '신뢰', '신뢰', '신뢰', '신뢰', '신뢰', '신뢰', '신뢰', '신뢰', '신뢰', '신뢰', '신뢰', '신뢰', '신뢰', '신뢰', '신뢰', '신뢰', '신뢰', '신뢰', '신뢰', '신뢰', '신뢰', '신뢰', '신뢰', '신뢰', '신뢰', '신뢰', '신뢰', '신뢰', '신뢰', '신뢰', '신뢰', '신뢰', '신뢰', '신뢰', '신뢰', '신뢰', '신뢰', '신뢰', '신뢰', '신뢰', '신뢰', '신뢰', '신뢰', '신뢰', '신뢰', '신뢰', '신뢰', '신뢰', '신뢰', '신뢰', '신뢰', '신뢰', '신뢰', '신뢰', '신뢰', '신뢰', '신뢰', '신뢰', '신뢰', '신뢰', '신뢰', '신뢰', '신뢰', '신뢰', '신뢰', '신뢰', '신뢰', '신뢰', '신뢰', '신뢰', '신뢰', '신뢰', '신뢰', '신뢰', '신뢰', '신뢰', '신뢰', '신뢰', '신뢰', '신뢰', '신뢰', '신뢰', '신뢰', '신뢰', '신뢰', '신뢰', '신뢰', '신뢰', '신뢰', '신뢰', '신뢰', '신뢰', '신뢰', '신뢰', '신뢰', '신뢰', '신뢰', '신뢰', '신뢰', '신뢰', '신뢰', '신뢰', '신뢰', '신뢰', '신뢰', '신뢰', '신뢰', '신뢰', '신뢰', '신뢰', '신뢰', '신뢰', '신뢰', '신뢰', '신뢰', '신뢰', '신뢰', '신뢰', '신뢰', '신뢰', '신뢰', '신뢰', '신뢰', '신뢰', '신뢰', '신뢰', '신뢰', '신뢰', '신뢰', '신뢰', '신뢰', '신뢰', '신뢰', '신뢰', '신뢰', '신뢰', '신뢰', '신뢰', '신뢰', '신뢰', '신뢰', '신뢰', '신뢰', '신뢰', '신뢰', '신뢰', '신뢰', '신뢰', '신뢰', '신뢰', '신뢰', '신뢰', '신뢰', '신뢰', '신뢰', '신뢰', '신뢰', '신뢰', '신뢰', '신뢰', '신뢰', '신뢰', '신뢰', '신뢰', '신뢰', '신뢰', '신뢰', '신뢰', '신뢰', '신뢰', '신뢰', '신뢰', '신뢰', '신뢰', '신뢰', '신뢰', '신뢰', '신뢰', '신뢰', '신뢰', '신뢰', '신뢰', '신뢰', '신뢰', '신뢰', '신뢰', '신뢰', '신뢰', '신뢰', '신뢰', '신뢰', '신뢰', '신뢰', '신뢰', '신뢰', '신뢰', '신뢰', '신뢰', '신뢰', '신뢰', '신뢰', '신뢰', '신뢰', '신뢰', '신뢰', '신뢰', '신뢰', '신뢰', '신뢰', '신뢰', '신뢰', '신뢰', '신뢰', '신뢰', '신뢰', '신뢰', '신뢰', '신뢰', '신뢰', '신뢰', '신뢰', '신뢰', '신뢰', '신뢰', '신뢰', '신뢰', '신뢰', '신뢰', '신뢰', '신뢰', '신뢰', '신뢰', '신뢰', '신뢰', '신뢰', '신뢰', '신뢰', '신뢰', '신뢰', '신뢰', '신뢰', '신뢰', '신뢰', '신뢰', '신뢰', '신뢰', '신뢰', '신뢰', '신뢰', '신뢰', '신뢰', '신뢰', '신뢰', '신뢰', '신뢰', '신뢰', '신뢰', '신뢰', '신뢰', '신뢰', '신뢰', '신뢰', '신뢰', '신뢰', '신뢰', '신뢰', '신뢰', '신뢰', '신뢰', '신뢰', '신뢰', '신뢰', '신뢰', '신뢰', '신뢰', '신뢰', '신뢰', '신뢰', '신뢰', '신뢰', '신뢰', '신뢰', '신뢰', '신뢰', '신뢰', '신뢰', '신뢰', '신뢰', '신뢰', '신뢰', '신뢰', '신뢰', '신뢰', '신뢰', '신뢰', '신뢰', '신뢰', '신뢰', '신뢰', '신뢰', '신뢰', '신뢰', '신뢰', '신뢰', '신뢰', '신뢰', '신뢰', '신뢰', '신뢰', '신뢰', '신뢰', '신뢰', '신뢰', '신뢰', '신뢰', '신뢰', '신뢰', '신뢰', '신뢰', '신뢰', '신뢰', '기대', '기대', '기대', '기대', '기대', '기대', '기대', '기대', '기대', '기대', '기대', '기대', '기대', '기대', '기대', '기대', '기대', '기대', '기대', '기대', '기대', '기대', '기대', '기대', '기대', '기대', '기대', '기대', '기대', '기대', '기대', '기대', '기대', '기대', '기대', '기대', '기대', '기대', '기대', '기대', '기대', '기대', '기대', '기대', '기대', '기대', '기대', '기대', '기대', '기대', '기대', '기대', '기대', '기대', '기대', '기대', '기대', '기대', '기대', '기대', '기대', '기대', '기대', '기대', '기대', '기대', '기대', '기대', '기대', '기대', '기대', '기대', '기대', '기대', '기대', '기대', '기대', '기대', '기대', '기대', '기대', '기대', '기대', '기대', '기대', '기대', '기대', '기대', '기대', '기대', '기대', '기대', '기대', '기대', '기대', '기대', '기대', '기대', '기대', '기대', '기대', '기대', '기대', '기대', '기대', '기대', '기대', '기대', '기대', '기대', '기대', '기대', '기대', '기대', '기대', '기대', '기대', '기대', '기대', '기대', '기대', '기대', '기대', '기대', '기대', '기대', '기대', '기대', '기대', '기대', '기대', '중립', '중립', '중립', '중립', '중립', '중립', '중립', '중립', '중립', '중립', '중립', '중립', '중립', '중립', '중립', '중립', '중립', '중립', '중립', '중립', '중립', '중립', '중립', '중립', '중립', '중립', '중립', '중립', '중립', '중립', '중립', '중립', '중립', '중립', '중립', '중립', '중립', '중립', '중립'], ['기쁨', '기쁨', '기쁨', '기쁨', '기쁨', '기쁨', '기쁨', '기쁨', '기쁨', '기쁨', '기쁨', '기쁨', '기쁨', '기쁨', '기쁨', '기쁨', '기쁨', '기쁨', '기쁨', '기쁨', '기쁨', '기쁨', '기쁨', '기쁨', '기쁨', '기쁨', '기쁨', '기쁨', '기쁨', '기쁨', '기쁨', '기쁨', '기쁨', '기쁨', '기쁨', '기쁨', '기쁨', '기쁨', '기쁨', '기쁨', '기쁨', '기쁨', '기쁨', '기쁨', '기쁨', '기쁨', '기쁨', '기쁨', '기쁨', '기쁨', '기쁨', '기쁨', '기쁨', '기쁨', '기쁨', '기쁨', '기쁨', '기쁨', '기쁨', '기쁨', '기쁨', '기쁨', '기쁨', '기쁨', '기쁨', '기쁨', '기쁨', '기쁨', '기쁨', '기쁨', '기쁨', '기쁨', '기쁨', '기쁨', '기쁨', '기쁨', '기쁨', '기쁨', '기쁨', '기쁨', '기쁨', '기쁨', '기쁨', '기쁨', '기쁨', '기쁨', '기쁨', '기쁨', '기쁨', '기쁨', '기쁨', '기쁨', '기쁨', '기쁨', '기쁨', '기쁨', '기쁨', '기쁨', '기쁨', '기쁨', '기쁨', '기쁨', '기쁨', '기쁨', '기쁨', '기쁨', '기쁨', '기쁨', '기쁨', '기쁨', '기쁨', '기쁨', '기쁨', '기쁨', '기쁨', '기쁨', '기쁨', '기쁨', '기쁨', '기쁨', '기쁨', '기쁨', '기쁨', '기쁨', '기쁨', '기쁨', '기쁨', '기쁨', '기쁨', '기쁨', '기쁨', '기쁨', '기쁨', '기쁨', '기쁨', '기쁨', '기쁨', '기쁨', '기쁨', '기쁨', '기쁨', '기쁨', '기쁨', '기쁨', '기쁨', '기쁨', '기쁨', '기쁨', '기쁨', '기쁨', '기쁨', '기쁨', '기쁨', '기쁨', '기쁨', '기쁨', '기쁨', '기쁨', '기쁨', '기쁨', '기쁨', '기쁨', '기쁨', '기쁨', '기쁨', '기쁨', '기쁨', '기쁨', '기쁨', '기쁨', '기쁨', '기쁨', '기쁨', '기쁨', '기쁨', '기쁨', '기쁨', '기쁨', '기쁨', '기쁨', '기쁨', '기쁨', '기쁨', '기쁨', '기쁨', '기쁨', '기쁨', '기쁨', '기쁨', '기쁨', '기쁨', '기쁨', '기쁨', '기쁨', '기쁨', '기쁨', '기쁨', '기쁨', '기쁨', '기쁨', '기쁨', '기쁨', '기쁨', '기쁨', '기쁨', '기쁨', '기쁨', '기쁨', '기쁨', '기쁨', '기쁨', '기쁨', '기쁨', '기쁨', '기쁨', '기쁨', '기쁨', '기쁨', '기쁨', '기쁨', '기쁨', '기쁨', '기쁨', '기쁨', '기쁨', '기쁨', '기쁨', '기쁨', '기쁨', '기쁨', '기쁨', '기쁨', '기쁨', '기쁨', '기쁨', '기쁨', '기쁨', '기쁨', '기쁨', '기쁨', '기쁨', '기쁨', '기쁨', '기쁨', '기쁨', '기쁨', '기쁨', '기쁨', '기쁨', '기쁨', '기쁨', '기쁨', '기쁨', '기쁨', '기쁨', '기쁨', '기쁨', '기쁨', '기쁨', '기쁨', '기쁨', '기쁨', '기쁨', '기쁨', '기쁨', '기쁨', '기쁨', '기쁨', '기쁨', '기쁨', '기쁨', '기쁨', '기쁨', '기쁨', '기쁨', '기쁨', '기쁨', '기쁨', '기쁨', '기쁨', '기쁨', '기쁨', '기쁨', '기쁨', '기쁨', '기쁨', '기쁨', '기쁨', '기쁨', '기쁨', '기쁨', '기쁨', '기쁨', '기쁨', '기쁨', '기쁨', '기쁨', '기쁨', '기쁨', '기쁨', '기쁨', '기쁨', '기쁨', '기쁨', '기쁨', '기쁨', '기쁨', '기쁨', '기쁨', '기쁨', '기쁨', '기쁨', '기쁨', '기쁨', '기쁨', '기쁨', '기쁨', '기쁨', '기쁨', '기쁨', '기쁨', '기쁨', '기쁨', '기쁨', '기쁨', '기쁨', '기쁨', '기쁨', '기쁨', '기쁨', '기쁨', '기쁨', '기쁨', '기쁨', '기쁨', '기쁨', '기쁨', '기쁨', '기쁨', '기쁨', '기쁨', '기쁨', '기쁨', '기쁨', '기쁨', '기쁨', '기쁨', '기쁨', '기쁨', '기쁨', '기쁨', '기쁨', '기쁨', '기쁨', '기쁨', '기쁨', '기쁨', '기쁨', '기쁨', '기쁨', '기쁨', '기쁨', '기쁨', '기쁨', '기쁨', '기쁨', '기쁨', '기쁨', '기쁨', '기쁨', '기쁨', '기쁨', '기쁨', '기쁨', '기쁨', '기쁨', '기쁨', '기쁨', '기쁨', '기쁨', '기쁨', '기쁨', '기쁨', '기쁨', '기쁨', '기쁨', '기쁨', '기쁨', '기쁨', '기쁨', '기쁨', '기쁨', '기쁨', '기쁨', '기쁨', '기쁨', '기쁨', '기쁨', '기쁨', '기쁨', '기쁨', '기쁨', '기쁨', '기쁨', '기쁨', '기쁨', '기쁨', '기쁨', '기쁨', '기쁨', '기쁨', '기쁨', '기쁨', '기쁨', '기쁨', '기쁨', '기쁨', '기쁨', '기쁨', '기쁨', '기쁨', '기쁨', '기쁨', '신뢰', '신뢰', '신뢰', '신뢰', '신뢰', '신뢰', '신뢰', '신뢰', '신뢰', '신뢰', '신뢰', '신뢰', '신뢰', '신뢰', '신뢰', '신뢰', '신뢰', '신뢰', '신뢰', '신뢰', '신뢰', '신뢰', '신뢰', '신뢰', '신뢰', '신뢰', '신뢰', '신뢰', '신뢰', '신뢰', '신뢰', '신뢰', '신뢰', '신뢰', '신뢰', '신뢰', '신뢰', '신뢰', '신뢰', '신뢰', '신뢰', '신뢰', '신뢰', '신뢰', '신뢰', '신뢰', '신뢰', '신뢰', '신뢰', '신뢰', '신뢰', '신뢰', '신뢰', '신뢰', '신뢰', '신뢰', '신뢰', '신뢰', '신뢰', '신뢰', '신뢰', '신뢰', '신뢰', '신뢰', '신뢰', '신뢰', '신뢰', '신뢰', '신뢰', '신뢰', '신뢰', '신뢰', '신뢰', '신뢰', '신뢰', '신뢰', '신뢰', '신뢰', '신뢰', '신뢰', '신뢰', '신뢰', '신뢰', '신뢰', '신뢰', '신뢰', '신뢰', '신뢰', '신뢰', '신뢰', '신뢰', '신뢰', '신뢰', '신뢰', '신뢰', '신뢰', '신뢰', '신뢰', '신뢰', '신뢰', '신뢰', '신뢰', '신뢰', '신뢰', '신뢰', '신뢰', '신뢰', '신뢰', '신뢰', '신뢰', '신뢰', '신뢰', '신뢰', '신뢰', '신뢰', '신뢰', '신뢰', '신뢰', '신뢰', '신뢰', '신뢰', '신뢰', '신뢰', '신뢰', '신뢰', '신뢰', '신뢰', '신뢰', '신뢰', '신뢰', '신뢰', '신뢰', '신뢰', '신뢰', '신뢰', '신뢰', '신뢰', '신뢰', '신뢰', '신뢰', '신뢰', '신뢰', '신뢰', '신뢰', '신뢰', '신뢰', '신뢰', '신뢰', '신뢰', '기대', '기대', '기대', '기대', '중립'], ['기쁨', '기쁨', '기쁨', '기쁨', '기쁨', '기쁨', '기쁨', '기쁨', '기쁨', '기쁨', '기쁨', '기쁨', '기쁨', '기쁨', '기쁨', '기쁨', '기쁨', '기쁨', '기쁨', '기쁨', '기쁨', '기쁨', '기쁨', '기쁨', '기쁨', '기쁨', '기쁨', '기쁨', '기쁨', '기쁨', '기쁨', '기쁨', '기쁨', '기쁨', '기쁨', '기쁨', '기쁨', '기쁨', '기쁨', '기쁨', '기쁨', '기쁨', '기쁨', '기쁨', '기쁨', '기쁨', '기쁨', '기쁨', '기쁨', '기쁨', '기쁨', '기쁨', '기쁨', '기쁨', '기쁨', '기쁨', '기쁨', '기쁨', '기쁨', '기쁨', '기쁨', '기쁨', '기쁨', '기쁨', '기쁨', '기쁨', '기쁨', '기쁨', '기쁨', '기쁨', '기쁨', '기쁨', '기쁨', '기쁨', '기쁨', '기쁨', '기쁨', '기쁨', '기쁨', '기쁨', '기쁨', '기쁨', '기쁨', '기쁨', '기쁨', '기쁨', '기쁨', '기쁨', '기쁨', '기쁨', '기쁨', '기쁨', '기쁨', '기쁨', '기쁨', '기쁨', '기쁨', '기쁨', '기쁨', '기쁨', '기쁨', '기쁨', '기쁨', '기쁨', '기쁨', '기쁨', '기쁨', '기쁨', '기쁨', '기쁨', '기쁨', '기쁨', '기쁨', '기쁨', '기쁨', '기쁨', '기쁨', '기쁨', '기쁨', '기쁨', '기쁨', '기쁨', '기쁨', '기쁨', '기쁨', '기쁨', '기쁨', '기쁨', '기쁨', '기쁨', '기쁨', '기쁨', '기쁨', '기쁨', '기쁨', '기쁨', '기쁨', '기쁨', '기쁨', '기쁨', '기쁨', '기쁨', '기쁨', '기쁨', '기쁨', '기쁨', '기쁨', '기쁨', '기쁨', '기쁨', '기쁨', '기쁨', '기쁨', '기쁨', '기쁨', '신뢰', '신뢰', '신뢰', '신뢰', '신뢰', '신뢰', '신뢰', '신뢰', '신뢰', '신뢰', '신뢰', '신뢰', '신뢰', '신뢰', '신뢰', '신뢰', '신뢰', '신뢰', '신뢰', '신뢰', '신뢰', '신뢰', '신뢰', '신뢰', '신뢰', '신뢰', '신뢰', '신뢰', '신뢰', '신뢰', '신뢰', '신뢰', '신뢰', '신뢰', '신뢰', '신뢰', '신뢰', '신뢰', '신뢰', '신뢰', '신뢰', '신뢰', '신뢰', '신뢰', '신뢰', '신뢰', '신뢰', '신뢰', '신뢰', '신뢰', '신뢰', '신뢰', '신뢰', '신뢰', '신뢰', '신뢰', '신뢰', '신뢰', '신뢰', '신뢰', '신뢰', '신뢰', '신뢰', '신뢰', '신뢰', '신뢰', '신뢰', '신뢰', '신뢰', '신뢰', '신뢰', '신뢰', '신뢰', '신뢰', '신뢰', '신뢰', '신뢰', '신뢰', '신뢰', '신뢰', '신뢰', '신뢰', '신뢰', '신뢰', '신뢰', '신뢰', '신뢰', '신뢰', '신뢰', '신뢰', '신뢰', '신뢰', '신뢰', '신뢰', '신뢰', '신뢰', '신뢰', '신뢰', '신뢰', '신뢰', '신뢰', '신뢰', '신뢰', '신뢰', '신뢰', '신뢰', '신뢰', '신뢰', '신뢰', '신뢰', '신뢰', '신뢰', '신뢰', '신뢰', '신뢰', '신뢰', '신뢰', '신뢰', '신뢰', '신뢰', '신뢰', '신뢰', '신뢰', '신뢰', '신뢰', '신뢰', '신뢰', '신뢰', '신뢰', '신뢰', '신뢰', '신뢰', '신뢰', '신뢰', '신뢰', '신뢰', '신뢰', '신뢰', '신뢰', '신뢰', '신뢰', '신뢰', '신뢰', '신뢰', '신뢰', '신뢰', '신뢰', '신뢰', '신뢰', '신뢰', '신뢰', '신뢰', '신뢰', '신뢰', '신뢰', '신뢰', '신뢰', '신뢰', '신뢰', '기대', '기대', '기대', '기대', '기대', '기대', '기대', '기대', '기대', '기대', '기대', '기대', '기대', '기대', '기대', '기대', '기대', '기대', '기대', '기대', '기대', '기대', '기대', '기대', '기대', '기대', '기대', '기대', '기대', '기대', '기대', '기대', '기대', '기대', '기대', '기대', '기대', '기대', '기대', '기대', '기대', '기대', '기대', '기대', '기대', '기대', '기대', '기대', '기대', '기대', '기대', '기대', '기대', '기대', '기대', '기대', '기대', '기대', '기대', '기대', '기대', '기대', '기대', '기대', '기대', '기대', '기대', '기대', '기대', '기대', '기대', '기대', '기대', '기대', '기대', '기대', '기대', '기대', '기대', '기대', '기대', '기대', '기대', '기대', '기대', '기대', '기대', '기대', '기대', '기대', '기대', '기대', '기대', '기대', '기대', '기대', '기대', '기대', '기대', '기대', '기대', '기대', '기대', '기대', '기대', '기대', '기대', '기대', '기대', '기대', '기대', '기대', '기대', '기대', '기대', '기대', '기대', '기대', '기대', '기대', '기대', '기대', '기대', '기대', '기대', '기대', '기대', '기대', '기대', '기대', '기대', '기대', '기대', '기대', '기대', '기대', '기대', '기대', '기대', '기대', '기대', '기대', '기대', '기대', '기대', '기대', '기대', '기대', '기대', '기대', '기대', '기대', '기대', '기대', '기대', '기대', '기대', '기대', '기대', '기대', '기대', '기대', '기대', '기대', '기대', '기대', '기대', '기대', '기대', '기대', '기대', '기대', '기대', '기대', '기대', '기대', '기대', '기대', '기대', '기대', '기대', '기대', '기대', '기대', '기대', '기대', '기대', '기대', '기대', '기대', '기대', '기대', '기대', '기대', '기대', '기대', '기대', '기대', '기대', '기대', '기대', '기대', '기대', '기대', '기대', '기대', '기대', '기대', '기대', '기대', '기대', '기대', '기대', '기대', '기대', '기대', '기대', '기대', '기대', '기대', '중립', '중립', '중립', '중립', '중립', '중립', '중립', '중립', '중립', '중립', '중립', '중립', '중립', '중립', '중립', '중립', '중립', '중립', '중립', '중립', '중립', '중립', '중립', '중립', '중립', '중립', '중립', '중립', '중립', '중립', '중립', '중립', '중립', '중립', '중립', '중립', '중립', '중립', '중립', '중립', '중립', '중립', '중립', '중립', '중립', '중립', '중립', '중립', '중립', '중립', '중립', '중립', '중립', '중립', '중립', '중립', '중립', '중립', '중립', '중립', '중립', '중립', '중립', '중립', '중립', '중립', '중립', '중립', '중립', '중립', '중립', '중립', '중립', '중립', '중립', '중립', '중립', '중립', '중립', '중립', '중립', '중립', '중립', '중립', '중립', '중립', '중립', '중립', '중립', '중립', '중립', '중립', '중립', '중립', '중립', '중립', '중립', '중립', '중립', '중립', '중립', '중립', '중립', '중립', '중립', '중립', '중립', '중립', '중립', '중립', '중립', '중립', '중립', '중립', '중립', '중립', '중립', '중립', '중립', '중립', '중립', '중립', '중립', '중립', '중립', '중립', '중립', '중립', '중립', '중립', '중립', '중립', '중립', '중립', '중립', '중립', '중립', '중립', '중립', '중립', '중립', '중립', '중립', '중립', '중립', '중립', '중립', '중립', '중립', '중립', '중립', '중립', '중립', '중립', '중립', '중립', '중립', '중립', '중립', '중립', '중립', '중립', '중립', '중립', '중립', '중립', '중립', '중립', '중립', '중립', '중립', '중립', '중립', '중립', '중립', '중립', '중립', '중립', '중립', '중립', '중립', '중립', '중립', '중립', '중립', '중립', '중립', '중립', '중립', '중립', '중립', '중립', '중립', '중립', '중립', '중립', '중립', '중립', '중립', '중립', '중립', '중립', '중립', '중립', '중립', '중립', '중립', '중립', '중립', '중립', '중립', '중립', '중립', '중립', '중립', '중립', '중립', '중립', '중립', '중립', '중립', '중립', '중립', '중립', '중립', '중립', '중립', '중립', '중립', '중립', '중립', '중립', '중립', '중립', '중립', '중립', '중립', '중립', '중립', '중립', '중립', '중립', '중립', '중립', '중립', '중립', '중립', '중립', '중립', '중립', '중립', '중립', '중립', '중립', '중립', '중립', '중립', '중립', '중립', '중립', '중립', '중립', '중립', '중립', '중립', '중립', '중립', '중립', '중립', '중립', '중립', '중립', '중립', '중립', '중립', '중립', '중립', '중립', '중립', '중립', '중립', '중립', '중립', '중립', '중립', '중립', '중립', '중립', '중립', '중립', '중립', '중립', '중립', '중립', '중립', '중립', '중립', '중립', '중립', '중립', '중립', '중립', '중립', '중립', '중립', '중립', '중립', '중립', '중립', '중립', '중립', '중립', '중립', '중립', '중립', '중립', '중립', '중립', '중립', '중립', '중립', '중립', '중립', '중립', '중립', '중립', '중립', '중립', '중립', '중립', '중립', '중립', '중립', '중립', '중립', '중립', '중립', '중립', '중립', '중립', '중립', '중립', '중립', '중립', '중립', '중립', '중립', '중립', '중립', '중립', '중립', '중립', '중립', '중립', '중립', '중립', '중립', '중립', '중립', '중립', '중립', '중립', '중립', '중립', '중립', '중립', '중립', '중립', '중립', '중립', '중립', '중립', '중립', '중립', '중립', '중립', '중립', '중립', '중립', '중립', '중립', '중립', '중립', '중립', '중립', '중립', '중립', '중립', '중립', '중립', '중립', '중립', '중립', '중립', '중립', '중립', '중립', '중립', '중립', '중립', '중립', '중립', '중립', '중립', '중립', '중립', '중립', '중립', '중립', '중립', '중립', '중립', '중립', '중립', '중립', '중립', '중립', '중립', '중립', '중립', '중립', '중립', '중립', '중립', '중립', '중립', '중립', '중립', '중립', '중립', '중립', '중립', '중립', '중립', '중립', '중립', '중립', '중립', '중립', '중립', '중립', '중립', '중립', '중립', '중립', '중립', '중립', '중립', '중립', '중립', '중립', '중립', '중립', '중립', '중립', '중립', '중립', '중립', '중립', '중립', '중립', '중립', '중립', '중립', '중립', '중립', '중립', '중립', '중립', '중립', '중립', '중립', '중립', '중립', '중립', '중립', '중립', '중립', '중립', '중립', '중립', '중립', '중립', '중립', '중립', '중립', '중립', '중립', '중립', '중립', '중립', '중립', '중립', '중립', '중립', '중립', '중립', '중립', '중립', '중립', '중립', '중립', '중립', '중립', '중립', '중립', '중립', '중립', '중립', '중립', '중립', '중립', '중립', '중립', '중립', '중립', '중립', '중립', '중립', '중립', '중립', '중립', '중립', '중립', '중립', '중립', '중립', '중립', '중립', '중립', '중립', '중립', '중립', '중립', '중립', '중립', '중립', '중립', '중립', '중립', '중립', '중립', '중립', '중립', '중립', '중립', '중립', '중립', '중립', '중립', '중립', '중립', '중립', '중립', '중립', '중립', '중립', '중립', '중립', '중립', '중립', '중립', '중립', '중립', '중립', '중립', '중립', '중립', '중립', '중립', '중립', '중립', '중립', '중립', '중립', '중립', '중립', '중립', '중립', '중립', '중립', '중립', '중립', '중립', '중립', '중립', '중립', '중립', '중립', '중립', '중립', '중립', '중립', '중립', '중립', '중립', '중립', '중립', '중립', '중립', '중립', '중립', '중립', '중립', '중립', '중립', '중립', '중립', '중립', '중립', '중립', '중립', '중립', '중립', '중립', '중립', '중립', '중립', '중립', '중립', '중립', '중립', '중립', '중립', '중립', '중립', '중립', '중립', '중립', '중립', '중립', '중립', '중립', '중립', '중립', '중립', '중립', '중립', '중립', '중립', '중립', '중립', '중립', '중립', '중립', '중립', '중립', '중립', '중립', '중립', '중립', '중립', '중립', '중립', '중립', '중립', '중립', '중립', '중립', '중립', '중립', '중립', '중립', '중립', '중립', '중립', '중립', '중립', '중립', '중립', '중립', '중립', '중립', '중립', '중립', '중립', '중립', '중립', '중립', '중립', '중립', '중립', '중립', '중립', '중립', '중립', '중립', '중립', '중립', '중립', '중립', '중립', '중립', '중립', '중립', '중립', '중립', '중립', '중립', '중립', '중립', '중립', '중립', '중립', '중립', '중립', '중립', '중립', '중립', '중립', '중립', '중립', '중립', '중립', '중립', '중립', '중립', '중립', '중립', '중립', '중립', '중립', '중립', '중립', '중립', '중립', '중립', '중립', '중립', '중립', '중립', '중립', '중립', '중립', '중립', '중립', '중립', '중립', '중립', '중립', '중립', '중립', '중립', '중립', '중립', '중립', '중립', '중립', '중립', '중립', '중립', '중립', '중립', '중립', '중립', '중립', '중립', '중립', '중립', '중립', '중립', '중립', '중립', '중립', '중립', '중립', '중립', '중립', '중립', '중립', '중립', '중립', '중립', '중립', '중립', '중립', '중립', '중립', '중립', '중립', '중립', '중립', '중립', '중립', '중립', '중립', '중립', '중립', '중립', '중립', '중립', '중립', '중립', '중립', '중립', '중립', '중립', '중립', '중립', '중립', '중립', '중립', '중립', '중립', '중립', '중립', '중립', '중립', '중립', '중립', '중립', '중립', '중립', '중립', '중립', '중립', '중립', '중립', '중립', '중립', '중립', '중립', '중립', '중립', '중립', '중립', '중립', '중립', '중립', '중립', '중립', '중립', '중립', '중립', '중립', '중립', '중립', '중립', '중립', '중립', '중립', '중립', '중립', '중립', '중립', '중립', '중립', '중립', '중립', '중립', '중립', '중립', '중립', '중립', '중립', '중립', '중립', '중립', '중립', '중립', '중립', '중립', '중립', '중립', '중립', '중립', '중립', '중립', '중립', '중립', '중립', '중립', '중립', '중립', '중립', '중립', '중립', '중립', '중립', '중립', '중립', '중립', '중립', '중립', '중립', '중립', '중립', '중립', '중립', '중립', '중립', '중립', '중립', '중립', '중립', '중립', '중립', '중립', '중립', '중립', '중립', '중립', '중립', '중립', '중립', '중립', '중립', '중립', '중립', '중립', '중립', '중립', '중립', '중립', '중립', '중립', '중립', '중립', '중립', '중립', '중립', '중립', '중립', '중립', '중립', '중립', '중립', '중립', '중립', '중립', '중립']]\n",
            "Cluster 4\n",
            "\n",
            "[['기쁨', '기쁨', '기쁨', '기쁨', '기쁨', '기쁨', '기쁨', '기쁨', '기쁨', '기쁨', '기쁨', '기쁨', '기쁨', '기쁨', '기쁨', '기쁨', '기쁨', '기쁨', '기쁨', '기쁨', '기쁨', '기쁨', '기쁨', '기쁨', '기쁨', '기쁨', '기쁨', '기쁨', '기쁨', '기쁨', '기쁨', '기쁨', '기쁨', '기쁨', '기쁨', '기쁨', '기쁨', '기쁨', '기쁨', '기쁨', '기쁨', '기쁨', '기쁨', '기쁨', '기쁨', '기쁨', '기쁨', '기쁨', '기쁨', '기쁨', '기쁨', '기쁨', '기쁨', '기쁨', '기쁨', '기쁨', '기쁨', '기쁨', '기쁨', '기쁨', '기쁨', '기쁨', '기쁨', '기쁨', '기쁨', '기쁨', '기쁨', '기쁨', '기쁨', '기쁨', '기쁨', '기쁨', '기쁨', '기쁨', '기쁨', '기쁨', '기쁨', '기쁨', '기쁨', '기쁨', '기쁨', '기쁨', '기쁨', '기쁨', '기쁨', '기쁨', '기쁨', '기쁨', '기쁨', '기쁨', '기쁨', '기쁨', '기쁨', '기쁨', '기쁨', '기쁨', '기쁨', '기쁨', '기쁨', '기쁨', '기쁨', '기쁨', '기쁨', '기쁨', '기쁨', '기쁨', '기쁨', '기쁨', '기쁨', '기쁨', '기쁨', '기쁨', '기쁨', '기쁨', '기쁨', '기쁨', '기쁨', '기쁨', '기쁨', '기쁨', '기쁨', '기쁨', '기쁨', '기쁨', '기쁨', '기쁨', '기쁨', '기쁨', '기쁨', '기쁨', '기쁨', '기쁨', '기쁨', '기쁨', '기쁨', '기쁨', '기쁨', '기쁨', '기쁨', '기쁨', '기쁨', '기쁨', '기쁨', '기쁨', '기쁨', '기쁨', '기쁨', '기쁨', '기쁨', '기쁨', '기쁨', '기쁨', '기쁨', '기쁨', '기쁨', '기쁨', '기쁨', '기쁨', '기쁨', '기쁨', '기쁨', '기쁨', '기쁨', '기쁨', '기쁨', '기쁨', '기쁨', '기쁨', '기쁨', '기쁨', '기쁨', '기쁨', '기쁨', '기쁨', '기쁨', '기쁨', '기쁨', '기쁨', '기쁨', '기쁨', '기쁨', '기쁨', '기쁨', '기쁨', '기쁨', '기쁨', '기쁨', '기쁨', '기쁨', '기쁨', '기쁨', '기쁨', '기쁨', '기쁨', '기쁨', '기쁨', '기쁨', '기쁨', '기쁨', '기쁨', '기쁨', '기쁨', '기쁨', '기쁨', '기쁨', '기쁨', '기쁨', '기쁨', '기쁨', '기쁨', '기쁨', '기쁨', '기쁨', '기쁨', '기쁨', '기쁨', '기쁨', '기쁨', '기쁨', '기쁨', '기쁨', '기쁨', '기쁨', '기쁨', '신뢰', '신뢰', '신뢰', '신뢰', '신뢰', '신뢰', '신뢰', '신뢰', '신뢰', '신뢰', '신뢰', '신뢰', '신뢰', '신뢰', '신뢰', '신뢰', '신뢰', '신뢰', '신뢰', '신뢰', '신뢰', '신뢰', '신뢰', '신뢰', '신뢰', '신뢰', '신뢰', '신뢰', '신뢰', '신뢰', '신뢰', '신뢰', '신뢰', '신뢰', '신뢰', '신뢰', '신뢰', '신뢰', '신뢰', '신뢰', '신뢰', '신뢰', '신뢰', '신뢰', '신뢰', '신뢰', '신뢰', '신뢰', '신뢰', '신뢰', '신뢰', '신뢰', '신뢰', '신뢰', '신뢰', '신뢰', '신뢰', '신뢰', '신뢰', '신뢰', '신뢰', '신뢰', '신뢰', '신뢰', '신뢰', '신뢰', '신뢰', '신뢰', '신뢰', '신뢰', '신뢰', '신뢰', '신뢰', '신뢰', '신뢰', '신뢰', '신뢰', '신뢰', '신뢰', '신뢰', '신뢰', '신뢰', '신뢰', '신뢰', '신뢰', '신뢰', '신뢰', '신뢰', '신뢰', '신뢰', '신뢰', '신뢰', '신뢰', '신뢰', '신뢰', '신뢰', '신뢰', '신뢰', '신뢰', '신뢰', '신뢰', '신뢰', '신뢰', '신뢰', '신뢰', '신뢰', '신뢰', '신뢰', '신뢰', '신뢰', '신뢰', '신뢰', '신뢰', '신뢰', '신뢰', '신뢰', '신뢰', '신뢰', '신뢰', '신뢰', '신뢰', '신뢰', '신뢰', '신뢰', '신뢰', '신뢰', '신뢰', '신뢰', '신뢰', '신뢰', '신뢰', '신뢰', '신뢰', '신뢰', '신뢰', '신뢰', '신뢰', '신뢰', '신뢰', '신뢰', '신뢰', '신뢰', '신뢰', '신뢰', '신뢰', '신뢰', '신뢰', '신뢰', '신뢰', '신뢰', '신뢰', '신뢰', '신뢰', '신뢰', '신뢰', '신뢰', '신뢰', '신뢰', '신뢰', '신뢰', '신뢰', '신뢰', '신뢰', '신뢰', '신뢰', '신뢰', '신뢰', '신뢰', '신뢰', '신뢰', '신뢰', '신뢰', '신뢰', '신뢰', '신뢰', '신뢰', '신뢰', '신뢰', '신뢰', '신뢰', '신뢰', '신뢰', '신뢰', '신뢰', '신뢰', '신뢰', '신뢰', '신뢰', '신뢰', '신뢰', '신뢰', '신뢰', '신뢰', '신뢰', '신뢰', '신뢰', '신뢰', '신뢰', '신뢰', '신뢰', '신뢰', '신뢰', '신뢰', '신뢰', '신뢰', '신뢰', '신뢰', '신뢰', '신뢰', '신뢰', '신뢰', '신뢰', '신뢰', '신뢰', '신뢰', '신뢰', '신뢰', '신뢰', '신뢰', '신뢰', '신뢰', '신뢰', '신뢰', '신뢰', '신뢰', '신뢰', '신뢰', '신뢰', '신뢰', '신뢰', '신뢰', '신뢰', '신뢰', '신뢰', '신뢰', '신뢰', '신뢰', '신뢰', '신뢰', '신뢰', '신뢰', '신뢰', '신뢰', '신뢰', '신뢰', '신뢰', '신뢰', '신뢰', '신뢰', '신뢰', '신뢰', '신뢰', '신뢰', '신뢰', '신뢰', '신뢰', '신뢰', '신뢰', '신뢰', '신뢰', '신뢰', '신뢰', '신뢰', '신뢰', '신뢰', '신뢰', '신뢰', '신뢰', '신뢰', '신뢰', '신뢰', '신뢰', '신뢰', '신뢰', '신뢰', '신뢰', '신뢰', '신뢰', '신뢰', '신뢰', '신뢰', '신뢰', '신뢰', '신뢰', '신뢰', '신뢰', '신뢰', '신뢰', '신뢰', '신뢰', '신뢰', '신뢰', '신뢰', '신뢰', '신뢰', '신뢰', '신뢰', '신뢰', '신뢰', '신뢰', '신뢰', '신뢰', '신뢰', '신뢰', '신뢰', '신뢰', '신뢰', '신뢰', '신뢰', '신뢰', '신뢰', '신뢰', '신뢰', '신뢰', '신뢰', '신뢰', '신뢰', '신뢰', '신뢰', '신뢰', '신뢰', '신뢰', '신뢰', '신뢰', '신뢰', '신뢰', '신뢰', '신뢰', '신뢰', '신뢰', '신뢰', '신뢰', '신뢰', '신뢰', '신뢰', '신뢰', '신뢰', '신뢰', '신뢰', '신뢰', '신뢰', '신뢰', '신뢰', '신뢰', '신뢰', '신뢰', '신뢰', '신뢰', '신뢰', '신뢰', '신뢰', '신뢰', '신뢰', '신뢰', '신뢰', '신뢰', '신뢰', '신뢰', '신뢰', '신뢰', '신뢰', '신뢰', '신뢰', '신뢰', '신뢰', '신뢰', '신뢰', '신뢰', '신뢰', '신뢰', '신뢰', '신뢰', '신뢰', '신뢰', '신뢰', '신뢰', '신뢰', '신뢰', '신뢰', '신뢰', '신뢰', '신뢰', '신뢰', '신뢰', '신뢰', '신뢰', '신뢰', '신뢰', '신뢰', '신뢰', '신뢰', '신뢰', '신뢰', '신뢰', '신뢰', '신뢰', '신뢰', '신뢰', '신뢰', '신뢰', '신뢰', '신뢰', '기대', '기대', '기대', '기대', '기대', '기대', '기대', '기대', '기대', '기대', '기대', '기대', '기대', '기대', '기대', '기대', '기대', '기대', '기대', '기대', '기대', '기대', '기대', '기대', '기대', '기대', '기대', '기대', '기대', '기대', '기대', '기대', '기대', '기대', '기대', '기대', '기대', '기대', '기대', '기대', '기대', '기대', '기대', '기대', '기대', '기대', '기대', '기대', '기대', '기대', '기대', '기대', '기대', '기대', '기대', '기대', '기대', '기대', '기대', '기대', '기대', '기대', '기대', '기대', '기대', '기대', '기대', '기대', '기대', '기대', '기대', '기대', '기대', '기대', '기대', '기대', '기대', '기대', '기대', '기대', '기대', '기대', '기대', '기대', '기대', '기대', '기대', '기대', '기대', '기대', '기대', '기대', '기대', '기대', '기대', '기대', '기대', '기대', '기대', '기대', '기대', '기대', '기대', '기대', '기대', '기대', '기대', '기대', '기대', '기대', '기대', '기대', '기대', '기대', '기대', '기대', '기대', '기대', '기대', '기대', '기대', '기대', '기대', '기대', '기대', '기대', '기대', '기대', '기대', '기대', '기대', '중립', '중립', '중립', '중립', '중립', '중립', '중립', '중립', '중립', '중립', '중립', '중립', '중립', '중립', '중립', '중립', '중립', '중립', '중립', '중립', '중립', '중립', '중립', '중립', '중립', '중립', '중립', '중립', '중립', '중립', '중립', '중립', '중립', '중립', '중립', '중립', '중립', '중립', '중립'], ['기쁨', '기쁨', '기쁨', '기쁨', '기쁨', '기쁨', '기쁨', '기쁨', '기쁨', '기쁨', '기쁨', '기쁨', '기쁨', '기쁨', '기쁨', '기쁨', '기쁨', '기쁨', '기쁨', '기쁨', '기쁨', '기쁨', '기쁨', '기쁨', '기쁨', '기쁨', '기쁨', '기쁨', '기쁨', '기쁨', '기쁨', '기쁨', '기쁨', '기쁨', '기쁨', '기쁨', '기쁨', '기쁨', '기쁨', '기쁨', '기쁨', '기쁨', '기쁨', '기쁨', '기쁨', '기쁨', '기쁨', '기쁨', '기쁨', '기쁨', '기쁨', '기쁨', '기쁨', '기쁨', '기쁨', '기쁨', '기쁨', '기쁨', '기쁨', '기쁨', '기쁨', '기쁨', '기쁨', '기쁨', '기쁨', '기쁨', '기쁨', '기쁨', '기쁨', '기쁨', '기쁨', '기쁨', '기쁨', '기쁨', '기쁨', '기쁨', '기쁨', '기쁨', '기쁨', '기쁨', '기쁨', '기쁨', '기쁨', '기쁨', '기쁨', '기쁨', '기쁨', '기쁨', '기쁨', '기쁨', '기쁨', '기쁨', '기쁨', '기쁨', '기쁨', '기쁨', '기쁨', '기쁨', '기쁨', '기쁨', '기쁨', '기쁨', '기쁨', '기쁨', '기쁨', '기쁨', '기쁨', '기쁨', '기쁨', '기쁨', '기쁨', '기쁨', '기쁨', '기쁨', '기쁨', '기쁨', '기쁨', '기쁨', '기쁨', '기쁨', '기쁨', '기쁨', '기쁨', '기쁨', '기쁨', '기쁨', '기쁨', '기쁨', '기쁨', '기쁨', '기쁨', '기쁨', '기쁨', '기쁨', '기쁨', '기쁨', '기쁨', '기쁨', '기쁨', '기쁨', '기쁨', '기쁨', '기쁨', '기쁨', '기쁨', '기쁨', '기쁨', '기쁨', '기쁨', '기쁨', '기쁨', '기쁨', '기쁨', '기쁨', '기쁨', '기쁨', '기쁨', '기쁨', '기쁨', '기쁨', '기쁨', '기쁨', '기쁨', '기쁨', '기쁨', '기쁨', '기쁨', '기쁨', '기쁨', '기쁨', '기쁨', '기쁨', '기쁨', '기쁨', '기쁨', '기쁨', '기쁨', '기쁨', '기쁨', '기쁨', '기쁨', '기쁨', '기쁨', '기쁨', '기쁨', '기쁨', '기쁨', '기쁨', '기쁨', '기쁨', '기쁨', '기쁨', '기쁨', '기쁨', '기쁨', '기쁨', '기쁨', '기쁨', '기쁨', '기쁨', '기쁨', '기쁨', '기쁨', '기쁨', '기쁨', '기쁨', '기쁨', '기쁨', '기쁨', '기쁨', '기쁨', '기쁨', '기쁨', '기쁨', '기쁨', '기쁨', '기쁨', '기쁨', '기쁨', '기쁨', '기쁨', '기쁨', '기쁨', '기쁨', '기쁨', '기쁨', '기쁨', '기쁨', '기쁨', '기쁨', '기쁨', '기쁨', '기쁨', '기쁨', '기쁨', '기쁨', '기쁨', '기쁨', '기쁨', '기쁨', '기쁨', '기쁨', '기쁨', '기쁨', '기쁨', '기쁨', '기쁨', '기쁨', '기쁨', '기쁨', '기쁨', '기쁨', '기쁨', '기쁨', '기쁨', '기쁨', '기쁨', '기쁨', '기쁨', '기쁨', '기쁨', '기쁨', '기쁨', '기쁨', '기쁨', '기쁨', '기쁨', '기쁨', '기쁨', '기쁨', '기쁨', '기쁨', '기쁨', '기쁨', '기쁨', '기쁨', '기쁨', '기쁨', '기쁨', '기쁨', '기쁨', '기쁨', '기쁨', '기쁨', '기쁨', '기쁨', '기쁨', '기쁨', '기쁨', '기쁨', '기쁨', '기쁨', '기쁨', '기쁨', '기쁨', '기쁨', '기쁨', '기쁨', '기쁨', '기쁨', '기쁨', '기쁨', '기쁨', '기쁨', '기쁨', '기쁨', '기쁨', '기쁨', '기쁨', '기쁨', '기쁨', '기쁨', '기쁨', '기쁨', '기쁨', '기쁨', '기쁨', '기쁨', '기쁨', '기쁨', '기쁨', '기쁨', '기쁨', '기쁨', '기쁨', '기쁨', '기쁨', '기쁨', '기쁨', '기쁨', '기쁨', '기쁨', '기쁨', '기쁨', '기쁨', '기쁨', '기쁨', '기쁨', '기쁨', '기쁨', '기쁨', '기쁨', '기쁨', '기쁨', '기쁨', '기쁨', '기쁨', '기쁨', '기쁨', '기쁨', '기쁨', '기쁨', '기쁨', '기쁨', '기쁨', '기쁨', '기쁨', '기쁨', '기쁨', '기쁨', '기쁨', '기쁨', '기쁨', '기쁨', '기쁨', '기쁨', '기쁨', '기쁨', '기쁨', '기쁨', '기쁨', '기쁨', '기쁨', '기쁨', '기쁨', '기쁨', '기쁨', '기쁨', '기쁨', '기쁨', '기쁨', '기쁨', '기쁨', '기쁨', '기쁨', '기쁨', '기쁨', '기쁨', '기쁨', '기쁨', '기쁨', '기쁨', '기쁨', '기쁨', '기쁨', '기쁨', '기쁨', '기쁨', '기쁨', '기쁨', '기쁨', '기쁨', '기쁨', '기쁨', '기쁨', '기쁨', '기쁨', '기쁨', '기쁨', '기쁨', '기쁨', '기쁨', '기쁨', '기쁨', '기쁨', '기쁨', '기쁨', '기쁨', '기쁨', '기쁨', '기쁨', '기쁨', '기쁨', '신뢰', '신뢰', '신뢰', '신뢰', '신뢰', '신뢰', '신뢰', '신뢰', '신뢰', '신뢰', '신뢰', '신뢰', '신뢰', '신뢰', '신뢰', '신뢰', '신뢰', '신뢰', '신뢰', '신뢰', '신뢰', '신뢰', '신뢰', '신뢰', '신뢰', '신뢰', '신뢰', '신뢰', '신뢰', '신뢰', '신뢰', '신뢰', '신뢰', '신뢰', '신뢰', '신뢰', '신뢰', '신뢰', '신뢰', '신뢰', '신뢰', '신뢰', '신뢰', '신뢰', '신뢰', '신뢰', '신뢰', '신뢰', '신뢰', '신뢰', '신뢰', '신뢰', '신뢰', '신뢰', '신뢰', '신뢰', '신뢰', '신뢰', '신뢰', '신뢰', '신뢰', '신뢰', '신뢰', '신뢰', '신뢰', '신뢰', '신뢰', '신뢰', '신뢰', '신뢰', '신뢰', '신뢰', '신뢰', '신뢰', '신뢰', '신뢰', '신뢰', '신뢰', '신뢰', '신뢰', '신뢰', '신뢰', '신뢰', '신뢰', '신뢰', '신뢰', '신뢰', '신뢰', '신뢰', '신뢰', '신뢰', '신뢰', '신뢰', '신뢰', '신뢰', '신뢰', '신뢰', '신뢰', '신뢰', '신뢰', '신뢰', '신뢰', '신뢰', '신뢰', '신뢰', '신뢰', '신뢰', '신뢰', '신뢰', '신뢰', '신뢰', '신뢰', '신뢰', '신뢰', '신뢰', '신뢰', '신뢰', '신뢰', '신뢰', '신뢰', '신뢰', '신뢰', '신뢰', '신뢰', '신뢰', '신뢰', '신뢰', '신뢰', '신뢰', '신뢰', '신뢰', '신뢰', '신뢰', '신뢰', '신뢰', '신뢰', '신뢰', '신뢰', '신뢰', '신뢰', '신뢰', '신뢰', '신뢰', '신뢰', '신뢰', '신뢰', '신뢰', '신뢰', '신뢰', '기대', '기대', '기대', '기대', '중립'], ['기쁨', '기쁨', '기쁨', '기쁨', '기쁨', '기쁨', '기쁨', '기쁨', '기쁨', '기쁨', '기쁨', '기쁨', '기쁨', '기쁨', '기쁨', '기쁨', '기쁨', '기쁨', '기쁨', '기쁨', '기쁨', '기쁨', '기쁨', '기쁨', '기쁨', '기쁨', '기쁨', '기쁨', '기쁨', '기쁨', '기쁨', '기쁨', '기쁨', '기쁨', '기쁨', '기쁨', '기쁨', '기쁨', '기쁨', '기쁨', '기쁨', '기쁨', '기쁨', '기쁨', '기쁨', '기쁨', '기쁨', '기쁨', '기쁨', '기쁨', '기쁨', '기쁨', '기쁨', '기쁨', '기쁨', '기쁨', '기쁨', '기쁨', '기쁨', '기쁨', '기쁨', '기쁨', '기쁨', '기쁨', '기쁨', '기쁨', '기쁨', '기쁨', '기쁨', '기쁨', '기쁨', '기쁨', '기쁨', '기쁨', '기쁨', '기쁨', '기쁨', '기쁨', '기쁨', '기쁨', '기쁨', '기쁨', '기쁨', '기쁨', '기쁨', '기쁨', '기쁨', '기쁨', '기쁨', '기쁨', '기쁨', '기쁨', '기쁨', '기쁨', '기쁨', '기쁨', '기쁨', '기쁨', '기쁨', '기쁨', '기쁨', '기쁨', '기쁨', '기쁨', '기쁨', '기쁨', '기쁨', '기쁨', '기쁨', '기쁨', '기쁨', '기쁨', '기쁨', '기쁨', '기쁨', '기쁨', '기쁨', '기쁨', '기쁨', '기쁨', '기쁨', '기쁨', '기쁨', '기쁨', '기쁨', '기쁨', '기쁨', '기쁨', '기쁨', '기쁨', '기쁨', '기쁨', '기쁨', '기쁨', '기쁨', '기쁨', '기쁨', '기쁨', '기쁨', '기쁨', '기쁨', '기쁨', '기쁨', '기쁨', '기쁨', '기쁨', '기쁨', '기쁨', '기쁨', '기쁨', '기쁨', '기쁨', '기쁨', '기쁨', '기쁨', '신뢰', '신뢰', '신뢰', '신뢰', '신뢰', '신뢰', '신뢰', '신뢰', '신뢰', '신뢰', '신뢰', '신뢰', '신뢰', '신뢰', '신뢰', '신뢰', '신뢰', '신뢰', '신뢰', '신뢰', '신뢰', '신뢰', '신뢰', '신뢰', '신뢰', '신뢰', '신뢰', '신뢰', '신뢰', '신뢰', '신뢰', '신뢰', '신뢰', '신뢰', '신뢰', '신뢰', '신뢰', '신뢰', '신뢰', '신뢰', '신뢰', '신뢰', '신뢰', '신뢰', '신뢰', '신뢰', '신뢰', '신뢰', '신뢰', '신뢰', '신뢰', '신뢰', '신뢰', '신뢰', '신뢰', '신뢰', '신뢰', '신뢰', '신뢰', '신뢰', '신뢰', '신뢰', '신뢰', '신뢰', '신뢰', '신뢰', '신뢰', '신뢰', '신뢰', '신뢰', '신뢰', '신뢰', '신뢰', '신뢰', '신뢰', '신뢰', '신뢰', '신뢰', '신뢰', '신뢰', '신뢰', '신뢰', '신뢰', '신뢰', '신뢰', '신뢰', '신뢰', '신뢰', '신뢰', '신뢰', '신뢰', '신뢰', '신뢰', '신뢰', '신뢰', '신뢰', '신뢰', '신뢰', '신뢰', '신뢰', '신뢰', '신뢰', '신뢰', '신뢰', '신뢰', '신뢰', '신뢰', '신뢰', '신뢰', '신뢰', '신뢰', '신뢰', '신뢰', '신뢰', '신뢰', '신뢰', '신뢰', '신뢰', '신뢰', '신뢰', '신뢰', '신뢰', '신뢰', '신뢰', '신뢰', '신뢰', '신뢰', '신뢰', '신뢰', '신뢰', '신뢰', '신뢰', '신뢰', '신뢰', '신뢰', '신뢰', '신뢰', '신뢰', '신뢰', '신뢰', '신뢰', '신뢰', '신뢰', '신뢰', '신뢰', '신뢰', '신뢰', '신뢰', '신뢰', '신뢰', '신뢰', '신뢰', '신뢰', '신뢰', '신뢰', '신뢰', '신뢰', '신뢰', '신뢰', '기대', '기대', '기대', '기대', '기대', '기대', '기대', '기대', '기대', '기대', '기대', '기대', '기대', '기대', '기대', '기대', '기대', '기대', '기대', '기대', '기대', '기대', '기대', '기대', '기대', '기대', '기대', '기대', '기대', '기대', '기대', '기대', '기대', '기대', '기대', '기대', '기대', '기대', '기대', '기대', '기대', '기대', '기대', '기대', '기대', '기대', '기대', '기대', '기대', '기대', '기대', '기대', '기대', '기대', '기대', '기대', '기대', '기대', '기대', '기대', '기대', '기대', '기대', '기대', '기대', '기대', '기대', '기대', '기대', '기대', '기대', '기대', '기대', '기대', '기대', '기대', '기대', '기대', '기대', '기대', '기대', '기대', '기대', '기대', '기대', '기대', '기대', '기대', '기대', '기대', '기대', '기대', '기대', '기대', '기대', '기대', '기대', '기대', '기대', '기대', '기대', '기대', '기대', '기대', '기대', '기대', '기대', '기대', '기대', '기대', '기대', '기대', '기대', '기대', '기대', '기대', '기대', '기대', '기대', '기대', '기대', '기대', '기대', '기대', '기대', '기대', '기대', '기대', '기대', '기대', '기대', '기대', '기대', '기대', '기대', '기대', '기대', '기대', '기대', '기대', '기대', '기대', '기대', '기대', '기대', '기대', '기대', '기대', '기대', '기대', '기대', '기대', '기대', '기대', '기대', '기대', '기대', '기대', '기대', '기대', '기대', '기대', '기대', '기대', '기대', '기대', '기대', '기대', '기대', '기대', '기대', '기대', '기대', '기대', '기대', '기대', '기대', '기대', '기대', '기대', '기대', '기대', '기대', '기대', '기대', '기대', '기대', '기대', '기대', '기대', '기대', '기대', '기대', '기대', '기대', '기대', '기대', '기대', '기대', '기대', '기대', '기대', '기대', '기대', '기대', '기대', '기대', '기대', '기대', '기대', '기대', '기대', '기대', '기대', '기대', '기대', '기대', '기대', '기대', '기대', '중립', '중립', '중립', '중립', '중립', '중립', '중립', '중립', '중립', '중립', '중립', '중립', '중립', '중립', '중립', '중립', '중립', '중립', '중립', '중립', '중립', '중립', '중립', '중립', '중립', '중립', '중립', '중립', '중립', '중립', '중립', '중립', '중립', '중립', '중립', '중립', '중립', '중립', '중립', '중립', '중립', '중립', '중립', '중립', '중립', '중립', '중립', '중립', '중립', '중립', '중립', '중립', '중립', '중립', '중립', '중립', '중립', '중립', '중립', '중립', '중립', '중립', '중립', '중립', '중립', '중립', '중립', '중립', '중립', '중립', '중립', '중립', '중립', '중립', '중립', '중립', '중립', '중립', '중립', '중립', '중립', '중립', '중립', '중립', '중립', '중립', '중립', '중립', '중립', '중립', '중립', '중립', '중립', '중립', '중립', '중립', '중립', '중립', '중립', '중립', '중립', '중립', '중립', '중립', '중립', '중립', '중립', '중립', '중립', '중립', '중립', '중립', '중립', '중립', '중립', '중립', '중립', '중립', '중립', '중립', '중립', '중립', '중립', '중립', '중립', '중립', '중립', '중립', '중립', '중립', '중립', '중립', '중립', '중립', '중립', '중립', '중립', '중립', '중립', '중립', '중립', '중립', '중립', '중립', '중립', '중립', '중립', '중립', '중립', '중립', '중립', '중립', '중립', '중립', '중립', '중립', '중립', '중립', '중립', '중립', '중립', '중립', '중립', '중립', '중립', '중립', '중립', '중립', '중립', '중립', '중립', '중립', '중립', '중립', '중립', '중립', '중립', '중립', '중립', '중립', '중립', '중립', '중립', '중립', '중립', '중립', '중립', '중립', '중립', '중립', '중립', '중립', '중립', '중립', '중립', '중립', '중립', '중립', '중립', '중립', '중립', '중립', '중립', '중립', '중립', '중립', '중립', '중립', '중립', '중립', '중립', '중립', '중립', '중립', '중립', '중립', '중립', '중립', '중립', '중립', '중립', '중립', '중립', '중립', '중립', '중립', '중립', '중립', '중립', '중립', '중립', '중립', '중립', '중립', '중립', '중립', '중립', '중립', '중립', '중립', '중립', '중립', '중립', '중립', '중립', '중립', '중립', '중립', '중립', '중립', '중립', '중립', '중립', '중립', '중립', '중립', '중립', '중립', '중립', '중립', '중립', '중립', '중립', '중립', '중립', '중립', '중립', '중립', '중립', '중립', '중립', '중립', '중립', '중립', '중립', '중립', '중립', '중립', '중립', '중립', '중립', '중립', '중립', '중립', '중립', '중립', '중립', '중립', '중립', '중립', '중립', '중립', '중립', '중립', '중립', '중립', '중립', '중립', '중립', '중립', '중립', '중립', '중립', '중립', '중립', '중립', '중립', '중립', '중립', '중립', '중립', '중립', '중립', '중립', '중립', '중립', '중립', '중립', '중립', '중립', '중립', '중립', '중립', '중립', '중립', '중립', '중립', '중립', '중립', '중립', '중립', '중립', '중립', '중립', '중립', '중립', '중립', '중립', '중립', '중립', '중립', '중립', '중립', '중립', '중립', '중립', '중립', '중립', '중립', '중립', '중립', '중립', '중립', '중립', '중립', '중립', '중립', '중립', '중립', '중립', '중립', '중립', '중립', '중립', '중립', '중립', '중립', '중립', '중립', '중립', '중립', '중립', '중립', '중립', '중립', '중립', '중립', '중립', '중립', '중립', '중립', '중립', '중립', '중립', '중립', '중립', '중립', '중립', '중립', '중립', '중립', '중립', '중립', '중립', '중립', '중립', '중립', '중립', '중립', '중립', '중립', '중립', '중립', '중립', '중립', '중립', '중립', '중립', '중립', '중립', '중립', '중립', '중립', '중립', '중립', '중립', '중립', '중립', '중립', '중립', '중립', '중립', '중립', '중립', '중립', '중립', '중립', '중립', '중립', '중립', '중립', '중립', '중립', '중립', '중립', '중립', '중립', '중립', '중립', '중립', '중립', '중립', '중립', '중립', '중립', '중립', '중립', '중립', '중립', '중립', '중립', '중립', '중립', '중립', '중립', '중립', '중립', '중립', '중립', '중립', '중립', '중립', '중립', '중립', '중립', '중립', '중립', '중립', '중립', '중립', '중립', '중립', '중립', '중립', '중립', '중립', '중립', '중립', '중립', '중립', '중립', '중립', '중립', '중립', '중립', '중립', '중립', '중립', '중립', '중립', '중립', '중립', '중립', '중립', '중립', '중립', '중립', '중립', '중립', '중립', '중립', '중립', '중립', '중립', '중립', '중립', '중립', '중립', '중립', '중립', '중립', '중립', '중립', '중립', '중립', '중립', '중립', '중립', '중립', '중립', '중립', '중립', '중립', '중립', '중립', '중립', '중립', '중립', '중립', '중립', '중립', '중립', '중립', '중립', '중립', '중립', '중립', '중립', '중립', '중립', '중립', '중립', '중립', '중립', '중립', '중립', '중립', '중립', '중립', '중립', '중립', '중립', '중립', '중립', '중립', '중립', '중립', '중립', '중립', '중립', '중립', '중립', '중립', '중립', '중립', '중립', '중립', '중립', '중립', '중립', '중립', '중립', '중립', '중립', '중립', '중립', '중립', '중립', '중립', '중립', '중립', '중립', '중립', '중립', '중립', '중립', '중립', '중립', '중립', '중립', '중립', '중립', '중립', '중립', '중립', '중립', '중립', '중립', '중립', '중립', '중립', '중립', '중립', '중립', '중립', '중립', '중립', '중립', '중립', '중립', '중립', '중립', '중립', '중립', '중립', '중립', '중립', '중립', '중립', '중립', '중립', '중립', '중립', '중립', '중립', '중립', '중립', '중립', '중립', '중립', '중립', '중립', '중립', '중립', '중립', '중립', '중립', '중립', '중립', '중립', '중립', '중립', '중립', '중립', '중립', '중립', '중립', '중립', '중립', '중립', '중립', '중립', '중립', '중립', '중립', '중립', '중립', '중립', '중립', '중립', '중립', '중립', '중립', '중립', '중립', '중립', '중립', '중립', '중립', '중립', '중립', '중립', '중립', '중립', '중립', '중립', '중립', '중립', '중립', '중립', '중립', '중립', '중립', '중립', '중립', '중립', '중립', '중립', '중립', '중립', '중립', '중립', '중립', '중립', '중립', '중립', '중립', '중립', '중립', '중립', '중립', '중립', '중립', '중립', '중립', '중립', '중립', '중립', '중립', '중립', '중립', '중립', '중립', '중립', '중립', '중립', '중립', '중립', '중립', '중립', '중립', '중립', '중립', '중립', '중립', '중립', '중립', '중립', '중립', '중립', '중립', '중립', '중립', '중립', '중립', '중립', '중립', '중립', '중립', '중립', '중립', '중립', '중립', '중립', '중립', '중립', '중립', '중립', '중립', '중립', '중립', '중립', '중립', '중립', '중립', '중립', '중립', '중립', '중립', '중립', '중립', '중립', '중립', '중립', '중립', '중립', '중립', '중립', '중립', '중립', '중립', '중립', '중립', '중립', '중립', '중립', '중립', '중립', '중립', '중립', '중립', '중립', '중립', '중립', '중립', '중립', '중립', '중립', '중립', '중립', '중립', '중립', '중립', '중립', '중립', '중립', '중립', '중립', '중립', '중립', '중립', '중립', '중립', '중립', '중립', '중립', '중립', '중립', '중립', '중립', '중립', '중립', '중립', '중립', '중립', '중립', '중립', '중립', '중립', '중립', '중립', '중립', '중립', '중립', '중립', '중립', '중립', '중립', '중립', '중립', '중립', '중립', '중립', '중립', '중립', '중립', '중립', '중립', '중립', '중립', '중립', '중립', '중립', '중립', '중립', '중립', '중립', '중립', '중립', '중립', '중립', '중립', '중립', '중립', '중립', '중립', '중립', '중립', '중립', '중립', '중립', '중립', '중립', '중립', '중립', '중립', '중립', '중립', '중립', '중립', '중립', '중립', '중립', '중립', '중립', '중립', '중립', '중립', '중립', '중립', '중립', '중립', '중립', '중립', '중립', '중립', '중립', '중립', '중립', '중립', '중립', '중립', '중립', '중립', '중립', '중립', '중립', '중립', '중립', '중립', '중립', '중립', '중립', '중립', '중립', '중립', '중립', '중립', '중립', '중립', '중립', '중립', '중립', '중립', '중립', '중립', '중립', '중립', '중립', '중립', '중립', '중립', '중립', '중립', '중립', '중립', '중립', '중립', '중립', '중립', '중립'], ['기쁨', '기쁨', '기쁨', '기쁨', '기쁨', '기쁨', '기쁨', '기쁨', '기쁨', '기쁨', '기쁨', '기쁨', '기쁨', '기쁨', '기쁨', '기쁨', '기쁨', '기쁨', '기쁨', '기쁨', '기쁨', '기쁨', '기쁨', '기쁨', '기쁨', '기쁨', '기쁨', '기쁨', '기쁨', '기쁨', '기쁨', '기쁨', '기쁨', '기쁨', '기쁨', '기쁨', '기쁨', '기쁨', '기쁨', '기쁨', '기쁨', '기쁨', '기쁨', '기쁨', '기쁨', '기쁨', '기쁨', '기쁨', '기쁨', '기쁨', '기쁨', '기쁨', '기쁨', '기쁨', '기쁨', '기쁨', '기쁨', '기쁨', '기쁨', '기쁨', '기쁨', '기쁨', '기쁨', '기쁨', '기쁨', '기쁨', '기쁨', '기쁨', '기쁨', '기쁨', '기쁨', '기쁨', '기쁨', '기쁨', '기쁨', '기쁨', '기쁨', '기쁨', '기쁨', '기쁨', '기쁨', '기쁨', '기쁨', '기쁨', '기쁨', '기쁨', '기쁨', '기쁨', '기쁨', '기쁨', '기쁨', '기쁨', '기쁨', '기쁨', '기쁨', '기쁨', '기쁨', '기쁨', '기쁨', '기쁨', '기쁨', '기쁨', '기쁨', '기쁨', '기쁨', '기쁨', '기쁨', '기쁨', '기쁨', '기쁨', '기쁨', '기쁨', '기쁨', '기쁨', '기쁨', '기쁨', '기쁨', '기쁨', '기쁨', '기쁨', '기쁨', '기쁨', '기쁨', '기쁨', '기쁨', '기쁨', '기쁨', '기쁨', '기쁨', '기쁨', '기쁨', '기쁨', '기쁨', '기쁨', '기쁨', '기쁨', '기쁨', '기쁨', '기쁨', '기쁨', '기쁨', '기쁨', '기쁨', '기쁨', '기쁨', '기쁨', '기쁨', '기쁨', '기쁨', '기쁨', '기쁨', '기쁨', '기쁨', '기쁨', '기쁨', '기쁨', '기쁨', '기쁨', '기쁨', '기쁨', '기쁨', '기쁨', '기쁨', '기쁨', '기쁨', '기쁨', '기쁨', '기쁨', '기쁨', '기쁨', '기쁨', '기쁨', '기쁨', '기쁨', '기쁨', '기쁨', '기쁨', '기쁨', '기쁨', '기쁨', '기쁨', '기쁨', '기쁨', '기쁨', '기쁨', '기쁨', '기쁨', '기쁨', '기쁨', '기쁨', '기쁨', '기쁨', '기쁨', '기쁨', '기쁨', '기쁨', '기쁨', '기쁨', '신뢰', '신뢰', '신뢰', '신뢰', '신뢰', '신뢰', '신뢰', '신뢰', '신뢰', '신뢰', '신뢰', '신뢰', '신뢰', '신뢰', '신뢰', '신뢰', '신뢰', '신뢰', '신뢰', '신뢰', '신뢰', '신뢰', '신뢰', '신뢰', '신뢰', '신뢰', '신뢰', '신뢰', '신뢰', '신뢰', '신뢰', '신뢰', '신뢰', '신뢰', '신뢰', '신뢰', '신뢰', '신뢰', '신뢰', '신뢰', '신뢰', '신뢰', '신뢰', '신뢰', '신뢰', '신뢰', '신뢰', '신뢰', '신뢰', '신뢰', '신뢰', '신뢰', '신뢰', '신뢰', '신뢰', '신뢰', '신뢰', '신뢰', '신뢰', '신뢰', '신뢰', '신뢰', '신뢰', '신뢰', '신뢰', '신뢰', '신뢰', '신뢰', '신뢰', '신뢰', '신뢰', '신뢰', '신뢰', '신뢰', '신뢰', '신뢰', '신뢰', '신뢰', '신뢰', '신뢰', '신뢰', '신뢰', '신뢰', '신뢰', '신뢰', '신뢰', '신뢰', '신뢰', '신뢰', '신뢰', '신뢰', '신뢰', '신뢰', '신뢰', '신뢰', '신뢰', '신뢰', '신뢰', '신뢰', '신뢰', '신뢰', '신뢰', '신뢰', '신뢰', '신뢰', '신뢰', '신뢰', '신뢰', '신뢰', '신뢰', '신뢰', '신뢰', '신뢰', '신뢰', '신뢰', '신뢰', '신뢰', '신뢰', '신뢰', '신뢰', '신뢰', '신뢰', '신뢰', '신뢰', '신뢰', '신뢰', '신뢰', '신뢰', '신뢰', '신뢰', '신뢰', '신뢰', '신뢰', '신뢰', '신뢰', '신뢰', '신뢰', '신뢰', '신뢰', '신뢰', '신뢰', '신뢰', '신뢰', '신뢰', '신뢰', '신뢰', '신뢰', '신뢰', '신뢰', '신뢰', '신뢰', '신뢰', '신뢰', '신뢰', '신뢰', '신뢰', '신뢰', '신뢰', '신뢰', '신뢰', '신뢰', '신뢰', '신뢰', '신뢰', '신뢰', '신뢰', '신뢰', '신뢰', '신뢰', '신뢰', '신뢰', '신뢰', '신뢰', '신뢰', '신뢰', '신뢰', '신뢰', '신뢰', '신뢰', '신뢰', '신뢰', '신뢰', '신뢰', '신뢰', '신뢰', '신뢰', '신뢰', '신뢰', '신뢰', '신뢰', '신뢰', '신뢰', '신뢰', '신뢰', '신뢰', '신뢰', '신뢰', '신뢰', '신뢰', '신뢰', '신뢰', '신뢰', '신뢰', '신뢰', '신뢰', '신뢰', '신뢰', '신뢰', '신뢰', '신뢰', '신뢰', '신뢰', '신뢰', '신뢰', '신뢰', '신뢰', '신뢰', '신뢰', '신뢰', '신뢰', '신뢰', '신뢰', '신뢰', '신뢰', '신뢰', '신뢰', '신뢰', '신뢰', '신뢰', '신뢰', '신뢰', '신뢰', '신뢰', '신뢰', '신뢰', '신뢰', '신뢰', '신뢰', '신뢰', '신뢰', '신뢰', '신뢰', '신뢰', '신뢰', '신뢰', '신뢰', '신뢰', '신뢰', '신뢰', '신뢰', '신뢰', '신뢰', '신뢰', '신뢰', '신뢰', '신뢰', '신뢰', '신뢰', '신뢰', '신뢰', '신뢰', '신뢰', '신뢰', '신뢰', '신뢰', '신뢰', '신뢰', '신뢰', '신뢰', '신뢰', '신뢰', '신뢰', '신뢰', '신뢰', '신뢰', '신뢰', '신뢰', '신뢰', '신뢰', '신뢰', '신뢰', '신뢰', '신뢰', '신뢰', '신뢰', '신뢰', '신뢰', '신뢰', '신뢰', '신뢰', '기대', '기대', '기대', '기대', '기대', '기대', '기대', '기대', '기대', '기대', '기대', '기대', '기대', '기대', '기대', '기대', '기대', '기대', '기대', '기대', '기대', '기대', '기대', '기대', '기대', '기대', '기대', '기대', '기대', '기대', '기대', '기대', '기대', '기대', '기대', '기대', '기대', '기대', '기대', '기대', '기대', '기대', '기대', '기대', '기대', '기대', '기대', '기대', '기대', '기대', '기대', '기대', '기대', '기대', '기대', '기대', '기대', '기대', '기대', '기대', '기대', '기대', '기대', '기대', '기대', '기대', '기대', '기대', '기대', '기대', '기대', '기대', '기대', '기대', '기대', '기대', '기대', '기대', '기대', '기대', '기대', '기대', '기대', '기대', '기대', '기대', '기대', '기대', '기대', '기대', '기대', '기대', '기대', '기대', '기대', '기대', '기대', '기대', '기대', '기대', '기대', '기대', '기대', '기대', '기대', '기대', '기대', '기대', '기대', '기대', '기대', '기대', '기대', '기대', '기대', '기대', '기대', '기대', '기대', '기대', '기대', '기대', '기대', '기대', '기대', '기대', '기대', '기대', '기대', '기대', '기대', '기대', '기대', '기대', '기대', '기대', '기대', '기대', '기대', '기대', '기대', '기대', '기대', '기대', '기대', '기대', '기대', '기대', '기대', '기대', '기대', '기대', '기대', '기대', '기대', '기대', '기대', '기대', '기대', '기대', '기대', '기대', '기대', '기대', '기대', '기대', '기대', '기대', '기대', '기대', '기대', '기대', '기대', '기대', '기대', '기대', '기대', '기대', '기대', '기대', '기대', '기대', '기대', '기대', '기대', '기대', '기대', '기대', '기대', '기대', '기대', '기대', '기대', '기대', '기대', '기대', '기대', '기대', '기대', '기대', '기대', '기대', '기대', '기대', '기대', '기대', '기대', '기대', '기대', '기대', '기대', '기대', '기대', '기대', '기대', '기대', '기대', '기대', '기대', '기대', '기대', '기대', '기대', '기대', '기대', '기대', '기대', '기대', '기대', '기대', '기대', '기대', '기대', '기대', '기대', '기대', '기대', '기대', '기대', '기대', '기대', '기대', '기대', '기대', '기대', '기대', '기대', '기대', '기대', '기대', '기대', '기대', '기대', '기대', '기대', '기대', '기대', '기대', '기대', '기대', '기대', '기대', '기대', '기대', '기대', '기대', '기대', '기대', '기대', '기대', '기대', '기대', '기대', '기대', '기대', '기대', '기대', '기대', '기대', '기대', '기대', '기대', '기대', '기대', '기대', '기대', '기대', '기대', '기대', '기대', '기대', '기대', '기대', '기대', '기대', '기대', '기대', '기대', '기대', '기대', '기대', '기대', '기대', '기대', '기대', '기대', '기대', '기대', '기대', '기대', '기대', '기대', '기대', '기대', '기대', '기대', '기대', '기대', '기대', '기대', '기대', '기대', '기대', '기대', '기대', '기대', '기대', '기대', '기대', '기대', '기대', '기대', '기대', '기대', '기대', '기대', '기대', '기대', '기대', '기대', '기대', '기대', '기대', '기대', '기대', '기대', '기대', '기대', '기대', '기대', '기대', '기대', '기대', '기대', '기대', '기대', '기대', '기대', '기대', '기대', '기대', '기대', '기대', '기대', '기대', '기대', '기대', '기대', '기대', '기대', '기대', '기대', '기대', '기대', '기대', '기대', '기대', '기대', '기대', '기대', '기대', '기대', '기대', '기대', '기대', '기대', '기대', '기대', '기대', '기대', '기대', '기대', '기대', '기대', '기대', '기대', '기대', '기대', '기대', '기대', '기대', '기대', '기대', '기대', '기대', '기대', '기대', '기대', '기대', '기대', '기대', '기대', '기대', '기대', '기대', '기대', '기대', '기대', '기대', '기대', '기대', '기대', '기대', '기대', '기대', '기대', '기대', '기대', '기대', '기대', '기대', '기대', '기대', '기대', '기대', '기대', '기대', '기대', '기대', '기대', '기대', '기대', '기대', '기대', '기대', '기대', '기대', '기대', '기대', '기대', '기대', '기대', '기대', '기대', '기대', '기대', '기대', '기대', '기대', '기대', '기대', '기대', '기대', '기대', '기대', '기대', '기대', '기대', '기대', '기대', '기대', '기대', '기대', '기대', '기대', '기대', '기대', '기대', '기대', '기대', '기대', '기대', '기대', '기대', '기대', '기대', '기대', '기대', '기대', '기대', '기대', '기대', '기대', '기대', '기대', '기대', '기대', '기대', '기대', '기대', '기대', '기대', '기대', '기대', '기대', '기대', '기대', '기대', '기대', '기대', '기대', '기대', '기대', '기대', '기대', '기대', '기대', '기대', '기대', '기대', '기대', '기대', '기대', '기대', '기대', '기대', '기대', '기대', '기대', '기대', '기대', '기대', '기대', '기대', '기대', '기대', '기대', '기대', '기대', '기대', '기대', '기대', '기대', '기대', '기대', '기대', '기대', '기대', '기대', '기대', '기대', '기대', '기대', '기대', '기대', '기대', '기대', '기대', '기대', '기대', '기대', '기대', '기대', '기대', '기대', '기대', '기대', '기대', '기대', '기대', '기대', '기대', '기대', '기대', '기대', '기대', '기대', '기대', '기대', '기대', '기대', '기대', '기대', '기대', '기대', '기대', '기대', '기대', '기대', '기대', '기대', '기대', '기대', '기대', '기대', '기대', '기대', '기대', '기대', '기대', '기대', '기대', '기대', '기대', '기대', '기대', '기대', '기대', '기대', '기대', '기대', '기대', '기대', '기대', '기대', '기대', '기대', '기대', '기대', '기대', '기대', '기대', '기대', '기대', '기대', '기대', '기대', '기대', '기대', '기대', '기대', '기대', '기대', '기대', '기대', '기대', '기대', '기대', '기대', '기대', '기대', '기대', '기대', '기대', '기대', '중립', '중립', '중립', '중립', '중립', '중립', '중립', '중립', '중립', '중립', '중립', '중립', '중립', '중립', '중립', '중립', '중립', '중립', '중립', '중립', '중립', '중립', '중립', '중립', '중립', '중립', '중립', '중립', '중립']]\n"
          ]
        }
      ]
    },
    {
      "cell_type": "code",
      "source": [
        "print(len(clusters_tag[0]))\n",
        "print(len(clusters_tag[1]))\n",
        "print(len(clusters_tag[2]))\n",
        "print(len(clusters_tag[3]))"
      ],
      "metadata": {
        "colab": {
          "base_uri": "https://localhost:8080/"
        },
        "id": "krLZ6t-qbPx9",
        "outputId": "9bff587d-5081-4e9f-c89a-e08f1d935339"
      },
      "execution_count": null,
      "outputs": [
        {
          "output_type": "stream",
          "name": "stdout",
          "text": [
            "796\n",
            "577\n",
            "1465\n",
            "1162\n"
          ]
        }
      ]
    },
    {
      "cell_type": "code",
      "source": [
        "# Cluster 1\n",
        "pd.DataFrame(clusters_tag[0]).value_counts()"
      ],
      "metadata": {
        "colab": {
          "base_uri": "https://localhost:8080/"
        },
        "id": "C6hsM59is6Iq",
        "outputId": "f024e6cb-3cf3-4ac9-de5a-91e84c27dc45"
      },
      "execution_count": null,
      "outputs": [
        {
          "output_type": "execute_result",
          "data": {
            "text/plain": [
              "신뢰    402\n",
              "기쁨    224\n",
              "기대    131\n",
              "중립     39\n",
              "dtype: int64"
            ]
          },
          "metadata": {},
          "execution_count": 126
        }
      ]
    },
    {
      "cell_type": "code",
      "source": [
        "# Cluster 2\n",
        "pd.DataFrame(clusters_tag[1]).value_counts()"
      ],
      "metadata": {
        "colab": {
          "base_uri": "https://localhost:8080/"
        },
        "id": "gOQ9NPUCtFth",
        "outputId": "b2fad529-060b-4b5b-ac83-d23e7c2b04c2"
      },
      "execution_count": null,
      "outputs": [
        {
          "output_type": "execute_result",
          "data": {
            "text/plain": [
              "기쁨    423\n",
              "신뢰    149\n",
              "기대      4\n",
              "중립      1\n",
              "dtype: int64"
            ]
          },
          "metadata": {},
          "execution_count": 127
        }
      ]
    },
    {
      "cell_type": "code",
      "source": [
        "# Cluster 3\n",
        "pd.DataFrame(clusters_tag[2]).value_counts()"
      ],
      "metadata": {
        "colab": {
          "base_uri": "https://localhost:8080/"
        },
        "id": "Rs5yne5CtGQK",
        "outputId": "4bc292d0-9623-4e85-e4e5-3fca4d84e255"
      },
      "execution_count": null,
      "outputs": [
        {
          "output_type": "execute_result",
          "data": {
            "text/plain": [
              "중립    931\n",
              "기대    220\n",
              "신뢰    159\n",
              "기쁨    155\n",
              "dtype: int64"
            ]
          },
          "metadata": {},
          "execution_count": 128
        }
      ]
    },
    {
      "cell_type": "code",
      "source": [
        "# Cluster 4\n",
        "pd.DataFrame(clusters_tag[3]).value_counts()"
      ],
      "metadata": {
        "colab": {
          "base_uri": "https://localhost:8080/"
        },
        "id": "djf-HlUGtH-K",
        "outputId": "0204f47d-a4d6-4883-91b1-b3efde27f108"
      },
      "execution_count": null,
      "outputs": [
        {
          "output_type": "execute_result",
          "data": {
            "text/plain": [
              "기대    645\n",
              "신뢰    290\n",
              "기쁨    198\n",
              "중립     29\n",
              "dtype: int64"
            ]
          },
          "metadata": {},
          "execution_count": 129
        }
      ]
    }
  ],
  "metadata": {
    "accelerator": "GPU",
    "colab": {
      "machine_shape": "hm",
      "provenance": [],
      "toc_visible": true
    },
    "gpuClass": "standard",
    "kernelspec": {
      "display_name": "kang_venv",
      "language": "python",
      "name": "python3"
    },
    "language_info": {
      "codemirror_mode": {
        "name": "ipython",
        "version": 3
      },
      "file_extension": ".py",
      "mimetype": "text/x-python",
      "name": "python",
      "nbconvert_exporter": "python",
      "pygments_lexer": "ipython3",
      "version": "3.7.15"
    },
    "vscode": {
      "interpreter": {
        "hash": "2b7c07110e782ab7c9df51fcf2b750e3ba3471805e051c45d6d198b2578f2e17"
      }
    }
  },
  "nbformat": 4,
  "nbformat_minor": 0
}